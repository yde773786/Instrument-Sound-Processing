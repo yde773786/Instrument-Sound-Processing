{
  "cells": [
    {
      "cell_type": "markdown",
      "source": [
        "# FeatureExtractionClassifier\n",
        "\n",
        "Use various features extracted from the WAV file to classify genres.\n",
        "Architecture implementation based on features derived at: https://www.kaggle.com/code/dramirdatascience/gtzan-music-classification-using-ml-acc-93-24"
      ],
      "metadata": {
        "collapsed": false,
        "id": "fc1cb74822640f0f"
      },
      "id": "fc1cb74822640f0f"
    },
    {
      "cell_type": "code",
      "source": [
        "!pip install \"ray[tune]\"\n",
        "import torch\n",
        "import torch.nn as nn\n",
        "import numpy as np\n",
        "from utils import *\n",
        "import torchvision.transforms as transforms\n",
        "import torch.utils.data as Data\n",
        "from scipy.io import wavfile\n",
        "from ray import air\n",
        "import os\n",
        "from ray.tune.schedulers import ASHAScheduler"
      ],
      "metadata": {
        "id": "nPN_ibZIW0sq"
      },
      "id": "nPN_ibZIW0sq",
      "execution_count": null,
      "outputs": []
    },
    {
      "cell_type": "markdown",
      "source": [
        "## Mount drive\n",
        "Mount google drive if running on google colab"
      ],
      "metadata": {
        "id": "zIe4y2ZyXBs4"
      },
      "id": "zIe4y2ZyXBs4"
    },
    {
      "cell_type": "code",
      "source": [
        "from google.colab import drive\n",
        "drive.mount('/content/drive')"
      ],
      "metadata": {
        "id": "lv_sN8HDRsBw",
        "outputId": "90ed6a78-83c4-4ea9-9fb6-0654f192d940",
        "colab": {
          "base_uri": "https://localhost:8080/"
        }
      },
      "id": "lv_sN8HDRsBw",
      "execution_count": null,
      "outputs": [
        {
          "output_type": "stream",
          "name": "stdout",
          "text": [
            "Mounted at /content/drive\n"
          ]
        }
      ]
    },
    {
      "cell_type": "markdown",
      "source": [
        "## Constant parameters used in training\n",
        "\n",
        "Run `setup.sh` to mount Google Drive containing GTZAN"
      ],
      "metadata": {
        "id": "w-0VL_EBYDAe"
      },
      "id": "w-0VL_EBYDAe"
    },
    {
      "cell_type": "code",
      "outputs": [],
      "source": [
        "GTZAN_WAV = \"/content/drive/MyDrive/GTZAN/Data/genres_original/\"\n",
        "\n",
        "GENRES = {'blues': 0, 'classical': 1, 'country': 2, 'disco': 3,\n",
        "          'hiphop': 4, 'jazz': 5, 'metal': 6, 'pop': 7, 'reggae': 8,\n",
        "          'rock': 9}\n",
        "\n",
        "DEVICE = torch.device(\"cuda\" if torch.cuda.is_available() else \"cpu\")\n",
        "print(\"Using device\", DEVICE)"
      ],
      "metadata": {
        "id": "f541bc46d3b3c9b3"
      },
      "id": "f541bc46d3b3c9b3",
      "execution_count": null
    },
    {
      "cell_type": "markdown",
      "source": [
        "## Training\n",
        "\n",
        "Create a `Dataset` for the audio files\n",
        "\n",
        "Obtain the features we are intested in from the WAV file. There are a total of 57 distinct features that are provided in the CSVs attached along with GTZAN. Using my understanding from [This analysis by the dataset author](https://www.kaggle.com/code/dramirdatascience/gtzan-music-classification-using-ml-acc-93-24), I have described the use of each of those features and how they were obtained in brief. For more in-depth understanding of how the features were obtained, the author has attached source code as well."
      ],
      "metadata": {
        "id": "eGkHns_KYILt"
      },
      "id": "eGkHns_KYILt"
    },
    {
      "cell_type": "markdown",
      "source": [
        "We split each song into 10 parts as the features we extract are relevant only within a short time-frame, such as features regarding pitch/frequency.\n",
        "\n",
        "### Chroma STFT\n",
        "\n",
        "The same principle of using STFT to extract frequency magnitudes accross time-intervals as used in `mel_spec_classifier`. However, the frequency classes used now match the 12 pitch classes in western music instead. In effect, we end up looking at far less data and specifically the 12 pitches that are most useful when trying to understand genre.\n",
        "\n",
        "We obtain the mean and variance w.r.t magnitude to determine the base pitch of the song.\n",
        "\n",
        "### MFCC\n",
        "\n",
        "Again, same principle of using STFT to extract frequency magnitudes accross time-intervals as used in `mel_spec_classifier`. We don't  just analyze the spectogram here, but instead obtain the mean and variance of frequencies to again determine features regarding the frequency of the song.\n",
        "\n",
        "### RMS\n",
        "Average power of the song. Not unreasonable to theorize that Metal/Rock would be 'louder' on average.\n",
        "\n",
        "### Spectral Centroid Mean\n",
        "'Centre of mass' of frequencies in a time interval. Understanding of 'brightness' of a song, as higher C.O.M -> higher frequency -> perceived brightness.\n",
        "\n",
        "### Spectral Bandwith Mean\n",
        "Provides information on mean spread of frequencies.\n",
        "\n",
        "### Spectral Rolloff Mean\n",
        "Another metric of audio signal bandwidth. Gives frequency bin under which 50% of total energy exists.\n",
        "\n",
        "### Tempo Mean\n",
        "\n",
        "Tempo Mean calculates avg. perceived tempo by beat tracking, which essentailly measures power overtime and deterining BPM from the periodicity.\n",
        "\n",
        "### Zero Crossing Rate Mean\n",
        "\n",
        "Average rate that audio signal crosses zero axis over time. Tells us about rapid changes in audio signal\n",
        "\n",
        "### MFCC\n",
        "\n",
        "The Mel Spec\n",
        "\n"
      ],
      "metadata": {
        "id": "iX9E-mUaZgaN"
      },
      "id": "iX9E-mUaZgaN"
    }
  ],
  "metadata": {
    "kernelspec": {
      "display_name": "Python 3",
      "language": "python",
      "name": "python3"
    },
    "language_info": {
      "codemirror_mode": {
        "name": "ipython",
        "version": 2
      },
      "file_extension": ".py",
      "mimetype": "text/x-python",
      "name": "python",
      "nbconvert_exporter": "python",
      "pygments_lexer": "ipython2",
      "version": "2.7.6"
    },
    "colab": {
      "provenance": []
    }
  },
  "nbformat": 4,
  "nbformat_minor": 5
}