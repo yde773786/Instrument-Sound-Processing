{
  "cells": [
    {
      "cell_type": "markdown",
      "id": "9ebcadd2-782c-4e51-a177-6ba2c06ae30b",
      "metadata": {
        "id": "9ebcadd2-782c-4e51-a177-6ba2c06ae30b"
      },
      "source": [
        "# MelSpecClassifier\n",
        "\n",
        "Use the spectogram of the wav file and use a CNN with 2DConv to classify the genre.\n",
        "The spectograms have already been provided in the GTZAN dataset. It is cropped before being passed into the model"
      ]
    },
    {
      "cell_type": "code",
      "execution_count": 1,
      "id": "c9d766c0-a752-47d6-9e1c-cce431d0d769",
      "metadata": {
        "id": "c9d766c0-a752-47d6-9e1c-cce431d0d769",
        "colab": {
          "base_uri": "https://localhost:8080/"
        },
        "outputId": "e1aac748-2201-4ccc-bd82-a8acc43b84c7"
      },
      "outputs": [
        {
          "output_type": "stream",
          "name": "stdout",
          "text": [
            "Collecting ray[tune]\n",
            "  Downloading ray-2.10.0-cp310-cp310-manylinux2014_x86_64.whl (65.1 MB)\n",
            "\u001b[2K     \u001b[90m━━━━━━━━━━━━━━━━━━━━━━━━━━━━━━━━━━━━━━━━\u001b[0m \u001b[32m65.1/65.1 MB\u001b[0m \u001b[31m9.9 MB/s\u001b[0m eta \u001b[36m0:00:00\u001b[0m\n",
            "\u001b[?25hRequirement already satisfied: click>=7.0 in /usr/local/lib/python3.10/dist-packages (from ray[tune]) (8.1.7)\n",
            "Requirement already satisfied: filelock in /usr/local/lib/python3.10/dist-packages (from ray[tune]) (3.13.3)\n",
            "Requirement already satisfied: jsonschema in /usr/local/lib/python3.10/dist-packages (from ray[tune]) (4.19.2)\n",
            "Requirement already satisfied: msgpack<2.0.0,>=1.0.0 in /usr/local/lib/python3.10/dist-packages (from ray[tune]) (1.0.8)\n",
            "Requirement already satisfied: packaging in /usr/local/lib/python3.10/dist-packages (from ray[tune]) (24.0)\n",
            "Requirement already satisfied: protobuf!=3.19.5,>=3.15.3 in /usr/local/lib/python3.10/dist-packages (from ray[tune]) (3.20.3)\n",
            "Requirement already satisfied: pyyaml in /usr/local/lib/python3.10/dist-packages (from ray[tune]) (6.0.1)\n",
            "Requirement already satisfied: aiosignal in /usr/local/lib/python3.10/dist-packages (from ray[tune]) (1.3.1)\n",
            "Requirement already satisfied: frozenlist in /usr/local/lib/python3.10/dist-packages (from ray[tune]) (1.4.1)\n",
            "Requirement already satisfied: requests in /usr/local/lib/python3.10/dist-packages (from ray[tune]) (2.31.0)\n",
            "Requirement already satisfied: pandas in /usr/local/lib/python3.10/dist-packages (from ray[tune]) (2.0.3)\n",
            "Collecting tensorboardX>=1.9 (from ray[tune])\n",
            "  Downloading tensorboardX-2.6.2.2-py2.py3-none-any.whl (101 kB)\n",
            "\u001b[2K     \u001b[90m━━━━━━━━━━━━━━━━━━━━━━━━━━━━━━━━━━━━━━━━\u001b[0m \u001b[32m101.7/101.7 kB\u001b[0m \u001b[31m12.0 MB/s\u001b[0m eta \u001b[36m0:00:00\u001b[0m\n",
            "\u001b[?25hRequirement already satisfied: pyarrow>=6.0.1 in /usr/local/lib/python3.10/dist-packages (from ray[tune]) (14.0.2)\n",
            "Requirement already satisfied: fsspec in /usr/local/lib/python3.10/dist-packages (from ray[tune]) (2023.6.0)\n",
            "Requirement already satisfied: numpy>=1.16.6 in /usr/local/lib/python3.10/dist-packages (from pyarrow>=6.0.1->ray[tune]) (1.25.2)\n",
            "Requirement already satisfied: attrs>=22.2.0 in /usr/local/lib/python3.10/dist-packages (from jsonschema->ray[tune]) (23.2.0)\n",
            "Requirement already satisfied: jsonschema-specifications>=2023.03.6 in /usr/local/lib/python3.10/dist-packages (from jsonschema->ray[tune]) (2023.12.1)\n",
            "Requirement already satisfied: referencing>=0.28.4 in /usr/local/lib/python3.10/dist-packages (from jsonschema->ray[tune]) (0.34.0)\n",
            "Requirement already satisfied: rpds-py>=0.7.1 in /usr/local/lib/python3.10/dist-packages (from jsonschema->ray[tune]) (0.18.0)\n",
            "Requirement already satisfied: python-dateutil>=2.8.2 in /usr/local/lib/python3.10/dist-packages (from pandas->ray[tune]) (2.8.2)\n",
            "Requirement already satisfied: pytz>=2020.1 in /usr/local/lib/python3.10/dist-packages (from pandas->ray[tune]) (2023.4)\n",
            "Requirement already satisfied: tzdata>=2022.1 in /usr/local/lib/python3.10/dist-packages (from pandas->ray[tune]) (2024.1)\n",
            "Requirement already satisfied: charset-normalizer<4,>=2 in /usr/local/lib/python3.10/dist-packages (from requests->ray[tune]) (3.3.2)\n",
            "Requirement already satisfied: idna<4,>=2.5 in /usr/local/lib/python3.10/dist-packages (from requests->ray[tune]) (3.6)\n",
            "Requirement already satisfied: urllib3<3,>=1.21.1 in /usr/local/lib/python3.10/dist-packages (from requests->ray[tune]) (2.0.7)\n",
            "Requirement already satisfied: certifi>=2017.4.17 in /usr/local/lib/python3.10/dist-packages (from requests->ray[tune]) (2024.2.2)\n",
            "Requirement already satisfied: six>=1.5 in /usr/local/lib/python3.10/dist-packages (from python-dateutil>=2.8.2->pandas->ray[tune]) (1.16.0)\n",
            "Installing collected packages: tensorboardX, ray\n",
            "Successfully installed ray-2.10.0 tensorboardX-2.6.2.2\n"
          ]
        }
      ],
      "source": [
        "!pip install \"ray[tune]\"\n",
        "import torch\n",
        "import torch.nn as nn\n",
        "import torch.optim as optim\n",
        "import random\n",
        "import tempfile\n",
        "from PIL import Image\n",
        "import torchvision.transforms as transforms\n",
        "import torch.utils.data as Data\n",
        "import os\n",
        "from PIL import ImageOps\n",
        "from torch.utils.data import SubsetRandomSampler\n",
        "from ray import train, tune\n",
        "from ray.train import Checkpoint\n",
        "from ray.tune.schedulers import ASHAScheduler"
      ]
    },
    {
      "cell_type": "markdown",
      "source": [
        "##Mount drive\n",
        "Mount google drive if running on google colab"
      ],
      "metadata": {
        "id": "f5NEFVi9Tt22"
      },
      "id": "f5NEFVi9Tt22"
    },
    {
      "cell_type": "code",
      "source": [
        "from google.colab import drive\n",
        "drive.mount('/content/drive')"
      ],
      "metadata": {
        "colab": {
          "base_uri": "https://localhost:8080/"
        },
        "id": "IvyuycZ3PbVm",
        "outputId": "c08d0d5e-235c-4380-af78-200e9089eb27"
      },
      "id": "IvyuycZ3PbVm",
      "execution_count": 2,
      "outputs": [
        {
          "output_type": "stream",
          "name": "stdout",
          "text": [
            "Mounted at /content/drive\n"
          ]
        }
      ]
    },
    {
      "cell_type": "markdown",
      "source": [],
      "metadata": {
        "id": "AHrpmCs1Tqet"
      },
      "id": "AHrpmCs1Tqet"
    },
    {
      "cell_type": "markdown",
      "id": "df3c357c-4679-41b0-8df3-8e4552f6bf90",
      "metadata": {
        "id": "df3c357c-4679-41b0-8df3-8e4552f6bf90"
      },
      "source": [
        "## Constant parameters used in training\n",
        "\n",
        "Run `setup.sh` to mount Google Drive containing GTZAN"
      ]
    },
    {
      "cell_type": "code",
      "execution_count": 3,
      "id": "b1722aad-12e4-4c48-8dd2-e28dd5aa520c",
      "metadata": {
        "id": "b1722aad-12e4-4c48-8dd2-e28dd5aa520c",
        "colab": {
          "base_uri": "https://localhost:8080/"
        },
        "outputId": "2525c809-2520-4a21-e531-57807c2b7380"
      },
      "outputs": [
        {
          "output_type": "stream",
          "name": "stdout",
          "text": [
            "Using device cuda\n"
          ]
        }
      ],
      "source": [
        "GTZAN_MEL = \"/content/drive/MyDrive/GTZAN/Data/images_original/\"\n",
        "\n",
        "PREPROCESS_CROP = (54, 35, 42, 35)\n",
        "\n",
        "IMAGE_INPUT_DIMENSIONS = [432, 288]\n",
        "GENRES = {'blues': 0, 'classical': 1, 'country': 2, 'disco': 3,\n",
        "          'hiphop': 4, 'jazz': 5, 'metal': 6, 'pop': 7, 'reggae': 8,\n",
        "          'rock': 9}\n",
        "\n",
        "DEVICE = torch.device(\"cuda\" if torch.cuda.is_available() else \"cpu\")\n",
        "print(\"Using device\", DEVICE)"
      ]
    },
    {
      "cell_type": "markdown",
      "id": "6e25ed03-399e-4dfd-bcf5-141290780bd3",
      "metadata": {
        "id": "6e25ed03-399e-4dfd-bcf5-141290780bd3"
      },
      "source": [
        "Create a `Dataset` for the mel-spectograms"
      ]
    },
    {
      "cell_type": "code",
      "execution_count": 4,
      "id": "1fae4bc6-749b-4eb3-91cf-8a693f7aea0c",
      "metadata": {
        "id": "1fae4bc6-749b-4eb3-91cf-8a693f7aea0c"
      },
      "outputs": [],
      "source": [
        "class ImageDataset(Data.Dataset):\n",
        "    def __init__(self):\n",
        "        self.images = []\n",
        "        self.labels = []\n",
        "\n",
        "        # Go through all songs and tag X (tensor of image), Y as genre.\n",
        "        for genre in os.listdir(GTZAN_MEL):\n",
        "            for song in os.listdir(os.path.join(GTZAN_MEL, genre)):\n",
        "                abs_path = os.path.join(GTZAN_MEL, genre, song)\n",
        "                image = Image.open(abs_path)\n",
        "\n",
        "                # The images have been obtained in the dataset by using the mel spectogram (librosa)\n",
        "                # Cropping the image to only contain the spectogram to pass into CNN\n",
        "                image_cropped = ImageOps.crop(image, PREPROCESS_CROP)\n",
        "\n",
        "                transform = transforms.Compose([transforms.ToTensor()])\n",
        "                # Convert PIL Image to tensor\n",
        "                self.images.append(transform(image_cropped))\n",
        "                # Convert genre tag to associated digit\n",
        "                self.labels.append(GENRES[genre])\n",
        "\n",
        "    def __len__(self):\n",
        "        return len(self.images)\n",
        "\n",
        "    def __getitem__(self, idx):\n",
        "        return self.images[idx], self.labels[idx]"
      ]
    },
    {
      "cell_type": "markdown",
      "id": "9ae7756e-a2cd-4a88-9509-172c8b7bc0ef",
      "metadata": {
        "id": "9ae7756e-a2cd-4a88-9509-172c8b7bc0ef"
      },
      "source": [
        "The `MelSpecTrainer` model used is a CNN with 2 convolutional layers and 2 linear layers.\n",
        "There is a lack of datapoints compared to the number of dimensions.\n",
        "To avoid over-training, output features of the linear layer is less, and the number of layers is 2."
      ]
    },
    {
      "cell_type": "code",
      "execution_count": 5,
      "id": "65dd676c-5fd9-4799-821a-9074f41ffafb",
      "metadata": {
        "id": "65dd676c-5fd9-4799-821a-9074f41ffafb"
      },
      "outputs": [],
      "source": [
        "class MelSpecTrainer(nn.Module):\n",
        "    def __init__(self, l1=256, l2=20):\n",
        "        super().__init__()\n",
        "\n",
        "        self.current_dimensions = IMAGE_INPUT_DIMENSIONS\n",
        "\n",
        "        self.conv_layer_1 = nn.Sequential(nn.Conv2d(4, 32, 3),\n",
        "                                          nn.ReLU(),\n",
        "                                          nn.MaxPool2d(kernel_size=2, stride=3)\n",
        "                                          )\n",
        "\n",
        "        self.conv_layer_2 = nn.Sequential(nn.Conv2d(32, 16, 3),\n",
        "                                          nn.ReLU(),\n",
        "                                          nn.MaxPool2d(kernel_size=2, stride=3)\n",
        "                                          )\n",
        "\n",
        "        self.flatten_layer = nn.Flatten()\n",
        "\n",
        "        self.linear_layer_1 = nn.Sequential(nn.Linear(13248, l1),\n",
        "                                            nn.ReLU())\n",
        "\n",
        "        self.linear_layer_2 = nn.Sequential(nn.Linear(l1, l2),\n",
        "                                            nn.ReLU())\n",
        "\n",
        "        self.classifier = nn.Linear(l2, 10)\n",
        "\n",
        "    def forward(self, x):\n",
        "        # First 2D convolution layer\n",
        "        x = self.conv_layer_1(x)\n",
        "        # Second 2D convolution layer\n",
        "        x = self.conv_layer_2(x)\n",
        "\n",
        "        # Linear layer and classifier\n",
        "        x = self.flatten_layer(x)\n",
        "        x = self.linear_layer_1(x)\n",
        "        x = self.linear_layer_2(x)\n",
        "        x = self.classifier(x)\n",
        "\n",
        "        return x"
      ]
    },
    {
      "cell_type": "code",
      "outputs": [
        {
          "output_type": "stream",
          "name": "stdout",
          "text": [
            "Tesla T4\n"
          ]
        }
      ],
      "source": [
        "for i in range(torch.cuda.device_count()):\n",
        "   print(torch.cuda.get_device_properties(i).name)"
      ],
      "metadata": {
        "is_executing": true,
        "id": "d1c9f89649d86123",
        "colab": {
          "base_uri": "https://localhost:8080/"
        },
        "outputId": "4b2fdd7f-ccdb-45f7-a92d-192fcb4f0811"
      },
      "id": "d1c9f89649d86123",
      "execution_count": 6
    },
    {
      "cell_type": "markdown",
      "id": "19e3ad6c-6872-4f27-b8fc-b61d6abaddd2",
      "metadata": {
        "id": "19e3ad6c-6872-4f27-b8fc-b61d6abaddd2"
      },
      "source": [
        "Use the mel spectrogram to train a model for classification of genre of the wav file\n",
        "Split into test/train/validation."
      ]
    },
    {
      "cell_type": "code",
      "execution_count": 7,
      "id": "2364009d-d360-4608-bed2-541d39c4ea69",
      "metadata": {
        "id": "2364009d-d360-4608-bed2-541d39c4ea69"
      },
      "outputs": [],
      "source": [
        "def dataset_split(image_dataset):\n",
        "    indices = list(range(len(image_dataset)))\n",
        "    random.seed(42)\n",
        "    random.shuffle(indices)\n",
        "\n",
        "    num_train = int(len(image_dataset) * 0.8)\n",
        "    num_validation = int(len(image_dataset) * 0.1)\n",
        "    train_indices = indices[:num_train]\n",
        "    test_and_validation = indices[num_train:]\n",
        "    validation_indices = test_and_validation[:num_validation]\n",
        "    test_indices = test_and_validation[num_validation:]\n",
        "\n",
        "    return test_indices, train_indices, validation_indices"
      ]
    },
    {
      "cell_type": "markdown",
      "id": "0676965e-5c31-40ea-ad7a-e31c8f8d8f06",
      "metadata": {
        "id": "0676965e-5c31-40ea-ad7a-e31c8f8d8f06"
      },
      "source": [
        "Create routines for training and validation. Perform Hyperparameter Tuning to devise a closer to optimized model."
      ]
    },
    {
      "cell_type": "code",
      "execution_count": 8,
      "id": "d5575b4c-1ecd-4f6e-a5a3-4e79951f43cf",
      "metadata": {
        "id": "d5575b4c-1ecd-4f6e-a5a3-4e79951f43cf"
      },
      "outputs": [],
      "source": [
        "def train_mel_spec_model(config):\n",
        "\n",
        "    model = MelSpecTrainer(l1=config[\"l1\"], l2=config[\"l2\"])\n",
        "    model.to(DEVICE)\n",
        "    loss_fn = nn.CrossEntropyLoss()\n",
        "    optimizer = optim.Adam(model.parameters(), config[\"lr\"])\n",
        "    image_dataset = ImageDataset()\n",
        "\n",
        "    _, train_indices, validation_indices = dataset_split(image_dataset)\n",
        "\n",
        "    # Create test and train datasets\n",
        "    train_sampler = SubsetRandomSampler(train_indices)\n",
        "    validation_sampler = SubsetRandomSampler(validation_indices)\n",
        "\n",
        "    train_dataset = Data.DataLoader(image_dataset, batch_size=config[\"batch_size\"], sampler=train_sampler)\n",
        "\n",
        "    validation_dataset = Data.DataLoader(image_dataset, batch_size=config[\"batch_size\"], sampler=validation_sampler)\n",
        "\n",
        "    for epoch in range(config[\"num_epochs\"]):\n",
        "        for batch_id, curr_batch in enumerate(train_dataset):\n",
        "            # Predict and get loss\n",
        "            images, labels = curr_batch[0].to(DEVICE), curr_batch[1].to(DEVICE)\n",
        "            pred = model(images)\n",
        "            loss = loss_fn(pred, labels)\n",
        "\n",
        "            # backward pass\n",
        "            optimizer.zero_grad()\n",
        "            loss.backward()\n",
        "            optimizer.step()\n",
        "\n",
        "            print(f\"epoch: {epoch}, batch_id: {batch_id}, loss: {loss}\")\n",
        "\n",
        "        # Validation loss\n",
        "        # Calculate avg.loss and accuracy for all datapoints in validation set.\n",
        "        # Based on https://docs.ray.io/en/latest/tune/examples/tune-pytorch-cifar.html\n",
        "        val_loss = 0.0\n",
        "        val_steps = 0\n",
        "        total = 0\n",
        "        correct = 0\n",
        "        for data in validation_dataset:\n",
        "            with torch.no_grad():\n",
        "                images, labels = data\n",
        "                images, labels = images.to(DEVICE), labels.to(DEVICE)\n",
        "\n",
        "                outputs = model(images)\n",
        "                _, predicted = torch.max(outputs.data, 1)\n",
        "                total += labels.size(0)\n",
        "                correct += (predicted == labels).sum().item()\n",
        "\n",
        "                loss = loss_fn(outputs, labels)\n",
        "                val_loss += loss.cpu().numpy()\n",
        "                val_steps += 1\n",
        "\n",
        "        # Construct checkpoint for Ray Tuner\n",
        "        with tempfile.TemporaryDirectory() as temp_checkpoint_dir:\n",
        "            path = os.path.join(temp_checkpoint_dir, \"checkpoint.pt\")\n",
        "            torch.save(\n",
        "                (model.state_dict(), optimizer.state_dict()), path\n",
        "            )\n",
        "            checkpoint = Checkpoint.from_directory(temp_checkpoint_dir)\n",
        "            train.report(\n",
        "                {\"loss\": (val_loss / val_steps), \"accuracy\": correct / total},\n",
        "                checkpoint=checkpoint,\n",
        "            )\n",
        "\n",
        "        print(f\"Validation Loss: {val_loss / val_steps}, Accuracy: {correct / total}\")"
      ]
    },
    {
      "cell_type": "markdown",
      "id": "c95d85c3-78ec-4ed3-b729-e99faa77eebf",
      "metadata": {
        "id": "c95d85c3-78ec-4ed3-b729-e99faa77eebf"
      },
      "source": [
        "Create routine for testing model. The split being used is 80% for training, 10% for validation, and 10% for testing."
      ]
    },
    {
      "cell_type": "code",
      "execution_count": 9,
      "id": "6ed01392-a18d-4209-a424-b438170562a5",
      "metadata": {
        "id": "6ed01392-a18d-4209-a424-b438170562a5"
      },
      "outputs": [],
      "source": [
        "def test_mel_spec_model(best_result):\n",
        "    best_model = MelSpecTrainer(l1=best_result.config[\"l1\"], l2=best_result.config[\"l2\"])\n",
        "    best_model.to(DEVICE)\n",
        "\n",
        "    # Get model state from best result\n",
        "    checkpoint_path = os.path.join(best_result.checkpoint.to_directory(), \"checkpoint.pt\")\n",
        "    model_state, _ = torch.load(checkpoint_path)\n",
        "    best_model.load_state_dict(model_state)\n",
        "    image_dataset = ImageDataset()\n",
        "\n",
        "    # Create test data loader\n",
        "    test_indices, _, _ = dataset_split(image_dataset)\n",
        "    test_sampler = SubsetRandomSampler(test_indices)\n",
        "    test_dataset = Data.DataLoader(image_dataset, batch_size=5, sampler=test_sampler)\n",
        "\n",
        "    total = 0\n",
        "    correct = 0\n",
        "    for data in test_dataset:\n",
        "        with torch.no_grad():\n",
        "            images, labels = data\n",
        "            images, labels = images.to(DEVICE), labels.to(DEVICE)\n",
        "\n",
        "            outputs = best_model(images)\n",
        "            _, predicted = torch.max(outputs.data, 1)\n",
        "            total += labels.size(0)\n",
        "            correct += (predicted == labels).sum().item()\n",
        "\n",
        "    print(f\"Best Model Accuracy {(correct * 100) / total}%\")"
      ]
    },
    {
      "cell_type": "markdown",
      "id": "f0ef4801-0023-4240-9c99-0f5dd639a45e",
      "metadata": {
        "id": "f0ef4801-0023-4240-9c99-0f5dd639a45e"
      },
      "source": [
        "# Main function\n",
        "\n",
        "Here, we specify the range for the hyperparameters we want Ray Tune to tune on. Run the training of the model using various hyperparameters.\n",
        "\n",
        "Test the model using the best trained model as obtained using Ray Tune"
      ]
    },
    {
      "cell_type": "code",
      "outputs": [
        {
          "output_type": "stream",
          "name": "stderr",
          "text": [
            "/usr/lib/python3.10/subprocess.py:1796: RuntimeWarning: os.fork() was called. os.fork() is incompatible with multithreaded code, and JAX is multithreaded, so this will likely lead to a deadlock.\n",
            "  self.pid = _posixsubprocess.fork_exec(\n",
            "2024-04-11 03:45:35,566\tINFO worker.py:1752 -- Started a local Ray instance.\n",
            "2024-04-11 03:45:37,226\tINFO tune.py:263 -- Initializing Ray automatically. For cluster usage or custom Ray initialization, call `ray.init(...)` before `Tuner(...)`.\n",
            "2024-04-11 03:45:37,242\tINFO tune.py:622 -- [output] This will use the new output engine with verbosity 1. To disable the new output and use the legacy output engine, set the environment variable RAY_AIR_NEW_OUTPUT=0. For more information, please see https://github.com/ray-project/ray/issues/36949\n"
          ]
        },
        {
          "output_type": "stream",
          "name": "stdout",
          "text": [
            "+-----------------------------------------------------------------------------+\n",
            "| Configuration for experiment     train_mel_spec_model_2024-04-11_03-45-31   |\n",
            "+-----------------------------------------------------------------------------+\n",
            "| Search algorithm                 BasicVariantGenerator                      |\n",
            "| Scheduler                        AsyncHyperBandScheduler                    |\n",
            "| Number of trials                 5                                          |\n",
            "+-----------------------------------------------------------------------------+\n",
            "\n",
            "View detailed results here: /root/ray_results/train_mel_spec_model_2024-04-11_03-45-31\n",
            "To visualize your results with TensorBoard, run: `tensorboard --logdir /tmp/ray/session_2024-04-11_03-45-31_719967_229/artifacts/2024-04-11_03-45-37/train_mel_spec_model_2024-04-11_03-45-31/driver_artifacts`\n",
            "\n",
            "Trial status: 5 PENDING\n",
            "Current time: 2024-04-11 03:45:38. Total running time: 0s\n",
            "Logical resource usage: 0/2 CPUs, 0/1 GPUs (0.0/1.0 accelerator_type:T4)\n",
            "+-------------------------------------------------------------------------------------------------------+\n",
            "| Trial name                         status       l1     l2            lr     batch_size     num_epochs |\n",
            "+-------------------------------------------------------------------------------------------------------+\n",
            "| train_mel_spec_model_f562d_00000   PENDING     550     15   0.00019002              30             35 |\n",
            "| train_mel_spec_model_f562d_00001   PENDING     700      5   0.0185484               45             35 |\n",
            "| train_mel_spec_model_f562d_00002   PENDING     950     10   0.0017086               30             25 |\n",
            "| train_mel_spec_model_f562d_00003   PENDING     450     10   0.000373188             35             35 |\n",
            "| train_mel_spec_model_f562d_00004   PENDING     800     10   0.00014823               5             35 |\n",
            "+-------------------------------------------------------------------------------------------------------+\n",
            "\n",
            "Trial train_mel_spec_model_f562d_00000 started with configuration:\n",
            "+-----------------------------------------------------------+\n",
            "| Trial train_mel_spec_model_f562d_00000 config             |\n",
            "+-----------------------------------------------------------+\n",
            "| batch_size                                             30 |\n",
            "| l1                                                    550 |\n",
            "| l2                                                     15 |\n",
            "| lr                                                0.00019 |\n",
            "| num_epochs                                             35 |\n",
            "+-----------------------------------------------------------+\n",
            "\n",
            "Trial status: 1 RUNNING | 4 PENDING\n",
            "Current time: 2024-04-11 03:46:08. Total running time: 30s\n",
            "Logical resource usage: 2.0/2 CPUs, 1.0/1 GPUs (0.0/1.0 accelerator_type:T4)\n",
            "+-------------------------------------------------------------------------------------------------------+\n",
            "| Trial name                         status       l1     l2            lr     batch_size     num_epochs |\n",
            "+-------------------------------------------------------------------------------------------------------+\n",
            "| train_mel_spec_model_f562d_00000   RUNNING     550     15   0.00019002              30             35 |\n",
            "| train_mel_spec_model_f562d_00001   PENDING     700      5   0.0185484               45             35 |\n",
            "| train_mel_spec_model_f562d_00002   PENDING     950     10   0.0017086               30             25 |\n",
            "| train_mel_spec_model_f562d_00003   PENDING     450     10   0.000373188             35             35 |\n",
            "| train_mel_spec_model_f562d_00004   PENDING     800     10   0.00014823               5             35 |\n",
            "+-------------------------------------------------------------------------------------------------------+\n",
            "Trial status: 1 RUNNING | 4 PENDING\n",
            "Current time: 2024-04-11 03:46:38. Total running time: 1min 0s\n",
            "Logical resource usage: 2.0/2 CPUs, 1.0/1 GPUs (0.0/1.0 accelerator_type:T4)\n",
            "+-------------------------------------------------------------------------------------------------------+\n",
            "| Trial name                         status       l1     l2            lr     batch_size     num_epochs |\n",
            "+-------------------------------------------------------------------------------------------------------+\n",
            "| train_mel_spec_model_f562d_00000   RUNNING     550     15   0.00019002              30             35 |\n",
            "| train_mel_spec_model_f562d_00001   PENDING     700      5   0.0185484               45             35 |\n",
            "| train_mel_spec_model_f562d_00002   PENDING     950     10   0.0017086               30             25 |\n",
            "| train_mel_spec_model_f562d_00003   PENDING     450     10   0.000373188             35             35 |\n",
            "| train_mel_spec_model_f562d_00004   PENDING     800     10   0.00014823               5             35 |\n",
            "+-------------------------------------------------------------------------------------------------------+\n",
            "Trial status: 1 RUNNING | 4 PENDING\n",
            "Current time: 2024-04-11 03:47:08. Total running time: 1min 30s\n",
            "Logical resource usage: 2.0/2 CPUs, 1.0/1 GPUs (0.0/1.0 accelerator_type:T4)\n",
            "+-------------------------------------------------------------------------------------------------------+\n",
            "| Trial name                         status       l1     l2            lr     batch_size     num_epochs |\n",
            "+-------------------------------------------------------------------------------------------------------+\n",
            "| train_mel_spec_model_f562d_00000   RUNNING     550     15   0.00019002              30             35 |\n",
            "| train_mel_spec_model_f562d_00001   PENDING     700      5   0.0185484               45             35 |\n",
            "| train_mel_spec_model_f562d_00002   PENDING     950     10   0.0017086               30             25 |\n",
            "| train_mel_spec_model_f562d_00003   PENDING     450     10   0.000373188             35             35 |\n",
            "| train_mel_spec_model_f562d_00004   PENDING     800     10   0.00014823               5             35 |\n",
            "+-------------------------------------------------------------------------------------------------------+\n",
            "Trial status: 1 RUNNING | 4 PENDING\n",
            "Current time: 2024-04-11 03:47:38. Total running time: 2min 0s\n",
            "Logical resource usage: 2.0/2 CPUs, 1.0/1 GPUs (0.0/1.0 accelerator_type:T4)\n",
            "+-------------------------------------------------------------------------------------------------------+\n",
            "| Trial name                         status       l1     l2            lr     batch_size     num_epochs |\n",
            "+-------------------------------------------------------------------------------------------------------+\n",
            "| train_mel_spec_model_f562d_00000   RUNNING     550     15   0.00019002              30             35 |\n",
            "| train_mel_spec_model_f562d_00001   PENDING     700      5   0.0185484               45             35 |\n",
            "| train_mel_spec_model_f562d_00002   PENDING     950     10   0.0017086               30             25 |\n",
            "| train_mel_spec_model_f562d_00003   PENDING     450     10   0.000373188             35             35 |\n",
            "| train_mel_spec_model_f562d_00004   PENDING     800     10   0.00014823               5             35 |\n",
            "+-------------------------------------------------------------------------------------------------------+\n",
            "\u001b[36m(train_mel_spec_model pid=1147)\u001b[0m epoch: 0, batch_id: 0, loss: 2.3146889209747314\n",
            "\u001b[36m(train_mel_spec_model pid=1147)\u001b[0m epoch: 0, batch_id: 1, loss: 2.278120279312134\n",
            "\u001b[36m(train_mel_spec_model pid=1147)\u001b[0m epoch: 0, batch_id: 2, loss: 2.3225600719451904\n",
            "\u001b[36m(train_mel_spec_model pid=1147)\u001b[0m epoch: 0, batch_id: 3, loss: 2.355708599090576\n",
            "\u001b[36m(train_mel_spec_model pid=1147)\u001b[0m epoch: 0, batch_id: 4, loss: 2.350445508956909\n",
            "\u001b[36m(train_mel_spec_model pid=1147)\u001b[0m epoch: 0, batch_id: 5, loss: 2.278587579727173\n",
            "\u001b[36m(train_mel_spec_model pid=1147)\u001b[0m epoch: 0, batch_id: 6, loss: 2.3470327854156494\n",
            "\u001b[36m(train_mel_spec_model pid=1147)\u001b[0m epoch: 0, batch_id: 7, loss: 2.2939610481262207\n",
            "\u001b[36m(train_mel_spec_model pid=1147)\u001b[0m epoch: 0, batch_id: 8, loss: 2.2864930629730225\n",
            "\u001b[36m(train_mel_spec_model pid=1147)\u001b[0m epoch: 0, batch_id: 9, loss: 2.31150484085083\n",
            "\u001b[36m(train_mel_spec_model pid=1147)\u001b[0m epoch: 0, batch_id: 10, loss: 2.298851490020752\n",
            "\u001b[36m(train_mel_spec_model pid=1147)\u001b[0m epoch: 0, batch_id: 11, loss: 2.322838306427002\n",
            "\u001b[36m(train_mel_spec_model pid=1147)\u001b[0m epoch: 0, batch_id: 12, loss: 2.3041763305664062\n",
            "\u001b[36m(train_mel_spec_model pid=1147)\u001b[0m epoch: 0, batch_id: 13, loss: 2.300170421600342\n",
            "\u001b[36m(train_mel_spec_model pid=1147)\u001b[0m epoch: 0, batch_id: 14, loss: 2.304516553878784\n",
            "\u001b[36m(train_mel_spec_model pid=1147)\u001b[0m epoch: 0, batch_id: 15, loss: 2.300229787826538\n",
            "\u001b[36m(train_mel_spec_model pid=1147)\u001b[0m epoch: 0, batch_id: 16, loss: 2.3067286014556885\n",
            "\u001b[36m(train_mel_spec_model pid=1147)\u001b[0m epoch: 0, batch_id: 17, loss: 2.2966208457946777\n",
            "\u001b[36m(train_mel_spec_model pid=1147)\u001b[0m epoch: 0, batch_id: 18, loss: 2.298689365386963\n",
            "\u001b[36m(train_mel_spec_model pid=1147)\u001b[0m epoch: 0, batch_id: 19, loss: 2.302908420562744\n",
            "\u001b[36m(train_mel_spec_model pid=1147)\u001b[0m epoch: 0, batch_id: 20, loss: 2.2979466915130615\n",
            "\u001b[36m(train_mel_spec_model pid=1147)\u001b[0m epoch: 0, batch_id: 21, loss: 2.305173397064209\n",
            "\u001b[36m(train_mel_spec_model pid=1147)\u001b[0m epoch: 0, batch_id: 22, loss: 2.267102003097534\n",
            "\u001b[36m(train_mel_spec_model pid=1147)\u001b[0m epoch: 0, batch_id: 23, loss: 2.2858328819274902\n",
            "\u001b[36m(train_mel_spec_model pid=1147)\u001b[0m epoch: 0, batch_id: 24, loss: 2.291335105895996\n",
            "\u001b[36m(train_mel_spec_model pid=1147)\u001b[0m epoch: 0, batch_id: 25, loss: 2.2915565967559814\n",
            "\u001b[36m(train_mel_spec_model pid=1147)\u001b[0m epoch: 0, batch_id: 26, loss: 2.279292106628418\n",
            "\u001b[36m(train_mel_spec_model pid=1147)\u001b[0m Validation Loss: 2.282358229160309, Accuracy: 0.1414141414141414\n",
            "\u001b[36m(train_mel_spec_model pid=1147)\u001b[0m epoch: 1, batch_id: 0, loss: 2.327239751815796\n"
          ]
        },
        {
          "output_type": "stream",
          "name": "stderr",
          "text": [
            "\u001b[36m(train_mel_spec_model pid=1147)\u001b[0m Checkpoint successfully created at: Checkpoint(filesystem=local, path=/root/ray_results/train_mel_spec_model_2024-04-11_03-45-31/train_mel_spec_model_f562d_00000_0_batch_size=30,l1=550,l2=15,lr=0.0002,num_epochs=35_2024-04-11_03-45-37/checkpoint_000000)\n"
          ]
        },
        {
          "output_type": "stream",
          "name": "stdout",
          "text": [
            "\u001b[36m(train_mel_spec_model pid=1147)\u001b[0m epoch: 1, batch_id: 1, loss: 2.3117690086364746\n",
            "\u001b[36m(train_mel_spec_model pid=1147)\u001b[0m epoch: 1, batch_id: 2, loss: 2.2721567153930664\n",
            "\u001b[36m(train_mel_spec_model pid=1147)\u001b[0m epoch: 1, batch_id: 3, loss: 2.281172275543213\n",
            "\u001b[36m(train_mel_spec_model pid=1147)\u001b[0m epoch: 1, batch_id: 4, loss: 2.2768030166625977\n",
            "\u001b[36m(train_mel_spec_model pid=1147)\u001b[0m epoch: 1, batch_id: 5, loss: 2.246859073638916\n",
            "\u001b[36m(train_mel_spec_model pid=1147)\u001b[0m epoch: 1, batch_id: 6, loss: 2.2781951427459717\n",
            "\u001b[36m(train_mel_spec_model pid=1147)\u001b[0m epoch: 1, batch_id: 7, loss: 2.2893383502960205\n",
            "\u001b[36m(train_mel_spec_model pid=1147)\u001b[0m epoch: 1, batch_id: 8, loss: 2.2632343769073486\n",
            "\u001b[36m(train_mel_spec_model pid=1147)\u001b[0m epoch: 1, batch_id: 9, loss: 2.2931594848632812\n",
            "\u001b[36m(train_mel_spec_model pid=1147)\u001b[0m epoch: 1, batch_id: 10, loss: 2.268843173980713\n",
            "\u001b[36m(train_mel_spec_model pid=1147)\u001b[0m epoch: 1, batch_id: 11, loss: 2.280055522918701\n",
            "\u001b[36m(train_mel_spec_model pid=1147)\u001b[0m epoch: 1, batch_id: 12, loss: 2.240933895111084\n",
            "\u001b[36m(train_mel_spec_model pid=1147)\u001b[0m epoch: 1, batch_id: 13, loss: 2.218783140182495\n",
            "\u001b[36m(train_mel_spec_model pid=1147)\u001b[0m epoch: 1, batch_id: 14, loss: 2.236686944961548\n",
            "\u001b[36m(train_mel_spec_model pid=1147)\u001b[0m epoch: 1, batch_id: 15, loss: 2.2886061668395996\n",
            "\u001b[36m(train_mel_spec_model pid=1147)\u001b[0m epoch: 1, batch_id: 16, loss: 2.309781789779663\n",
            "\u001b[36m(train_mel_spec_model pid=1147)\u001b[0m epoch: 1, batch_id: 17, loss: 2.2836496829986572\n",
            "\u001b[36m(train_mel_spec_model pid=1147)\u001b[0m epoch: 1, batch_id: 18, loss: 2.340282678604126\n",
            "\u001b[36m(train_mel_spec_model pid=1147)\u001b[0m epoch: 1, batch_id: 19, loss: 2.258368968963623\n",
            "\u001b[36m(train_mel_spec_model pid=1147)\u001b[0m epoch: 1, batch_id: 20, loss: 2.2597920894622803\n",
            "\u001b[36m(train_mel_spec_model pid=1147)\u001b[0m epoch: 1, batch_id: 21, loss: 2.250572681427002\n",
            "\u001b[36m(train_mel_spec_model pid=1147)\u001b[0m epoch: 1, batch_id: 22, loss: 2.2588112354278564\n",
            "\u001b[36m(train_mel_spec_model pid=1147)\u001b[0m epoch: 1, batch_id: 23, loss: 2.2790000438690186\n",
            "\u001b[36m(train_mel_spec_model pid=1147)\u001b[0m epoch: 1, batch_id: 24, loss: 2.2663016319274902\n",
            "\u001b[36m(train_mel_spec_model pid=1147)\u001b[0m epoch: 1, batch_id: 25, loss: 2.2942209243774414\n",
            "\u001b[36m(train_mel_spec_model pid=1147)\u001b[0m epoch: 1, batch_id: 26, loss: 2.279029130935669\n"
          ]
        },
        {
          "output_type": "stream",
          "name": "stderr",
          "text": [
            "\u001b[36m(train_mel_spec_model pid=1147)\u001b[0m Checkpoint successfully created at: Checkpoint(filesystem=local, path=/root/ray_results/train_mel_spec_model_2024-04-11_03-45-31/train_mel_spec_model_f562d_00000_0_batch_size=30,l1=550,l2=15,lr=0.0002,num_epochs=35_2024-04-11_03-45-37/checkpoint_000001)\n"
          ]
        },
        {
          "output_type": "stream",
          "name": "stdout",
          "text": [
            "\u001b[36m(train_mel_spec_model pid=1147)\u001b[0m Validation Loss: 2.2320314049720764, Accuracy: 0.1919191919191919\n",
            "\u001b[36m(train_mel_spec_model pid=1147)\u001b[0m epoch: 2, batch_id: 0, loss: 2.204604387283325\n",
            "\u001b[36m(train_mel_spec_model pid=1147)\u001b[0m epoch: 2, batch_id: 1, loss: 2.2512166500091553\n",
            "\u001b[36m(train_mel_spec_model pid=1147)\u001b[0m epoch: 2, batch_id: 2, loss: 2.2629761695861816\n",
            "\u001b[36m(train_mel_spec_model pid=1147)\u001b[0m epoch: 2, batch_id: 3, loss: 2.134507894515991\n",
            "\u001b[36m(train_mel_spec_model pid=1147)\u001b[0m epoch: 2, batch_id: 4, loss: 2.379138231277466\n",
            "\u001b[36m(train_mel_spec_model pid=1147)\u001b[0m epoch: 2, batch_id: 5, loss: 2.285552740097046\n",
            "\u001b[36m(train_mel_spec_model pid=1147)\u001b[0m epoch: 2, batch_id: 6, loss: 2.1889798641204834\n",
            "\u001b[36m(train_mel_spec_model pid=1147)\u001b[0m epoch: 2, batch_id: 7, loss: 2.2260756492614746\n",
            "\u001b[36m(train_mel_spec_model pid=1147)\u001b[0m epoch: 2, batch_id: 8, loss: 2.156830072402954\n",
            "\u001b[36m(train_mel_spec_model pid=1147)\u001b[0m epoch: 2, batch_id: 9, loss: 2.1104538440704346\n",
            "\u001b[36m(train_mel_spec_model pid=1147)\u001b[0m epoch: 2, batch_id: 10, loss: 2.232611894607544\n",
            "\u001b[36m(train_mel_spec_model pid=1147)\u001b[0m epoch: 2, batch_id: 11, loss: 2.1671178340911865\n",
            "\u001b[36m(train_mel_spec_model pid=1147)\u001b[0m epoch: 2, batch_id: 12, loss: 2.2167577743530273\n",
            "\u001b[36m(train_mel_spec_model pid=1147)\u001b[0m epoch: 2, batch_id: 13, loss: 2.1300647258758545\n",
            "\u001b[36m(train_mel_spec_model pid=1147)\u001b[0m epoch: 2, batch_id: 14, loss: 2.263392448425293\n",
            "\u001b[36m(train_mel_spec_model pid=1147)\u001b[0m epoch: 2, batch_id: 15, loss: 2.1986122131347656\n",
            "\u001b[36m(train_mel_spec_model pid=1147)\u001b[0m epoch: 2, batch_id: 16, loss: 2.185386896133423\n",
            "\u001b[36m(train_mel_spec_model pid=1147)\u001b[0m epoch: 2, batch_id: 17, loss: 2.2663321495056152\n",
            "\u001b[36m(train_mel_spec_model pid=1147)\u001b[0m epoch: 2, batch_id: 18, loss: 2.235288381576538\n",
            "\u001b[36m(train_mel_spec_model pid=1147)\u001b[0m epoch: 2, batch_id: 19, loss: 2.210137367248535\n",
            "\u001b[36m(train_mel_spec_model pid=1147)\u001b[0m epoch: 2, batch_id: 20, loss: 2.2011091709136963\n",
            "\u001b[36m(train_mel_spec_model pid=1147)\u001b[0m epoch: 2, batch_id: 21, loss: 2.1487600803375244\n",
            "\u001b[36m(train_mel_spec_model pid=1147)\u001b[0m epoch: 2, batch_id: 22, loss: 2.1774494647979736\n",
            "\u001b[36m(train_mel_spec_model pid=1147)\u001b[0m epoch: 2, batch_id: 23, loss: 2.088679790496826\n",
            "\u001b[36m(train_mel_spec_model pid=1147)\u001b[0m epoch: 2, batch_id: 24, loss: 2.254011631011963\n",
            "\u001b[36m(train_mel_spec_model pid=1147)\u001b[0m epoch: 2, batch_id: 25, loss: 2.281582832336426\n",
            "\u001b[36m(train_mel_spec_model pid=1147)\u001b[0m epoch: 2, batch_id: 26, loss: 2.2696757316589355\n"
          ]
        },
        {
          "output_type": "stream",
          "name": "stderr",
          "text": [
            "\u001b[36m(train_mel_spec_model pid=1147)\u001b[0m Checkpoint successfully created at: Checkpoint(filesystem=local, path=/root/ray_results/train_mel_spec_model_2024-04-11_03-45-31/train_mel_spec_model_f562d_00000_0_batch_size=30,l1=550,l2=15,lr=0.0002,num_epochs=35_2024-04-11_03-45-37/checkpoint_000002)\n"
          ]
        },
        {
          "output_type": "stream",
          "name": "stdout",
          "text": [
            "\u001b[36m(train_mel_spec_model pid=1147)\u001b[0m Validation Loss: 2.179121732711792, Accuracy: 0.1414141414141414\n",
            "\u001b[36m(train_mel_spec_model pid=1147)\u001b[0m epoch: 3, batch_id: 0, loss: 2.16945743560791\n",
            "\u001b[36m(train_mel_spec_model pid=1147)\u001b[0m epoch: 3, batch_id: 1, loss: 2.2397358417510986\n",
            "\u001b[36m(train_mel_spec_model pid=1147)\u001b[0m epoch: 3, batch_id: 2, loss: 2.1808247566223145\n",
            "\u001b[36m(train_mel_spec_model pid=1147)\u001b[0m epoch: 3, batch_id: 3, loss: 2.1176669597625732\n",
            "\u001b[36m(train_mel_spec_model pid=1147)\u001b[0m epoch: 3, batch_id: 4, loss: 2.247882604598999\n",
            "\u001b[36m(train_mel_spec_model pid=1147)\u001b[0m epoch: 3, batch_id: 5, loss: 2.1669466495513916\n",
            "\u001b[36m(train_mel_spec_model pid=1147)\u001b[0m epoch: 3, batch_id: 6, loss: 2.1349093914031982\n",
            "\u001b[36m(train_mel_spec_model pid=1147)\u001b[0m epoch: 3, batch_id: 7, loss: 2.1159067153930664\n",
            "\u001b[36m(train_mel_spec_model pid=1147)\u001b[0m epoch: 3, batch_id: 8, loss: 2.1537773609161377\n",
            "\u001b[36m(train_mel_spec_model pid=1147)\u001b[0m epoch: 3, batch_id: 9, loss: 2.17811918258667\n",
            "\u001b[36m(train_mel_spec_model pid=1147)\u001b[0m epoch: 3, batch_id: 10, loss: 2.1797049045562744\n",
            "\u001b[36m(train_mel_spec_model pid=1147)\u001b[0m epoch: 3, batch_id: 11, loss: 2.050095319747925\n",
            "\u001b[36m(train_mel_spec_model pid=1147)\u001b[0m epoch: 3, batch_id: 12, loss: 2.081597089767456\n",
            "\u001b[36m(train_mel_spec_model pid=1147)\u001b[0m epoch: 3, batch_id: 13, loss: 2.1747453212738037\n",
            "\u001b[36m(train_mel_spec_model pid=1147)\u001b[0m epoch: 3, batch_id: 14, loss: 2.115003824234009\n",
            "\u001b[36m(train_mel_spec_model pid=1147)\u001b[0m epoch: 3, batch_id: 15, loss: 2.164562463760376\n",
            "\u001b[36m(train_mel_spec_model pid=1147)\u001b[0m epoch: 3, batch_id: 16, loss: 2.1368765830993652\n",
            "\u001b[36m(train_mel_spec_model pid=1147)\u001b[0m epoch: 3, batch_id: 17, loss: 2.2242395877838135\n",
            "\u001b[36m(train_mel_spec_model pid=1147)\u001b[0m epoch: 3, batch_id: 18, loss: 1.979065179824829\n",
            "\u001b[36m(train_mel_spec_model pid=1147)\u001b[0m epoch: 3, batch_id: 19, loss: 2.176759958267212\n",
            "\u001b[36m(train_mel_spec_model pid=1147)\u001b[0m epoch: 3, batch_id: 20, loss: 2.1377241611480713\n",
            "\u001b[36m(train_mel_spec_model pid=1147)\u001b[0m epoch: 3, batch_id: 21, loss: 2.319505214691162\n",
            "\u001b[36m(train_mel_spec_model pid=1147)\u001b[0m epoch: 3, batch_id: 22, loss: 2.155707836151123\n",
            "\u001b[36m(train_mel_spec_model pid=1147)\u001b[0m epoch: 3, batch_id: 23, loss: 2.162498950958252\n",
            "\u001b[36m(train_mel_spec_model pid=1147)\u001b[0m epoch: 3, batch_id: 24, loss: 2.0165984630584717\n",
            "\u001b[36m(train_mel_spec_model pid=1147)\u001b[0m epoch: 3, batch_id: 25, loss: 2.264934778213501\n",
            "\u001b[36m(train_mel_spec_model pid=1147)\u001b[0m epoch: 3, batch_id: 26, loss: 2.121856212615967\n",
            "\u001b[36m(train_mel_spec_model pid=1147)\u001b[0m Validation Loss: 2.1266892552375793, Accuracy: 0.1414141414141414\n",
            "\u001b[36m(train_mel_spec_model pid=1147)\u001b[0m epoch: 4, batch_id: 0, loss: 2.1731202602386475\n",
            "\u001b[36m(train_mel_spec_model pid=1147)\u001b[0m epoch: 4, batch_id: 1, loss: 2.154930830001831\n"
          ]
        },
        {
          "output_type": "stream",
          "name": "stderr",
          "text": [
            "\u001b[36m(train_mel_spec_model pid=1147)\u001b[0m Checkpoint successfully created at: Checkpoint(filesystem=local, path=/root/ray_results/train_mel_spec_model_2024-04-11_03-45-31/train_mel_spec_model_f562d_00000_0_batch_size=30,l1=550,l2=15,lr=0.0002,num_epochs=35_2024-04-11_03-45-37/checkpoint_000003)\n"
          ]
        },
        {
          "output_type": "stream",
          "name": "stdout",
          "text": [
            "\u001b[36m(train_mel_spec_model pid=1147)\u001b[0m epoch: 4, batch_id: 2, loss: 2.1132898330688477\n",
            "\u001b[36m(train_mel_spec_model pid=1147)\u001b[0m epoch: 4, batch_id: 3, loss: 2.1478912830352783\n",
            "\u001b[36m(train_mel_spec_model pid=1147)\u001b[0m epoch: 4, batch_id: 4, loss: 2.1123220920562744\n",
            "\u001b[36m(train_mel_spec_model pid=1147)\u001b[0m epoch: 4, batch_id: 5, loss: 1.9971152544021606\n",
            "\u001b[36m(train_mel_spec_model pid=1147)\u001b[0m epoch: 4, batch_id: 6, loss: 2.354897975921631\n",
            "\u001b[36m(train_mel_spec_model pid=1147)\u001b[0m epoch: 4, batch_id: 7, loss: 2.1279611587524414\n",
            "\u001b[36m(train_mel_spec_model pid=1147)\u001b[0m epoch: 4, batch_id: 8, loss: 2.0778884887695312\n",
            "\u001b[36m(train_mel_spec_model pid=1147)\u001b[0m epoch: 4, batch_id: 9, loss: 2.194647789001465\n",
            "\u001b[36m(train_mel_spec_model pid=1147)\u001b[0m epoch: 4, batch_id: 10, loss: 2.0325260162353516\n",
            "\u001b[36m(train_mel_spec_model pid=1147)\u001b[0m epoch: 4, batch_id: 11, loss: 2.1596646308898926\n",
            "\u001b[36m(train_mel_spec_model pid=1147)\u001b[0m epoch: 4, batch_id: 12, loss: 2.1730551719665527\n",
            "\u001b[36m(train_mel_spec_model pid=1147)\u001b[0m epoch: 4, batch_id: 13, loss: 2.16879940032959\n",
            "\u001b[36m(train_mel_spec_model pid=1147)\u001b[0m epoch: 4, batch_id: 14, loss: 1.9909652471542358\n",
            "\u001b[36m(train_mel_spec_model pid=1147)\u001b[0m epoch: 4, batch_id: 15, loss: 2.144312858581543\n",
            "\u001b[36m(train_mel_spec_model pid=1147)\u001b[0m epoch: 4, batch_id: 16, loss: 2.1505439281463623\n",
            "\u001b[36m(train_mel_spec_model pid=1147)\u001b[0m epoch: 4, batch_id: 17, loss: 2.1264212131500244\n",
            "\u001b[36m(train_mel_spec_model pid=1147)\u001b[0m epoch: 4, batch_id: 18, loss: 2.1984593868255615\n",
            "\u001b[36m(train_mel_spec_model pid=1147)\u001b[0m epoch: 4, batch_id: 19, loss: 2.1807351112365723\n",
            "\u001b[36m(train_mel_spec_model pid=1147)\u001b[0m epoch: 4, batch_id: 20, loss: 2.166367292404175\n",
            "\u001b[36m(train_mel_spec_model pid=1147)\u001b[0m epoch: 4, batch_id: 21, loss: 1.996479868888855\n",
            "\u001b[36m(train_mel_spec_model pid=1147)\u001b[0m epoch: 4, batch_id: 22, loss: 2.1304850578308105\n",
            "\u001b[36m(train_mel_spec_model pid=1147)\u001b[0m epoch: 4, batch_id: 23, loss: 2.0262515544891357\n",
            "\u001b[36m(train_mel_spec_model pid=1147)\u001b[0m epoch: 4, batch_id: 24, loss: 2.0056324005126953\n",
            "\u001b[36m(train_mel_spec_model pid=1147)\u001b[0m epoch: 4, batch_id: 25, loss: 2.0350229740142822\n",
            "\u001b[36m(train_mel_spec_model pid=1147)\u001b[0m epoch: 4, batch_id: 26, loss: 1.8087509870529175\n",
            "Trial status: 1 RUNNING | 4 PENDING\n",
            "Current time: 2024-04-11 03:48:08. Total running time: 2min 30s\n",
            "Logical resource usage: 2.0/2 CPUs, 1.0/1 GPUs (0.0/1.0 accelerator_type:T4)\n",
            "Current best trial: f562d_00000 with loss=2.1266892552375793 and params={'l1': 550, 'l2': 15, 'lr': 0.00019002025558777404, 'batch_size': 30, 'num_epochs': 35}\n",
            "+----------------------------------------------------------------------------------------------------------------------------------------------------------+\n",
            "| Trial name                         status       l1     l2            lr     batch_size     num_epochs     iter     total time (s)      loss     accuracy |\n",
            "+----------------------------------------------------------------------------------------------------------------------------------------------------------+\n",
            "| train_mel_spec_model_f562d_00000   RUNNING     550     15   0.00019002              30             35        4            141.645   2.12669     0.141414 |\n",
            "| train_mel_spec_model_f562d_00001   PENDING     700      5   0.0185484               45             35                                                    |\n",
            "| train_mel_spec_model_f562d_00002   PENDING     950     10   0.0017086               30             25                                                    |\n",
            "| train_mel_spec_model_f562d_00003   PENDING     450     10   0.000373188             35             35                                                    |\n",
            "| train_mel_spec_model_f562d_00004   PENDING     800     10   0.00014823               5             35                                                    |\n",
            "+----------------------------------------------------------------------------------------------------------------------------------------------------------+\n",
            "\u001b[36m(train_mel_spec_model pid=1147)\u001b[0m Validation Loss: 2.0864025950431824, Accuracy: 0.2222222222222222\n",
            "\u001b[36m(train_mel_spec_model pid=1147)\u001b[0m epoch: 5, batch_id: 0, loss: 2.103109836578369\n",
            "\u001b[36m(train_mel_spec_model pid=1147)\u001b[0m epoch: 5, batch_id: 1, loss: 2.351121187210083\n"
          ]
        },
        {
          "output_type": "stream",
          "name": "stderr",
          "text": [
            "\u001b[36m(train_mel_spec_model pid=1147)\u001b[0m Checkpoint successfully created at: Checkpoint(filesystem=local, path=/root/ray_results/train_mel_spec_model_2024-04-11_03-45-31/train_mel_spec_model_f562d_00000_0_batch_size=30,l1=550,l2=15,lr=0.0002,num_epochs=35_2024-04-11_03-45-37/checkpoint_000004)\n"
          ]
        },
        {
          "output_type": "stream",
          "name": "stdout",
          "text": [
            "\u001b[36m(train_mel_spec_model pid=1147)\u001b[0m epoch: 5, batch_id: 2, loss: 2.132319927215576\n",
            "\u001b[36m(train_mel_spec_model pid=1147)\u001b[0m epoch: 5, batch_id: 3, loss: 2.120199680328369\n",
            "\u001b[36m(train_mel_spec_model pid=1147)\u001b[0m epoch: 5, batch_id: 4, loss: 2.138955593109131\n",
            "\u001b[36m(train_mel_spec_model pid=1147)\u001b[0m epoch: 5, batch_id: 5, loss: 2.0506272315979004\n",
            "\u001b[36m(train_mel_spec_model pid=1147)\u001b[0m epoch: 5, batch_id: 6, loss: 2.0863046646118164\n",
            "\u001b[36m(train_mel_spec_model pid=1147)\u001b[0m epoch: 5, batch_id: 7, loss: 2.2112412452697754\n",
            "\u001b[36m(train_mel_spec_model pid=1147)\u001b[0m epoch: 5, batch_id: 8, loss: 2.05918025970459\n",
            "\u001b[36m(train_mel_spec_model pid=1147)\u001b[0m epoch: 5, batch_id: 9, loss: 2.1266770362854004\n",
            "\u001b[36m(train_mel_spec_model pid=1147)\u001b[0m epoch: 5, batch_id: 10, loss: 2.1368601322174072\n",
            "\u001b[36m(train_mel_spec_model pid=1147)\u001b[0m epoch: 5, batch_id: 11, loss: 1.978193998336792\n",
            "\u001b[36m(train_mel_spec_model pid=1147)\u001b[0m epoch: 5, batch_id: 12, loss: 2.0456674098968506\n",
            "\u001b[36m(train_mel_spec_model pid=1147)\u001b[0m epoch: 5, batch_id: 13, loss: 2.2035231590270996\n",
            "\u001b[36m(train_mel_spec_model pid=1147)\u001b[0m epoch: 5, batch_id: 14, loss: 2.077730894088745\n",
            "\u001b[36m(train_mel_spec_model pid=1147)\u001b[0m epoch: 5, batch_id: 15, loss: 2.075678586959839\n",
            "\u001b[36m(train_mel_spec_model pid=1147)\u001b[0m epoch: 5, batch_id: 16, loss: 2.0992441177368164\n",
            "\u001b[36m(train_mel_spec_model pid=1147)\u001b[0m epoch: 5, batch_id: 17, loss: 1.9257506132125854\n",
            "\u001b[36m(train_mel_spec_model pid=1147)\u001b[0m epoch: 5, batch_id: 18, loss: 1.9504611492156982\n",
            "\u001b[36m(train_mel_spec_model pid=1147)\u001b[0m epoch: 5, batch_id: 19, loss: 2.0883495807647705\n",
            "\u001b[36m(train_mel_spec_model pid=1147)\u001b[0m epoch: 5, batch_id: 20, loss: 2.0328433513641357\n",
            "\u001b[36m(train_mel_spec_model pid=1147)\u001b[0m epoch: 5, batch_id: 21, loss: 2.1150147914886475\n",
            "\u001b[36m(train_mel_spec_model pid=1147)\u001b[0m epoch: 5, batch_id: 22, loss: 1.9741122722625732\n",
            "\u001b[36m(train_mel_spec_model pid=1147)\u001b[0m epoch: 5, batch_id: 23, loss: 2.2292850017547607\n",
            "\u001b[36m(train_mel_spec_model pid=1147)\u001b[0m epoch: 5, batch_id: 24, loss: 2.12894344329834\n",
            "\u001b[36m(train_mel_spec_model pid=1147)\u001b[0m epoch: 5, batch_id: 25, loss: 1.9919025897979736\n",
            "\u001b[36m(train_mel_spec_model pid=1147)\u001b[0m epoch: 5, batch_id: 26, loss: 2.0644283294677734\n",
            "\u001b[36m(train_mel_spec_model pid=1147)\u001b[0m Validation Loss: 2.0826114118099213, Accuracy: 0.1717171717171717\n",
            "\u001b[36m(train_mel_spec_model pid=1147)\u001b[0m epoch: 6, batch_id: 0, loss: 2.060347080230713\n",
            "\u001b[36m(train_mel_spec_model pid=1147)\u001b[0m epoch: 6, batch_id: 1, loss: 2.003582715988159\n",
            "\u001b[36m(train_mel_spec_model pid=1147)\u001b[0m epoch: 6, batch_id: 2, loss: 2.0905511379241943\n"
          ]
        },
        {
          "output_type": "stream",
          "name": "stderr",
          "text": [
            "\u001b[36m(train_mel_spec_model pid=1147)\u001b[0m Checkpoint successfully created at: Checkpoint(filesystem=local, path=/root/ray_results/train_mel_spec_model_2024-04-11_03-45-31/train_mel_spec_model_f562d_00000_0_batch_size=30,l1=550,l2=15,lr=0.0002,num_epochs=35_2024-04-11_03-45-37/checkpoint_000005)\n"
          ]
        },
        {
          "output_type": "stream",
          "name": "stdout",
          "text": [
            "\u001b[36m(train_mel_spec_model pid=1147)\u001b[0m epoch: 6, batch_id: 3, loss: 1.9426600933074951\n",
            "\u001b[36m(train_mel_spec_model pid=1147)\u001b[0m epoch: 6, batch_id: 4, loss: 2.1398112773895264\n",
            "\u001b[36m(train_mel_spec_model pid=1147)\u001b[0m epoch: 6, batch_id: 5, loss: 2.187784433364868\n",
            "\u001b[36m(train_mel_spec_model pid=1147)\u001b[0m epoch: 6, batch_id: 6, loss: 2.273669719696045\n",
            "\u001b[36m(train_mel_spec_model pid=1147)\u001b[0m epoch: 6, batch_id: 7, loss: 1.8940671682357788\n",
            "\u001b[36m(train_mel_spec_model pid=1147)\u001b[0m epoch: 6, batch_id: 8, loss: 2.0448527336120605\n",
            "\u001b[36m(train_mel_spec_model pid=1147)\u001b[0m epoch: 6, batch_id: 9, loss: 2.0285775661468506\n",
            "\u001b[36m(train_mel_spec_model pid=1147)\u001b[0m epoch: 6, batch_id: 10, loss: 2.0817794799804688\n",
            "\u001b[36m(train_mel_spec_model pid=1147)\u001b[0m epoch: 6, batch_id: 11, loss: 2.0688822269439697\n",
            "\u001b[36m(train_mel_spec_model pid=1147)\u001b[0m epoch: 6, batch_id: 12, loss: 2.0728704929351807\n",
            "\u001b[36m(train_mel_spec_model pid=1147)\u001b[0m epoch: 6, batch_id: 13, loss: 1.9386067390441895\n",
            "\u001b[36m(train_mel_spec_model pid=1147)\u001b[0m epoch: 6, batch_id: 14, loss: 1.939104676246643\n",
            "\u001b[36m(train_mel_spec_model pid=1147)\u001b[0m epoch: 6, batch_id: 15, loss: 2.0329298973083496\n",
            "\u001b[36m(train_mel_spec_model pid=1147)\u001b[0m epoch: 6, batch_id: 16, loss: 2.233093738555908\n",
            "\u001b[36m(train_mel_spec_model pid=1147)\u001b[0m epoch: 6, batch_id: 17, loss: 2.197205066680908\n",
            "\u001b[36m(train_mel_spec_model pid=1147)\u001b[0m epoch: 6, batch_id: 18, loss: 2.172210454940796\n",
            "\u001b[36m(train_mel_spec_model pid=1147)\u001b[0m epoch: 6, batch_id: 19, loss: 2.0821993350982666\n",
            "\u001b[36m(train_mel_spec_model pid=1147)\u001b[0m epoch: 6, batch_id: 20, loss: 2.0143465995788574\n",
            "\u001b[36m(train_mel_spec_model pid=1147)\u001b[0m epoch: 6, batch_id: 21, loss: 2.0208964347839355\n",
            "\u001b[36m(train_mel_spec_model pid=1147)\u001b[0m epoch: 6, batch_id: 22, loss: 1.8612419366836548\n",
            "\u001b[36m(train_mel_spec_model pid=1147)\u001b[0m epoch: 6, batch_id: 23, loss: 1.8987538814544678\n",
            "\u001b[36m(train_mel_spec_model pid=1147)\u001b[0m epoch: 6, batch_id: 24, loss: 1.8141396045684814\n",
            "\u001b[36m(train_mel_spec_model pid=1147)\u001b[0m epoch: 6, batch_id: 25, loss: 2.0691211223602295\n",
            "\u001b[36m(train_mel_spec_model pid=1147)\u001b[0m epoch: 6, batch_id: 26, loss: 2.0154709815979004\n"
          ]
        },
        {
          "output_type": "stream",
          "name": "stderr",
          "text": [
            "\u001b[36m(train_mel_spec_model pid=1147)\u001b[0m Checkpoint successfully created at: Checkpoint(filesystem=local, path=/root/ray_results/train_mel_spec_model_2024-04-11_03-45-31/train_mel_spec_model_f562d_00000_0_batch_size=30,l1=550,l2=15,lr=0.0002,num_epochs=35_2024-04-11_03-45-37/checkpoint_000006)\n"
          ]
        },
        {
          "output_type": "stream",
          "name": "stdout",
          "text": [
            "\u001b[36m(train_mel_spec_model pid=1147)\u001b[0m Validation Loss: 2.0190161168575287, Accuracy: 0.25252525252525254\n",
            "\u001b[36m(train_mel_spec_model pid=1147)\u001b[0m epoch: 7, batch_id: 0, loss: 1.9484156370162964\n",
            "\u001b[36m(train_mel_spec_model pid=1147)\u001b[0m epoch: 7, batch_id: 1, loss: 2.274325370788574\n",
            "\u001b[36m(train_mel_spec_model pid=1147)\u001b[0m epoch: 7, batch_id: 2, loss: 1.9768974781036377\n",
            "\u001b[36m(train_mel_spec_model pid=1147)\u001b[0m epoch: 7, batch_id: 3, loss: 1.9086650609970093\n",
            "\u001b[36m(train_mel_spec_model pid=1147)\u001b[0m epoch: 7, batch_id: 4, loss: 1.9420809745788574\n",
            "\u001b[36m(train_mel_spec_model pid=1147)\u001b[0m epoch: 7, batch_id: 5, loss: 1.9969943761825562\n",
            "\u001b[36m(train_mel_spec_model pid=1147)\u001b[0m epoch: 7, batch_id: 6, loss: 2.13391375541687\n",
            "\u001b[36m(train_mel_spec_model pid=1147)\u001b[0m epoch: 7, batch_id: 7, loss: 2.0283899307250977\n",
            "\u001b[36m(train_mel_spec_model pid=1147)\u001b[0m epoch: 7, batch_id: 8, loss: 1.951987624168396\n",
            "\u001b[36m(train_mel_spec_model pid=1147)\u001b[0m epoch: 7, batch_id: 9, loss: 1.9997458457946777\n",
            "\u001b[36m(train_mel_spec_model pid=1147)\u001b[0m epoch: 7, batch_id: 10, loss: 2.146876811981201\n",
            "\u001b[36m(train_mel_spec_model pid=1147)\u001b[0m epoch: 7, batch_id: 11, loss: 1.897449254989624\n",
            "\u001b[36m(train_mel_spec_model pid=1147)\u001b[0m epoch: 7, batch_id: 12, loss: 2.037594795227051\n",
            "\u001b[36m(train_mel_spec_model pid=1147)\u001b[0m epoch: 7, batch_id: 13, loss: 1.881761908531189\n",
            "\u001b[36m(train_mel_spec_model pid=1147)\u001b[0m epoch: 7, batch_id: 14, loss: 2.29056453704834\n",
            "\u001b[36m(train_mel_spec_model pid=1147)\u001b[0m epoch: 7, batch_id: 15, loss: 1.7831562757492065\n",
            "\u001b[36m(train_mel_spec_model pid=1147)\u001b[0m epoch: 7, batch_id: 16, loss: 2.0778379440307617\n",
            "\u001b[36m(train_mel_spec_model pid=1147)\u001b[0m epoch: 7, batch_id: 17, loss: 1.9498857259750366\n",
            "\u001b[36m(train_mel_spec_model pid=1147)\u001b[0m epoch: 7, batch_id: 18, loss: 1.8413951396942139\n",
            "\u001b[36m(train_mel_spec_model pid=1147)\u001b[0m epoch: 7, batch_id: 19, loss: 1.9080965518951416\n",
            "\u001b[36m(train_mel_spec_model pid=1147)\u001b[0m epoch: 7, batch_id: 20, loss: 2.027247190475464\n",
            "\u001b[36m(train_mel_spec_model pid=1147)\u001b[0m epoch: 7, batch_id: 21, loss: 2.0955519676208496\n",
            "\u001b[36m(train_mel_spec_model pid=1147)\u001b[0m epoch: 7, batch_id: 22, loss: 1.862122654914856\n",
            "\u001b[36m(train_mel_spec_model pid=1147)\u001b[0m epoch: 7, batch_id: 23, loss: 2.1069376468658447\n",
            "\u001b[36m(train_mel_spec_model pid=1147)\u001b[0m epoch: 7, batch_id: 24, loss: 2.0386316776275635\n",
            "\u001b[36m(train_mel_spec_model pid=1147)\u001b[0m epoch: 7, batch_id: 25, loss: 2.107921600341797\n",
            "\u001b[36m(train_mel_spec_model pid=1147)\u001b[0m epoch: 7, batch_id: 26, loss: 1.9133001565933228\n"
          ]
        },
        {
          "output_type": "stream",
          "name": "stderr",
          "text": [
            "\u001b[36m(train_mel_spec_model pid=1147)\u001b[0m Checkpoint successfully created at: Checkpoint(filesystem=local, path=/root/ray_results/train_mel_spec_model_2024-04-11_03-45-31/train_mel_spec_model_f562d_00000_0_batch_size=30,l1=550,l2=15,lr=0.0002,num_epochs=35_2024-04-11_03-45-37/checkpoint_000007)\n"
          ]
        },
        {
          "output_type": "stream",
          "name": "stdout",
          "text": [
            "\u001b[36m(train_mel_spec_model pid=1147)\u001b[0m Validation Loss: 2.0049762427806854, Accuracy: 0.26262626262626265\n",
            "\u001b[36m(train_mel_spec_model pid=1147)\u001b[0m epoch: 8, batch_id: 0, loss: 1.9837990999221802\n",
            "\u001b[36m(train_mel_spec_model pid=1147)\u001b[0m epoch: 8, batch_id: 1, loss: 2.007172107696533\n",
            "\u001b[36m(train_mel_spec_model pid=1147)\u001b[0m epoch: 8, batch_id: 2, loss: 2.0568323135375977\n",
            "\u001b[36m(train_mel_spec_model pid=1147)\u001b[0m epoch: 8, batch_id: 3, loss: 2.0563087463378906\n",
            "\u001b[36m(train_mel_spec_model pid=1147)\u001b[0m epoch: 8, batch_id: 4, loss: 2.1444249153137207\n",
            "\u001b[36m(train_mel_spec_model pid=1147)\u001b[0m epoch: 8, batch_id: 5, loss: 2.0405452251434326\n",
            "\u001b[36m(train_mel_spec_model pid=1147)\u001b[0m epoch: 8, batch_id: 6, loss: 1.9240247011184692\n",
            "\u001b[36m(train_mel_spec_model pid=1147)\u001b[0m epoch: 8, batch_id: 7, loss: 1.9429398775100708\n",
            "\u001b[36m(train_mel_spec_model pid=1147)\u001b[0m epoch: 8, batch_id: 8, loss: 2.0377302169799805\n",
            "\u001b[36m(train_mel_spec_model pid=1147)\u001b[0m epoch: 8, batch_id: 9, loss: 2.03886342048645\n",
            "\u001b[36m(train_mel_spec_model pid=1147)\u001b[0m epoch: 8, batch_id: 10, loss: 1.8387699127197266\n",
            "\u001b[36m(train_mel_spec_model pid=1147)\u001b[0m epoch: 8, batch_id: 11, loss: 1.8296467065811157\n",
            "\u001b[36m(train_mel_spec_model pid=1147)\u001b[0m epoch: 8, batch_id: 12, loss: 1.826495885848999\n",
            "\u001b[36m(train_mel_spec_model pid=1147)\u001b[0m epoch: 8, batch_id: 13, loss: 1.9029868841171265\n",
            "\u001b[36m(train_mel_spec_model pid=1147)\u001b[0m epoch: 8, batch_id: 14, loss: 1.802045464515686\n",
            "\u001b[36m(train_mel_spec_model pid=1147)\u001b[0m epoch: 8, batch_id: 15, loss: 2.081486225128174\n",
            "\u001b[36m(train_mel_spec_model pid=1147)\u001b[0m epoch: 8, batch_id: 16, loss: 2.006641387939453\n",
            "\u001b[36m(train_mel_spec_model pid=1147)\u001b[0m epoch: 8, batch_id: 17, loss: 1.9873305559158325\n",
            "\u001b[36m(train_mel_spec_model pid=1147)\u001b[0m epoch: 8, batch_id: 18, loss: 1.8382248878479004\n",
            "\u001b[36m(train_mel_spec_model pid=1147)\u001b[0m epoch: 8, batch_id: 19, loss: 1.9750946760177612\n",
            "\u001b[36m(train_mel_spec_model pid=1147)\u001b[0m epoch: 8, batch_id: 20, loss: 1.8824260234832764\n",
            "\u001b[36m(train_mel_spec_model pid=1147)\u001b[0m epoch: 8, batch_id: 21, loss: 2.0361952781677246\n",
            "\u001b[36m(train_mel_spec_model pid=1147)\u001b[0m epoch: 8, batch_id: 22, loss: 2.2739312648773193\n",
            "\u001b[36m(train_mel_spec_model pid=1147)\u001b[0m epoch: 8, batch_id: 23, loss: 1.9711825847625732\n",
            "\u001b[36m(train_mel_spec_model pid=1147)\u001b[0m epoch: 8, batch_id: 24, loss: 1.9501944780349731\n",
            "\u001b[36m(train_mel_spec_model pid=1147)\u001b[0m epoch: 8, batch_id: 25, loss: 1.8241503238677979\n",
            "\u001b[36m(train_mel_spec_model pid=1147)\u001b[0m epoch: 8, batch_id: 26, loss: 2.077836513519287\n"
          ]
        },
        {
          "output_type": "stream",
          "name": "stderr",
          "text": [
            "\u001b[36m(train_mel_spec_model pid=1147)\u001b[0m Checkpoint successfully created at: Checkpoint(filesystem=local, path=/root/ray_results/train_mel_spec_model_2024-04-11_03-45-31/train_mel_spec_model_f562d_00000_0_batch_size=30,l1=550,l2=15,lr=0.0002,num_epochs=35_2024-04-11_03-45-37/checkpoint_000008)\n"
          ]
        },
        {
          "output_type": "stream",
          "name": "stdout",
          "text": [
            "\u001b[36m(train_mel_spec_model pid=1147)\u001b[0m Validation Loss: 1.9637956321239471, Accuracy: 0.30303030303030304\n",
            "\u001b[36m(train_mel_spec_model pid=1147)\u001b[0m epoch: 9, batch_id: 0, loss: 2.261005163192749\n",
            "\u001b[36m(train_mel_spec_model pid=1147)\u001b[0m epoch: 9, batch_id: 1, loss: 1.965950846672058\n",
            "\u001b[36m(train_mel_spec_model pid=1147)\u001b[0m epoch: 9, batch_id: 2, loss: 1.8152461051940918\n",
            "\u001b[36m(train_mel_spec_model pid=1147)\u001b[0m epoch: 9, batch_id: 3, loss: 2.013504981994629\n",
            "\u001b[36m(train_mel_spec_model pid=1147)\u001b[0m epoch: 9, batch_id: 4, loss: 1.9216805696487427\n",
            "\u001b[36m(train_mel_spec_model pid=1147)\u001b[0m epoch: 9, batch_id: 5, loss: 1.8492958545684814\n",
            "\u001b[36m(train_mel_spec_model pid=1147)\u001b[0m epoch: 9, batch_id: 6, loss: 2.003331422805786\n",
            "\u001b[36m(train_mel_spec_model pid=1147)\u001b[0m epoch: 9, batch_id: 7, loss: 1.758271336555481\n",
            "\u001b[36m(train_mel_spec_model pid=1147)\u001b[0m epoch: 9, batch_id: 8, loss: 1.9093388319015503\n",
            "\u001b[36m(train_mel_spec_model pid=1147)\u001b[0m epoch: 9, batch_id: 9, loss: 1.927621841430664\n",
            "\u001b[36m(train_mel_spec_model pid=1147)\u001b[0m epoch: 9, batch_id: 10, loss: 2.0648064613342285\n",
            "\u001b[36m(train_mel_spec_model pid=1147)\u001b[0m epoch: 9, batch_id: 11, loss: 1.953238606452942\n",
            "\u001b[36m(train_mel_spec_model pid=1147)\u001b[0m epoch: 9, batch_id: 12, loss: 1.840766429901123\n",
            "\u001b[36m(train_mel_spec_model pid=1147)\u001b[0m epoch: 9, batch_id: 13, loss: 1.876397728919983\n",
            "\u001b[36m(train_mel_spec_model pid=1147)\u001b[0m epoch: 9, batch_id: 14, loss: 1.9567738771438599\n",
            "\u001b[36m(train_mel_spec_model pid=1147)\u001b[0m epoch: 9, batch_id: 15, loss: 2.0563161373138428\n",
            "\u001b[36m(train_mel_spec_model pid=1147)\u001b[0m epoch: 9, batch_id: 16, loss: 1.8561592102050781\n",
            "\u001b[36m(train_mel_spec_model pid=1147)\u001b[0m epoch: 9, batch_id: 17, loss: 1.8812764883041382\n",
            "\u001b[36m(train_mel_spec_model pid=1147)\u001b[0m epoch: 9, batch_id: 18, loss: 1.9289543628692627\n",
            "\u001b[36m(train_mel_spec_model pid=1147)\u001b[0m epoch: 9, batch_id: 19, loss: 2.156681776046753\n",
            "\u001b[36m(train_mel_spec_model pid=1147)\u001b[0m epoch: 9, batch_id: 20, loss: 1.9281408786773682\n",
            "\u001b[36m(train_mel_spec_model pid=1147)\u001b[0m epoch: 9, batch_id: 21, loss: 2.014772415161133\n",
            "\u001b[36m(train_mel_spec_model pid=1147)\u001b[0m epoch: 9, batch_id: 22, loss: 1.834922432899475\n",
            "\u001b[36m(train_mel_spec_model pid=1147)\u001b[0m epoch: 9, batch_id: 23, loss: 2.1123626232147217\n",
            "\u001b[36m(train_mel_spec_model pid=1147)\u001b[0m epoch: 9, batch_id: 24, loss: 1.9466891288757324\n",
            "\u001b[36m(train_mel_spec_model pid=1147)\u001b[0m epoch: 9, batch_id: 25, loss: 1.9007847309112549\n",
            "\u001b[36m(train_mel_spec_model pid=1147)\u001b[0m epoch: 9, batch_id: 26, loss: 1.9552409648895264\n",
            "\u001b[36m(train_mel_spec_model pid=1147)\u001b[0m Validation Loss: 1.9202147424221039, Accuracy: 0.2828282828282828\n",
            "\u001b[36m(train_mel_spec_model pid=1147)\u001b[0m epoch: 10, batch_id: 0, loss: 1.9877675771713257\n"
          ]
        },
        {
          "output_type": "stream",
          "name": "stderr",
          "text": [
            "\u001b[36m(train_mel_spec_model pid=1147)\u001b[0m Checkpoint successfully created at: Checkpoint(filesystem=local, path=/root/ray_results/train_mel_spec_model_2024-04-11_03-45-31/train_mel_spec_model_f562d_00000_0_batch_size=30,l1=550,l2=15,lr=0.0002,num_epochs=35_2024-04-11_03-45-37/checkpoint_000009)\n"
          ]
        },
        {
          "output_type": "stream",
          "name": "stdout",
          "text": [
            "\u001b[36m(train_mel_spec_model pid=1147)\u001b[0m epoch: 10, batch_id: 1, loss: 1.7924424409866333\n",
            "\u001b[36m(train_mel_spec_model pid=1147)\u001b[0m epoch: 10, batch_id: 2, loss: 1.7567839622497559\n",
            "\u001b[36m(train_mel_spec_model pid=1147)\u001b[0m epoch: 10, batch_id: 3, loss: 1.9917396306991577\n",
            "\u001b[36m(train_mel_spec_model pid=1147)\u001b[0m epoch: 10, batch_id: 4, loss: 1.9231162071228027\n",
            "\u001b[36m(train_mel_spec_model pid=1147)\u001b[0m epoch: 10, batch_id: 5, loss: 1.8805973529815674\n",
            "\u001b[36m(train_mel_spec_model pid=1147)\u001b[0m epoch: 10, batch_id: 6, loss: 1.8419334888458252\n",
            "\u001b[36m(train_mel_spec_model pid=1147)\u001b[0m epoch: 10, batch_id: 7, loss: 1.8471581935882568\n",
            "\u001b[36m(train_mel_spec_model pid=1147)\u001b[0m epoch: 10, batch_id: 8, loss: 1.9267066717147827\n",
            "\u001b[36m(train_mel_spec_model pid=1147)\u001b[0m epoch: 10, batch_id: 9, loss: 1.7569234371185303\n",
            "\u001b[36m(train_mel_spec_model pid=1147)\u001b[0m epoch: 10, batch_id: 10, loss: 1.902952790260315\n",
            "\u001b[36m(train_mel_spec_model pid=1147)\u001b[0m epoch: 10, batch_id: 11, loss: 2.1350183486938477\n",
            "\u001b[36m(train_mel_spec_model pid=1147)\u001b[0m epoch: 10, batch_id: 12, loss: 1.7247326374053955\n",
            "\u001b[36m(train_mel_spec_model pid=1147)\u001b[0m epoch: 10, batch_id: 13, loss: 1.8793033361434937\n",
            "\u001b[36m(train_mel_spec_model pid=1147)\u001b[0m epoch: 10, batch_id: 14, loss: 1.8827567100524902\n",
            "\u001b[36m(train_mel_spec_model pid=1147)\u001b[0m epoch: 10, batch_id: 15, loss: 1.8019473552703857\n",
            "\u001b[36m(train_mel_spec_model pid=1147)\u001b[0m epoch: 10, batch_id: 16, loss: 2.068052291870117\n",
            "\u001b[36m(train_mel_spec_model pid=1147)\u001b[0m epoch: 10, batch_id: 17, loss: 1.8055248260498047\n",
            "\u001b[36m(train_mel_spec_model pid=1147)\u001b[0m epoch: 10, batch_id: 18, loss: 1.9072438478469849\n",
            "\u001b[36m(train_mel_spec_model pid=1147)\u001b[0m epoch: 10, batch_id: 19, loss: 1.6206187009811401\n",
            "\u001b[36m(train_mel_spec_model pid=1147)\u001b[0m epoch: 10, batch_id: 20, loss: 1.9123505353927612\n",
            "\u001b[36m(train_mel_spec_model pid=1147)\u001b[0m epoch: 10, batch_id: 21, loss: 1.9174976348876953\n",
            "\u001b[36m(train_mel_spec_model pid=1147)\u001b[0m epoch: 10, batch_id: 22, loss: 1.957501769065857\n",
            "\u001b[36m(train_mel_spec_model pid=1147)\u001b[0m epoch: 10, batch_id: 23, loss: 1.981558084487915\n",
            "\u001b[36m(train_mel_spec_model pid=1147)\u001b[0m epoch: 10, batch_id: 24, loss: 1.8313374519348145\n",
            "\u001b[36m(train_mel_spec_model pid=1147)\u001b[0m epoch: 10, batch_id: 25, loss: 1.9238070249557495\n",
            "\u001b[36m(train_mel_spec_model pid=1147)\u001b[0m epoch: 10, batch_id: 26, loss: 1.9507701396942139\n",
            "\u001b[36m(train_mel_spec_model pid=1147)\u001b[0m Validation Loss: 1.9629934430122375, Accuracy: 0.30303030303030304\n",
            "\u001b[36m(train_mel_spec_model pid=1147)\u001b[0m epoch: 11, batch_id: 0, loss: 1.770814299583435\n",
            "\u001b[36m(train_mel_spec_model pid=1147)\u001b[0m epoch: 11, batch_id: 1, loss: 1.9888339042663574\n"
          ]
        },
        {
          "output_type": "stream",
          "name": "stderr",
          "text": [
            "\u001b[36m(train_mel_spec_model pid=1147)\u001b[0m Checkpoint successfully created at: Checkpoint(filesystem=local, path=/root/ray_results/train_mel_spec_model_2024-04-11_03-45-31/train_mel_spec_model_f562d_00000_0_batch_size=30,l1=550,l2=15,lr=0.0002,num_epochs=35_2024-04-11_03-45-37/checkpoint_000010)\n"
          ]
        },
        {
          "output_type": "stream",
          "name": "stdout",
          "text": [
            "\u001b[36m(train_mel_spec_model pid=1147)\u001b[0m epoch: 11, batch_id: 2, loss: 1.9349558353424072\n",
            "\u001b[36m(train_mel_spec_model pid=1147)\u001b[0m epoch: 11, batch_id: 3, loss: 1.7132165431976318\n",
            "\u001b[36m(train_mel_spec_model pid=1147)\u001b[0m epoch: 11, batch_id: 4, loss: 1.5983473062515259\n",
            "\u001b[36m(train_mel_spec_model pid=1147)\u001b[0m epoch: 11, batch_id: 5, loss: 1.7326881885528564\n",
            "\u001b[36m(train_mel_spec_model pid=1147)\u001b[0m epoch: 11, batch_id: 6, loss: 2.0719504356384277\n",
            "\u001b[36m(train_mel_spec_model pid=1147)\u001b[0m epoch: 11, batch_id: 7, loss: 2.0679285526275635\n",
            "\u001b[36m(train_mel_spec_model pid=1147)\u001b[0m epoch: 11, batch_id: 8, loss: 2.013132333755493\n",
            "\u001b[36m(train_mel_spec_model pid=1147)\u001b[0m epoch: 11, batch_id: 9, loss: 1.830918550491333\n",
            "\u001b[36m(train_mel_spec_model pid=1147)\u001b[0m epoch: 11, batch_id: 10, loss: 1.7822608947753906\n",
            "\u001b[36m(train_mel_spec_model pid=1147)\u001b[0m epoch: 11, batch_id: 11, loss: 1.9406468868255615\n",
            "\u001b[36m(train_mel_spec_model pid=1147)\u001b[0m epoch: 11, batch_id: 12, loss: 2.0232083797454834\n",
            "\u001b[36m(train_mel_spec_model pid=1147)\u001b[0m epoch: 11, batch_id: 13, loss: 1.9129788875579834\n",
            "\u001b[36m(train_mel_spec_model pid=1147)\u001b[0m epoch: 11, batch_id: 14, loss: 1.760925531387329\n",
            "\u001b[36m(train_mel_spec_model pid=1147)\u001b[0m epoch: 11, batch_id: 15, loss: 1.7129650115966797\n",
            "\u001b[36m(train_mel_spec_model pid=1147)\u001b[0m epoch: 11, batch_id: 16, loss: 1.8318606615066528\n",
            "\u001b[36m(train_mel_spec_model pid=1147)\u001b[0m epoch: 11, batch_id: 17, loss: 1.8166453838348389\n",
            "\u001b[36m(train_mel_spec_model pid=1147)\u001b[0m epoch: 11, batch_id: 18, loss: 1.8161791563034058\n",
            "\u001b[36m(train_mel_spec_model pid=1147)\u001b[0m epoch: 11, batch_id: 19, loss: 1.9651737213134766\n",
            "\u001b[36m(train_mel_spec_model pid=1147)\u001b[0m epoch: 11, batch_id: 20, loss: 1.9304531812667847\n",
            "\u001b[36m(train_mel_spec_model pid=1147)\u001b[0m epoch: 11, batch_id: 21, loss: 1.78080415725708\n",
            "\u001b[36m(train_mel_spec_model pid=1147)\u001b[0m epoch: 11, batch_id: 22, loss: 1.8435498476028442\n",
            "\u001b[36m(train_mel_spec_model pid=1147)\u001b[0m epoch: 11, batch_id: 23, loss: 1.8612847328186035\n",
            "\u001b[36m(train_mel_spec_model pid=1147)\u001b[0m epoch: 11, batch_id: 24, loss: 1.8461247682571411\n",
            "\u001b[36m(train_mel_spec_model pid=1147)\u001b[0m epoch: 11, batch_id: 25, loss: 1.6892929077148438\n",
            "\u001b[36m(train_mel_spec_model pid=1147)\u001b[0m epoch: 11, batch_id: 26, loss: 1.7728855609893799\n",
            "\u001b[36m(train_mel_spec_model pid=1147)\u001b[0m Validation Loss: 2.001950830221176, Accuracy: 0.2828282828282828\n",
            "\u001b[36m(train_mel_spec_model pid=1147)\u001b[0m epoch: 12, batch_id: 0, loss: 1.8422281742095947\n",
            "\u001b[36m(train_mel_spec_model pid=1147)\u001b[0m epoch: 12, batch_id: 1, loss: 1.7378227710723877\n"
          ]
        },
        {
          "output_type": "stream",
          "name": "stderr",
          "text": [
            "\u001b[36m(train_mel_spec_model pid=1147)\u001b[0m Checkpoint successfully created at: Checkpoint(filesystem=local, path=/root/ray_results/train_mel_spec_model_2024-04-11_03-45-31/train_mel_spec_model_f562d_00000_0_batch_size=30,l1=550,l2=15,lr=0.0002,num_epochs=35_2024-04-11_03-45-37/checkpoint_000011)\n"
          ]
        },
        {
          "output_type": "stream",
          "name": "stdout",
          "text": [
            "\u001b[36m(train_mel_spec_model pid=1147)\u001b[0m epoch: 12, batch_id: 2, loss: 1.760597586631775\n",
            "\u001b[36m(train_mel_spec_model pid=1147)\u001b[0m epoch: 12, batch_id: 3, loss: 1.923662781715393\n",
            "\u001b[36m(train_mel_spec_model pid=1147)\u001b[0m epoch: 12, batch_id: 4, loss: 1.736488699913025\n",
            "\u001b[36m(train_mel_spec_model pid=1147)\u001b[0m epoch: 12, batch_id: 5, loss: 1.8236230611801147\n",
            "\u001b[36m(train_mel_spec_model pid=1147)\u001b[0m epoch: 12, batch_id: 6, loss: 1.762722134590149\n",
            "\u001b[36m(train_mel_spec_model pid=1147)\u001b[0m epoch: 12, batch_id: 7, loss: 1.7167696952819824\n",
            "\u001b[36m(train_mel_spec_model pid=1147)\u001b[0m epoch: 12, batch_id: 8, loss: 1.6635355949401855\n",
            "\u001b[36m(train_mel_spec_model pid=1147)\u001b[0m epoch: 12, batch_id: 9, loss: 1.7577389478683472\n",
            "\u001b[36m(train_mel_spec_model pid=1147)\u001b[0m epoch: 12, batch_id: 10, loss: 1.9852184057235718\n",
            "\u001b[36m(train_mel_spec_model pid=1147)\u001b[0m epoch: 12, batch_id: 11, loss: 1.9236794710159302\n",
            "\u001b[36m(train_mel_spec_model pid=1147)\u001b[0m epoch: 12, batch_id: 12, loss: 1.8529287576675415\n",
            "\u001b[36m(train_mel_spec_model pid=1147)\u001b[0m epoch: 12, batch_id: 13, loss: 1.781486988067627\n",
            "\u001b[36m(train_mel_spec_model pid=1147)\u001b[0m epoch: 12, batch_id: 14, loss: 1.6261135339736938\n",
            "\u001b[36m(train_mel_spec_model pid=1147)\u001b[0m epoch: 12, batch_id: 15, loss: 1.815321445465088\n",
            "\u001b[36m(train_mel_spec_model pid=1147)\u001b[0m epoch: 12, batch_id: 16, loss: 1.683929443359375\n",
            "\u001b[36m(train_mel_spec_model pid=1147)\u001b[0m epoch: 12, batch_id: 17, loss: 1.810217022895813\n",
            "\u001b[36m(train_mel_spec_model pid=1147)\u001b[0m epoch: 12, batch_id: 18, loss: 1.7755299806594849\n",
            "\u001b[36m(train_mel_spec_model pid=1147)\u001b[0m epoch: 12, batch_id: 19, loss: 1.8789178133010864\n",
            "\u001b[36m(train_mel_spec_model pid=1147)\u001b[0m epoch: 12, batch_id: 20, loss: 1.8805540800094604\n",
            "\u001b[36m(train_mel_spec_model pid=1147)\u001b[0m epoch: 12, batch_id: 21, loss: 1.6575862169265747\n",
            "\u001b[36m(train_mel_spec_model pid=1147)\u001b[0m epoch: 12, batch_id: 22, loss: 1.7574551105499268\n",
            "\u001b[36m(train_mel_spec_model pid=1147)\u001b[0m epoch: 12, batch_id: 23, loss: 1.7406916618347168\n",
            "\u001b[36m(train_mel_spec_model pid=1147)\u001b[0m epoch: 12, batch_id: 24, loss: 1.9380953311920166\n",
            "\u001b[36m(train_mel_spec_model pid=1147)\u001b[0m epoch: 12, batch_id: 25, loss: 1.8110787868499756\n",
            "\u001b[36m(train_mel_spec_model pid=1147)\u001b[0m epoch: 12, batch_id: 26, loss: 1.6682168245315552\n"
          ]
        },
        {
          "output_type": "stream",
          "name": "stderr",
          "text": [
            "\u001b[36m(train_mel_spec_model pid=1147)\u001b[0m Checkpoint successfully created at: Checkpoint(filesystem=local, path=/root/ray_results/train_mel_spec_model_2024-04-11_03-45-31/train_mel_spec_model_f562d_00000_0_batch_size=30,l1=550,l2=15,lr=0.0002,num_epochs=35_2024-04-11_03-45-37/checkpoint_000012)\n"
          ]
        },
        {
          "output_type": "stream",
          "name": "stdout",
          "text": [
            "\u001b[36m(train_mel_spec_model pid=1147)\u001b[0m Validation Loss: 1.8015712201595306, Accuracy: 0.37373737373737376\n",
            "\u001b[36m(train_mel_spec_model pid=1147)\u001b[0m epoch: 13, batch_id: 0, loss: 1.8113391399383545\n",
            "\u001b[36m(train_mel_spec_model pid=1147)\u001b[0m epoch: 13, batch_id: 1, loss: 1.5548518896102905\n",
            "\u001b[36m(train_mel_spec_model pid=1147)\u001b[0m epoch: 13, batch_id: 2, loss: 1.660812497138977\n",
            "\u001b[36m(train_mel_spec_model pid=1147)\u001b[0m epoch: 13, batch_id: 3, loss: 1.777612328529358\n",
            "\u001b[36m(train_mel_spec_model pid=1147)\u001b[0m epoch: 13, batch_id: 4, loss: 1.6323158740997314\n",
            "\u001b[36m(train_mel_spec_model pid=1147)\u001b[0m epoch: 13, batch_id: 5, loss: 1.893459439277649\n",
            "\u001b[36m(train_mel_spec_model pid=1147)\u001b[0m epoch: 13, batch_id: 6, loss: 1.9696807861328125\n",
            "\u001b[36m(train_mel_spec_model pid=1147)\u001b[0m epoch: 13, batch_id: 7, loss: 1.6757797002792358\n",
            "\u001b[36m(train_mel_spec_model pid=1147)\u001b[0m epoch: 13, batch_id: 8, loss: 1.701224684715271\n",
            "\u001b[36m(train_mel_spec_model pid=1147)\u001b[0m epoch: 13, batch_id: 9, loss: 1.8347200155258179\n",
            "\u001b[36m(train_mel_spec_model pid=1147)\u001b[0m epoch: 13, batch_id: 10, loss: 1.6177207231521606\n",
            "\u001b[36m(train_mel_spec_model pid=1147)\u001b[0m epoch: 13, batch_id: 11, loss: 1.7749329805374146\n",
            "\u001b[36m(train_mel_spec_model pid=1147)\u001b[0m epoch: 13, batch_id: 12, loss: 1.552620530128479\n",
            "\u001b[36m(train_mel_spec_model pid=1147)\u001b[0m epoch: 13, batch_id: 13, loss: 1.6994876861572266\n",
            "\u001b[36m(train_mel_spec_model pid=1147)\u001b[0m epoch: 13, batch_id: 14, loss: 1.6727923154830933\n",
            "\u001b[36m(train_mel_spec_model pid=1147)\u001b[0m epoch: 13, batch_id: 15, loss: 1.7044854164123535\n",
            "\u001b[36m(train_mel_spec_model pid=1147)\u001b[0m epoch: 13, batch_id: 16, loss: 1.6970971822738647\n",
            "\u001b[36m(train_mel_spec_model pid=1147)\u001b[0m epoch: 13, batch_id: 17, loss: 1.7913691997528076\n",
            "\u001b[36m(train_mel_spec_model pid=1147)\u001b[0m epoch: 13, batch_id: 18, loss: 1.7589342594146729\n",
            "\u001b[36m(train_mel_spec_model pid=1147)\u001b[0m epoch: 13, batch_id: 19, loss: 1.7979295253753662\n",
            "\u001b[36m(train_mel_spec_model pid=1147)\u001b[0m epoch: 13, batch_id: 20, loss: 1.7426592111587524\n",
            "\u001b[36m(train_mel_spec_model pid=1147)\u001b[0m epoch: 13, batch_id: 21, loss: 1.6555019617080688\n",
            "\u001b[36m(train_mel_spec_model pid=1147)\u001b[0m epoch: 13, batch_id: 22, loss: 1.760036587715149\n",
            "\u001b[36m(train_mel_spec_model pid=1147)\u001b[0m epoch: 13, batch_id: 23, loss: 1.6952069997787476\n",
            "\u001b[36m(train_mel_spec_model pid=1147)\u001b[0m epoch: 13, batch_id: 24, loss: 1.7064831256866455\n",
            "\u001b[36m(train_mel_spec_model pid=1147)\u001b[0m epoch: 13, batch_id: 25, loss: 1.6872843503952026\n",
            "\u001b[36m(train_mel_spec_model pid=1147)\u001b[0m epoch: 13, batch_id: 26, loss: 1.6735996007919312\n"
          ]
        },
        {
          "output_type": "stream",
          "name": "stderr",
          "text": [
            "\u001b[36m(train_mel_spec_model pid=1147)\u001b[0m Checkpoint successfully created at: Checkpoint(filesystem=local, path=/root/ray_results/train_mel_spec_model_2024-04-11_03-45-31/train_mel_spec_model_f562d_00000_0_batch_size=30,l1=550,l2=15,lr=0.0002,num_epochs=35_2024-04-11_03-45-37/checkpoint_000013)\n"
          ]
        },
        {
          "output_type": "stream",
          "name": "stdout",
          "text": [
            "\u001b[36m(train_mel_spec_model pid=1147)\u001b[0m Validation Loss: 1.830854594707489, Accuracy: 0.30303030303030304\n",
            "\u001b[36m(train_mel_spec_model pid=1147)\u001b[0m epoch: 14, batch_id: 0, loss: 1.6755573749542236\n",
            "\u001b[36m(train_mel_spec_model pid=1147)\u001b[0m epoch: 14, batch_id: 1, loss: 2.139725685119629\n",
            "\u001b[36m(train_mel_spec_model pid=1147)\u001b[0m epoch: 14, batch_id: 2, loss: 1.4085087776184082\n",
            "\u001b[36m(train_mel_spec_model pid=1147)\u001b[0m epoch: 14, batch_id: 3, loss: 1.8956536054611206\n",
            "\u001b[36m(train_mel_spec_model pid=1147)\u001b[0m epoch: 14, batch_id: 4, loss: 1.6928818225860596\n",
            "\u001b[36m(train_mel_spec_model pid=1147)\u001b[0m epoch: 14, batch_id: 5, loss: 1.746493935585022\n",
            "\u001b[36m(train_mel_spec_model pid=1147)\u001b[0m epoch: 14, batch_id: 6, loss: 1.7130192518234253\n",
            "\u001b[36m(train_mel_spec_model pid=1147)\u001b[0m epoch: 14, batch_id: 7, loss: 1.5235487222671509\n",
            "\u001b[36m(train_mel_spec_model pid=1147)\u001b[0m epoch: 14, batch_id: 8, loss: 1.7008310556411743\n",
            "\u001b[36m(train_mel_spec_model pid=1147)\u001b[0m epoch: 14, batch_id: 9, loss: 1.6951898336410522\n",
            "\u001b[36m(train_mel_spec_model pid=1147)\u001b[0m epoch: 14, batch_id: 10, loss: 1.6882294416427612\n",
            "\u001b[36m(train_mel_spec_model pid=1147)\u001b[0m epoch: 14, batch_id: 11, loss: 1.5594143867492676\n",
            "\u001b[36m(train_mel_spec_model pid=1147)\u001b[0m epoch: 14, batch_id: 12, loss: 1.6817914247512817\n",
            "\u001b[36m(train_mel_spec_model pid=1147)\u001b[0m epoch: 14, batch_id: 13, loss: 1.5378105640411377\n",
            "\u001b[36m(train_mel_spec_model pid=1147)\u001b[0m epoch: 14, batch_id: 14, loss: 1.8388062715530396\n",
            "\u001b[36m(train_mel_spec_model pid=1147)\u001b[0m epoch: 14, batch_id: 15, loss: 1.9809863567352295\n",
            "\u001b[36m(train_mel_spec_model pid=1147)\u001b[0m epoch: 14, batch_id: 16, loss: 1.6027520895004272\n",
            "\u001b[36m(train_mel_spec_model pid=1147)\u001b[0m epoch: 14, batch_id: 17, loss: 1.64884614944458\n",
            "\u001b[36m(train_mel_spec_model pid=1147)\u001b[0m epoch: 14, batch_id: 18, loss: 1.5241177082061768\n",
            "\u001b[36m(train_mel_spec_model pid=1147)\u001b[0m epoch: 14, batch_id: 19, loss: 1.5899068117141724\n",
            "\u001b[36m(train_mel_spec_model pid=1147)\u001b[0m epoch: 14, batch_id: 20, loss: 1.8179017305374146\n",
            "\u001b[36m(train_mel_spec_model pid=1147)\u001b[0m epoch: 14, batch_id: 21, loss: 1.761062741279602\n",
            "\u001b[36m(train_mel_spec_model pid=1147)\u001b[0m epoch: 14, batch_id: 22, loss: 1.8274084329605103\n",
            "\u001b[36m(train_mel_spec_model pid=1147)\u001b[0m epoch: 14, batch_id: 23, loss: 1.569072961807251\n",
            "\u001b[36m(train_mel_spec_model pid=1147)\u001b[0m epoch: 14, batch_id: 24, loss: 1.6432558298110962\n",
            "\u001b[36m(train_mel_spec_model pid=1147)\u001b[0m epoch: 14, batch_id: 25, loss: 1.48224937915802\n",
            "\u001b[36m(train_mel_spec_model pid=1147)\u001b[0m epoch: 14, batch_id: 26, loss: 1.7380790710449219\n",
            "\u001b[36m(train_mel_spec_model pid=1147)\u001b[0m Validation Loss: 1.7949507534503937, Accuracy: 0.3838383838383838\n",
            "\u001b[36m(train_mel_spec_model pid=1147)\u001b[0m epoch: 15, batch_id: 0, loss: 1.8390109539031982\n",
            "\u001b[36m(train_mel_spec_model pid=1147)\u001b[0m epoch: 15, batch_id: 1, loss: 1.6652759313583374\n"
          ]
        },
        {
          "output_type": "stream",
          "name": "stderr",
          "text": [
            "\u001b[36m(train_mel_spec_model pid=1147)\u001b[0m Checkpoint successfully created at: Checkpoint(filesystem=local, path=/root/ray_results/train_mel_spec_model_2024-04-11_03-45-31/train_mel_spec_model_f562d_00000_0_batch_size=30,l1=550,l2=15,lr=0.0002,num_epochs=35_2024-04-11_03-45-37/checkpoint_000014)\n"
          ]
        },
        {
          "output_type": "stream",
          "name": "stdout",
          "text": [
            "\u001b[36m(train_mel_spec_model pid=1147)\u001b[0m epoch: 15, batch_id: 2, loss: 1.6906225681304932\n",
            "\u001b[36m(train_mel_spec_model pid=1147)\u001b[0m epoch: 15, batch_id: 3, loss: 1.8224624395370483\n",
            "\u001b[36m(train_mel_spec_model pid=1147)\u001b[0m epoch: 15, batch_id: 4, loss: 1.6495921611785889\n",
            "\u001b[36m(train_mel_spec_model pid=1147)\u001b[0m epoch: 15, batch_id: 5, loss: 1.491554856300354\n",
            "\u001b[36m(train_mel_spec_model pid=1147)\u001b[0m epoch: 15, batch_id: 6, loss: 1.6376515626907349\n",
            "\u001b[36m(train_mel_spec_model pid=1147)\u001b[0m epoch: 15, batch_id: 7, loss: 1.6648885011672974\n",
            "\u001b[36m(train_mel_spec_model pid=1147)\u001b[0m epoch: 15, batch_id: 8, loss: 1.6945488452911377\n",
            "\u001b[36m(train_mel_spec_model pid=1147)\u001b[0m epoch: 15, batch_id: 9, loss: 1.5653529167175293\n",
            "\u001b[36m(train_mel_spec_model pid=1147)\u001b[0m epoch: 15, batch_id: 10, loss: 1.5109570026397705\n",
            "\u001b[36m(train_mel_spec_model pid=1147)\u001b[0m epoch: 15, batch_id: 11, loss: 1.6517894268035889\n",
            "\u001b[36m(train_mel_spec_model pid=1147)\u001b[0m epoch: 15, batch_id: 12, loss: 1.4125341176986694\n",
            "\u001b[36m(train_mel_spec_model pid=1147)\u001b[0m epoch: 15, batch_id: 13, loss: 1.7029271125793457\n",
            "\u001b[36m(train_mel_spec_model pid=1147)\u001b[0m epoch: 15, batch_id: 14, loss: 1.6708873510360718\n",
            "\u001b[36m(train_mel_spec_model pid=1147)\u001b[0m epoch: 15, batch_id: 15, loss: 1.817894458770752\n",
            "\u001b[36m(train_mel_spec_model pid=1147)\u001b[0m epoch: 15, batch_id: 16, loss: 1.6546878814697266\n",
            "\u001b[36m(train_mel_spec_model pid=1147)\u001b[0m epoch: 15, batch_id: 17, loss: 1.7924965620040894\n",
            "\u001b[36m(train_mel_spec_model pid=1147)\u001b[0m epoch: 15, batch_id: 18, loss: 1.6782608032226562\n",
            "\u001b[36m(train_mel_spec_model pid=1147)\u001b[0m epoch: 15, batch_id: 19, loss: 1.490972876548767\n",
            "\u001b[36m(train_mel_spec_model pid=1147)\u001b[0m epoch: 15, batch_id: 20, loss: 1.6762346029281616\n",
            "\u001b[36m(train_mel_spec_model pid=1147)\u001b[0m epoch: 15, batch_id: 21, loss: 1.6716437339782715\n",
            "\u001b[36m(train_mel_spec_model pid=1147)\u001b[0m epoch: 15, batch_id: 22, loss: 1.5178673267364502\n",
            "\u001b[36m(train_mel_spec_model pid=1147)\u001b[0m epoch: 15, batch_id: 23, loss: 1.5494459867477417\n",
            "\u001b[36m(train_mel_spec_model pid=1147)\u001b[0m epoch: 15, batch_id: 24, loss: 1.6686594486236572\n",
            "\u001b[36m(train_mel_spec_model pid=1147)\u001b[0m epoch: 15, batch_id: 25, loss: 1.5668599605560303\n",
            "\u001b[36m(train_mel_spec_model pid=1147)\u001b[0m epoch: 15, batch_id: 26, loss: 1.3930962085723877\n",
            "\u001b[36m(train_mel_spec_model pid=1147)\u001b[0m Validation Loss: 1.8259595930576324, Accuracy: 0.3434343434343434\n",
            "\u001b[36m(train_mel_spec_model pid=1147)\u001b[0m epoch: 16, batch_id: 0, loss: 1.3473199605941772\n",
            "\u001b[36m(train_mel_spec_model pid=1147)\u001b[0m epoch: 16, batch_id: 1, loss: 1.396000623703003\n",
            "\u001b[36m(train_mel_spec_model pid=1147)\u001b[0m epoch: 16, batch_id: 2, loss: 1.6867928504943848\n"
          ]
        },
        {
          "output_type": "stream",
          "name": "stderr",
          "text": [
            "\u001b[36m(train_mel_spec_model pid=1147)\u001b[0m Checkpoint successfully created at: Checkpoint(filesystem=local, path=/root/ray_results/train_mel_spec_model_2024-04-11_03-45-31/train_mel_spec_model_f562d_00000_0_batch_size=30,l1=550,l2=15,lr=0.0002,num_epochs=35_2024-04-11_03-45-37/checkpoint_000015)\n"
          ]
        },
        {
          "output_type": "stream",
          "name": "stdout",
          "text": [
            "\u001b[36m(train_mel_spec_model pid=1147)\u001b[0m epoch: 16, batch_id: 3, loss: 1.7533173561096191\n",
            "\u001b[36m(train_mel_spec_model pid=1147)\u001b[0m epoch: 16, batch_id: 4, loss: 1.4581544399261475\n",
            "\u001b[36m(train_mel_spec_model pid=1147)\u001b[0m epoch: 16, batch_id: 5, loss: 1.7196210622787476\n",
            "\u001b[36m(train_mel_spec_model pid=1147)\u001b[0m epoch: 16, batch_id: 6, loss: 1.4748917818069458\n",
            "\u001b[36m(train_mel_spec_model pid=1147)\u001b[0m epoch: 16, batch_id: 7, loss: 1.505534052848816\n",
            "\u001b[36m(train_mel_spec_model pid=1147)\u001b[0m epoch: 16, batch_id: 8, loss: 1.6027551889419556\n",
            "\u001b[36m(train_mel_spec_model pid=1147)\u001b[0m epoch: 16, batch_id: 9, loss: 1.4978364706039429\n",
            "\u001b[36m(train_mel_spec_model pid=1147)\u001b[0m epoch: 16, batch_id: 10, loss: 1.5175502300262451\n",
            "\u001b[36m(train_mel_spec_model pid=1147)\u001b[0m epoch: 16, batch_id: 11, loss: 1.4848487377166748\n",
            "\u001b[36m(train_mel_spec_model pid=1147)\u001b[0m epoch: 16, batch_id: 12, loss: 1.6002658605575562\n",
            "\u001b[36m(train_mel_spec_model pid=1147)\u001b[0m epoch: 16, batch_id: 13, loss: 1.3150686025619507\n",
            "\u001b[36m(train_mel_spec_model pid=1147)\u001b[0m epoch: 16, batch_id: 14, loss: 2.0136988162994385\n",
            "\u001b[36m(train_mel_spec_model pid=1147)\u001b[0m epoch: 16, batch_id: 15, loss: 1.5643960237503052\n",
            "\u001b[36m(train_mel_spec_model pid=1147)\u001b[0m epoch: 16, batch_id: 16, loss: 1.6571540832519531\n",
            "\u001b[36m(train_mel_spec_model pid=1147)\u001b[0m epoch: 16, batch_id: 17, loss: 1.4998092651367188\n",
            "\u001b[36m(train_mel_spec_model pid=1147)\u001b[0m epoch: 16, batch_id: 18, loss: 1.8509917259216309\n",
            "\u001b[36m(train_mel_spec_model pid=1147)\u001b[0m epoch: 16, batch_id: 19, loss: 1.599648118019104\n",
            "\u001b[36m(train_mel_spec_model pid=1147)\u001b[0m epoch: 16, batch_id: 20, loss: 1.5595452785491943\n",
            "\u001b[36m(train_mel_spec_model pid=1147)\u001b[0m epoch: 16, batch_id: 21, loss: 1.5811415910720825\n",
            "\u001b[36m(train_mel_spec_model pid=1147)\u001b[0m epoch: 16, batch_id: 22, loss: 1.5265573263168335\n",
            "\u001b[36m(train_mel_spec_model pid=1147)\u001b[0m epoch: 16, batch_id: 23, loss: 1.2476277351379395\n",
            "\u001b[36m(train_mel_spec_model pid=1147)\u001b[0m epoch: 16, batch_id: 24, loss: 1.6098191738128662\n",
            "\u001b[36m(train_mel_spec_model pid=1147)\u001b[0m epoch: 16, batch_id: 25, loss: 1.4934636354446411\n",
            "\u001b[36m(train_mel_spec_model pid=1147)\u001b[0m epoch: 16, batch_id: 26, loss: 1.8739268779754639\n",
            "\u001b[36m(train_mel_spec_model pid=1147)\u001b[0m Validation Loss: 1.8005496263504028, Accuracy: 0.36363636363636365\n",
            "\u001b[36m(train_mel_spec_model pid=1147)\u001b[0m epoch: 17, batch_id: 0, loss: 1.5822843313217163\n"
          ]
        },
        {
          "output_type": "stream",
          "name": "stderr",
          "text": [
            "\u001b[36m(train_mel_spec_model pid=1147)\u001b[0m Checkpoint successfully created at: Checkpoint(filesystem=local, path=/root/ray_results/train_mel_spec_model_2024-04-11_03-45-31/train_mel_spec_model_f562d_00000_0_batch_size=30,l1=550,l2=15,lr=0.0002,num_epochs=35_2024-04-11_03-45-37/checkpoint_000016)\n"
          ]
        },
        {
          "output_type": "stream",
          "name": "stdout",
          "text": [
            "\u001b[36m(train_mel_spec_model pid=1147)\u001b[0m epoch: 17, batch_id: 1, loss: 1.5196285247802734\n",
            "\u001b[36m(train_mel_spec_model pid=1147)\u001b[0m epoch: 17, batch_id: 2, loss: 1.6924986839294434\n",
            "\u001b[36m(train_mel_spec_model pid=1147)\u001b[0m epoch: 17, batch_id: 3, loss: 1.775652527809143\n",
            "\u001b[36m(train_mel_spec_model pid=1147)\u001b[0m epoch: 17, batch_id: 4, loss: 1.4898401498794556\n",
            "\u001b[36m(train_mel_spec_model pid=1147)\u001b[0m epoch: 17, batch_id: 5, loss: 1.3863276243209839\n",
            "\u001b[36m(train_mel_spec_model pid=1147)\u001b[0m epoch: 17, batch_id: 6, loss: 1.3933069705963135\n",
            "\u001b[36m(train_mel_spec_model pid=1147)\u001b[0m epoch: 17, batch_id: 7, loss: 1.531383752822876\n",
            "\u001b[36m(train_mel_spec_model pid=1147)\u001b[0m epoch: 17, batch_id: 8, loss: 1.6676106452941895\n",
            "\u001b[36m(train_mel_spec_model pid=1147)\u001b[0m epoch: 17, batch_id: 9, loss: 1.730804443359375\n",
            "\u001b[36m(train_mel_spec_model pid=1147)\u001b[0m epoch: 17, batch_id: 10, loss: 1.343913197517395\n",
            "\u001b[36m(train_mel_spec_model pid=1147)\u001b[0m epoch: 17, batch_id: 11, loss: 1.62090003490448\n",
            "\u001b[36m(train_mel_spec_model pid=1147)\u001b[0m epoch: 17, batch_id: 12, loss: 1.3979547023773193\n",
            "Trial status: 1 RUNNING | 4 PENDING\n",
            "Current time: 2024-04-11 03:48:38. Total running time: 3min 0s\n",
            "Logical resource usage: 2.0/2 CPUs, 1.0/1 GPUs (0.0/1.0 accelerator_type:T4)\n",
            "Current best trial: f562d_00000 with loss=1.8005496263504028 and params={'l1': 550, 'l2': 15, 'lr': 0.00019002025558777404, 'batch_size': 30, 'num_epochs': 35}\n",
            "+----------------------------------------------------------------------------------------------------------------------------------------------------------+\n",
            "| Trial name                         status       l1     l2            lr     batch_size     num_epochs     iter     total time (s)      loss     accuracy |\n",
            "+----------------------------------------------------------------------------------------------------------------------------------------------------------+\n",
            "| train_mel_spec_model_f562d_00000   RUNNING     550     15   0.00019002              30             35       17            173.275   1.80055     0.363636 |\n",
            "| train_mel_spec_model_f562d_00001   PENDING     700      5   0.0185484               45             35                                                    |\n",
            "| train_mel_spec_model_f562d_00002   PENDING     950     10   0.0017086               30             25                                                    |\n",
            "| train_mel_spec_model_f562d_00003   PENDING     450     10   0.000373188             35             35                                                    |\n",
            "| train_mel_spec_model_f562d_00004   PENDING     800     10   0.00014823               5             35                                                    |\n",
            "+----------------------------------------------------------------------------------------------------------------------------------------------------------+\n",
            "\u001b[36m(train_mel_spec_model pid=1147)\u001b[0m epoch: 17, batch_id: 13, loss: 1.3601117134094238\n",
            "\u001b[36m(train_mel_spec_model pid=1147)\u001b[0m epoch: 17, batch_id: 14, loss: 1.5361422300338745\n",
            "\u001b[36m(train_mel_spec_model pid=1147)\u001b[0m epoch: 17, batch_id: 15, loss: 1.55823814868927\n",
            "\u001b[36m(train_mel_spec_model pid=1147)\u001b[0m epoch: 17, batch_id: 16, loss: 1.358858346939087\n",
            "\u001b[36m(train_mel_spec_model pid=1147)\u001b[0m epoch: 17, batch_id: 17, loss: 1.4989925622940063\n",
            "\u001b[36m(train_mel_spec_model pid=1147)\u001b[0m epoch: 17, batch_id: 18, loss: 1.323283076286316\n",
            "\u001b[36m(train_mel_spec_model pid=1147)\u001b[0m epoch: 17, batch_id: 19, loss: 1.3192704916000366\n",
            "\u001b[36m(train_mel_spec_model pid=1147)\u001b[0m epoch: 17, batch_id: 20, loss: 1.3630210161209106\n",
            "\u001b[36m(train_mel_spec_model pid=1147)\u001b[0m epoch: 17, batch_id: 21, loss: 1.6718523502349854\n",
            "\u001b[36m(train_mel_spec_model pid=1147)\u001b[0m epoch: 17, batch_id: 22, loss: 1.3484820127487183\n",
            "\u001b[36m(train_mel_spec_model pid=1147)\u001b[0m epoch: 17, batch_id: 23, loss: 1.3683148622512817\n",
            "\u001b[36m(train_mel_spec_model pid=1147)\u001b[0m epoch: 17, batch_id: 24, loss: 1.720109462738037\n",
            "\u001b[36m(train_mel_spec_model pid=1147)\u001b[0m epoch: 17, batch_id: 25, loss: 1.3987191915512085\n",
            "\u001b[36m(train_mel_spec_model pid=1147)\u001b[0m epoch: 17, batch_id: 26, loss: 1.7928372621536255\n",
            "\u001b[36m(train_mel_spec_model pid=1147)\u001b[0m Validation Loss: 1.6967546343803406, Accuracy: 0.42424242424242425\n",
            "\u001b[36m(train_mel_spec_model pid=1147)\u001b[0m epoch: 18, batch_id: 0, loss: 1.5306169986724854\n",
            "\u001b[36m(train_mel_spec_model pid=1147)\u001b[0m epoch: 18, batch_id: 1, loss: 1.3812235593795776\n"
          ]
        },
        {
          "output_type": "stream",
          "name": "stderr",
          "text": [
            "\u001b[36m(train_mel_spec_model pid=1147)\u001b[0m Checkpoint successfully created at: Checkpoint(filesystem=local, path=/root/ray_results/train_mel_spec_model_2024-04-11_03-45-31/train_mel_spec_model_f562d_00000_0_batch_size=30,l1=550,l2=15,lr=0.0002,num_epochs=35_2024-04-11_03-45-37/checkpoint_000017)\n"
          ]
        },
        {
          "output_type": "stream",
          "name": "stdout",
          "text": [
            "\u001b[36m(train_mel_spec_model pid=1147)\u001b[0m epoch: 18, batch_id: 2, loss: 1.3540191650390625\n",
            "\u001b[36m(train_mel_spec_model pid=1147)\u001b[0m epoch: 18, batch_id: 3, loss: 1.7967485189437866\n",
            "\u001b[36m(train_mel_spec_model pid=1147)\u001b[0m epoch: 18, batch_id: 4, loss: 1.599049687385559\n",
            "\u001b[36m(train_mel_spec_model pid=1147)\u001b[0m epoch: 18, batch_id: 5, loss: 1.2029787302017212\n",
            "\u001b[36m(train_mel_spec_model pid=1147)\u001b[0m epoch: 18, batch_id: 6, loss: 1.2004127502441406\n",
            "\u001b[36m(train_mel_spec_model pid=1147)\u001b[0m epoch: 18, batch_id: 7, loss: 1.466635823249817\n",
            "\u001b[36m(train_mel_spec_model pid=1147)\u001b[0m epoch: 18, batch_id: 8, loss: 1.2784702777862549\n",
            "\u001b[36m(train_mel_spec_model pid=1147)\u001b[0m epoch: 18, batch_id: 9, loss: 1.394197940826416\n",
            "\u001b[36m(train_mel_spec_model pid=1147)\u001b[0m epoch: 18, batch_id: 10, loss: 1.6547489166259766\n",
            "\u001b[36m(train_mel_spec_model pid=1147)\u001b[0m epoch: 18, batch_id: 11, loss: 1.3877540826797485\n",
            "\u001b[36m(train_mel_spec_model pid=1147)\u001b[0m epoch: 18, batch_id: 12, loss: 1.463405966758728\n",
            "\u001b[36m(train_mel_spec_model pid=1147)\u001b[0m epoch: 18, batch_id: 13, loss: 1.4369770288467407\n",
            "\u001b[36m(train_mel_spec_model pid=1147)\u001b[0m epoch: 18, batch_id: 14, loss: 1.3652461767196655\n",
            "\u001b[36m(train_mel_spec_model pid=1147)\u001b[0m epoch: 18, batch_id: 15, loss: 1.4602417945861816\n",
            "\u001b[36m(train_mel_spec_model pid=1147)\u001b[0m epoch: 18, batch_id: 16, loss: 1.3276594877243042\n",
            "\u001b[36m(train_mel_spec_model pid=1147)\u001b[0m epoch: 18, batch_id: 17, loss: 1.4315286874771118\n",
            "\u001b[36m(train_mel_spec_model pid=1147)\u001b[0m epoch: 18, batch_id: 18, loss: 1.706389307975769\n",
            "\u001b[36m(train_mel_spec_model pid=1147)\u001b[0m epoch: 18, batch_id: 19, loss: 1.5800620317459106\n",
            "\u001b[36m(train_mel_spec_model pid=1147)\u001b[0m epoch: 18, batch_id: 20, loss: 1.40859854221344\n",
            "\u001b[36m(train_mel_spec_model pid=1147)\u001b[0m epoch: 18, batch_id: 21, loss: 1.4949971437454224\n",
            "\u001b[36m(train_mel_spec_model pid=1147)\u001b[0m epoch: 18, batch_id: 22, loss: 1.5354760885238647\n",
            "\u001b[36m(train_mel_spec_model pid=1147)\u001b[0m epoch: 18, batch_id: 23, loss: 1.1979389190673828\n",
            "\u001b[36m(train_mel_spec_model pid=1147)\u001b[0m epoch: 18, batch_id: 24, loss: 1.355073094367981\n",
            "\u001b[36m(train_mel_spec_model pid=1147)\u001b[0m epoch: 18, batch_id: 25, loss: 1.2904269695281982\n",
            "\u001b[36m(train_mel_spec_model pid=1147)\u001b[0m epoch: 18, batch_id: 26, loss: 1.2213062047958374\n"
          ]
        },
        {
          "output_type": "stream",
          "name": "stderr",
          "text": [
            "\u001b[36m(train_mel_spec_model pid=1147)\u001b[0m Checkpoint successfully created at: Checkpoint(filesystem=local, path=/root/ray_results/train_mel_spec_model_2024-04-11_03-45-31/train_mel_spec_model_f562d_00000_0_batch_size=30,l1=550,l2=15,lr=0.0002,num_epochs=35_2024-04-11_03-45-37/checkpoint_000018)\n"
          ]
        },
        {
          "output_type": "stream",
          "name": "stdout",
          "text": [
            "\u001b[36m(train_mel_spec_model pid=1147)\u001b[0m Validation Loss: 1.6091322898864746, Accuracy: 0.42424242424242425\n",
            "\u001b[36m(train_mel_spec_model pid=1147)\u001b[0m epoch: 19, batch_id: 0, loss: 1.4874470233917236\n",
            "\u001b[36m(train_mel_spec_model pid=1147)\u001b[0m epoch: 19, batch_id: 1, loss: 1.5442222356796265\n",
            "\u001b[36m(train_mel_spec_model pid=1147)\u001b[0m epoch: 19, batch_id: 2, loss: 1.330264687538147\n",
            "\u001b[36m(train_mel_spec_model pid=1147)\u001b[0m epoch: 19, batch_id: 3, loss: 1.4005324840545654\n",
            "\u001b[36m(train_mel_spec_model pid=1147)\u001b[0m epoch: 19, batch_id: 4, loss: 1.3837265968322754\n",
            "\u001b[36m(train_mel_spec_model pid=1147)\u001b[0m epoch: 19, batch_id: 5, loss: 1.682680368423462\n",
            "\u001b[36m(train_mel_spec_model pid=1147)\u001b[0m epoch: 19, batch_id: 6, loss: 1.5103096961975098\n",
            "\u001b[36m(train_mel_spec_model pid=1147)\u001b[0m epoch: 19, batch_id: 7, loss: 1.252449870109558\n",
            "\u001b[36m(train_mel_spec_model pid=1147)\u001b[0m epoch: 19, batch_id: 8, loss: 1.0840123891830444\n",
            "\u001b[36m(train_mel_spec_model pid=1147)\u001b[0m epoch: 19, batch_id: 9, loss: 1.2744115591049194\n",
            "\u001b[36m(train_mel_spec_model pid=1147)\u001b[0m epoch: 19, batch_id: 10, loss: 1.4601165056228638\n",
            "\u001b[36m(train_mel_spec_model pid=1147)\u001b[0m epoch: 19, batch_id: 11, loss: 1.604533314704895\n",
            "\u001b[36m(train_mel_spec_model pid=1147)\u001b[0m epoch: 19, batch_id: 12, loss: 1.3012744188308716\n",
            "\u001b[36m(train_mel_spec_model pid=1147)\u001b[0m epoch: 19, batch_id: 13, loss: 1.3467583656311035\n",
            "\u001b[36m(train_mel_spec_model pid=1147)\u001b[0m epoch: 19, batch_id: 14, loss: 1.220759630203247\n",
            "\u001b[36m(train_mel_spec_model pid=1147)\u001b[0m epoch: 19, batch_id: 15, loss: 1.2659307718276978\n",
            "\u001b[36m(train_mel_spec_model pid=1147)\u001b[0m epoch: 19, batch_id: 16, loss: 1.1526521444320679\n",
            "\u001b[36m(train_mel_spec_model pid=1147)\u001b[0m epoch: 19, batch_id: 17, loss: 1.3455443382263184\n",
            "\u001b[36m(train_mel_spec_model pid=1147)\u001b[0m epoch: 19, batch_id: 18, loss: 1.5226995944976807\n",
            "\u001b[36m(train_mel_spec_model pid=1147)\u001b[0m epoch: 19, batch_id: 19, loss: 1.5461982488632202\n",
            "\u001b[36m(train_mel_spec_model pid=1147)\u001b[0m epoch: 19, batch_id: 20, loss: 1.1676177978515625\n",
            "\u001b[36m(train_mel_spec_model pid=1147)\u001b[0m epoch: 19, batch_id: 21, loss: 1.2388603687286377\n",
            "\u001b[36m(train_mel_spec_model pid=1147)\u001b[0m epoch: 19, batch_id: 22, loss: 1.361142635345459\n",
            "\u001b[36m(train_mel_spec_model pid=1147)\u001b[0m epoch: 19, batch_id: 23, loss: 1.4882168769836426\n",
            "\u001b[36m(train_mel_spec_model pid=1147)\u001b[0m epoch: 19, batch_id: 24, loss: 1.5084689855575562\n",
            "\u001b[36m(train_mel_spec_model pid=1147)\u001b[0m epoch: 19, batch_id: 25, loss: 1.2800850868225098\n",
            "\u001b[36m(train_mel_spec_model pid=1147)\u001b[0m epoch: 19, batch_id: 26, loss: 1.364570140838623\n",
            "\u001b[36m(train_mel_spec_model pid=1147)\u001b[0m Validation Loss: 1.704575389623642, Accuracy: 0.40404040404040403\n",
            "\u001b[36m(train_mel_spec_model pid=1147)\u001b[0m epoch: 20, batch_id: 0, loss: 1.3600739240646362\n",
            "\u001b[36m(train_mel_spec_model pid=1147)\u001b[0m epoch: 20, batch_id: 1, loss: 1.3277841806411743\n",
            "\u001b[36m(train_mel_spec_model pid=1147)\u001b[0m epoch: 20, batch_id: 2, loss: 1.3171274662017822\n"
          ]
        },
        {
          "output_type": "stream",
          "name": "stderr",
          "text": [
            "\u001b[36m(train_mel_spec_model pid=1147)\u001b[0m Checkpoint successfully created at: Checkpoint(filesystem=local, path=/root/ray_results/train_mel_spec_model_2024-04-11_03-45-31/train_mel_spec_model_f562d_00000_0_batch_size=30,l1=550,l2=15,lr=0.0002,num_epochs=35_2024-04-11_03-45-37/checkpoint_000019)\n"
          ]
        },
        {
          "output_type": "stream",
          "name": "stdout",
          "text": [
            "\u001b[36m(train_mel_spec_model pid=1147)\u001b[0m epoch: 20, batch_id: 3, loss: 1.3913309574127197\n",
            "\u001b[36m(train_mel_spec_model pid=1147)\u001b[0m epoch: 20, batch_id: 4, loss: 1.335157871246338\n",
            "\u001b[36m(train_mel_spec_model pid=1147)\u001b[0m epoch: 20, batch_id: 5, loss: 1.336856722831726\n",
            "\u001b[36m(train_mel_spec_model pid=1147)\u001b[0m epoch: 20, batch_id: 6, loss: 1.31574547290802\n",
            "\u001b[36m(train_mel_spec_model pid=1147)\u001b[0m epoch: 20, batch_id: 7, loss: 1.1728649139404297\n",
            "\u001b[36m(train_mel_spec_model pid=1147)\u001b[0m epoch: 20, batch_id: 8, loss: 1.4435348510742188\n",
            "\u001b[36m(train_mel_spec_model pid=1147)\u001b[0m epoch: 20, batch_id: 9, loss: 1.2434593439102173\n",
            "\u001b[36m(train_mel_spec_model pid=1147)\u001b[0m epoch: 20, batch_id: 10, loss: 1.31460702419281\n",
            "\u001b[36m(train_mel_spec_model pid=1147)\u001b[0m epoch: 20, batch_id: 11, loss: 1.2436493635177612\n",
            "\u001b[36m(train_mel_spec_model pid=1147)\u001b[0m epoch: 20, batch_id: 12, loss: 1.2024636268615723\n",
            "\u001b[36m(train_mel_spec_model pid=1147)\u001b[0m epoch: 20, batch_id: 13, loss: 1.113903522491455\n",
            "\u001b[36m(train_mel_spec_model pid=1147)\u001b[0m epoch: 20, batch_id: 14, loss: 1.3534196615219116\n",
            "\u001b[36m(train_mel_spec_model pid=1147)\u001b[0m epoch: 20, batch_id: 15, loss: 1.296844720840454\n",
            "\u001b[36m(train_mel_spec_model pid=1147)\u001b[0m epoch: 20, batch_id: 16, loss: 1.341706395149231\n",
            "\u001b[36m(train_mel_spec_model pid=1147)\u001b[0m epoch: 20, batch_id: 17, loss: 1.2035187482833862\n",
            "\u001b[36m(train_mel_spec_model pid=1147)\u001b[0m epoch: 20, batch_id: 18, loss: 1.2108676433563232\n",
            "\u001b[36m(train_mel_spec_model pid=1147)\u001b[0m epoch: 20, batch_id: 19, loss: 1.253795862197876\n",
            "\u001b[36m(train_mel_spec_model pid=1147)\u001b[0m epoch: 20, batch_id: 20, loss: 1.1019994020462036\n",
            "\u001b[36m(train_mel_spec_model pid=1147)\u001b[0m epoch: 20, batch_id: 21, loss: 1.3078055381774902\n",
            "\u001b[36m(train_mel_spec_model pid=1147)\u001b[0m epoch: 20, batch_id: 22, loss: 1.23752760887146\n",
            "\u001b[36m(train_mel_spec_model pid=1147)\u001b[0m epoch: 20, batch_id: 23, loss: 1.2366923093795776\n",
            "\u001b[36m(train_mel_spec_model pid=1147)\u001b[0m epoch: 20, batch_id: 24, loss: 1.1173760890960693\n",
            "\u001b[36m(train_mel_spec_model pid=1147)\u001b[0m epoch: 20, batch_id: 25, loss: 1.3651902675628662\n",
            "\u001b[36m(train_mel_spec_model pid=1147)\u001b[0m epoch: 20, batch_id: 26, loss: 1.2383724451065063\n",
            "\u001b[36m(train_mel_spec_model pid=1147)\u001b[0m Validation Loss: 1.7035711705684662, Accuracy: 0.42424242424242425\n",
            "\u001b[36m(train_mel_spec_model pid=1147)\u001b[0m epoch: 21, batch_id: 0, loss: 1.2271755933761597\n",
            "\u001b[36m(train_mel_spec_model pid=1147)\u001b[0m epoch: 21, batch_id: 1, loss: 1.2451857328414917\n"
          ]
        },
        {
          "output_type": "stream",
          "name": "stderr",
          "text": [
            "\u001b[36m(train_mel_spec_model pid=1147)\u001b[0m Checkpoint successfully created at: Checkpoint(filesystem=local, path=/root/ray_results/train_mel_spec_model_2024-04-11_03-45-31/train_mel_spec_model_f562d_00000_0_batch_size=30,l1=550,l2=15,lr=0.0002,num_epochs=35_2024-04-11_03-45-37/checkpoint_000020)\n"
          ]
        },
        {
          "output_type": "stream",
          "name": "stdout",
          "text": [
            "\u001b[36m(train_mel_spec_model pid=1147)\u001b[0m epoch: 21, batch_id: 2, loss: 1.1896843910217285\n",
            "\u001b[36m(train_mel_spec_model pid=1147)\u001b[0m epoch: 21, batch_id: 3, loss: 1.1735426187515259\n",
            "\u001b[36m(train_mel_spec_model pid=1147)\u001b[0m epoch: 21, batch_id: 4, loss: 1.1450095176696777\n",
            "\u001b[36m(train_mel_spec_model pid=1147)\u001b[0m epoch: 21, batch_id: 5, loss: 1.606992483139038\n",
            "\u001b[36m(train_mel_spec_model pid=1147)\u001b[0m epoch: 21, batch_id: 6, loss: 1.2888985872268677\n",
            "\u001b[36m(train_mel_spec_model pid=1147)\u001b[0m epoch: 21, batch_id: 7, loss: 1.189098596572876\n",
            "\u001b[36m(train_mel_spec_model pid=1147)\u001b[0m epoch: 21, batch_id: 8, loss: 1.1039390563964844\n",
            "\u001b[36m(train_mel_spec_model pid=1147)\u001b[0m epoch: 21, batch_id: 9, loss: 1.6179858446121216\n",
            "\u001b[36m(train_mel_spec_model pid=1147)\u001b[0m epoch: 21, batch_id: 10, loss: 1.2234851121902466\n",
            "\u001b[36m(train_mel_spec_model pid=1147)\u001b[0m epoch: 21, batch_id: 11, loss: 1.2409220933914185\n",
            "\u001b[36m(train_mel_spec_model pid=1147)\u001b[0m epoch: 21, batch_id: 12, loss: 1.2012280225753784\n",
            "\u001b[36m(train_mel_spec_model pid=1147)\u001b[0m epoch: 21, batch_id: 13, loss: 1.200211763381958\n",
            "\u001b[36m(train_mel_spec_model pid=1147)\u001b[0m epoch: 21, batch_id: 14, loss: 1.2589890956878662\n",
            "\u001b[36m(train_mel_spec_model pid=1147)\u001b[0m epoch: 21, batch_id: 15, loss: 1.6357043981552124\n",
            "\u001b[36m(train_mel_spec_model pid=1147)\u001b[0m epoch: 21, batch_id: 16, loss: 1.0863347053527832\n",
            "\u001b[36m(train_mel_spec_model pid=1147)\u001b[0m epoch: 21, batch_id: 17, loss: 1.1869162321090698\n",
            "\u001b[36m(train_mel_spec_model pid=1147)\u001b[0m epoch: 21, batch_id: 18, loss: 1.2044873237609863\n",
            "\u001b[36m(train_mel_spec_model pid=1147)\u001b[0m epoch: 21, batch_id: 19, loss: 1.2016575336456299\n",
            "\u001b[36m(train_mel_spec_model pid=1147)\u001b[0m epoch: 21, batch_id: 20, loss: 1.1012603044509888\n",
            "\u001b[36m(train_mel_spec_model pid=1147)\u001b[0m epoch: 21, batch_id: 21, loss: 1.0929081439971924\n",
            "\u001b[36m(train_mel_spec_model pid=1147)\u001b[0m epoch: 21, batch_id: 22, loss: 1.0960261821746826\n",
            "\u001b[36m(train_mel_spec_model pid=1147)\u001b[0m epoch: 21, batch_id: 23, loss: 1.2770026922225952\n",
            "\u001b[36m(train_mel_spec_model pid=1147)\u001b[0m epoch: 21, batch_id: 24, loss: 1.0560425519943237\n",
            "\u001b[36m(train_mel_spec_model pid=1147)\u001b[0m epoch: 21, batch_id: 25, loss: 1.0639516115188599\n",
            "\u001b[36m(train_mel_spec_model pid=1147)\u001b[0m epoch: 21, batch_id: 26, loss: 1.1935827732086182\n"
          ]
        },
        {
          "output_type": "stream",
          "name": "stderr",
          "text": [
            "\u001b[36m(train_mel_spec_model pid=1147)\u001b[0m Checkpoint successfully created at: Checkpoint(filesystem=local, path=/root/ray_results/train_mel_spec_model_2024-04-11_03-45-31/train_mel_spec_model_f562d_00000_0_batch_size=30,l1=550,l2=15,lr=0.0002,num_epochs=35_2024-04-11_03-45-37/checkpoint_000021)\n"
          ]
        },
        {
          "output_type": "stream",
          "name": "stdout",
          "text": [
            "\u001b[36m(train_mel_spec_model pid=1147)\u001b[0m Validation Loss: 1.6301157474517822, Accuracy: 0.42424242424242425\n",
            "\u001b[36m(train_mel_spec_model pid=1147)\u001b[0m epoch: 22, batch_id: 0, loss: 1.2956316471099854\n",
            "\u001b[36m(train_mel_spec_model pid=1147)\u001b[0m epoch: 22, batch_id: 1, loss: 1.10685396194458\n",
            "\u001b[36m(train_mel_spec_model pid=1147)\u001b[0m epoch: 22, batch_id: 2, loss: 1.085381031036377\n",
            "\u001b[36m(train_mel_spec_model pid=1147)\u001b[0m epoch: 22, batch_id: 3, loss: 1.0588250160217285\n",
            "\u001b[36m(train_mel_spec_model pid=1147)\u001b[0m epoch: 22, batch_id: 4, loss: 1.3004347085952759\n",
            "\u001b[36m(train_mel_spec_model pid=1147)\u001b[0m epoch: 22, batch_id: 5, loss: 1.2494902610778809\n",
            "\u001b[36m(train_mel_spec_model pid=1147)\u001b[0m epoch: 22, batch_id: 6, loss: 1.0023448467254639\n",
            "\u001b[36m(train_mel_spec_model pid=1147)\u001b[0m epoch: 22, batch_id: 7, loss: 1.2004435062408447\n",
            "\u001b[36m(train_mel_spec_model pid=1147)\u001b[0m epoch: 22, batch_id: 8, loss: 1.3373713493347168\n",
            "\u001b[36m(train_mel_spec_model pid=1147)\u001b[0m epoch: 22, batch_id: 9, loss: 0.9170883297920227\n",
            "\u001b[36m(train_mel_spec_model pid=1147)\u001b[0m epoch: 22, batch_id: 10, loss: 1.5211710929870605\n",
            "\u001b[36m(train_mel_spec_model pid=1147)\u001b[0m epoch: 22, batch_id: 11, loss: 1.249193787574768\n",
            "\u001b[36m(train_mel_spec_model pid=1147)\u001b[0m epoch: 22, batch_id: 12, loss: 1.6170743703842163\n",
            "\u001b[36m(train_mel_spec_model pid=1147)\u001b[0m epoch: 22, batch_id: 13, loss: 1.0449045896530151\n",
            "\u001b[36m(train_mel_spec_model pid=1147)\u001b[0m epoch: 22, batch_id: 14, loss: 1.0896832942962646\n",
            "\u001b[36m(train_mel_spec_model pid=1147)\u001b[0m epoch: 22, batch_id: 15, loss: 1.1899662017822266\n",
            "\u001b[36m(train_mel_spec_model pid=1147)\u001b[0m epoch: 22, batch_id: 16, loss: 1.0997847318649292\n",
            "\u001b[36m(train_mel_spec_model pid=1147)\u001b[0m epoch: 22, batch_id: 17, loss: 1.152695894241333\n",
            "\u001b[36m(train_mel_spec_model pid=1147)\u001b[0m epoch: 22, batch_id: 18, loss: 1.4202080965042114\n",
            "\u001b[36m(train_mel_spec_model pid=1147)\u001b[0m epoch: 22, batch_id: 19, loss: 1.3858463764190674\n",
            "\u001b[36m(train_mel_spec_model pid=1147)\u001b[0m epoch: 22, batch_id: 20, loss: 1.069761037826538\n",
            "\u001b[36m(train_mel_spec_model pid=1147)\u001b[0m epoch: 22, batch_id: 21, loss: 1.2155108451843262\n",
            "\u001b[36m(train_mel_spec_model pid=1147)\u001b[0m epoch: 22, batch_id: 22, loss: 1.1817368268966675\n",
            "\u001b[36m(train_mel_spec_model pid=1147)\u001b[0m epoch: 22, batch_id: 23, loss: 1.0978474617004395\n",
            "\u001b[36m(train_mel_spec_model pid=1147)\u001b[0m epoch: 22, batch_id: 24, loss: 1.1305899620056152\n",
            "\u001b[36m(train_mel_spec_model pid=1147)\u001b[0m epoch: 22, batch_id: 25, loss: 1.1319700479507446\n",
            "\u001b[36m(train_mel_spec_model pid=1147)\u001b[0m epoch: 22, batch_id: 26, loss: 1.178062081336975\n",
            "\u001b[36m(train_mel_spec_model pid=1147)\u001b[0m Validation Loss: 1.5239122807979584, Accuracy: 0.45454545454545453\n",
            "\u001b[36m(train_mel_spec_model pid=1147)\u001b[0m epoch: 23, batch_id: 0, loss: 1.2293931245803833\n",
            "\u001b[36m(train_mel_spec_model pid=1147)\u001b[0m epoch: 23, batch_id: 1, loss: 1.067284345626831\n"
          ]
        },
        {
          "output_type": "stream",
          "name": "stderr",
          "text": [
            "\u001b[36m(train_mel_spec_model pid=1147)\u001b[0m Checkpoint successfully created at: Checkpoint(filesystem=local, path=/root/ray_results/train_mel_spec_model_2024-04-11_03-45-31/train_mel_spec_model_f562d_00000_0_batch_size=30,l1=550,l2=15,lr=0.0002,num_epochs=35_2024-04-11_03-45-37/checkpoint_000022)\n"
          ]
        },
        {
          "output_type": "stream",
          "name": "stdout",
          "text": [
            "\u001b[36m(train_mel_spec_model pid=1147)\u001b[0m epoch: 23, batch_id: 2, loss: 1.5109652280807495\n",
            "\u001b[36m(train_mel_spec_model pid=1147)\u001b[0m epoch: 23, batch_id: 3, loss: 1.2806928157806396\n",
            "\u001b[36m(train_mel_spec_model pid=1147)\u001b[0m epoch: 23, batch_id: 4, loss: 1.2803897857666016\n",
            "\u001b[36m(train_mel_spec_model pid=1147)\u001b[0m epoch: 23, batch_id: 5, loss: 1.3517197370529175\n",
            "\u001b[36m(train_mel_spec_model pid=1147)\u001b[0m epoch: 23, batch_id: 6, loss: 1.0887484550476074\n",
            "\u001b[36m(train_mel_spec_model pid=1147)\u001b[0m epoch: 23, batch_id: 7, loss: 1.3667359352111816\n",
            "\u001b[36m(train_mel_spec_model pid=1147)\u001b[0m epoch: 23, batch_id: 8, loss: 1.2889771461486816\n",
            "\u001b[36m(train_mel_spec_model pid=1147)\u001b[0m epoch: 23, batch_id: 9, loss: 1.1074267625808716\n",
            "\u001b[36m(train_mel_spec_model pid=1147)\u001b[0m epoch: 23, batch_id: 10, loss: 1.0890830755233765\n",
            "\u001b[36m(train_mel_spec_model pid=1147)\u001b[0m epoch: 23, batch_id: 11, loss: 1.0991618633270264\n",
            "\u001b[36m(train_mel_spec_model pid=1147)\u001b[0m epoch: 23, batch_id: 12, loss: 1.1526347398757935\n",
            "\u001b[36m(train_mel_spec_model pid=1147)\u001b[0m epoch: 23, batch_id: 13, loss: 1.3194719552993774\n",
            "\u001b[36m(train_mel_spec_model pid=1147)\u001b[0m epoch: 23, batch_id: 14, loss: 1.0156420469284058\n",
            "\u001b[36m(train_mel_spec_model pid=1147)\u001b[0m epoch: 23, batch_id: 15, loss: 1.0000450611114502\n",
            "\u001b[36m(train_mel_spec_model pid=1147)\u001b[0m epoch: 23, batch_id: 16, loss: 0.9038280248641968\n",
            "\u001b[36m(train_mel_spec_model pid=1147)\u001b[0m epoch: 23, batch_id: 17, loss: 1.3386234045028687\n",
            "\u001b[36m(train_mel_spec_model pid=1147)\u001b[0m epoch: 23, batch_id: 18, loss: 1.3418004512786865\n",
            "\u001b[36m(train_mel_spec_model pid=1147)\u001b[0m epoch: 23, batch_id: 19, loss: 1.1458827257156372\n",
            "\u001b[36m(train_mel_spec_model pid=1147)\u001b[0m epoch: 23, batch_id: 20, loss: 1.3081927299499512\n",
            "\u001b[36m(train_mel_spec_model pid=1147)\u001b[0m epoch: 23, batch_id: 21, loss: 1.2500135898590088\n",
            "\u001b[36m(train_mel_spec_model pid=1147)\u001b[0m epoch: 23, batch_id: 22, loss: 1.1737004518508911\n",
            "\u001b[36m(train_mel_spec_model pid=1147)\u001b[0m epoch: 23, batch_id: 23, loss: 0.9431082606315613\n",
            "\u001b[36m(train_mel_spec_model pid=1147)\u001b[0m epoch: 23, batch_id: 24, loss: 1.0669472217559814\n",
            "\u001b[36m(train_mel_spec_model pid=1147)\u001b[0m epoch: 23, batch_id: 25, loss: 0.8472387790679932\n",
            "\u001b[36m(train_mel_spec_model pid=1147)\u001b[0m epoch: 23, batch_id: 26, loss: 0.9742912650108337\n",
            "\u001b[36m(train_mel_spec_model pid=1147)\u001b[0m Validation Loss: 1.4031734764575958, Accuracy: 0.46464646464646464\n",
            "\u001b[36m(train_mel_spec_model pid=1147)\u001b[0m epoch: 24, batch_id: 0, loss: 1.0639822483062744\n",
            "\u001b[36m(train_mel_spec_model pid=1147)\u001b[0m epoch: 24, batch_id: 1, loss: 1.1668953895568848\n",
            "\u001b[36m(train_mel_spec_model pid=1147)\u001b[0m epoch: 24, batch_id: 2, loss: 1.223420262336731\n"
          ]
        },
        {
          "output_type": "stream",
          "name": "stderr",
          "text": [
            "\u001b[36m(train_mel_spec_model pid=1147)\u001b[0m Checkpoint successfully created at: Checkpoint(filesystem=local, path=/root/ray_results/train_mel_spec_model_2024-04-11_03-45-31/train_mel_spec_model_f562d_00000_0_batch_size=30,l1=550,l2=15,lr=0.0002,num_epochs=35_2024-04-11_03-45-37/checkpoint_000023)\n"
          ]
        },
        {
          "output_type": "stream",
          "name": "stdout",
          "text": [
            "\u001b[36m(train_mel_spec_model pid=1147)\u001b[0m epoch: 24, batch_id: 3, loss: 0.9304551482200623\n",
            "\u001b[36m(train_mel_spec_model pid=1147)\u001b[0m epoch: 24, batch_id: 4, loss: 0.8680995106697083\n",
            "\u001b[36m(train_mel_spec_model pid=1147)\u001b[0m epoch: 24, batch_id: 5, loss: 0.7899820804595947\n",
            "\u001b[36m(train_mel_spec_model pid=1147)\u001b[0m epoch: 24, batch_id: 6, loss: 1.1335769891738892\n",
            "\u001b[36m(train_mel_spec_model pid=1147)\u001b[0m epoch: 24, batch_id: 7, loss: 0.9528297185897827\n",
            "\u001b[36m(train_mel_spec_model pid=1147)\u001b[0m epoch: 24, batch_id: 8, loss: 0.9267037510871887\n",
            "\u001b[36m(train_mel_spec_model pid=1147)\u001b[0m epoch: 24, batch_id: 9, loss: 0.9171850681304932\n",
            "\u001b[36m(train_mel_spec_model pid=1147)\u001b[0m epoch: 24, batch_id: 10, loss: 1.1203526258468628\n",
            "\u001b[36m(train_mel_spec_model pid=1147)\u001b[0m epoch: 24, batch_id: 11, loss: 1.0943702459335327\n",
            "\u001b[36m(train_mel_spec_model pid=1147)\u001b[0m epoch: 24, batch_id: 12, loss: 0.8253219723701477\n",
            "\u001b[36m(train_mel_spec_model pid=1147)\u001b[0m epoch: 24, batch_id: 13, loss: 0.9735949635505676\n",
            "\u001b[36m(train_mel_spec_model pid=1147)\u001b[0m epoch: 24, batch_id: 14, loss: 0.9588057398796082\n",
            "\u001b[36m(train_mel_spec_model pid=1147)\u001b[0m epoch: 24, batch_id: 15, loss: 0.9515610337257385\n",
            "\u001b[36m(train_mel_spec_model pid=1147)\u001b[0m epoch: 24, batch_id: 16, loss: 1.109009027481079\n",
            "\u001b[36m(train_mel_spec_model pid=1147)\u001b[0m epoch: 24, batch_id: 17, loss: 1.0162596702575684\n",
            "\u001b[36m(train_mel_spec_model pid=1147)\u001b[0m epoch: 24, batch_id: 18, loss: 1.0947356224060059\n",
            "\u001b[36m(train_mel_spec_model pid=1147)\u001b[0m epoch: 24, batch_id: 19, loss: 0.9631697535514832\n",
            "\u001b[36m(train_mel_spec_model pid=1147)\u001b[0m epoch: 24, batch_id: 20, loss: 1.1094670295715332\n",
            "\u001b[36m(train_mel_spec_model pid=1147)\u001b[0m epoch: 24, batch_id: 21, loss: 0.8526502251625061\n",
            "\u001b[36m(train_mel_spec_model pid=1147)\u001b[0m epoch: 24, batch_id: 22, loss: 1.024552345275879\n",
            "\u001b[36m(train_mel_spec_model pid=1147)\u001b[0m epoch: 24, batch_id: 23, loss: 0.9081544876098633\n",
            "\u001b[36m(train_mel_spec_model pid=1147)\u001b[0m epoch: 24, batch_id: 24, loss: 1.0069724321365356\n",
            "\u001b[36m(train_mel_spec_model pid=1147)\u001b[0m epoch: 24, batch_id: 25, loss: 0.9754601716995239\n",
            "\u001b[36m(train_mel_spec_model pid=1147)\u001b[0m epoch: 24, batch_id: 26, loss: 1.2103214263916016\n",
            "\u001b[36m(train_mel_spec_model pid=1147)\u001b[0m Validation Loss: 1.4128807187080383, Accuracy: 0.4444444444444444\n",
            "\u001b[36m(train_mel_spec_model pid=1147)\u001b[0m epoch: 25, batch_id: 0, loss: 0.8356963396072388\n",
            "\u001b[36m(train_mel_spec_model pid=1147)\u001b[0m epoch: 25, batch_id: 1, loss: 0.9085047841072083\n",
            "\u001b[36m(train_mel_spec_model pid=1147)\u001b[0m epoch: 25, batch_id: 2, loss: 0.9205988645553589\n"
          ]
        },
        {
          "output_type": "stream",
          "name": "stderr",
          "text": [
            "\u001b[36m(train_mel_spec_model pid=1147)\u001b[0m Checkpoint successfully created at: Checkpoint(filesystem=local, path=/root/ray_results/train_mel_spec_model_2024-04-11_03-45-31/train_mel_spec_model_f562d_00000_0_batch_size=30,l1=550,l2=15,lr=0.0002,num_epochs=35_2024-04-11_03-45-37/checkpoint_000024)\n"
          ]
        },
        {
          "output_type": "stream",
          "name": "stdout",
          "text": [
            "\u001b[36m(train_mel_spec_model pid=1147)\u001b[0m epoch: 25, batch_id: 3, loss: 0.8529948592185974\n",
            "\u001b[36m(train_mel_spec_model pid=1147)\u001b[0m epoch: 25, batch_id: 4, loss: 0.8974215388298035\n",
            "\u001b[36m(train_mel_spec_model pid=1147)\u001b[0m epoch: 25, batch_id: 5, loss: 1.0836769342422485\n",
            "\u001b[36m(train_mel_spec_model pid=1147)\u001b[0m epoch: 25, batch_id: 6, loss: 0.9840338230133057\n",
            "\u001b[36m(train_mel_spec_model pid=1147)\u001b[0m epoch: 25, batch_id: 7, loss: 1.175087809562683\n",
            "\u001b[36m(train_mel_spec_model pid=1147)\u001b[0m epoch: 25, batch_id: 8, loss: 1.0713202953338623\n",
            "\u001b[36m(train_mel_spec_model pid=1147)\u001b[0m epoch: 25, batch_id: 9, loss: 1.1334584951400757\n",
            "\u001b[36m(train_mel_spec_model pid=1147)\u001b[0m epoch: 25, batch_id: 10, loss: 1.3628820180892944\n",
            "\u001b[36m(train_mel_spec_model pid=1147)\u001b[0m epoch: 25, batch_id: 11, loss: 1.0424845218658447\n",
            "\u001b[36m(train_mel_spec_model pid=1147)\u001b[0m epoch: 25, batch_id: 12, loss: 1.168383002281189\n",
            "\u001b[36m(train_mel_spec_model pid=1147)\u001b[0m epoch: 25, batch_id: 13, loss: 1.0335379838943481\n",
            "\u001b[36m(train_mel_spec_model pid=1147)\u001b[0m epoch: 25, batch_id: 14, loss: 1.4473795890808105\n",
            "\u001b[36m(train_mel_spec_model pid=1147)\u001b[0m epoch: 25, batch_id: 15, loss: 1.1560906171798706\n",
            "\u001b[36m(train_mel_spec_model pid=1147)\u001b[0m epoch: 25, batch_id: 16, loss: 1.0419009923934937\n",
            "\u001b[36m(train_mel_spec_model pid=1147)\u001b[0m epoch: 25, batch_id: 17, loss: 1.0864474773406982\n",
            "\u001b[36m(train_mel_spec_model pid=1147)\u001b[0m epoch: 25, batch_id: 18, loss: 1.0449731349945068\n",
            "\u001b[36m(train_mel_spec_model pid=1147)\u001b[0m epoch: 25, batch_id: 19, loss: 0.933327317237854\n",
            "\u001b[36m(train_mel_spec_model pid=1147)\u001b[0m epoch: 25, batch_id: 20, loss: 0.8606056571006775\n",
            "\u001b[36m(train_mel_spec_model pid=1147)\u001b[0m epoch: 25, batch_id: 21, loss: 1.123121976852417\n",
            "\u001b[36m(train_mel_spec_model pid=1147)\u001b[0m epoch: 25, batch_id: 22, loss: 0.8066187500953674\n",
            "\u001b[36m(train_mel_spec_model pid=1147)\u001b[0m epoch: 25, batch_id: 23, loss: 0.9864113926887512\n",
            "\u001b[36m(train_mel_spec_model pid=1147)\u001b[0m epoch: 25, batch_id: 24, loss: 0.7893499732017517\n",
            "\u001b[36m(train_mel_spec_model pid=1147)\u001b[0m epoch: 25, batch_id: 25, loss: 0.774025022983551\n",
            "\u001b[36m(train_mel_spec_model pid=1147)\u001b[0m epoch: 25, batch_id: 26, loss: 1.2292351722717285\n"
          ]
        },
        {
          "output_type": "stream",
          "name": "stderr",
          "text": [
            "\u001b[36m(train_mel_spec_model pid=1147)\u001b[0m Checkpoint successfully created at: Checkpoint(filesystem=local, path=/root/ray_results/train_mel_spec_model_2024-04-11_03-45-31/train_mel_spec_model_f562d_00000_0_batch_size=30,l1=550,l2=15,lr=0.0002,num_epochs=35_2024-04-11_03-45-37/checkpoint_000025)\n"
          ]
        },
        {
          "output_type": "stream",
          "name": "stdout",
          "text": [
            "\u001b[36m(train_mel_spec_model pid=1147)\u001b[0m Validation Loss: 1.569265902042389, Accuracy: 0.46464646464646464\n",
            "\u001b[36m(train_mel_spec_model pid=1147)\u001b[0m epoch: 26, batch_id: 0, loss: 0.9647718071937561\n",
            "\u001b[36m(train_mel_spec_model pid=1147)\u001b[0m epoch: 26, batch_id: 1, loss: 1.0349737405776978\n",
            "\u001b[36m(train_mel_spec_model pid=1147)\u001b[0m epoch: 26, batch_id: 2, loss: 0.9497734308242798\n",
            "\u001b[36m(train_mel_spec_model pid=1147)\u001b[0m epoch: 26, batch_id: 3, loss: 0.7418791651725769\n",
            "\u001b[36m(train_mel_spec_model pid=1147)\u001b[0m epoch: 26, batch_id: 4, loss: 0.8377661108970642\n",
            "\u001b[36m(train_mel_spec_model pid=1147)\u001b[0m epoch: 26, batch_id: 5, loss: 0.8941735625267029\n",
            "\u001b[36m(train_mel_spec_model pid=1147)\u001b[0m epoch: 26, batch_id: 6, loss: 1.0285241603851318\n",
            "\u001b[36m(train_mel_spec_model pid=1147)\u001b[0m epoch: 26, batch_id: 7, loss: 0.9506086707115173\n",
            "\u001b[36m(train_mel_spec_model pid=1147)\u001b[0m epoch: 26, batch_id: 8, loss: 0.9994860887527466\n",
            "\u001b[36m(train_mel_spec_model pid=1147)\u001b[0m epoch: 26, batch_id: 9, loss: 0.8930206894874573\n",
            "\u001b[36m(train_mel_spec_model pid=1147)\u001b[0m epoch: 26, batch_id: 10, loss: 0.9693711996078491\n",
            "\u001b[36m(train_mel_spec_model pid=1147)\u001b[0m epoch: 26, batch_id: 11, loss: 1.1102010011672974\n",
            "\u001b[36m(train_mel_spec_model pid=1147)\u001b[0m epoch: 26, batch_id: 12, loss: 1.295959711074829\n",
            "\u001b[36m(train_mel_spec_model pid=1147)\u001b[0m epoch: 26, batch_id: 13, loss: 0.7370344400405884\n",
            "\u001b[36m(train_mel_spec_model pid=1147)\u001b[0m epoch: 26, batch_id: 14, loss: 0.8113524317741394\n",
            "\u001b[36m(train_mel_spec_model pid=1147)\u001b[0m epoch: 26, batch_id: 15, loss: 0.9127892851829529\n",
            "\u001b[36m(train_mel_spec_model pid=1147)\u001b[0m epoch: 26, batch_id: 16, loss: 0.852253258228302\n",
            "\u001b[36m(train_mel_spec_model pid=1147)\u001b[0m epoch: 26, batch_id: 17, loss: 1.2087534666061401\n",
            "\u001b[36m(train_mel_spec_model pid=1147)\u001b[0m epoch: 26, batch_id: 18, loss: 0.5949147343635559\n",
            "\u001b[36m(train_mel_spec_model pid=1147)\u001b[0m epoch: 26, batch_id: 19, loss: 1.0411560535430908\n",
            "\u001b[36m(train_mel_spec_model pid=1147)\u001b[0m epoch: 26, batch_id: 20, loss: 0.8562913537025452\n",
            "\u001b[36m(train_mel_spec_model pid=1147)\u001b[0m epoch: 26, batch_id: 21, loss: 0.9060044884681702\n",
            "\u001b[36m(train_mel_spec_model pid=1147)\u001b[0m epoch: 26, batch_id: 22, loss: 0.772710382938385\n",
            "\u001b[36m(train_mel_spec_model pid=1147)\u001b[0m epoch: 26, batch_id: 23, loss: 0.857988178730011\n",
            "\u001b[36m(train_mel_spec_model pid=1147)\u001b[0m epoch: 26, batch_id: 24, loss: 0.904900312423706\n",
            "\u001b[36m(train_mel_spec_model pid=1147)\u001b[0m epoch: 26, batch_id: 25, loss: 1.0681564807891846\n",
            "\u001b[36m(train_mel_spec_model pid=1147)\u001b[0m epoch: 26, batch_id: 26, loss: 0.7270409464836121\n",
            "\u001b[36m(train_mel_spec_model pid=1147)\u001b[0m Validation Loss: 1.5011733174324036, Accuracy: 0.48484848484848486\n",
            "\u001b[36m(train_mel_spec_model pid=1147)\u001b[0m epoch: 27, batch_id: 0, loss: 0.7186787724494934\n",
            "\u001b[36m(train_mel_spec_model pid=1147)\u001b[0m epoch: 27, batch_id: 1, loss: 1.1390080451965332\n"
          ]
        },
        {
          "output_type": "stream",
          "name": "stderr",
          "text": [
            "\u001b[36m(train_mel_spec_model pid=1147)\u001b[0m Checkpoint successfully created at: Checkpoint(filesystem=local, path=/root/ray_results/train_mel_spec_model_2024-04-11_03-45-31/train_mel_spec_model_f562d_00000_0_batch_size=30,l1=550,l2=15,lr=0.0002,num_epochs=35_2024-04-11_03-45-37/checkpoint_000026)\n"
          ]
        },
        {
          "output_type": "stream",
          "name": "stdout",
          "text": [
            "\u001b[36m(train_mel_spec_model pid=1147)\u001b[0m epoch: 27, batch_id: 2, loss: 0.7781173586845398\n",
            "\u001b[36m(train_mel_spec_model pid=1147)\u001b[0m epoch: 27, batch_id: 3, loss: 0.6810519099235535\n",
            "\u001b[36m(train_mel_spec_model pid=1147)\u001b[0m epoch: 27, batch_id: 4, loss: 1.0082138776779175\n",
            "\u001b[36m(train_mel_spec_model pid=1147)\u001b[0m epoch: 27, batch_id: 5, loss: 0.8072807192802429\n",
            "\u001b[36m(train_mel_spec_model pid=1147)\u001b[0m epoch: 27, batch_id: 6, loss: 0.8871915340423584\n",
            "\u001b[36m(train_mel_spec_model pid=1147)\u001b[0m epoch: 27, batch_id: 7, loss: 0.9171338677406311\n",
            "\u001b[36m(train_mel_spec_model pid=1147)\u001b[0m epoch: 27, batch_id: 8, loss: 1.049857497215271\n",
            "\u001b[36m(train_mel_spec_model pid=1147)\u001b[0m epoch: 27, batch_id: 9, loss: 0.9989054203033447\n",
            "\u001b[36m(train_mel_spec_model pid=1147)\u001b[0m epoch: 27, batch_id: 10, loss: 0.7733131647109985\n",
            "\u001b[36m(train_mel_spec_model pid=1147)\u001b[0m epoch: 27, batch_id: 11, loss: 0.8216598629951477\n",
            "\u001b[36m(train_mel_spec_model pid=1147)\u001b[0m epoch: 27, batch_id: 12, loss: 0.6543636322021484\n",
            "\u001b[36m(train_mel_spec_model pid=1147)\u001b[0m epoch: 27, batch_id: 13, loss: 0.8311298489570618\n",
            "\u001b[36m(train_mel_spec_model pid=1147)\u001b[0m epoch: 27, batch_id: 14, loss: 0.8956867456436157\n",
            "\u001b[36m(train_mel_spec_model pid=1147)\u001b[0m epoch: 27, batch_id: 15, loss: 1.0702080726623535\n",
            "\u001b[36m(train_mel_spec_model pid=1147)\u001b[0m epoch: 27, batch_id: 16, loss: 0.8515936136245728\n",
            "\u001b[36m(train_mel_spec_model pid=1147)\u001b[0m epoch: 27, batch_id: 17, loss: 0.9201750159263611\n",
            "\u001b[36m(train_mel_spec_model pid=1147)\u001b[0m epoch: 27, batch_id: 18, loss: 0.7365071177482605\n",
            "\u001b[36m(train_mel_spec_model pid=1147)\u001b[0m epoch: 27, batch_id: 19, loss: 0.6728721261024475\n",
            "\u001b[36m(train_mel_spec_model pid=1147)\u001b[0m epoch: 27, batch_id: 20, loss: 1.182820439338684\n",
            "\u001b[36m(train_mel_spec_model pid=1147)\u001b[0m epoch: 27, batch_id: 21, loss: 0.6833954453468323\n",
            "\u001b[36m(train_mel_spec_model pid=1147)\u001b[0m epoch: 27, batch_id: 22, loss: 0.8601328134536743\n",
            "\u001b[36m(train_mel_spec_model pid=1147)\u001b[0m epoch: 27, batch_id: 23, loss: 0.6779940724372864\n",
            "\u001b[36m(train_mel_spec_model pid=1147)\u001b[0m epoch: 27, batch_id: 24, loss: 0.7012146711349487\n",
            "\u001b[36m(train_mel_spec_model pid=1147)\u001b[0m epoch: 27, batch_id: 25, loss: 1.0183379650115967\n",
            "\u001b[36m(train_mel_spec_model pid=1147)\u001b[0m epoch: 27, batch_id: 26, loss: 0.726762056350708\n",
            "\u001b[36m(train_mel_spec_model pid=1147)\u001b[0m Validation Loss: 1.488739550113678, Accuracy: 0.47474747474747475\n",
            "\u001b[36m(train_mel_spec_model pid=1147)\u001b[0m epoch: 28, batch_id: 0, loss: 0.9565407037734985\n",
            "\u001b[36m(train_mel_spec_model pid=1147)\u001b[0m epoch: 28, batch_id: 1, loss: 0.9448486566543579\n",
            "\u001b[36m(train_mel_spec_model pid=1147)\u001b[0m epoch: 28, batch_id: 2, loss: 0.7187086343765259\n",
            "\u001b[36m(train_mel_spec_model pid=1147)\u001b[0m epoch: 28, batch_id: 3, loss: 1.037545084953308\n"
          ]
        },
        {
          "output_type": "stream",
          "name": "stderr",
          "text": [
            "\u001b[36m(train_mel_spec_model pid=1147)\u001b[0m Checkpoint successfully created at: Checkpoint(filesystem=local, path=/root/ray_results/train_mel_spec_model_2024-04-11_03-45-31/train_mel_spec_model_f562d_00000_0_batch_size=30,l1=550,l2=15,lr=0.0002,num_epochs=35_2024-04-11_03-45-37/checkpoint_000027)\n"
          ]
        },
        {
          "output_type": "stream",
          "name": "stdout",
          "text": [
            "\u001b[36m(train_mel_spec_model pid=1147)\u001b[0m epoch: 28, batch_id: 4, loss: 0.8909397721290588\n",
            "\u001b[36m(train_mel_spec_model pid=1147)\u001b[0m epoch: 28, batch_id: 5, loss: 0.842860758304596\n",
            "\u001b[36m(train_mel_spec_model pid=1147)\u001b[0m epoch: 28, batch_id: 6, loss: 0.6991549730300903\n",
            "\u001b[36m(train_mel_spec_model pid=1147)\u001b[0m epoch: 28, batch_id: 7, loss: 0.8314611315727234\n",
            "\u001b[36m(train_mel_spec_model pid=1147)\u001b[0m epoch: 28, batch_id: 8, loss: 0.6598276495933533\n",
            "\u001b[36m(train_mel_spec_model pid=1147)\u001b[0m epoch: 28, batch_id: 9, loss: 0.6878780722618103\n",
            "\u001b[36m(train_mel_spec_model pid=1147)\u001b[0m epoch: 28, batch_id: 10, loss: 0.7797679305076599\n",
            "\u001b[36m(train_mel_spec_model pid=1147)\u001b[0m epoch: 28, batch_id: 11, loss: 0.8354016542434692\n",
            "\u001b[36m(train_mel_spec_model pid=1147)\u001b[0m epoch: 28, batch_id: 12, loss: 0.8684710264205933\n",
            "\u001b[36m(train_mel_spec_model pid=1147)\u001b[0m epoch: 28, batch_id: 13, loss: 0.7487432956695557\n",
            "\u001b[36m(train_mel_spec_model pid=1147)\u001b[0m epoch: 28, batch_id: 14, loss: 0.7003215551376343\n",
            "\u001b[36m(train_mel_spec_model pid=1147)\u001b[0m epoch: 28, batch_id: 15, loss: 0.8923318386077881\n",
            "\u001b[36m(train_mel_spec_model pid=1147)\u001b[0m epoch: 28, batch_id: 16, loss: 0.8382835984230042\n",
            "\u001b[36m(train_mel_spec_model pid=1147)\u001b[0m epoch: 28, batch_id: 17, loss: 0.9178828001022339\n",
            "\u001b[36m(train_mel_spec_model pid=1147)\u001b[0m epoch: 28, batch_id: 18, loss: 0.7969526648521423\n",
            "\u001b[36m(train_mel_spec_model pid=1147)\u001b[0m epoch: 28, batch_id: 19, loss: 0.8127241730690002\n",
            "\u001b[36m(train_mel_spec_model pid=1147)\u001b[0m epoch: 28, batch_id: 20, loss: 0.9130426049232483\n",
            "\u001b[36m(train_mel_spec_model pid=1147)\u001b[0m epoch: 28, batch_id: 21, loss: 0.7231174111366272\n",
            "\u001b[36m(train_mel_spec_model pid=1147)\u001b[0m epoch: 28, batch_id: 22, loss: 0.7753795981407166\n",
            "\u001b[36m(train_mel_spec_model pid=1147)\u001b[0m epoch: 28, batch_id: 23, loss: 0.7511976361274719\n",
            "\u001b[36m(train_mel_spec_model pid=1147)\u001b[0m epoch: 28, batch_id: 24, loss: 0.5136671662330627\n",
            "\u001b[36m(train_mel_spec_model pid=1147)\u001b[0m epoch: 28, batch_id: 25, loss: 0.8912451267242432\n",
            "\u001b[36m(train_mel_spec_model pid=1147)\u001b[0m epoch: 28, batch_id: 26, loss: 0.5907238125801086\n",
            "Trial status: 1 RUNNING | 4 PENDING\n",
            "Current time: 2024-04-11 03:49:08. Total running time: 3min 30s\n",
            "Logical resource usage: 2.0/2 CPUs, 1.0/1 GPUs (0.0/1.0 accelerator_type:T4)\n",
            "Current best trial: f562d_00000 with loss=1.488739550113678 and params={'l1': 550, 'l2': 15, 'lr': 0.00019002025558777404, 'batch_size': 30, 'num_epochs': 35}\n",
            "+----------------------------------------------------------------------------------------------------------------------------------------------------------+\n",
            "| Trial name                         status       l1     l2            lr     batch_size     num_epochs     iter     total time (s)      loss     accuracy |\n",
            "+----------------------------------------------------------------------------------------------------------------------------------------------------------+\n",
            "| train_mel_spec_model_f562d_00000   RUNNING     550     15   0.00019002              30             35       28            202.474   1.48874     0.474747 |\n",
            "| train_mel_spec_model_f562d_00001   PENDING     700      5   0.0185484               45             35                                                    |\n",
            "| train_mel_spec_model_f562d_00002   PENDING     950     10   0.0017086               30             25                                                    |\n",
            "| train_mel_spec_model_f562d_00003   PENDING     450     10   0.000373188             35             35                                                    |\n",
            "| train_mel_spec_model_f562d_00004   PENDING     800     10   0.00014823               5             35                                                    |\n",
            "+----------------------------------------------------------------------------------------------------------------------------------------------------------+\n"
          ]
        },
        {
          "output_type": "stream",
          "name": "stderr",
          "text": [
            "\u001b[36m(train_mel_spec_model pid=1147)\u001b[0m Checkpoint successfully created at: Checkpoint(filesystem=local, path=/root/ray_results/train_mel_spec_model_2024-04-11_03-45-31/train_mel_spec_model_f562d_00000_0_batch_size=30,l1=550,l2=15,lr=0.0002,num_epochs=35_2024-04-11_03-45-37/checkpoint_000028)\n"
          ]
        },
        {
          "output_type": "stream",
          "name": "stdout",
          "text": [
            "\u001b[36m(train_mel_spec_model pid=1147)\u001b[0m Validation Loss: 1.4369839429855347, Accuracy: 0.48484848484848486\n",
            "\u001b[36m(train_mel_spec_model pid=1147)\u001b[0m epoch: 29, batch_id: 0, loss: 0.9054648876190186\n",
            "\u001b[36m(train_mel_spec_model pid=1147)\u001b[0m epoch: 29, batch_id: 1, loss: 0.733077347278595\n",
            "\u001b[36m(train_mel_spec_model pid=1147)\u001b[0m epoch: 29, batch_id: 2, loss: 0.7178664803504944\n",
            "\u001b[36m(train_mel_spec_model pid=1147)\u001b[0m epoch: 29, batch_id: 3, loss: 0.7202668786048889\n",
            "\u001b[36m(train_mel_spec_model pid=1147)\u001b[0m epoch: 29, batch_id: 4, loss: 0.7301415801048279\n",
            "\u001b[36m(train_mel_spec_model pid=1147)\u001b[0m epoch: 29, batch_id: 5, loss: 0.8726354837417603\n",
            "\u001b[36m(train_mel_spec_model pid=1147)\u001b[0m epoch: 29, batch_id: 6, loss: 0.8869930505752563\n",
            "\u001b[36m(train_mel_spec_model pid=1147)\u001b[0m epoch: 29, batch_id: 7, loss: 0.8908728361129761\n",
            "\u001b[36m(train_mel_spec_model pid=1147)\u001b[0m epoch: 29, batch_id: 8, loss: 0.7707772850990295\n",
            "\u001b[36m(train_mel_spec_model pid=1147)\u001b[0m epoch: 29, batch_id: 9, loss: 0.6035830974578857\n",
            "\u001b[36m(train_mel_spec_model pid=1147)\u001b[0m epoch: 29, batch_id: 10, loss: 0.8034474849700928\n",
            "\u001b[36m(train_mel_spec_model pid=1147)\u001b[0m epoch: 29, batch_id: 11, loss: 0.6982362270355225\n",
            "\u001b[36m(train_mel_spec_model pid=1147)\u001b[0m epoch: 29, batch_id: 12, loss: 0.6694982051849365\n",
            "\u001b[36m(train_mel_spec_model pid=1147)\u001b[0m epoch: 29, batch_id: 13, loss: 0.7279852628707886\n",
            "\u001b[36m(train_mel_spec_model pid=1147)\u001b[0m epoch: 29, batch_id: 14, loss: 0.8258371949195862\n",
            "\u001b[36m(train_mel_spec_model pid=1147)\u001b[0m epoch: 29, batch_id: 15, loss: 0.7827633023262024\n",
            "\u001b[36m(train_mel_spec_model pid=1147)\u001b[0m epoch: 29, batch_id: 16, loss: 0.6657401919364929\n",
            "\u001b[36m(train_mel_spec_model pid=1147)\u001b[0m epoch: 29, batch_id: 17, loss: 0.6098421812057495\n",
            "\u001b[36m(train_mel_spec_model pid=1147)\u001b[0m epoch: 29, batch_id: 18, loss: 0.9085941314697266\n",
            "\u001b[36m(train_mel_spec_model pid=1147)\u001b[0m epoch: 29, batch_id: 19, loss: 0.7009984850883484\n",
            "\u001b[36m(train_mel_spec_model pid=1147)\u001b[0m epoch: 29, batch_id: 20, loss: 0.782275915145874\n",
            "\u001b[36m(train_mel_spec_model pid=1147)\u001b[0m epoch: 29, batch_id: 21, loss: 0.7622042298316956\n",
            "\u001b[36m(train_mel_spec_model pid=1147)\u001b[0m epoch: 29, batch_id: 22, loss: 0.8015278577804565\n",
            "\u001b[36m(train_mel_spec_model pid=1147)\u001b[0m epoch: 29, batch_id: 23, loss: 0.9963014125823975\n",
            "\u001b[36m(train_mel_spec_model pid=1147)\u001b[0m epoch: 29, batch_id: 24, loss: 0.7759931087493896\n",
            "\u001b[36m(train_mel_spec_model pid=1147)\u001b[0m epoch: 29, batch_id: 25, loss: 0.6549180150032043\n",
            "\u001b[36m(train_mel_spec_model pid=1147)\u001b[0m epoch: 29, batch_id: 26, loss: 0.6700627207756042\n"
          ]
        },
        {
          "output_type": "stream",
          "name": "stderr",
          "text": [
            "\u001b[36m(train_mel_spec_model pid=1147)\u001b[0m Checkpoint successfully created at: Checkpoint(filesystem=local, path=/root/ray_results/train_mel_spec_model_2024-04-11_03-45-31/train_mel_spec_model_f562d_00000_0_batch_size=30,l1=550,l2=15,lr=0.0002,num_epochs=35_2024-04-11_03-45-37/checkpoint_000029)\n"
          ]
        },
        {
          "output_type": "stream",
          "name": "stdout",
          "text": [
            "\u001b[36m(train_mel_spec_model pid=1147)\u001b[0m Validation Loss: 1.6450989842414856, Accuracy: 0.46464646464646464\n",
            "\u001b[36m(train_mel_spec_model pid=1147)\u001b[0m epoch: 30, batch_id: 0, loss: 0.6178410053253174\n",
            "\u001b[36m(train_mel_spec_model pid=1147)\u001b[0m epoch: 30, batch_id: 1, loss: 0.7366073727607727\n",
            "\u001b[36m(train_mel_spec_model pid=1147)\u001b[0m epoch: 30, batch_id: 2, loss: 0.5713263750076294\n",
            "\u001b[36m(train_mel_spec_model pid=1147)\u001b[0m epoch: 30, batch_id: 3, loss: 0.6124995350837708\n",
            "\u001b[36m(train_mel_spec_model pid=1147)\u001b[0m epoch: 30, batch_id: 4, loss: 0.9373887181282043\n",
            "\u001b[36m(train_mel_spec_model pid=1147)\u001b[0m epoch: 30, batch_id: 5, loss: 0.6685658097267151\n",
            "\u001b[36m(train_mel_spec_model pid=1147)\u001b[0m epoch: 30, batch_id: 6, loss: 0.7143694162368774\n",
            "\u001b[36m(train_mel_spec_model pid=1147)\u001b[0m epoch: 30, batch_id: 7, loss: 0.7126768827438354\n",
            "\u001b[36m(train_mel_spec_model pid=1147)\u001b[0m epoch: 30, batch_id: 8, loss: 0.6008484363555908\n",
            "\u001b[36m(train_mel_spec_model pid=1147)\u001b[0m epoch: 30, batch_id: 9, loss: 0.8640565276145935\n",
            "\u001b[36m(train_mel_spec_model pid=1147)\u001b[0m epoch: 30, batch_id: 10, loss: 0.6809441447257996\n",
            "\u001b[36m(train_mel_spec_model pid=1147)\u001b[0m epoch: 30, batch_id: 11, loss: 0.7444881200790405\n",
            "\u001b[36m(train_mel_spec_model pid=1147)\u001b[0m epoch: 30, batch_id: 12, loss: 0.633293092250824\n",
            "\u001b[36m(train_mel_spec_model pid=1147)\u001b[0m epoch: 30, batch_id: 13, loss: 0.6027199029922485\n",
            "\u001b[36m(train_mel_spec_model pid=1147)\u001b[0m epoch: 30, batch_id: 14, loss: 0.5859331488609314\n",
            "\u001b[36m(train_mel_spec_model pid=1147)\u001b[0m epoch: 30, batch_id: 15, loss: 1.126489281654358\n",
            "\u001b[36m(train_mel_spec_model pid=1147)\u001b[0m epoch: 30, batch_id: 16, loss: 0.9973651170730591\n",
            "\u001b[36m(train_mel_spec_model pid=1147)\u001b[0m epoch: 30, batch_id: 17, loss: 0.7470892667770386\n",
            "\u001b[36m(train_mel_spec_model pid=1147)\u001b[0m epoch: 30, batch_id: 18, loss: 0.7161163091659546\n",
            "\u001b[36m(train_mel_spec_model pid=1147)\u001b[0m epoch: 30, batch_id: 19, loss: 0.540275514125824\n",
            "\u001b[36m(train_mel_spec_model pid=1147)\u001b[0m epoch: 30, batch_id: 20, loss: 0.6855964660644531\n",
            "\u001b[36m(train_mel_spec_model pid=1147)\u001b[0m epoch: 30, batch_id: 21, loss: 0.8644182085990906\n",
            "\u001b[36m(train_mel_spec_model pid=1147)\u001b[0m epoch: 30, batch_id: 22, loss: 0.9569877982139587\n",
            "\u001b[36m(train_mel_spec_model pid=1147)\u001b[0m epoch: 30, batch_id: 23, loss: 0.6387832760810852\n",
            "\u001b[36m(train_mel_spec_model pid=1147)\u001b[0m epoch: 30, batch_id: 24, loss: 0.869148313999176\n",
            "\u001b[36m(train_mel_spec_model pid=1147)\u001b[0m epoch: 30, batch_id: 25, loss: 0.8719019293785095\n",
            "\u001b[36m(train_mel_spec_model pid=1147)\u001b[0m epoch: 30, batch_id: 26, loss: 0.7897436022758484\n"
          ]
        },
        {
          "output_type": "stream",
          "name": "stderr",
          "text": [
            "\u001b[36m(train_mel_spec_model pid=1147)\u001b[0m Checkpoint successfully created at: Checkpoint(filesystem=local, path=/root/ray_results/train_mel_spec_model_2024-04-11_03-45-31/train_mel_spec_model_f562d_00000_0_batch_size=30,l1=550,l2=15,lr=0.0002,num_epochs=35_2024-04-11_03-45-37/checkpoint_000030)\n"
          ]
        },
        {
          "output_type": "stream",
          "name": "stdout",
          "text": [
            "\u001b[36m(train_mel_spec_model pid=1147)\u001b[0m Validation Loss: 1.4912867844104767, Accuracy: 0.45454545454545453\n",
            "\u001b[36m(train_mel_spec_model pid=1147)\u001b[0m epoch: 31, batch_id: 0, loss: 0.7721870541572571\n",
            "\u001b[36m(train_mel_spec_model pid=1147)\u001b[0m epoch: 31, batch_id: 1, loss: 0.77382892370224\n",
            "\u001b[36m(train_mel_spec_model pid=1147)\u001b[0m epoch: 31, batch_id: 2, loss: 0.7711970806121826\n",
            "\u001b[36m(train_mel_spec_model pid=1147)\u001b[0m epoch: 31, batch_id: 3, loss: 0.6170459389686584\n",
            "\u001b[36m(train_mel_spec_model pid=1147)\u001b[0m epoch: 31, batch_id: 4, loss: 0.5986061692237854\n",
            "\u001b[36m(train_mel_spec_model pid=1147)\u001b[0m epoch: 31, batch_id: 5, loss: 0.8855971097946167\n",
            "\u001b[36m(train_mel_spec_model pid=1147)\u001b[0m epoch: 31, batch_id: 6, loss: 0.6803339123725891\n",
            "\u001b[36m(train_mel_spec_model pid=1147)\u001b[0m epoch: 31, batch_id: 7, loss: 0.8149543404579163\n",
            "\u001b[36m(train_mel_spec_model pid=1147)\u001b[0m epoch: 31, batch_id: 8, loss: 0.731226921081543\n",
            "\u001b[36m(train_mel_spec_model pid=1147)\u001b[0m epoch: 31, batch_id: 9, loss: 0.6011708974838257\n",
            "\u001b[36m(train_mel_spec_model pid=1147)\u001b[0m epoch: 31, batch_id: 10, loss: 0.47101497650146484\n",
            "\u001b[36m(train_mel_spec_model pid=1147)\u001b[0m epoch: 31, batch_id: 11, loss: 0.7271845936775208\n",
            "\u001b[36m(train_mel_spec_model pid=1147)\u001b[0m epoch: 31, batch_id: 12, loss: 0.6892762780189514\n",
            "\u001b[36m(train_mel_spec_model pid=1147)\u001b[0m epoch: 31, batch_id: 13, loss: 0.8930837512016296\n",
            "\u001b[36m(train_mel_spec_model pid=1147)\u001b[0m epoch: 31, batch_id: 14, loss: 0.6521892547607422\n",
            "\u001b[36m(train_mel_spec_model pid=1147)\u001b[0m epoch: 31, batch_id: 15, loss: 0.8111573457717896\n",
            "\u001b[36m(train_mel_spec_model pid=1147)\u001b[0m epoch: 31, batch_id: 16, loss: 0.7193436026573181\n",
            "\u001b[36m(train_mel_spec_model pid=1147)\u001b[0m epoch: 31, batch_id: 17, loss: 0.6450979709625244\n",
            "\u001b[36m(train_mel_spec_model pid=1147)\u001b[0m epoch: 31, batch_id: 18, loss: 0.720380425453186\n",
            "\u001b[36m(train_mel_spec_model pid=1147)\u001b[0m epoch: 31, batch_id: 19, loss: 0.71840900182724\n",
            "\u001b[36m(train_mel_spec_model pid=1147)\u001b[0m epoch: 31, batch_id: 20, loss: 0.7131516337394714\n",
            "\u001b[36m(train_mel_spec_model pid=1147)\u001b[0m epoch: 31, batch_id: 21, loss: 0.6182195544242859\n",
            "\u001b[36m(train_mel_spec_model pid=1147)\u001b[0m epoch: 31, batch_id: 22, loss: 0.44099268317222595\n",
            "\u001b[36m(train_mel_spec_model pid=1147)\u001b[0m epoch: 31, batch_id: 23, loss: 0.7946752309799194\n",
            "\u001b[36m(train_mel_spec_model pid=1147)\u001b[0m epoch: 31, batch_id: 24, loss: 0.5730609893798828\n",
            "\u001b[36m(train_mel_spec_model pid=1147)\u001b[0m epoch: 31, batch_id: 25, loss: 0.5424559116363525\n",
            "\u001b[36m(train_mel_spec_model pid=1147)\u001b[0m epoch: 31, batch_id: 26, loss: 0.5904865860939026\n",
            "\u001b[36m(train_mel_spec_model pid=1147)\u001b[0m Validation Loss: 1.4919124245643616, Accuracy: 0.48484848484848486\n",
            "\u001b[36m(train_mel_spec_model pid=1147)\u001b[0m epoch: 32, batch_id: 0, loss: 0.6487069725990295\n",
            "\u001b[36m(train_mel_spec_model pid=1147)\u001b[0m epoch: 32, batch_id: 1, loss: 0.6806358695030212\n",
            "\u001b[36m(train_mel_spec_model pid=1147)\u001b[0m epoch: 32, batch_id: 2, loss: 0.8324734568595886\n"
          ]
        },
        {
          "output_type": "stream",
          "name": "stderr",
          "text": [
            "\u001b[36m(train_mel_spec_model pid=1147)\u001b[0m Checkpoint successfully created at: Checkpoint(filesystem=local, path=/root/ray_results/train_mel_spec_model_2024-04-11_03-45-31/train_mel_spec_model_f562d_00000_0_batch_size=30,l1=550,l2=15,lr=0.0002,num_epochs=35_2024-04-11_03-45-37/checkpoint_000031)\n"
          ]
        },
        {
          "output_type": "stream",
          "name": "stdout",
          "text": [
            "\u001b[36m(train_mel_spec_model pid=1147)\u001b[0m epoch: 32, batch_id: 3, loss: 0.5114648938179016\n",
            "\u001b[36m(train_mel_spec_model pid=1147)\u001b[0m epoch: 32, batch_id: 4, loss: 0.6510635018348694\n",
            "\u001b[36m(train_mel_spec_model pid=1147)\u001b[0m epoch: 32, batch_id: 5, loss: 0.533388078212738\n",
            "\u001b[36m(train_mel_spec_model pid=1147)\u001b[0m epoch: 32, batch_id: 6, loss: 0.6179229021072388\n",
            "\u001b[36m(train_mel_spec_model pid=1147)\u001b[0m epoch: 32, batch_id: 7, loss: 0.9839679002761841\n",
            "\u001b[36m(train_mel_spec_model pid=1147)\u001b[0m epoch: 32, batch_id: 8, loss: 0.7797744274139404\n",
            "\u001b[36m(train_mel_spec_model pid=1147)\u001b[0m epoch: 32, batch_id: 9, loss: 0.6716772317886353\n",
            "\u001b[36m(train_mel_spec_model pid=1147)\u001b[0m epoch: 32, batch_id: 10, loss: 0.8060474395751953\n",
            "\u001b[36m(train_mel_spec_model pid=1147)\u001b[0m epoch: 32, batch_id: 11, loss: 0.8847091794013977\n",
            "\u001b[36m(train_mel_spec_model pid=1147)\u001b[0m epoch: 32, batch_id: 12, loss: 0.5119714140892029\n",
            "\u001b[36m(train_mel_spec_model pid=1147)\u001b[0m epoch: 32, batch_id: 13, loss: 0.6889046430587769\n",
            "\u001b[36m(train_mel_spec_model pid=1147)\u001b[0m epoch: 32, batch_id: 14, loss: 0.6455447673797607\n",
            "\u001b[36m(train_mel_spec_model pid=1147)\u001b[0m epoch: 32, batch_id: 15, loss: 0.6400222778320312\n",
            "\u001b[36m(train_mel_spec_model pid=1147)\u001b[0m epoch: 32, batch_id: 16, loss: 0.7284215688705444\n",
            "\u001b[36m(train_mel_spec_model pid=1147)\u001b[0m epoch: 32, batch_id: 17, loss: 0.7462294101715088\n",
            "\u001b[36m(train_mel_spec_model pid=1147)\u001b[0m epoch: 32, batch_id: 18, loss: 0.746604323387146\n",
            "\u001b[36m(train_mel_spec_model pid=1147)\u001b[0m epoch: 32, batch_id: 19, loss: 0.7099582552909851\n",
            "\u001b[36m(train_mel_spec_model pid=1147)\u001b[0m epoch: 32, batch_id: 20, loss: 0.670393168926239\n",
            "\u001b[36m(train_mel_spec_model pid=1147)\u001b[0m epoch: 32, batch_id: 21, loss: 0.8112824559211731\n",
            "\u001b[36m(train_mel_spec_model pid=1147)\u001b[0m epoch: 32, batch_id: 22, loss: 0.42855629324913025\n",
            "\u001b[36m(train_mel_spec_model pid=1147)\u001b[0m epoch: 32, batch_id: 23, loss: 0.6434937119483948\n",
            "\u001b[36m(train_mel_spec_model pid=1147)\u001b[0m epoch: 32, batch_id: 24, loss: 0.6710173487663269\n",
            "\u001b[36m(train_mel_spec_model pid=1147)\u001b[0m epoch: 32, batch_id: 25, loss: 0.5204532742500305\n",
            "\u001b[36m(train_mel_spec_model pid=1147)\u001b[0m epoch: 32, batch_id: 26, loss: 0.8894665241241455\n",
            "\u001b[36m(train_mel_spec_model pid=1147)\u001b[0m Validation Loss: 1.6023565530776978, Accuracy: 0.46464646464646464\n",
            "\u001b[36m(train_mel_spec_model pid=1147)\u001b[0m epoch: 33, batch_id: 0, loss: 0.656545877456665\n"
          ]
        },
        {
          "output_type": "stream",
          "name": "stderr",
          "text": [
            "\u001b[36m(train_mel_spec_model pid=1147)\u001b[0m Checkpoint successfully created at: Checkpoint(filesystem=local, path=/root/ray_results/train_mel_spec_model_2024-04-11_03-45-31/train_mel_spec_model_f562d_00000_0_batch_size=30,l1=550,l2=15,lr=0.0002,num_epochs=35_2024-04-11_03-45-37/checkpoint_000032)\n"
          ]
        },
        {
          "output_type": "stream",
          "name": "stdout",
          "text": [
            "\u001b[36m(train_mel_spec_model pid=1147)\u001b[0m epoch: 33, batch_id: 1, loss: 0.5298896431922913\n",
            "\u001b[36m(train_mel_spec_model pid=1147)\u001b[0m epoch: 33, batch_id: 2, loss: 0.6302617788314819\n",
            "\u001b[36m(train_mel_spec_model pid=1147)\u001b[0m epoch: 33, batch_id: 3, loss: 0.88770592212677\n",
            "\u001b[36m(train_mel_spec_model pid=1147)\u001b[0m epoch: 33, batch_id: 4, loss: 0.37068748474121094\n",
            "\u001b[36m(train_mel_spec_model pid=1147)\u001b[0m epoch: 33, batch_id: 5, loss: 0.5868523716926575\n",
            "\u001b[36m(train_mel_spec_model pid=1147)\u001b[0m epoch: 33, batch_id: 6, loss: 0.6595909595489502\n",
            "\u001b[36m(train_mel_spec_model pid=1147)\u001b[0m epoch: 33, batch_id: 7, loss: 0.6002867817878723\n",
            "\u001b[36m(train_mel_spec_model pid=1147)\u001b[0m epoch: 33, batch_id: 8, loss: 0.7574992775917053\n",
            "\u001b[36m(train_mel_spec_model pid=1147)\u001b[0m epoch: 33, batch_id: 9, loss: 0.717639148235321\n",
            "\u001b[36m(train_mel_spec_model pid=1147)\u001b[0m epoch: 33, batch_id: 10, loss: 0.6689501404762268\n",
            "\u001b[36m(train_mel_spec_model pid=1147)\u001b[0m epoch: 33, batch_id: 11, loss: 0.6827659606933594\n",
            "\u001b[36m(train_mel_spec_model pid=1147)\u001b[0m epoch: 33, batch_id: 12, loss: 0.5654255151748657\n",
            "\u001b[36m(train_mel_spec_model pid=1147)\u001b[0m epoch: 33, batch_id: 13, loss: 0.514403760433197\n",
            "\u001b[36m(train_mel_spec_model pid=1147)\u001b[0m epoch: 33, batch_id: 14, loss: 0.6113845109939575\n",
            "\u001b[36m(train_mel_spec_model pid=1147)\u001b[0m epoch: 33, batch_id: 15, loss: 0.5423957109451294\n",
            "\u001b[36m(train_mel_spec_model pid=1147)\u001b[0m epoch: 33, batch_id: 16, loss: 0.49399659037590027\n",
            "\u001b[36m(train_mel_spec_model pid=1147)\u001b[0m epoch: 33, batch_id: 17, loss: 0.5639105439186096\n",
            "\u001b[36m(train_mel_spec_model pid=1147)\u001b[0m epoch: 33, batch_id: 18, loss: 0.5234973430633545\n",
            "\u001b[36m(train_mel_spec_model pid=1147)\u001b[0m epoch: 33, batch_id: 19, loss: 0.7494428157806396\n",
            "\u001b[36m(train_mel_spec_model pid=1147)\u001b[0m epoch: 33, batch_id: 20, loss: 0.6102296710014343\n",
            "\u001b[36m(train_mel_spec_model pid=1147)\u001b[0m epoch: 33, batch_id: 21, loss: 0.8543055057525635\n",
            "\u001b[36m(train_mel_spec_model pid=1147)\u001b[0m epoch: 33, batch_id: 22, loss: 0.41506946086883545\n",
            "\u001b[36m(train_mel_spec_model pid=1147)\u001b[0m epoch: 33, batch_id: 23, loss: 0.4774504601955414\n",
            "\u001b[36m(train_mel_spec_model pid=1147)\u001b[0m epoch: 33, batch_id: 24, loss: 0.7769281268119812\n",
            "\u001b[36m(train_mel_spec_model pid=1147)\u001b[0m epoch: 33, batch_id: 25, loss: 0.8042119145393372\n",
            "\u001b[36m(train_mel_spec_model pid=1147)\u001b[0m epoch: 33, batch_id: 26, loss: 0.5323370099067688\n",
            "\u001b[36m(train_mel_spec_model pid=1147)\u001b[0m Validation Loss: 1.44568932056427, Accuracy: 0.494949494949495\n",
            "\u001b[36m(train_mel_spec_model pid=1147)\u001b[0m epoch: 34, batch_id: 0, loss: 0.6699873208999634\n",
            "\u001b[36m(train_mel_spec_model pid=1147)\u001b[0m epoch: 34, batch_id: 1, loss: 0.4742835760116577\n"
          ]
        },
        {
          "output_type": "stream",
          "name": "stderr",
          "text": [
            "\u001b[36m(train_mel_spec_model pid=1147)\u001b[0m Checkpoint successfully created at: Checkpoint(filesystem=local, path=/root/ray_results/train_mel_spec_model_2024-04-11_03-45-31/train_mel_spec_model_f562d_00000_0_batch_size=30,l1=550,l2=15,lr=0.0002,num_epochs=35_2024-04-11_03-45-37/checkpoint_000033)\n"
          ]
        },
        {
          "output_type": "stream",
          "name": "stdout",
          "text": [
            "\u001b[36m(train_mel_spec_model pid=1147)\u001b[0m epoch: 34, batch_id: 2, loss: 0.6884601712226868\n",
            "\u001b[36m(train_mel_spec_model pid=1147)\u001b[0m epoch: 34, batch_id: 3, loss: 0.5604465007781982\n",
            "\u001b[36m(train_mel_spec_model pid=1147)\u001b[0m epoch: 34, batch_id: 4, loss: 0.5083959698677063\n",
            "\u001b[36m(train_mel_spec_model pid=1147)\u001b[0m epoch: 34, batch_id: 5, loss: 0.6151618361473083\n",
            "\u001b[36m(train_mel_spec_model pid=1147)\u001b[0m epoch: 34, batch_id: 6, loss: 0.518852174282074\n",
            "\u001b[36m(train_mel_spec_model pid=1147)\u001b[0m epoch: 34, batch_id: 7, loss: 0.7090498805046082\n",
            "\u001b[36m(train_mel_spec_model pid=1147)\u001b[0m epoch: 34, batch_id: 8, loss: 0.6289902925491333\n",
            "\u001b[36m(train_mel_spec_model pid=1147)\u001b[0m epoch: 34, batch_id: 9, loss: 0.4709247350692749\n",
            "\u001b[36m(train_mel_spec_model pid=1147)\u001b[0m epoch: 34, batch_id: 10, loss: 0.48754915595054626\n",
            "\u001b[36m(train_mel_spec_model pid=1147)\u001b[0m epoch: 34, batch_id: 11, loss: 0.47731301188468933\n",
            "\u001b[36m(train_mel_spec_model pid=1147)\u001b[0m epoch: 34, batch_id: 12, loss: 0.4937056005001068\n",
            "\u001b[36m(train_mel_spec_model pid=1147)\u001b[0m epoch: 34, batch_id: 13, loss: 0.3708723187446594\n",
            "\u001b[36m(train_mel_spec_model pid=1147)\u001b[0m epoch: 34, batch_id: 14, loss: 0.6161150336265564\n",
            "\u001b[36m(train_mel_spec_model pid=1147)\u001b[0m epoch: 34, batch_id: 15, loss: 0.5061365962028503\n",
            "\u001b[36m(train_mel_spec_model pid=1147)\u001b[0m epoch: 34, batch_id: 16, loss: 0.5020093321800232\n",
            "\u001b[36m(train_mel_spec_model pid=1147)\u001b[0m epoch: 34, batch_id: 17, loss: 0.5691031217575073\n",
            "\u001b[36m(train_mel_spec_model pid=1147)\u001b[0m epoch: 34, batch_id: 18, loss: 0.41599586606025696\n",
            "\u001b[36m(train_mel_spec_model pid=1147)\u001b[0m epoch: 34, batch_id: 19, loss: 0.5960546135902405\n",
            "\u001b[36m(train_mel_spec_model pid=1147)\u001b[0m epoch: 34, batch_id: 20, loss: 0.6327397227287292\n",
            "\u001b[36m(train_mel_spec_model pid=1147)\u001b[0m epoch: 34, batch_id: 21, loss: 0.6237145662307739\n",
            "\u001b[36m(train_mel_spec_model pid=1147)\u001b[0m epoch: 34, batch_id: 22, loss: 0.3886922299861908\n",
            "\u001b[36m(train_mel_spec_model pid=1147)\u001b[0m epoch: 34, batch_id: 23, loss: 0.9714450240135193\n",
            "\u001b[36m(train_mel_spec_model pid=1147)\u001b[0m epoch: 34, batch_id: 24, loss: 0.5442761182785034\n",
            "\u001b[36m(train_mel_spec_model pid=1147)\u001b[0m epoch: 34, batch_id: 25, loss: 0.7014544010162354\n",
            "\u001b[36m(train_mel_spec_model pid=1147)\u001b[0m epoch: 34, batch_id: 26, loss: 0.6463029384613037\n",
            "\n",
            "Trial train_mel_spec_model_f562d_00000 completed after 35 iterations at 2024-04-11 03:49:24. Total running time: 3min 46s\n",
            "+---------------------------------------------------------------------+\n",
            "| Trial train_mel_spec_model_f562d_00000 result                       |\n",
            "+---------------------------------------------------------------------+\n",
            "| checkpoint_dir_name                               checkpoint_000034 |\n",
            "| time_this_iter_s                                            3.55481 |\n",
            "| time_total_s                                              220.05437 |\n",
            "| training_iteration                                               35 |\n",
            "| accuracy                                                    0.52525 |\n",
            "| loss                                                        1.49539 |\n",
            "+---------------------------------------------------------------------+\n",
            "\u001b[36m(train_mel_spec_model pid=1147)\u001b[0m Validation Loss: 1.4953934252262115, Accuracy: 0.5252525252525253\n"
          ]
        },
        {
          "output_type": "stream",
          "name": "stderr",
          "text": [
            "\u001b[36m(train_mel_spec_model pid=1147)\u001b[0m Checkpoint successfully created at: Checkpoint(filesystem=local, path=/root/ray_results/train_mel_spec_model_2024-04-11_03-45-31/train_mel_spec_model_f562d_00000_0_batch_size=30,l1=550,l2=15,lr=0.0002,num_epochs=35_2024-04-11_03-45-37/checkpoint_000034)\n"
          ]
        },
        {
          "output_type": "stream",
          "name": "stdout",
          "text": [
            "\n",
            "Trial train_mel_spec_model_f562d_00001 started with configuration:\n",
            "+-----------------------------------------------------------+\n",
            "| Trial train_mel_spec_model_f562d_00001 config             |\n",
            "+-----------------------------------------------------------+\n",
            "| batch_size                                             45 |\n",
            "| l1                                                    700 |\n",
            "| l2                                                      5 |\n",
            "| lr                                                0.01855 |\n",
            "| num_epochs                                             35 |\n",
            "+-----------------------------------------------------------+\n",
            "\n",
            "Trial status: 1 TERMINATED | 1 RUNNING | 3 PENDING\n",
            "Current time: 2024-04-11 03:49:38. Total running time: 4min 0s\n",
            "Logical resource usage: 2.0/2 CPUs, 1.0/1 GPUs (0.0/1.0 accelerator_type:T4)\n",
            "Current best trial: f562d_00000 with loss=1.4953934252262115 and params={'l1': 550, 'l2': 15, 'lr': 0.00019002025558777404, 'batch_size': 30, 'num_epochs': 35}\n",
            "+------------------------------------------------------------------------------------------------------------------------------------------------------------+\n",
            "| Trial name                         status         l1     l2            lr     batch_size     num_epochs     iter     total time (s)      loss     accuracy |\n",
            "+------------------------------------------------------------------------------------------------------------------------------------------------------------+\n",
            "| train_mel_spec_model_f562d_00001   RUNNING       700      5   0.0185484               45             35                                                    |\n",
            "| train_mel_spec_model_f562d_00000   TERMINATED    550     15   0.00019002              30             35       35            220.054   1.49539     0.525253 |\n",
            "| train_mel_spec_model_f562d_00002   PENDING       950     10   0.0017086               30             25                                                    |\n",
            "| train_mel_spec_model_f562d_00003   PENDING       450     10   0.000373188             35             35                                                    |\n",
            "| train_mel_spec_model_f562d_00004   PENDING       800     10   0.00014823               5             35                                                    |\n",
            "+------------------------------------------------------------------------------------------------------------------------------------------------------------+\n",
            "\u001b[36m(train_mel_spec_model pid=2408)\u001b[0m epoch: 0, batch_id: 0, loss: 2.338812828063965\n",
            "\u001b[36m(train_mel_spec_model pid=2408)\u001b[0m epoch: 0, batch_id: 1, loss: 28.343679428100586\n",
            "\u001b[36m(train_mel_spec_model pid=2408)\u001b[0m epoch: 0, batch_id: 2, loss: 3.4648807048797607\n",
            "\u001b[36m(train_mel_spec_model pid=2408)\u001b[0m epoch: 0, batch_id: 3, loss: 2.3502676486968994\n",
            "\u001b[36m(train_mel_spec_model pid=2408)\u001b[0m epoch: 0, batch_id: 4, loss: 2.4054880142211914\n",
            "\u001b[36m(train_mel_spec_model pid=2408)\u001b[0m epoch: 0, batch_id: 5, loss: 2.293715476989746\n",
            "\u001b[36m(train_mel_spec_model pid=2408)\u001b[0m epoch: 0, batch_id: 6, loss: 2.341055393218994\n",
            "\u001b[36m(train_mel_spec_model pid=2408)\u001b[0m epoch: 0, batch_id: 7, loss: 2.2926700115203857\n",
            "\u001b[36m(train_mel_spec_model pid=2408)\u001b[0m epoch: 0, batch_id: 8, loss: 2.368685007095337\n",
            "\u001b[36m(train_mel_spec_model pid=2408)\u001b[0m epoch: 0, batch_id: 9, loss: 2.2879347801208496\n",
            "\u001b[36m(train_mel_spec_model pid=2408)\u001b[0m epoch: 0, batch_id: 10, loss: 2.3689608573913574\n",
            "\u001b[36m(train_mel_spec_model pid=2408)\u001b[0m epoch: 0, batch_id: 11, loss: 2.2618043422698975\n",
            "\u001b[36m(train_mel_spec_model pid=2408)\u001b[0m epoch: 0, batch_id: 12, loss: 2.3636057376861572\n",
            "\u001b[36m(train_mel_spec_model pid=2408)\u001b[0m epoch: 0, batch_id: 13, loss: 2.3500349521636963\n",
            "\u001b[36m(train_mel_spec_model pid=2408)\u001b[0m epoch: 0, batch_id: 14, loss: 2.3347952365875244\n",
            "\u001b[36m(train_mel_spec_model pid=2408)\u001b[0m epoch: 0, batch_id: 15, loss: 2.3255667686462402\n",
            "\u001b[36m(train_mel_spec_model pid=2408)\u001b[0m epoch: 0, batch_id: 16, loss: 2.355541467666626\n",
            "\u001b[36m(train_mel_spec_model pid=2408)\u001b[0m epoch: 0, batch_id: 17, loss: 2.3136520385742188\n"
          ]
        },
        {
          "output_type": "stream",
          "name": "stderr",
          "text": [
            "\u001b[36m(train_mel_spec_model pid=2408)\u001b[0m Checkpoint successfully created at: Checkpoint(filesystem=local, path=/root/ray_results/train_mel_spec_model_2024-04-11_03-45-31/train_mel_spec_model_f562d_00001_1_batch_size=45,l1=700,l2=5,lr=0.0185,num_epochs=35_2024-04-11_03-45-37/checkpoint_000000)\n"
          ]
        },
        {
          "output_type": "stream",
          "name": "stdout",
          "text": [
            "\u001b[36m(train_mel_spec_model pid=2408)\u001b[0m Validation Loss: 2.316563288370768, Accuracy: 0.10101010101010101\n",
            "\u001b[36m(train_mel_spec_model pid=2408)\u001b[0m epoch: 1, batch_id: 0, loss: 2.332190990447998\n",
            "\u001b[36m(train_mel_spec_model pid=2408)\u001b[0m epoch: 1, batch_id: 1, loss: 2.3370611667633057\n",
            "\u001b[36m(train_mel_spec_model pid=2408)\u001b[0m epoch: 1, batch_id: 2, loss: 2.334282875061035\n",
            "\u001b[36m(train_mel_spec_model pid=2408)\u001b[0m epoch: 1, batch_id: 3, loss: 2.345405101776123\n",
            "\u001b[36m(train_mel_spec_model pid=2408)\u001b[0m epoch: 1, batch_id: 4, loss: 2.323099136352539\n",
            "\u001b[36m(train_mel_spec_model pid=2408)\u001b[0m epoch: 1, batch_id: 5, loss: 2.352236747741699\n",
            "\u001b[36m(train_mel_spec_model pid=2408)\u001b[0m epoch: 1, batch_id: 6, loss: 2.3172671794891357\n",
            "\u001b[36m(train_mel_spec_model pid=2408)\u001b[0m epoch: 1, batch_id: 7, loss: 2.3537447452545166\n",
            "\u001b[36m(train_mel_spec_model pid=2408)\u001b[0m epoch: 1, batch_id: 8, loss: 2.316580295562744\n",
            "\u001b[36m(train_mel_spec_model pid=2408)\u001b[0m epoch: 1, batch_id: 9, loss: 2.2759783267974854\n",
            "\u001b[36m(train_mel_spec_model pid=2408)\u001b[0m epoch: 1, batch_id: 10, loss: 2.3469784259796143\n",
            "\u001b[36m(train_mel_spec_model pid=2408)\u001b[0m epoch: 1, batch_id: 11, loss: 2.331592559814453\n",
            "\u001b[36m(train_mel_spec_model pid=2408)\u001b[0m epoch: 1, batch_id: 12, loss: 2.3392300605773926\n",
            "\u001b[36m(train_mel_spec_model pid=2408)\u001b[0m epoch: 1, batch_id: 13, loss: 2.3070497512817383\n",
            "\u001b[36m(train_mel_spec_model pid=2408)\u001b[0m epoch: 1, batch_id: 14, loss: 2.2857987880706787\n",
            "\u001b[36m(train_mel_spec_model pid=2408)\u001b[0m epoch: 1, batch_id: 15, loss: 2.311985492706299\n",
            "\u001b[36m(train_mel_spec_model pid=2408)\u001b[0m epoch: 1, batch_id: 16, loss: 2.3128952980041504\n",
            "\u001b[36m(train_mel_spec_model pid=2408)\u001b[0m epoch: 1, batch_id: 17, loss: 2.3143699169158936\n"
          ]
        },
        {
          "output_type": "stream",
          "name": "stderr",
          "text": [
            "\u001b[36m(train_mel_spec_model pid=2408)\u001b[0m Checkpoint successfully created at: Checkpoint(filesystem=local, path=/root/ray_results/train_mel_spec_model_2024-04-11_03-45-31/train_mel_spec_model_f562d_00001_1_batch_size=45,l1=700,l2=5,lr=0.0185,num_epochs=35_2024-04-11_03-45-37/checkpoint_000001)\n"
          ]
        },
        {
          "output_type": "stream",
          "name": "stdout",
          "text": [
            "\u001b[36m(train_mel_spec_model pid=2408)\u001b[0m Validation Loss: 2.304197629292806, Accuracy: 0.1111111111111111\n",
            "\u001b[36m(train_mel_spec_model pid=2408)\u001b[0m epoch: 2, batch_id: 0, loss: 2.3206605911254883\n",
            "\u001b[36m(train_mel_spec_model pid=2408)\u001b[0m epoch: 2, batch_id: 1, loss: 2.270188808441162\n",
            "\u001b[36m(train_mel_spec_model pid=2408)\u001b[0m epoch: 2, batch_id: 2, loss: 2.3349804878234863\n",
            "\u001b[36m(train_mel_spec_model pid=2408)\u001b[0m epoch: 2, batch_id: 3, loss: 2.337165594100952\n",
            "\u001b[36m(train_mel_spec_model pid=2408)\u001b[0m epoch: 2, batch_id: 4, loss: 2.334697961807251\n",
            "\u001b[36m(train_mel_spec_model pid=2408)\u001b[0m epoch: 2, batch_id: 5, loss: 2.299506187438965\n",
            "\u001b[36m(train_mel_spec_model pid=2408)\u001b[0m epoch: 2, batch_id: 6, loss: 2.3238635063171387\n",
            "\u001b[36m(train_mel_spec_model pid=2408)\u001b[0m epoch: 2, batch_id: 7, loss: 2.279463291168213\n",
            "\u001b[36m(train_mel_spec_model pid=2408)\u001b[0m epoch: 2, batch_id: 8, loss: 2.3286421298980713\n",
            "\u001b[36m(train_mel_spec_model pid=2408)\u001b[0m epoch: 2, batch_id: 9, loss: 2.339193820953369\n",
            "\u001b[36m(train_mel_spec_model pid=2408)\u001b[0m epoch: 2, batch_id: 10, loss: 2.286830186843872\n",
            "\u001b[36m(train_mel_spec_model pid=2408)\u001b[0m epoch: 2, batch_id: 11, loss: 2.352583885192871\n",
            "\u001b[36m(train_mel_spec_model pid=2408)\u001b[0m epoch: 2, batch_id: 12, loss: 2.296921491622925\n",
            "\u001b[36m(train_mel_spec_model pid=2408)\u001b[0m epoch: 2, batch_id: 13, loss: 2.31408953666687\n",
            "\u001b[36m(train_mel_spec_model pid=2408)\u001b[0m epoch: 2, batch_id: 14, loss: 2.325885057449341\n",
            "\u001b[36m(train_mel_spec_model pid=2408)\u001b[0m epoch: 2, batch_id: 15, loss: 2.288102149963379\n",
            "\u001b[36m(train_mel_spec_model pid=2408)\u001b[0m epoch: 2, batch_id: 16, loss: 2.276641845703125\n",
            "\u001b[36m(train_mel_spec_model pid=2408)\u001b[0m epoch: 2, batch_id: 17, loss: 2.3494815826416016\n"
          ]
        },
        {
          "output_type": "stream",
          "name": "stderr",
          "text": [
            "\u001b[36m(train_mel_spec_model pid=2408)\u001b[0m Checkpoint successfully created at: Checkpoint(filesystem=local, path=/root/ray_results/train_mel_spec_model_2024-04-11_03-45-31/train_mel_spec_model_f562d_00001_1_batch_size=45,l1=700,l2=5,lr=0.0185,num_epochs=35_2024-04-11_03-45-37/checkpoint_000002)\n"
          ]
        },
        {
          "output_type": "stream",
          "name": "stdout",
          "text": [
            "\u001b[36m(train_mel_spec_model pid=2408)\u001b[0m Validation Loss: 2.3119593461354575, Accuracy: 0.1111111111111111\n",
            "\u001b[36m(train_mel_spec_model pid=2408)\u001b[0m epoch: 3, batch_id: 0, loss: 2.3214590549468994\n",
            "\u001b[36m(train_mel_spec_model pid=2408)\u001b[0m epoch: 3, batch_id: 1, loss: 2.326620101928711\n",
            "\u001b[36m(train_mel_spec_model pid=2408)\u001b[0m epoch: 3, batch_id: 2, loss: 2.292445659637451\n",
            "\u001b[36m(train_mel_spec_model pid=2408)\u001b[0m epoch: 3, batch_id: 3, loss: 2.2828516960144043\n",
            "\u001b[36m(train_mel_spec_model pid=2408)\u001b[0m epoch: 3, batch_id: 4, loss: 2.282369375228882\n",
            "\u001b[36m(train_mel_spec_model pid=2408)\u001b[0m epoch: 3, batch_id: 5, loss: 2.3072166442871094\n",
            "\u001b[36m(train_mel_spec_model pid=2408)\u001b[0m epoch: 3, batch_id: 6, loss: 2.3321831226348877\n",
            "\u001b[36m(train_mel_spec_model pid=2408)\u001b[0m epoch: 3, batch_id: 7, loss: 2.3023836612701416\n",
            "\u001b[36m(train_mel_spec_model pid=2408)\u001b[0m epoch: 3, batch_id: 8, loss: 2.326618194580078\n",
            "\u001b[36m(train_mel_spec_model pid=2408)\u001b[0m epoch: 3, batch_id: 9, loss: 2.302194118499756\n",
            "\u001b[36m(train_mel_spec_model pid=2408)\u001b[0m epoch: 3, batch_id: 10, loss: 2.307663917541504\n",
            "\u001b[36m(train_mel_spec_model pid=2408)\u001b[0m epoch: 3, batch_id: 11, loss: 2.3106093406677246\n",
            "\u001b[36m(train_mel_spec_model pid=2408)\u001b[0m epoch: 3, batch_id: 12, loss: 2.307321310043335\n",
            "\u001b[36m(train_mel_spec_model pid=2408)\u001b[0m epoch: 3, batch_id: 13, loss: 2.318713665008545\n",
            "\u001b[36m(train_mel_spec_model pid=2408)\u001b[0m epoch: 3, batch_id: 14, loss: 2.2972543239593506\n",
            "\u001b[36m(train_mel_spec_model pid=2408)\u001b[0m epoch: 3, batch_id: 15, loss: 2.3231828212738037\n",
            "\u001b[36m(train_mel_spec_model pid=2408)\u001b[0m epoch: 3, batch_id: 16, loss: 2.297527551651001\n",
            "\u001b[36m(train_mel_spec_model pid=2408)\u001b[0m epoch: 3, batch_id: 17, loss: 2.3246593475341797\n"
          ]
        },
        {
          "output_type": "stream",
          "name": "stderr",
          "text": [
            "\u001b[36m(train_mel_spec_model pid=2408)\u001b[0m Checkpoint successfully created at: Checkpoint(filesystem=local, path=/root/ray_results/train_mel_spec_model_2024-04-11_03-45-31/train_mel_spec_model_f562d_00001_1_batch_size=45,l1=700,l2=5,lr=0.0185,num_epochs=35_2024-04-11_03-45-37/checkpoint_000003)\n"
          ]
        },
        {
          "output_type": "stream",
          "name": "stdout",
          "text": [
            "\u001b[36m(train_mel_spec_model pid=2408)\u001b[0m Validation Loss: 2.3048866589864097, Accuracy: 0.08080808080808081\n",
            "\u001b[36m(train_mel_spec_model pid=2408)\u001b[0m epoch: 4, batch_id: 0, loss: 2.301043748855591\n",
            "\u001b[36m(train_mel_spec_model pid=2408)\u001b[0m epoch: 4, batch_id: 1, loss: 2.2964096069335938\n",
            "\u001b[36m(train_mel_spec_model pid=2408)\u001b[0m epoch: 4, batch_id: 2, loss: 2.306734323501587\n",
            "\u001b[36m(train_mel_spec_model pid=2408)\u001b[0m epoch: 4, batch_id: 3, loss: 2.3024773597717285\n",
            "\u001b[36m(train_mel_spec_model pid=2408)\u001b[0m epoch: 4, batch_id: 4, loss: 2.2987968921661377\n",
            "\u001b[36m(train_mel_spec_model pid=2408)\u001b[0m epoch: 4, batch_id: 5, loss: 2.3181545734405518\n",
            "\u001b[36m(train_mel_spec_model pid=2408)\u001b[0m epoch: 4, batch_id: 6, loss: 2.311784029006958\n",
            "\u001b[36m(train_mel_spec_model pid=2408)\u001b[0m epoch: 4, batch_id: 7, loss: 2.2972898483276367\n",
            "\u001b[36m(train_mel_spec_model pid=2408)\u001b[0m epoch: 4, batch_id: 8, loss: 2.3207156658172607\n",
            "\u001b[36m(train_mel_spec_model pid=2408)\u001b[0m epoch: 4, batch_id: 9, loss: 2.3381152153015137\n",
            "\u001b[36m(train_mel_spec_model pid=2408)\u001b[0m epoch: 4, batch_id: 10, loss: 2.2994959354400635\n",
            "\u001b[36m(train_mel_spec_model pid=2408)\u001b[0m epoch: 4, batch_id: 11, loss: 2.318826675415039\n",
            "\u001b[36m(train_mel_spec_model pid=2408)\u001b[0m epoch: 4, batch_id: 12, loss: 2.2897024154663086\n",
            "\u001b[36m(train_mel_spec_model pid=2408)\u001b[0m epoch: 4, batch_id: 13, loss: 2.2890491485595703\n",
            "\u001b[36m(train_mel_spec_model pid=2408)\u001b[0m epoch: 4, batch_id: 14, loss: 2.303600549697876\n",
            "\u001b[36m(train_mel_spec_model pid=2408)\u001b[0m epoch: 4, batch_id: 15, loss: 2.300257921218872\n",
            "\u001b[36m(train_mel_spec_model pid=2408)\u001b[0m epoch: 4, batch_id: 16, loss: 2.3139240741729736\n",
            "\u001b[36m(train_mel_spec_model pid=2408)\u001b[0m epoch: 4, batch_id: 17, loss: 2.3109123706817627\n"
          ]
        },
        {
          "output_type": "stream",
          "name": "stderr",
          "text": [
            "\u001b[36m(train_mel_spec_model pid=2408)\u001b[0m Checkpoint successfully created at: Checkpoint(filesystem=local, path=/root/ray_results/train_mel_spec_model_2024-04-11_03-45-31/train_mel_spec_model_f562d_00001_1_batch_size=45,l1=700,l2=5,lr=0.0185,num_epochs=35_2024-04-11_03-45-37/checkpoint_000004)\n"
          ]
        },
        {
          "output_type": "stream",
          "name": "stdout",
          "text": [
            "\u001b[36m(train_mel_spec_model pid=2408)\u001b[0m Validation Loss: 2.310492197672526, Accuracy: 0.08080808080808081\n",
            "\u001b[36m(train_mel_spec_model pid=2408)\u001b[0m epoch: 5, batch_id: 0, loss: 2.3136935234069824\n",
            "\u001b[36m(train_mel_spec_model pid=2408)\u001b[0m epoch: 5, batch_id: 1, loss: 2.288046360015869\n",
            "\u001b[36m(train_mel_spec_model pid=2408)\u001b[0m epoch: 5, batch_id: 2, loss: 2.306323528289795\n",
            "\u001b[36m(train_mel_spec_model pid=2408)\u001b[0m epoch: 5, batch_id: 3, loss: 2.3088603019714355\n",
            "\u001b[36m(train_mel_spec_model pid=2408)\u001b[0m epoch: 5, batch_id: 4, loss: 2.2883334159851074\n",
            "\u001b[36m(train_mel_spec_model pid=2408)\u001b[0m epoch: 5, batch_id: 5, loss: 2.3105549812316895\n",
            "\u001b[36m(train_mel_spec_model pid=2408)\u001b[0m epoch: 5, batch_id: 6, loss: 2.28173828125\n",
            "\u001b[36m(train_mel_spec_model pid=2408)\u001b[0m epoch: 5, batch_id: 7, loss: 2.3148012161254883\n",
            "\u001b[36m(train_mel_spec_model pid=2408)\u001b[0m epoch: 5, batch_id: 8, loss: 2.286299228668213\n",
            "\u001b[36m(train_mel_spec_model pid=2408)\u001b[0m epoch: 5, batch_id: 9, loss: 2.316753625869751\n",
            "\u001b[36m(train_mel_spec_model pid=2408)\u001b[0m epoch: 5, batch_id: 10, loss: 2.3082995414733887\n",
            "\u001b[36m(train_mel_spec_model pid=2408)\u001b[0m epoch: 5, batch_id: 11, loss: 2.3016202449798584\n",
            "\u001b[36m(train_mel_spec_model pid=2408)\u001b[0m epoch: 5, batch_id: 12, loss: 2.298776626586914\n",
            "\u001b[36m(train_mel_spec_model pid=2408)\u001b[0m epoch: 5, batch_id: 13, loss: 2.3085761070251465\n",
            "\u001b[36m(train_mel_spec_model pid=2408)\u001b[0m epoch: 5, batch_id: 14, loss: 2.305988311767578\n",
            "\u001b[36m(train_mel_spec_model pid=2408)\u001b[0m epoch: 5, batch_id: 15, loss: 2.304433584213257\n",
            "\u001b[36m(train_mel_spec_model pid=2408)\u001b[0m epoch: 5, batch_id: 16, loss: 2.318521499633789\n",
            "\u001b[36m(train_mel_spec_model pid=2408)\u001b[0m epoch: 5, batch_id: 17, loss: 2.30893611907959\n"
          ]
        },
        {
          "output_type": "stream",
          "name": "stderr",
          "text": [
            "\u001b[36m(train_mel_spec_model pid=2408)\u001b[0m Checkpoint successfully created at: Checkpoint(filesystem=local, path=/root/ray_results/train_mel_spec_model_2024-04-11_03-45-31/train_mel_spec_model_f562d_00001_1_batch_size=45,l1=700,l2=5,lr=0.0185,num_epochs=35_2024-04-11_03-45-37/checkpoint_000005)\n"
          ]
        },
        {
          "output_type": "stream",
          "name": "stdout",
          "text": [
            "\u001b[36m(train_mel_spec_model pid=2408)\u001b[0m Validation Loss: 2.302746534347534, Accuracy: 0.08080808080808081\n",
            "\u001b[36m(train_mel_spec_model pid=2408)\u001b[0m epoch: 6, batch_id: 0, loss: 2.291882038116455\n",
            "\u001b[36m(train_mel_spec_model pid=2408)\u001b[0m epoch: 6, batch_id: 1, loss: 2.292703866958618\n",
            "\u001b[36m(train_mel_spec_model pid=2408)\u001b[0m epoch: 6, batch_id: 2, loss: 2.308882236480713\n",
            "\u001b[36m(train_mel_spec_model pid=2408)\u001b[0m epoch: 6, batch_id: 3, loss: 2.304746150970459\n",
            "\u001b[36m(train_mel_spec_model pid=2408)\u001b[0m epoch: 6, batch_id: 4, loss: 2.297888994216919\n",
            "\u001b[36m(train_mel_spec_model pid=2408)\u001b[0m epoch: 6, batch_id: 5, loss: 2.2989447116851807\n",
            "\u001b[36m(train_mel_spec_model pid=2408)\u001b[0m epoch: 6, batch_id: 6, loss: 2.301219940185547\n",
            "\u001b[36m(train_mel_spec_model pid=2408)\u001b[0m epoch: 6, batch_id: 7, loss: 2.311020851135254\n",
            "\u001b[36m(train_mel_spec_model pid=2408)\u001b[0m epoch: 6, batch_id: 8, loss: 2.3198866844177246\n",
            "\u001b[36m(train_mel_spec_model pid=2408)\u001b[0m epoch: 6, batch_id: 9, loss: 2.3088879585266113\n",
            "\u001b[36m(train_mel_spec_model pid=2408)\u001b[0m epoch: 6, batch_id: 10, loss: 2.2949512004852295\n",
            "\u001b[36m(train_mel_spec_model pid=2408)\u001b[0m epoch: 6, batch_id: 11, loss: 2.2839977741241455\n",
            "\u001b[36m(train_mel_spec_model pid=2408)\u001b[0m epoch: 6, batch_id: 12, loss: 2.3110275268554688\n",
            "\u001b[36m(train_mel_spec_model pid=2408)\u001b[0m epoch: 6, batch_id: 13, loss: 2.3026089668273926\n",
            "\u001b[36m(train_mel_spec_model pid=2408)\u001b[0m epoch: 6, batch_id: 14, loss: 2.3040404319763184\n",
            "\u001b[36m(train_mel_spec_model pid=2408)\u001b[0m epoch: 6, batch_id: 15, loss: 2.3049349784851074\n",
            "\u001b[36m(train_mel_spec_model pid=2408)\u001b[0m epoch: 6, batch_id: 16, loss: 2.3118557929992676\n",
            "\u001b[36m(train_mel_spec_model pid=2408)\u001b[0m epoch: 6, batch_id: 17, loss: 2.3212389945983887\n"
          ]
        },
        {
          "output_type": "stream",
          "name": "stderr",
          "text": [
            "\u001b[36m(train_mel_spec_model pid=2408)\u001b[0m Checkpoint successfully created at: Checkpoint(filesystem=local, path=/root/ray_results/train_mel_spec_model_2024-04-11_03-45-31/train_mel_spec_model_f562d_00001_1_batch_size=45,l1=700,l2=5,lr=0.0185,num_epochs=35_2024-04-11_03-45-37/checkpoint_000006)\n"
          ]
        },
        {
          "output_type": "stream",
          "name": "stdout",
          "text": [
            "\u001b[36m(train_mel_spec_model pid=2408)\u001b[0m Validation Loss: 2.3154645760854087, Accuracy: 0.08080808080808081\n",
            "\u001b[36m(train_mel_spec_model pid=2408)\u001b[0m epoch: 7, batch_id: 0, loss: 2.312823534011841\n",
            "\u001b[36m(train_mel_spec_model pid=2408)\u001b[0m epoch: 7, batch_id: 1, loss: 2.318115711212158\n",
            "\u001b[36m(train_mel_spec_model pid=2408)\u001b[0m epoch: 7, batch_id: 2, loss: 2.31132435798645\n",
            "\u001b[36m(train_mel_spec_model pid=2408)\u001b[0m epoch: 7, batch_id: 3, loss: 2.305237293243408\n",
            "\u001b[36m(train_mel_spec_model pid=2408)\u001b[0m epoch: 7, batch_id: 4, loss: 2.305941343307495\n",
            "\u001b[36m(train_mel_spec_model pid=2408)\u001b[0m epoch: 7, batch_id: 5, loss: 2.298168659210205\n",
            "\u001b[36m(train_mel_spec_model pid=2408)\u001b[0m epoch: 7, batch_id: 6, loss: 2.2908389568328857\n",
            "\u001b[36m(train_mel_spec_model pid=2408)\u001b[0m epoch: 7, batch_id: 7, loss: 2.298487424850464\n",
            "\u001b[36m(train_mel_spec_model pid=2408)\u001b[0m epoch: 7, batch_id: 8, loss: 2.302030563354492\n",
            "\u001b[36m(train_mel_spec_model pid=2408)\u001b[0m epoch: 7, batch_id: 9, loss: 2.3006341457366943\n",
            "\u001b[36m(train_mel_spec_model pid=2408)\u001b[0m epoch: 7, batch_id: 10, loss: 2.2909743785858154\n",
            "\u001b[36m(train_mel_spec_model pid=2408)\u001b[0m epoch: 7, batch_id: 11, loss: 2.3111989498138428\n",
            "\u001b[36m(train_mel_spec_model pid=2408)\u001b[0m epoch: 7, batch_id: 12, loss: 2.306666851043701\n",
            "\u001b[36m(train_mel_spec_model pid=2408)\u001b[0m epoch: 7, batch_id: 13, loss: 2.3081021308898926\n",
            "\u001b[36m(train_mel_spec_model pid=2408)\u001b[0m epoch: 7, batch_id: 14, loss: 2.299194574356079\n",
            "\u001b[36m(train_mel_spec_model pid=2408)\u001b[0m epoch: 7, batch_id: 15, loss: 2.288271188735962\n",
            "\u001b[36m(train_mel_spec_model pid=2408)\u001b[0m epoch: 7, batch_id: 16, loss: 2.311530590057373\n",
            "\u001b[36m(train_mel_spec_model pid=2408)\u001b[0m epoch: 7, batch_id: 17, loss: 2.3087880611419678\n"
          ]
        },
        {
          "output_type": "stream",
          "name": "stderr",
          "text": [
            "\u001b[36m(train_mel_spec_model pid=2408)\u001b[0m Checkpoint successfully created at: Checkpoint(filesystem=local, path=/root/ray_results/train_mel_spec_model_2024-04-11_03-45-31/train_mel_spec_model_f562d_00001_1_batch_size=45,l1=700,l2=5,lr=0.0185,num_epochs=35_2024-04-11_03-45-37/checkpoint_000007)\n"
          ]
        },
        {
          "output_type": "stream",
          "name": "stdout",
          "text": [
            "\u001b[36m(train_mel_spec_model pid=2408)\u001b[0m Validation Loss: 2.3072323004404702, Accuracy: 0.08080808080808081\n",
            "\u001b[36m(train_mel_spec_model pid=2408)\u001b[0m epoch: 8, batch_id: 0, loss: 2.293036699295044\n",
            "\u001b[36m(train_mel_spec_model pid=2408)\u001b[0m epoch: 8, batch_id: 1, loss: 2.2959680557250977\n",
            "\u001b[36m(train_mel_spec_model pid=2408)\u001b[0m epoch: 8, batch_id: 2, loss: 2.292046546936035\n",
            "\u001b[36m(train_mel_spec_model pid=2408)\u001b[0m epoch: 8, batch_id: 3, loss: 2.2972469329833984\n",
            "\u001b[36m(train_mel_spec_model pid=2408)\u001b[0m epoch: 8, batch_id: 4, loss: 2.2950327396392822\n",
            "\u001b[36m(train_mel_spec_model pid=2408)\u001b[0m epoch: 8, batch_id: 5, loss: 2.309256076812744\n",
            "\u001b[36m(train_mel_spec_model pid=2408)\u001b[0m epoch: 8, batch_id: 6, loss: 2.3106300830841064\n",
            "\u001b[36m(train_mel_spec_model pid=2408)\u001b[0m epoch: 8, batch_id: 7, loss: 2.311917304992676\n",
            "\u001b[36m(train_mel_spec_model pid=2408)\u001b[0m epoch: 8, batch_id: 8, loss: 2.3170814514160156\n",
            "\u001b[36m(train_mel_spec_model pid=2408)\u001b[0m epoch: 8, batch_id: 9, loss: 2.2960219383239746\n",
            "\u001b[36m(train_mel_spec_model pid=2408)\u001b[0m epoch: 8, batch_id: 10, loss: 2.296520709991455\n",
            "\u001b[36m(train_mel_spec_model pid=2408)\u001b[0m epoch: 8, batch_id: 11, loss: 2.303583860397339\n",
            "\u001b[36m(train_mel_spec_model pid=2408)\u001b[0m epoch: 8, batch_id: 12, loss: 2.2933528423309326\n",
            "\u001b[36m(train_mel_spec_model pid=2408)\u001b[0m epoch: 8, batch_id: 13, loss: 2.3118903636932373\n",
            "\u001b[36m(train_mel_spec_model pid=2408)\u001b[0m epoch: 8, batch_id: 14, loss: 2.310117483139038\n",
            "\u001b[36m(train_mel_spec_model pid=2408)\u001b[0m epoch: 8, batch_id: 15, loss: 2.310734987258911\n",
            "\u001b[36m(train_mel_spec_model pid=2408)\u001b[0m epoch: 8, batch_id: 16, loss: 2.3022305965423584\n",
            "\u001b[36m(train_mel_spec_model pid=2408)\u001b[0m epoch: 8, batch_id: 17, loss: 2.317357301712036\n"
          ]
        },
        {
          "output_type": "stream",
          "name": "stderr",
          "text": [
            "\u001b[36m(train_mel_spec_model pid=2408)\u001b[0m Checkpoint successfully created at: Checkpoint(filesystem=local, path=/root/ray_results/train_mel_spec_model_2024-04-11_03-45-31/train_mel_spec_model_f562d_00001_1_batch_size=45,l1=700,l2=5,lr=0.0185,num_epochs=35_2024-04-11_03-45-37/checkpoint_000008)\n"
          ]
        },
        {
          "output_type": "stream",
          "name": "stdout",
          "text": [
            "\u001b[36m(train_mel_spec_model pid=2408)\u001b[0m Validation Loss: 2.3101957639058432, Accuracy: 0.08080808080808081\n",
            "\u001b[36m(train_mel_spec_model pid=2408)\u001b[0m epoch: 9, batch_id: 0, loss: 2.3006389141082764\n",
            "\u001b[36m(train_mel_spec_model pid=2408)\u001b[0m epoch: 9, batch_id: 1, loss: 2.2910778522491455\n",
            "\u001b[36m(train_mel_spec_model pid=2408)\u001b[0m epoch: 9, batch_id: 2, loss: 2.3039193153381348\n",
            "\u001b[36m(train_mel_spec_model pid=2408)\u001b[0m epoch: 9, batch_id: 3, loss: 2.304767370223999\n",
            "\u001b[36m(train_mel_spec_model pid=2408)\u001b[0m epoch: 9, batch_id: 4, loss: 2.3019514083862305\n",
            "\u001b[36m(train_mel_spec_model pid=2408)\u001b[0m epoch: 9, batch_id: 5, loss: 2.2967917919158936\n",
            "\u001b[36m(train_mel_spec_model pid=2408)\u001b[0m epoch: 9, batch_id: 6, loss: 2.306274652481079\n",
            "\u001b[36m(train_mel_spec_model pid=2408)\u001b[0m epoch: 9, batch_id: 7, loss: 2.301468849182129\n",
            "\u001b[36m(train_mel_spec_model pid=2408)\u001b[0m epoch: 9, batch_id: 8, loss: 2.3063650131225586\n",
            "\u001b[36m(train_mel_spec_model pid=2408)\u001b[0m epoch: 9, batch_id: 9, loss: 2.306180477142334\n",
            "\u001b[36m(train_mel_spec_model pid=2408)\u001b[0m epoch: 9, batch_id: 10, loss: 2.3035874366760254\n",
            "\u001b[36m(train_mel_spec_model pid=2408)\u001b[0m epoch: 9, batch_id: 11, loss: 2.3069958686828613\n",
            "\u001b[36m(train_mel_spec_model pid=2408)\u001b[0m epoch: 9, batch_id: 12, loss: 2.295374870300293\n",
            "\u001b[36m(train_mel_spec_model pid=2408)\u001b[0m epoch: 9, batch_id: 13, loss: 2.3154006004333496\n",
            "\u001b[36m(train_mel_spec_model pid=2408)\u001b[0m epoch: 9, batch_id: 14, loss: 2.2950143814086914\n",
            "\u001b[36m(train_mel_spec_model pid=2408)\u001b[0m epoch: 9, batch_id: 15, loss: 2.3145804405212402\n",
            "\u001b[36m(train_mel_spec_model pid=2408)\u001b[0m epoch: 9, batch_id: 16, loss: 2.2989649772644043\n",
            "\u001b[36m(train_mel_spec_model pid=2408)\u001b[0m epoch: 9, batch_id: 17, loss: 2.2919819355010986\n",
            "Trial status: 1 TERMINATED | 1 RUNNING | 3 PENDING\n",
            "Current time: 2024-04-11 03:50:08. Total running time: 4min 30s\n",
            "Logical resource usage: 2.0/2 CPUs, 1.0/1 GPUs (0.0/1.0 accelerator_type:T4)\n",
            "Current best trial: f562d_00000 with loss=1.4953934252262115 and params={'l1': 550, 'l2': 15, 'lr': 0.00019002025558777404, 'batch_size': 30, 'num_epochs': 35}\n",
            "+------------------------------------------------------------------------------------------------------------------------------------------------------------+\n",
            "| Trial name                         status         l1     l2            lr     batch_size     num_epochs     iter     total time (s)      loss     accuracy |\n",
            "+------------------------------------------------------------------------------------------------------------------------------------------------------------+\n",
            "| train_mel_spec_model_f562d_00001   RUNNING       700      5   0.0185484               45             35        9            33.6697   2.3102     0.0808081 |\n",
            "| train_mel_spec_model_f562d_00000   TERMINATED    550     15   0.00019002              30             35       35           220.054    1.49539    0.525253  |\n",
            "| train_mel_spec_model_f562d_00002   PENDING       950     10   0.0017086               30             25                                                    |\n",
            "| train_mel_spec_model_f562d_00003   PENDING       450     10   0.000373188             35             35                                                    |\n",
            "| train_mel_spec_model_f562d_00004   PENDING       800     10   0.00014823               5             35                                                    |\n",
            "+------------------------------------------------------------------------------------------------------------------------------------------------------------+\n"
          ]
        },
        {
          "output_type": "stream",
          "name": "stderr",
          "text": [
            "\u001b[36m(train_mel_spec_model pid=2408)\u001b[0m Checkpoint successfully created at: Checkpoint(filesystem=local, path=/root/ray_results/train_mel_spec_model_2024-04-11_03-45-31/train_mel_spec_model_f562d_00001_1_batch_size=45,l1=700,l2=5,lr=0.0185,num_epochs=35_2024-04-11_03-45-37/checkpoint_000009)\n"
          ]
        },
        {
          "output_type": "stream",
          "name": "stdout",
          "text": [
            "\u001b[36m(train_mel_spec_model pid=2408)\u001b[0m Validation Loss: 2.3050405184427896, Accuracy: 0.08080808080808081\n",
            "\u001b[36m(train_mel_spec_model pid=2408)\u001b[0m epoch: 10, batch_id: 0, loss: 2.309274196624756\n",
            "\u001b[36m(train_mel_spec_model pid=2408)\u001b[0m epoch: 10, batch_id: 1, loss: 2.2978265285491943\n",
            "\u001b[36m(train_mel_spec_model pid=2408)\u001b[0m epoch: 10, batch_id: 2, loss: 2.303969383239746\n",
            "\u001b[36m(train_mel_spec_model pid=2408)\u001b[0m epoch: 10, batch_id: 3, loss: 2.2986018657684326\n",
            "\u001b[36m(train_mel_spec_model pid=2408)\u001b[0m epoch: 10, batch_id: 4, loss: 2.2997844219207764\n",
            "\u001b[36m(train_mel_spec_model pid=2408)\u001b[0m epoch: 10, batch_id: 5, loss: 2.308804750442505\n",
            "\u001b[36m(train_mel_spec_model pid=2408)\u001b[0m epoch: 10, batch_id: 6, loss: 2.30582332611084\n",
            "\u001b[36m(train_mel_spec_model pid=2408)\u001b[0m epoch: 10, batch_id: 7, loss: 2.2967185974121094\n",
            "\u001b[36m(train_mel_spec_model pid=2408)\u001b[0m epoch: 10, batch_id: 8, loss: 2.2981643676757812\n",
            "\u001b[36m(train_mel_spec_model pid=2408)\u001b[0m epoch: 10, batch_id: 9, loss: 2.291954517364502\n",
            "\u001b[36m(train_mel_spec_model pid=2408)\u001b[0m epoch: 10, batch_id: 10, loss: 2.3131892681121826\n",
            "\u001b[36m(train_mel_spec_model pid=2408)\u001b[0m epoch: 10, batch_id: 11, loss: 2.2946863174438477\n",
            "\u001b[36m(train_mel_spec_model pid=2408)\u001b[0m epoch: 10, batch_id: 12, loss: 2.2954089641571045\n",
            "\u001b[36m(train_mel_spec_model pid=2408)\u001b[0m epoch: 10, batch_id: 13, loss: 2.299738883972168\n",
            "\u001b[36m(train_mel_spec_model pid=2408)\u001b[0m epoch: 10, batch_id: 14, loss: 2.3081600666046143\n",
            "\u001b[36m(train_mel_spec_model pid=2408)\u001b[0m epoch: 10, batch_id: 15, loss: 2.301568031311035\n",
            "\u001b[36m(train_mel_spec_model pid=2408)\u001b[0m epoch: 10, batch_id: 16, loss: 2.3120276927948\n",
            "\u001b[36m(train_mel_spec_model pid=2408)\u001b[0m epoch: 10, batch_id: 17, loss: 2.3180036544799805\n"
          ]
        },
        {
          "output_type": "stream",
          "name": "stderr",
          "text": [
            "\u001b[36m(train_mel_spec_model pid=2408)\u001b[0m Checkpoint successfully created at: Checkpoint(filesystem=local, path=/root/ray_results/train_mel_spec_model_2024-04-11_03-45-31/train_mel_spec_model_f562d_00001_1_batch_size=45,l1=700,l2=5,lr=0.0185,num_epochs=35_2024-04-11_03-45-37/checkpoint_000010)\n"
          ]
        },
        {
          "output_type": "stream",
          "name": "stdout",
          "text": [
            "\u001b[36m(train_mel_spec_model pid=2408)\u001b[0m Validation Loss: 2.3140228589375815, Accuracy: 0.08080808080808081\n",
            "\u001b[36m(train_mel_spec_model pid=2408)\u001b[0m epoch: 11, batch_id: 0, loss: 2.2999649047851562\n",
            "\u001b[36m(train_mel_spec_model pid=2408)\u001b[0m epoch: 11, batch_id: 1, loss: 2.295785903930664\n",
            "\u001b[36m(train_mel_spec_model pid=2408)\u001b[0m epoch: 11, batch_id: 2, loss: 2.2868244647979736\n",
            "\u001b[36m(train_mel_spec_model pid=2408)\u001b[0m epoch: 11, batch_id: 3, loss: 2.313002586364746\n",
            "\u001b[36m(train_mel_spec_model pid=2408)\u001b[0m epoch: 11, batch_id: 4, loss: 2.3063344955444336\n",
            "\u001b[36m(train_mel_spec_model pid=2408)\u001b[0m epoch: 11, batch_id: 5, loss: 2.309717893600464\n",
            "\u001b[36m(train_mel_spec_model pid=2408)\u001b[0m epoch: 11, batch_id: 6, loss: 2.298295259475708\n",
            "\u001b[36m(train_mel_spec_model pid=2408)\u001b[0m epoch: 11, batch_id: 7, loss: 2.29431414604187\n",
            "\u001b[36m(train_mel_spec_model pid=2408)\u001b[0m epoch: 11, batch_id: 8, loss: 2.30436635017395\n",
            "\u001b[36m(train_mel_spec_model pid=2408)\u001b[0m epoch: 11, batch_id: 9, loss: 2.3087141513824463\n",
            "\u001b[36m(train_mel_spec_model pid=2408)\u001b[0m epoch: 11, batch_id: 10, loss: 2.3061249256134033\n",
            "\u001b[36m(train_mel_spec_model pid=2408)\u001b[0m epoch: 11, batch_id: 11, loss: 2.296494722366333\n",
            "\u001b[36m(train_mel_spec_model pid=2408)\u001b[0m epoch: 11, batch_id: 12, loss: 2.302091360092163\n",
            "\u001b[36m(train_mel_spec_model pid=2408)\u001b[0m epoch: 11, batch_id: 13, loss: 2.3079864978790283\n",
            "\u001b[36m(train_mel_spec_model pid=2408)\u001b[0m epoch: 11, batch_id: 14, loss: 2.3059020042419434\n",
            "\u001b[36m(train_mel_spec_model pid=2408)\u001b[0m epoch: 11, batch_id: 15, loss: 2.304732322692871\n",
            "\u001b[36m(train_mel_spec_model pid=2408)\u001b[0m epoch: 11, batch_id: 16, loss: 2.301314353942871\n",
            "\u001b[36m(train_mel_spec_model pid=2408)\u001b[0m epoch: 11, batch_id: 17, loss: 2.3107242584228516\n"
          ]
        },
        {
          "output_type": "stream",
          "name": "stderr",
          "text": [
            "\u001b[36m(train_mel_spec_model pid=2408)\u001b[0m Checkpoint successfully created at: Checkpoint(filesystem=local, path=/root/ray_results/train_mel_spec_model_2024-04-11_03-45-31/train_mel_spec_model_f562d_00001_1_batch_size=45,l1=700,l2=5,lr=0.0185,num_epochs=35_2024-04-11_03-45-37/checkpoint_000011)\n"
          ]
        },
        {
          "output_type": "stream",
          "name": "stdout",
          "text": [
            "\u001b[36m(train_mel_spec_model pid=2408)\u001b[0m Validation Loss: 2.3163188298543296, Accuracy: 0.08080808080808081\n",
            "\u001b[36m(train_mel_spec_model pid=2408)\u001b[0m epoch: 12, batch_id: 0, loss: 2.304884672164917\n",
            "\u001b[36m(train_mel_spec_model pid=2408)\u001b[0m epoch: 12, batch_id: 1, loss: 2.308555841445923\n",
            "\u001b[36m(train_mel_spec_model pid=2408)\u001b[0m epoch: 12, batch_id: 2, loss: 2.3006176948547363\n",
            "\u001b[36m(train_mel_spec_model pid=2408)\u001b[0m epoch: 12, batch_id: 3, loss: 2.3010764122009277\n",
            "\u001b[36m(train_mel_spec_model pid=2408)\u001b[0m epoch: 12, batch_id: 4, loss: 2.2982919216156006\n",
            "\u001b[36m(train_mel_spec_model pid=2408)\u001b[0m epoch: 12, batch_id: 5, loss: 2.311110734939575\n",
            "\u001b[36m(train_mel_spec_model pid=2408)\u001b[0m epoch: 12, batch_id: 6, loss: 2.306216239929199\n",
            "\u001b[36m(train_mel_spec_model pid=2408)\u001b[0m epoch: 12, batch_id: 7, loss: 2.299851655960083\n",
            "\u001b[36m(train_mel_spec_model pid=2408)\u001b[0m epoch: 12, batch_id: 8, loss: 2.301703929901123\n",
            "\u001b[36m(train_mel_spec_model pid=2408)\u001b[0m epoch: 12, batch_id: 9, loss: 2.3000948429107666\n",
            "\u001b[36m(train_mel_spec_model pid=2408)\u001b[0m epoch: 12, batch_id: 10, loss: 2.3030142784118652\n",
            "\u001b[36m(train_mel_spec_model pid=2408)\u001b[0m epoch: 12, batch_id: 11, loss: 2.2981326580047607\n",
            "\u001b[36m(train_mel_spec_model pid=2408)\u001b[0m epoch: 12, batch_id: 12, loss: 2.3042361736297607\n",
            "\u001b[36m(train_mel_spec_model pid=2408)\u001b[0m epoch: 12, batch_id: 13, loss: 2.2879812717437744\n",
            "\u001b[36m(train_mel_spec_model pid=2408)\u001b[0m epoch: 12, batch_id: 14, loss: 2.3087480068206787\n",
            "\u001b[36m(train_mel_spec_model pid=2408)\u001b[0m epoch: 12, batch_id: 15, loss: 2.305532455444336\n",
            "\u001b[36m(train_mel_spec_model pid=2408)\u001b[0m epoch: 12, batch_id: 16, loss: 2.304941177368164\n",
            "\u001b[36m(train_mel_spec_model pid=2408)\u001b[0m epoch: 12, batch_id: 17, loss: 2.3113198280334473\n"
          ]
        },
        {
          "output_type": "stream",
          "name": "stderr",
          "text": [
            "\u001b[36m(train_mel_spec_model pid=2408)\u001b[0m Checkpoint successfully created at: Checkpoint(filesystem=local, path=/root/ray_results/train_mel_spec_model_2024-04-11_03-45-31/train_mel_spec_model_f562d_00001_1_batch_size=45,l1=700,l2=5,lr=0.0185,num_epochs=35_2024-04-11_03-45-37/checkpoint_000012)\n"
          ]
        },
        {
          "output_type": "stream",
          "name": "stdout",
          "text": [
            "\u001b[36m(train_mel_spec_model pid=2408)\u001b[0m Validation Loss: 2.3067105611165366, Accuracy: 0.08080808080808081\n",
            "\u001b[36m(train_mel_spec_model pid=2408)\u001b[0m epoch: 13, batch_id: 0, loss: 2.3071177005767822\n",
            "\u001b[36m(train_mel_spec_model pid=2408)\u001b[0m epoch: 13, batch_id: 1, loss: 2.295259714126587\n",
            "\u001b[36m(train_mel_spec_model pid=2408)\u001b[0m epoch: 13, batch_id: 2, loss: 2.3063483238220215\n",
            "\u001b[36m(train_mel_spec_model pid=2408)\u001b[0m epoch: 13, batch_id: 3, loss: 2.3108527660369873\n",
            "\u001b[36m(train_mel_spec_model pid=2408)\u001b[0m epoch: 13, batch_id: 4, loss: 2.2983899116516113\n",
            "\u001b[36m(train_mel_spec_model pid=2408)\u001b[0m epoch: 13, batch_id: 5, loss: 2.2910943031311035\n",
            "\u001b[36m(train_mel_spec_model pid=2408)\u001b[0m epoch: 13, batch_id: 6, loss: 2.3038077354431152\n",
            "\u001b[36m(train_mel_spec_model pid=2408)\u001b[0m epoch: 13, batch_id: 7, loss: 2.303435802459717\n",
            "\u001b[36m(train_mel_spec_model pid=2408)\u001b[0m epoch: 13, batch_id: 8, loss: 2.31296706199646\n",
            "\u001b[36m(train_mel_spec_model pid=2408)\u001b[0m epoch: 13, batch_id: 9, loss: 2.3044869899749756\n",
            "\u001b[36m(train_mel_spec_model pid=2408)\u001b[0m epoch: 13, batch_id: 10, loss: 2.2915284633636475\n",
            "\u001b[36m(train_mel_spec_model pid=2408)\u001b[0m epoch: 13, batch_id: 11, loss: 2.3123161792755127\n",
            "\u001b[36m(train_mel_spec_model pid=2408)\u001b[0m epoch: 13, batch_id: 12, loss: 2.2965474128723145\n",
            "\u001b[36m(train_mel_spec_model pid=2408)\u001b[0m epoch: 13, batch_id: 13, loss: 2.2931480407714844\n",
            "\u001b[36m(train_mel_spec_model pid=2408)\u001b[0m epoch: 13, batch_id: 14, loss: 2.283421277999878\n",
            "\u001b[36m(train_mel_spec_model pid=2408)\u001b[0m epoch: 13, batch_id: 15, loss: 2.3214831352233887\n",
            "\u001b[36m(train_mel_spec_model pid=2408)\u001b[0m epoch: 13, batch_id: 16, loss: 2.30483341217041\n",
            "\u001b[36m(train_mel_spec_model pid=2408)\u001b[0m epoch: 13, batch_id: 17, loss: 2.324579954147339\n"
          ]
        },
        {
          "output_type": "stream",
          "name": "stderr",
          "text": [
            "\u001b[36m(train_mel_spec_model pid=2408)\u001b[0m Checkpoint successfully created at: Checkpoint(filesystem=local, path=/root/ray_results/train_mel_spec_model_2024-04-11_03-45-31/train_mel_spec_model_f562d_00001_1_batch_size=45,l1=700,l2=5,lr=0.0185,num_epochs=35_2024-04-11_03-45-37/checkpoint_000013)\n"
          ]
        },
        {
          "output_type": "stream",
          "name": "stdout",
          "text": [
            "\u001b[36m(train_mel_spec_model pid=2408)\u001b[0m Validation Loss: 2.318103551864624, Accuracy: 0.08080808080808081\n",
            "\u001b[36m(train_mel_spec_model pid=2408)\u001b[0m epoch: 14, batch_id: 0, loss: 2.3147504329681396\n",
            "\u001b[36m(train_mel_spec_model pid=2408)\u001b[0m epoch: 14, batch_id: 1, loss: 2.3000314235687256\n",
            "\u001b[36m(train_mel_spec_model pid=2408)\u001b[0m epoch: 14, batch_id: 2, loss: 2.3111982345581055\n",
            "\u001b[36m(train_mel_spec_model pid=2408)\u001b[0m epoch: 14, batch_id: 3, loss: 2.3044371604919434\n",
            "\u001b[36m(train_mel_spec_model pid=2408)\u001b[0m epoch: 14, batch_id: 4, loss: 2.3034894466400146\n",
            "\u001b[36m(train_mel_spec_model pid=2408)\u001b[0m epoch: 14, batch_id: 5, loss: 2.285701274871826\n",
            "\u001b[36m(train_mel_spec_model pid=2408)\u001b[0m epoch: 14, batch_id: 6, loss: 2.3037030696868896\n",
            "\u001b[36m(train_mel_spec_model pid=2408)\u001b[0m epoch: 14, batch_id: 7, loss: 2.299290180206299\n",
            "\u001b[36m(train_mel_spec_model pid=2408)\u001b[0m epoch: 14, batch_id: 8, loss: 2.299076557159424\n",
            "\u001b[36m(train_mel_spec_model pid=2408)\u001b[0m epoch: 14, batch_id: 9, loss: 2.303715229034424\n",
            "\u001b[36m(train_mel_spec_model pid=2408)\u001b[0m epoch: 14, batch_id: 10, loss: 2.2913858890533447\n",
            "\u001b[36m(train_mel_spec_model pid=2408)\u001b[0m epoch: 14, batch_id: 11, loss: 2.3040804862976074\n",
            "\u001b[36m(train_mel_spec_model pid=2408)\u001b[0m epoch: 14, batch_id: 12, loss: 2.3009164333343506\n",
            "\u001b[36m(train_mel_spec_model pid=2408)\u001b[0m epoch: 14, batch_id: 13, loss: 2.3042335510253906\n",
            "\u001b[36m(train_mel_spec_model pid=2408)\u001b[0m epoch: 14, batch_id: 14, loss: 2.3081109523773193\n",
            "\u001b[36m(train_mel_spec_model pid=2408)\u001b[0m epoch: 14, batch_id: 15, loss: 2.3143789768218994\n",
            "\u001b[36m(train_mel_spec_model pid=2408)\u001b[0m epoch: 14, batch_id: 16, loss: 2.3122832775115967\n",
            "\u001b[36m(train_mel_spec_model pid=2408)\u001b[0m epoch: 14, batch_id: 17, loss: 2.303558588027954\n"
          ]
        },
        {
          "output_type": "stream",
          "name": "stderr",
          "text": [
            "\u001b[36m(train_mel_spec_model pid=2408)\u001b[0m Checkpoint successfully created at: Checkpoint(filesystem=local, path=/root/ray_results/train_mel_spec_model_2024-04-11_03-45-31/train_mel_spec_model_f562d_00001_1_batch_size=45,l1=700,l2=5,lr=0.0185,num_epochs=35_2024-04-11_03-45-37/checkpoint_000014)\n"
          ]
        },
        {
          "output_type": "stream",
          "name": "stdout",
          "text": [
            "\u001b[36m(train_mel_spec_model pid=2408)\u001b[0m Validation Loss: 2.3054773807525635, Accuracy: 0.08080808080808081\n",
            "\u001b[36m(train_mel_spec_model pid=2408)\u001b[0m epoch: 15, batch_id: 0, loss: 2.3040671348571777\n",
            "\u001b[36m(train_mel_spec_model pid=2408)\u001b[0m epoch: 15, batch_id: 1, loss: 2.3082258701324463\n",
            "\u001b[36m(train_mel_spec_model pid=2408)\u001b[0m epoch: 15, batch_id: 2, loss: 2.3014841079711914\n",
            "\u001b[36m(train_mel_spec_model pid=2408)\u001b[0m epoch: 15, batch_id: 3, loss: 2.2959043979644775\n",
            "\u001b[36m(train_mel_spec_model pid=2408)\u001b[0m epoch: 15, batch_id: 4, loss: 2.305527925491333\n",
            "\u001b[36m(train_mel_spec_model pid=2408)\u001b[0m epoch: 15, batch_id: 5, loss: 2.310359239578247\n",
            "\u001b[36m(train_mel_spec_model pid=2408)\u001b[0m epoch: 15, batch_id: 6, loss: 2.3092048168182373\n",
            "\u001b[36m(train_mel_spec_model pid=2408)\u001b[0m epoch: 15, batch_id: 7, loss: 2.3067002296447754\n",
            "\u001b[36m(train_mel_spec_model pid=2408)\u001b[0m epoch: 15, batch_id: 8, loss: 2.2974750995635986\n",
            "\u001b[36m(train_mel_spec_model pid=2408)\u001b[0m epoch: 15, batch_id: 9, loss: 2.3079493045806885\n",
            "\u001b[36m(train_mel_spec_model pid=2408)\u001b[0m epoch: 15, batch_id: 10, loss: 2.3017640113830566\n",
            "\u001b[36m(train_mel_spec_model pid=2408)\u001b[0m epoch: 15, batch_id: 11, loss: 2.2989089488983154\n",
            "\u001b[36m(train_mel_spec_model pid=2408)\u001b[0m epoch: 15, batch_id: 12, loss: 2.302960157394409\n",
            "\u001b[36m(train_mel_spec_model pid=2408)\u001b[0m epoch: 15, batch_id: 13, loss: 2.3064098358154297\n",
            "\u001b[36m(train_mel_spec_model pid=2408)\u001b[0m epoch: 15, batch_id: 14, loss: 2.304755449295044\n",
            "\u001b[36m(train_mel_spec_model pid=2408)\u001b[0m epoch: 15, batch_id: 15, loss: 2.2947418689727783\n",
            "\u001b[36m(train_mel_spec_model pid=2408)\u001b[0m epoch: 15, batch_id: 16, loss: 2.3028931617736816\n",
            "\u001b[36m(train_mel_spec_model pid=2408)\u001b[0m epoch: 15, batch_id: 17, loss: 2.306234836578369\n"
          ]
        },
        {
          "output_type": "stream",
          "name": "stderr",
          "text": [
            "\u001b[36m(train_mel_spec_model pid=2408)\u001b[0m Checkpoint successfully created at: Checkpoint(filesystem=local, path=/root/ray_results/train_mel_spec_model_2024-04-11_03-45-31/train_mel_spec_model_f562d_00001_1_batch_size=45,l1=700,l2=5,lr=0.0185,num_epochs=35_2024-04-11_03-45-37/checkpoint_000015)\n"
          ]
        },
        {
          "output_type": "stream",
          "name": "stdout",
          "text": [
            "\u001b[36m(train_mel_spec_model pid=2408)\u001b[0m Validation Loss: 2.312269926071167, Accuracy: 0.08080808080808081\n",
            "\u001b[36m(train_mel_spec_model pid=2408)\u001b[0m epoch: 16, batch_id: 0, loss: 2.308396816253662\n",
            "\u001b[36m(train_mel_spec_model pid=2408)\u001b[0m epoch: 16, batch_id: 1, loss: 2.2916080951690674\n",
            "\u001b[36m(train_mel_spec_model pid=2408)\u001b[0m epoch: 16, batch_id: 2, loss: 2.30253529548645\n",
            "\u001b[36m(train_mel_spec_model pid=2408)\u001b[0m epoch: 16, batch_id: 3, loss: 2.304469585418701\n",
            "\u001b[36m(train_mel_spec_model pid=2408)\u001b[0m epoch: 16, batch_id: 4, loss: 2.290106773376465\n",
            "\u001b[36m(train_mel_spec_model pid=2408)\u001b[0m epoch: 16, batch_id: 5, loss: 2.3084514141082764\n",
            "\u001b[36m(train_mel_spec_model pid=2408)\u001b[0m epoch: 16, batch_id: 6, loss: 2.295924186706543\n",
            "\u001b[36m(train_mel_spec_model pid=2408)\u001b[0m epoch: 16, batch_id: 7, loss: 2.2987616062164307\n",
            "\u001b[36m(train_mel_spec_model pid=2408)\u001b[0m epoch: 16, batch_id: 8, loss: 2.3063242435455322\n",
            "\u001b[36m(train_mel_spec_model pid=2408)\u001b[0m epoch: 16, batch_id: 9, loss: 2.2978737354278564\n",
            "\u001b[36m(train_mel_spec_model pid=2408)\u001b[0m epoch: 16, batch_id: 10, loss: 2.30393123626709\n",
            "\u001b[36m(train_mel_spec_model pid=2408)\u001b[0m epoch: 16, batch_id: 11, loss: 2.3007571697235107\n",
            "\u001b[36m(train_mel_spec_model pid=2408)\u001b[0m epoch: 16, batch_id: 12, loss: 2.2997543811798096\n",
            "\u001b[36m(train_mel_spec_model pid=2408)\u001b[0m epoch: 16, batch_id: 13, loss: 2.302785634994507\n",
            "\u001b[36m(train_mel_spec_model pid=2408)\u001b[0m epoch: 16, batch_id: 14, loss: 2.3058998584747314\n",
            "\u001b[36m(train_mel_spec_model pid=2408)\u001b[0m epoch: 16, batch_id: 15, loss: 2.318941354751587\n",
            "\u001b[36m(train_mel_spec_model pid=2408)\u001b[0m epoch: 16, batch_id: 16, loss: 2.2982873916625977\n",
            "\u001b[36m(train_mel_spec_model pid=2408)\u001b[0m epoch: 16, batch_id: 17, loss: 2.316298723220825\n"
          ]
        },
        {
          "output_type": "stream",
          "name": "stderr",
          "text": [
            "\u001b[36m(train_mel_spec_model pid=2408)\u001b[0m Checkpoint successfully created at: Checkpoint(filesystem=local, path=/root/ray_results/train_mel_spec_model_2024-04-11_03-45-31/train_mel_spec_model_f562d_00001_1_batch_size=45,l1=700,l2=5,lr=0.0185,num_epochs=35_2024-04-11_03-45-37/checkpoint_000016)\n"
          ]
        },
        {
          "output_type": "stream",
          "name": "stdout",
          "text": [
            "\u001b[36m(train_mel_spec_model pid=2408)\u001b[0m Validation Loss: 2.3136289914449057, Accuracy: 0.08080808080808081\n",
            "\u001b[36m(train_mel_spec_model pid=2408)\u001b[0m epoch: 17, batch_id: 0, loss: 2.3080849647521973\n",
            "\u001b[36m(train_mel_spec_model pid=2408)\u001b[0m epoch: 17, batch_id: 1, loss: 2.3070547580718994\n",
            "\u001b[36m(train_mel_spec_model pid=2408)\u001b[0m epoch: 17, batch_id: 2, loss: 2.31276273727417\n",
            "\u001b[36m(train_mel_spec_model pid=2408)\u001b[0m epoch: 17, batch_id: 3, loss: 2.291800022125244\n",
            "\u001b[36m(train_mel_spec_model pid=2408)\u001b[0m epoch: 17, batch_id: 4, loss: 2.29219388961792\n",
            "\u001b[36m(train_mel_spec_model pid=2408)\u001b[0m epoch: 17, batch_id: 5, loss: 2.306452512741089\n",
            "\u001b[36m(train_mel_spec_model pid=2408)\u001b[0m epoch: 17, batch_id: 6, loss: 2.3164045810699463\n",
            "\u001b[36m(train_mel_spec_model pid=2408)\u001b[0m epoch: 17, batch_id: 7, loss: 2.303079605102539\n",
            "\u001b[36m(train_mel_spec_model pid=2408)\u001b[0m epoch: 17, batch_id: 8, loss: 2.295898675918579\n",
            "\u001b[36m(train_mel_spec_model pid=2408)\u001b[0m epoch: 17, batch_id: 9, loss: 2.3068315982818604\n",
            "\u001b[36m(train_mel_spec_model pid=2408)\u001b[0m epoch: 17, batch_id: 10, loss: 2.302560806274414\n",
            "\u001b[36m(train_mel_spec_model pid=2408)\u001b[0m epoch: 17, batch_id: 11, loss: 2.2998218536376953\n",
            "\u001b[36m(train_mel_spec_model pid=2408)\u001b[0m epoch: 17, batch_id: 12, loss: 2.3037707805633545\n",
            "\u001b[36m(train_mel_spec_model pid=2408)\u001b[0m epoch: 17, batch_id: 13, loss: 2.2955658435821533\n",
            "\u001b[36m(train_mel_spec_model pid=2408)\u001b[0m epoch: 17, batch_id: 14, loss: 2.30069899559021\n",
            "\u001b[36m(train_mel_spec_model pid=2408)\u001b[0m epoch: 17, batch_id: 15, loss: 2.3075060844421387\n",
            "\u001b[36m(train_mel_spec_model pid=2408)\u001b[0m epoch: 17, batch_id: 16, loss: 2.3008649349212646\n",
            "\u001b[36m(train_mel_spec_model pid=2408)\u001b[0m epoch: 17, batch_id: 17, loss: 2.292900562286377\n"
          ]
        },
        {
          "output_type": "stream",
          "name": "stderr",
          "text": [
            "\u001b[36m(train_mel_spec_model pid=2408)\u001b[0m Checkpoint successfully created at: Checkpoint(filesystem=local, path=/root/ray_results/train_mel_spec_model_2024-04-11_03-45-31/train_mel_spec_model_f562d_00001_1_batch_size=45,l1=700,l2=5,lr=0.0185,num_epochs=35_2024-04-11_03-45-37/checkpoint_000017)\n"
          ]
        },
        {
          "output_type": "stream",
          "name": "stdout",
          "text": [
            "\u001b[36m(train_mel_spec_model pid=2408)\u001b[0m Validation Loss: 2.3143266836802163, Accuracy: 0.08080808080808081\n",
            "\u001b[36m(train_mel_spec_model pid=2408)\u001b[0m epoch: 18, batch_id: 0, loss: 2.302058458328247\n",
            "\u001b[36m(train_mel_spec_model pid=2408)\u001b[0m epoch: 18, batch_id: 1, loss: 2.3021492958068848\n",
            "\u001b[36m(train_mel_spec_model pid=2408)\u001b[0m epoch: 18, batch_id: 2, loss: 2.3012161254882812\n",
            "\u001b[36m(train_mel_spec_model pid=2408)\u001b[0m epoch: 18, batch_id: 3, loss: 2.299001693725586\n",
            "\u001b[36m(train_mel_spec_model pid=2408)\u001b[0m epoch: 18, batch_id: 4, loss: 2.3123762607574463\n",
            "\u001b[36m(train_mel_spec_model pid=2408)\u001b[0m epoch: 18, batch_id: 5, loss: 2.3003363609313965\n",
            "\u001b[36m(train_mel_spec_model pid=2408)\u001b[0m epoch: 18, batch_id: 6, loss: 2.2956974506378174\n",
            "\u001b[36m(train_mel_spec_model pid=2408)\u001b[0m epoch: 18, batch_id: 7, loss: 2.3077290058135986\n",
            "\u001b[36m(train_mel_spec_model pid=2408)\u001b[0m epoch: 18, batch_id: 8, loss: 2.296281576156616\n",
            "\u001b[36m(train_mel_spec_model pid=2408)\u001b[0m epoch: 18, batch_id: 9, loss: 2.302440643310547\n",
            "\u001b[36m(train_mel_spec_model pid=2408)\u001b[0m epoch: 18, batch_id: 10, loss: 2.295286178588867\n",
            "\u001b[36m(train_mel_spec_model pid=2408)\u001b[0m epoch: 18, batch_id: 11, loss: 2.302781820297241\n",
            "\u001b[36m(train_mel_spec_model pid=2408)\u001b[0m epoch: 18, batch_id: 12, loss: 2.3002493381500244\n",
            "\u001b[36m(train_mel_spec_model pid=2408)\u001b[0m epoch: 18, batch_id: 13, loss: 2.29902982711792\n",
            "\u001b[36m(train_mel_spec_model pid=2408)\u001b[0m epoch: 18, batch_id: 14, loss: 2.3110883235931396\n",
            "\u001b[36m(train_mel_spec_model pid=2408)\u001b[0m epoch: 18, batch_id: 15, loss: 2.301849126815796\n",
            "\u001b[36m(train_mel_spec_model pid=2408)\u001b[0m epoch: 18, batch_id: 16, loss: 2.312004327774048\n",
            "\u001b[36m(train_mel_spec_model pid=2408)\u001b[0m epoch: 18, batch_id: 17, loss: 2.3091466426849365\n"
          ]
        },
        {
          "output_type": "stream",
          "name": "stderr",
          "text": [
            "\u001b[36m(train_mel_spec_model pid=2408)\u001b[0m Checkpoint successfully created at: Checkpoint(filesystem=local, path=/root/ray_results/train_mel_spec_model_2024-04-11_03-45-31/train_mel_spec_model_f562d_00001_1_batch_size=45,l1=700,l2=5,lr=0.0185,num_epochs=35_2024-04-11_03-45-37/checkpoint_000018)\n"
          ]
        },
        {
          "output_type": "stream",
          "name": "stdout",
          "text": [
            "\u001b[36m(train_mel_spec_model pid=2408)\u001b[0m Validation Loss: 2.309225082397461, Accuracy: 0.08080808080808081\n",
            "\u001b[36m(train_mel_spec_model pid=2408)\u001b[0m epoch: 19, batch_id: 0, loss: 2.2920072078704834\n",
            "\u001b[36m(train_mel_spec_model pid=2408)\u001b[0m epoch: 19, batch_id: 1, loss: 2.303670883178711\n",
            "\u001b[36m(train_mel_spec_model pid=2408)\u001b[0m epoch: 19, batch_id: 2, loss: 2.2948496341705322\n",
            "\u001b[36m(train_mel_spec_model pid=2408)\u001b[0m epoch: 19, batch_id: 3, loss: 2.2948312759399414\n",
            "\u001b[36m(train_mel_spec_model pid=2408)\u001b[0m epoch: 19, batch_id: 4, loss: 2.300415277481079\n",
            "\u001b[36m(train_mel_spec_model pid=2408)\u001b[0m epoch: 19, batch_id: 5, loss: 2.308069944381714\n",
            "\u001b[36m(train_mel_spec_model pid=2408)\u001b[0m epoch: 19, batch_id: 6, loss: 2.2949700355529785\n",
            "\u001b[36m(train_mel_spec_model pid=2408)\u001b[0m epoch: 19, batch_id: 7, loss: 2.2918052673339844\n",
            "\u001b[36m(train_mel_spec_model pid=2408)\u001b[0m epoch: 19, batch_id: 8, loss: 2.298165798187256\n",
            "\u001b[36m(train_mel_spec_model pid=2408)\u001b[0m epoch: 19, batch_id: 9, loss: 2.297252893447876\n",
            "\u001b[36m(train_mel_spec_model pid=2408)\u001b[0m epoch: 19, batch_id: 10, loss: 2.2982544898986816\n",
            "\u001b[36m(train_mel_spec_model pid=2408)\u001b[0m epoch: 19, batch_id: 11, loss: 2.323139190673828\n",
            "\u001b[36m(train_mel_spec_model pid=2408)\u001b[0m epoch: 19, batch_id: 12, loss: 2.325533151626587\n",
            "\u001b[36m(train_mel_spec_model pid=2408)\u001b[0m epoch: 19, batch_id: 13, loss: 2.309321880340576\n",
            "\u001b[36m(train_mel_spec_model pid=2408)\u001b[0m epoch: 19, batch_id: 14, loss: 2.310659646987915\n",
            "\u001b[36m(train_mel_spec_model pid=2408)\u001b[0m epoch: 19, batch_id: 15, loss: 2.2985191345214844\n",
            "\u001b[36m(train_mel_spec_model pid=2408)\u001b[0m epoch: 19, batch_id: 16, loss: 2.309128761291504\n",
            "\u001b[36m(train_mel_spec_model pid=2408)\u001b[0m epoch: 19, batch_id: 17, loss: 2.3093433380126953\n",
            "\n",
            "Trial train_mel_spec_model_f562d_00001 completed after 20 iterations at 2024-04-11 03:50:36. Total running time: 4min 58s\n",
            "+---------------------------------------------------------------------+\n",
            "| Trial train_mel_spec_model_f562d_00001 result                       |\n",
            "+---------------------------------------------------------------------+\n",
            "| checkpoint_dir_name                               checkpoint_000019 |\n",
            "| time_this_iter_s                                            2.84658 |\n",
            "| time_total_s                                               65.19186 |\n",
            "| training_iteration                                               20 |\n",
            "| accuracy                                                    0.08081 |\n",
            "| loss                                                        2.30768 |\n",
            "+---------------------------------------------------------------------+\n"
          ]
        },
        {
          "output_type": "stream",
          "name": "stderr",
          "text": [
            "\u001b[36m(train_mel_spec_model pid=2408)\u001b[0m Checkpoint successfully created at: Checkpoint(filesystem=local, path=/root/ray_results/train_mel_spec_model_2024-04-11_03-45-31/train_mel_spec_model_f562d_00001_1_batch_size=45,l1=700,l2=5,lr=0.0185,num_epochs=35_2024-04-11_03-45-37/checkpoint_000019)\n"
          ]
        },
        {
          "output_type": "stream",
          "name": "stdout",
          "text": [
            "\n",
            "Trial status: 2 TERMINATED | 3 PENDING\n",
            "Current time: 2024-04-11 03:50:38. Total running time: 5min 0s\n",
            "Logical resource usage: 2.0/2 CPUs, 1.0/1 GPUs (0.0/1.0 accelerator_type:T4)\n",
            "Current best trial: f562d_00000 with loss=1.4953934252262115 and params={'l1': 550, 'l2': 15, 'lr': 0.00019002025558777404, 'batch_size': 30, 'num_epochs': 35}\n",
            "+------------------------------------------------------------------------------------------------------------------------------------------------------------+\n",
            "| Trial name                         status         l1     l2            lr     batch_size     num_epochs     iter     total time (s)      loss     accuracy |\n",
            "+------------------------------------------------------------------------------------------------------------------------------------------------------------+\n",
            "| train_mel_spec_model_f562d_00000   TERMINATED    550     15   0.00019002              30             35       35           220.054    1.49539    0.525253  |\n",
            "| train_mel_spec_model_f562d_00001   TERMINATED    700      5   0.0185484               45             35       20            65.1919   2.30768    0.0808081 |\n",
            "| train_mel_spec_model_f562d_00002   PENDING       950     10   0.0017086               30             25                                                    |\n",
            "| train_mel_spec_model_f562d_00003   PENDING       450     10   0.000373188             35             35                                                    |\n",
            "| train_mel_spec_model_f562d_00004   PENDING       800     10   0.00014823               5             35                                                    |\n",
            "+------------------------------------------------------------------------------------------------------------------------------------------------------------+\n",
            "\n",
            "Trial train_mel_spec_model_f562d_00002 started with configuration:\n",
            "+-----------------------------------------------------------+\n",
            "| Trial train_mel_spec_model_f562d_00002 config             |\n",
            "+-----------------------------------------------------------+\n",
            "| batch_size                                             30 |\n",
            "| l1                                                    950 |\n",
            "| l2                                                     10 |\n",
            "| lr                                                0.00171 |\n",
            "| num_epochs                                             25 |\n",
            "+-----------------------------------------------------------+\n",
            "\u001b[36m(train_mel_spec_model pid=2787)\u001b[0m epoch: 0, batch_id: 0, loss: 2.290287494659424\n",
            "\u001b[36m(train_mel_spec_model pid=2787)\u001b[0m epoch: 0, batch_id: 1, loss: 2.896409749984741\n",
            "\u001b[36m(train_mel_spec_model pid=2787)\u001b[0m epoch: 0, batch_id: 2, loss: 2.2999958992004395\n",
            "\u001b[36m(train_mel_spec_model pid=2787)\u001b[0m epoch: 0, batch_id: 3, loss: 2.345764398574829\n",
            "\u001b[36m(train_mel_spec_model pid=2787)\u001b[0m epoch: 0, batch_id: 4, loss: 2.2953569889068604\n",
            "\u001b[36m(train_mel_spec_model pid=2787)\u001b[0m epoch: 0, batch_id: 5, loss: 2.353217840194702\n",
            "\u001b[36m(train_mel_spec_model pid=2787)\u001b[0m epoch: 0, batch_id: 6, loss: 2.3418447971343994\n",
            "\u001b[36m(train_mel_spec_model pid=2787)\u001b[0m epoch: 0, batch_id: 7, loss: 2.3552048206329346\n",
            "\u001b[36m(train_mel_spec_model pid=2787)\u001b[0m epoch: 0, batch_id: 8, loss: 2.293030023574829\n",
            "\u001b[36m(train_mel_spec_model pid=2787)\u001b[0m epoch: 0, batch_id: 9, loss: 2.3173420429229736\n",
            "\u001b[36m(train_mel_spec_model pid=2787)\u001b[0m epoch: 0, batch_id: 10, loss: 2.408428430557251\n",
            "\u001b[36m(train_mel_spec_model pid=2787)\u001b[0m epoch: 0, batch_id: 11, loss: 2.2933199405670166\n",
            "\u001b[36m(train_mel_spec_model pid=2787)\u001b[0m epoch: 0, batch_id: 12, loss: 2.333510398864746\n",
            "\u001b[36m(train_mel_spec_model pid=2787)\u001b[0m epoch: 0, batch_id: 13, loss: 2.3258965015411377\n",
            "\u001b[36m(train_mel_spec_model pid=2787)\u001b[0m epoch: 0, batch_id: 14, loss: 2.3729982376098633\n",
            "\u001b[36m(train_mel_spec_model pid=2787)\u001b[0m epoch: 0, batch_id: 15, loss: 2.3093132972717285\n",
            "\u001b[36m(train_mel_spec_model pid=2787)\u001b[0m epoch: 0, batch_id: 16, loss: 2.3032331466674805\n",
            "\u001b[36m(train_mel_spec_model pid=2787)\u001b[0m epoch: 0, batch_id: 17, loss: 2.308514356613159\n",
            "\u001b[36m(train_mel_spec_model pid=2787)\u001b[0m epoch: 0, batch_id: 18, loss: 2.3483059406280518\n",
            "\u001b[36m(train_mel_spec_model pid=2787)\u001b[0m epoch: 0, batch_id: 19, loss: 2.3013594150543213\n",
            "\u001b[36m(train_mel_spec_model pid=2787)\u001b[0m epoch: 0, batch_id: 20, loss: 2.2888898849487305\n",
            "\u001b[36m(train_mel_spec_model pid=2787)\u001b[0m epoch: 0, batch_id: 21, loss: 2.36000919342041\n",
            "\u001b[36m(train_mel_spec_model pid=2787)\u001b[0m epoch: 0, batch_id: 22, loss: 2.253108501434326\n",
            "\u001b[36m(train_mel_spec_model pid=2787)\u001b[0m epoch: 0, batch_id: 23, loss: 2.3092362880706787\n",
            "\u001b[36m(train_mel_spec_model pid=2787)\u001b[0m epoch: 0, batch_id: 24, loss: 2.32961106300354\n",
            "\u001b[36m(train_mel_spec_model pid=2787)\u001b[0m epoch: 0, batch_id: 25, loss: 2.3303840160369873\n",
            "\u001b[36m(train_mel_spec_model pid=2787)\u001b[0m epoch: 0, batch_id: 26, loss: 2.3624391555786133\n"
          ]
        },
        {
          "output_type": "stream",
          "name": "stderr",
          "text": [
            "\u001b[36m(train_mel_spec_model pid=2787)\u001b[0m Checkpoint successfully created at: Checkpoint(filesystem=local, path=/root/ray_results/train_mel_spec_model_2024-04-11_03-45-31/train_mel_spec_model_f562d_00002_2_batch_size=30,l1=950,l2=10,lr=0.0017,num_epochs=25_2024-04-11_03-45-37/checkpoint_000000)\n"
          ]
        },
        {
          "output_type": "stream",
          "name": "stdout",
          "text": [
            "\u001b[36m(train_mel_spec_model pid=2787)\u001b[0m Validation Loss: 2.3342491388320923, Accuracy: 0.09090909090909091\n",
            "\u001b[36m(train_mel_spec_model pid=2787)\u001b[0m epoch: 1, batch_id: 0, loss: 2.3163352012634277\n",
            "\u001b[36m(train_mel_spec_model pid=2787)\u001b[0m epoch: 1, batch_id: 1, loss: 2.3297829627990723\n",
            "\u001b[36m(train_mel_spec_model pid=2787)\u001b[0m epoch: 1, batch_id: 2, loss: 2.3429555892944336\n",
            "\u001b[36m(train_mel_spec_model pid=2787)\u001b[0m epoch: 1, batch_id: 3, loss: 2.305170774459839\n",
            "\u001b[36m(train_mel_spec_model pid=2787)\u001b[0m epoch: 1, batch_id: 4, loss: 2.2820370197296143\n",
            "\u001b[36m(train_mel_spec_model pid=2787)\u001b[0m epoch: 1, batch_id: 5, loss: 2.3100061416625977\n",
            "\u001b[36m(train_mel_spec_model pid=2787)\u001b[0m epoch: 1, batch_id: 6, loss: 2.3520405292510986\n",
            "\u001b[36m(train_mel_spec_model pid=2787)\u001b[0m epoch: 1, batch_id: 7, loss: 2.3513004779815674\n",
            "\u001b[36m(train_mel_spec_model pid=2787)\u001b[0m epoch: 1, batch_id: 8, loss: 2.301281690597534\n",
            "\u001b[36m(train_mel_spec_model pid=2787)\u001b[0m epoch: 1, batch_id: 9, loss: 2.32189679145813\n",
            "\u001b[36m(train_mel_spec_model pid=2787)\u001b[0m epoch: 1, batch_id: 10, loss: 2.300084352493286\n",
            "\u001b[36m(train_mel_spec_model pid=2787)\u001b[0m epoch: 1, batch_id: 11, loss: 2.3197977542877197\n",
            "\u001b[36m(train_mel_spec_model pid=2787)\u001b[0m epoch: 1, batch_id: 12, loss: 2.3382294178009033\n",
            "\u001b[36m(train_mel_spec_model pid=2787)\u001b[0m epoch: 1, batch_id: 13, loss: 2.2775540351867676\n",
            "\u001b[36m(train_mel_spec_model pid=2787)\u001b[0m epoch: 1, batch_id: 14, loss: 2.308443546295166\n",
            "\u001b[36m(train_mel_spec_model pid=2787)\u001b[0m epoch: 1, batch_id: 15, loss: 2.356374502182007\n",
            "\u001b[36m(train_mel_spec_model pid=2787)\u001b[0m epoch: 1, batch_id: 16, loss: 2.286410331726074\n",
            "\u001b[36m(train_mel_spec_model pid=2787)\u001b[0m epoch: 1, batch_id: 17, loss: 2.3377254009246826\n",
            "\u001b[36m(train_mel_spec_model pid=2787)\u001b[0m epoch: 1, batch_id: 18, loss: 2.3093743324279785\n",
            "\u001b[36m(train_mel_spec_model pid=2787)\u001b[0m epoch: 1, batch_id: 19, loss: 2.261230707168579\n",
            "\u001b[36m(train_mel_spec_model pid=2787)\u001b[0m epoch: 1, batch_id: 20, loss: 2.357942819595337\n",
            "\u001b[36m(train_mel_spec_model pid=2787)\u001b[0m epoch: 1, batch_id: 21, loss: 2.319950819015503\n",
            "\u001b[36m(train_mel_spec_model pid=2787)\u001b[0m epoch: 1, batch_id: 22, loss: 2.3202316761016846\n",
            "\u001b[36m(train_mel_spec_model pid=2787)\u001b[0m epoch: 1, batch_id: 23, loss: 2.270602226257324\n",
            "\u001b[36m(train_mel_spec_model pid=2787)\u001b[0m epoch: 1, batch_id: 24, loss: 2.3500280380249023\n",
            "\u001b[36m(train_mel_spec_model pid=2787)\u001b[0m epoch: 1, batch_id: 25, loss: 2.300877332687378\n",
            "\u001b[36m(train_mel_spec_model pid=2787)\u001b[0m epoch: 1, batch_id: 26, loss: 2.325739860534668\n"
          ]
        },
        {
          "output_type": "stream",
          "name": "stderr",
          "text": [
            "\u001b[36m(train_mel_spec_model pid=2787)\u001b[0m Checkpoint successfully created at: Checkpoint(filesystem=local, path=/root/ray_results/train_mel_spec_model_2024-04-11_03-45-31/train_mel_spec_model_f562d_00002_2_batch_size=30,l1=950,l2=10,lr=0.0017,num_epochs=25_2024-04-11_03-45-37/checkpoint_000001)\n"
          ]
        },
        {
          "output_type": "stream",
          "name": "stdout",
          "text": [
            "\u001b[36m(train_mel_spec_model pid=2787)\u001b[0m Validation Loss: 2.3211647272109985, Accuracy: 0.09090909090909091\n",
            "\u001b[36m(train_mel_spec_model pid=2787)\u001b[0m epoch: 2, batch_id: 0, loss: 2.287358045578003\n",
            "\u001b[36m(train_mel_spec_model pid=2787)\u001b[0m epoch: 2, batch_id: 1, loss: 2.30891489982605\n",
            "\u001b[36m(train_mel_spec_model pid=2787)\u001b[0m epoch: 2, batch_id: 2, loss: 2.37548828125\n",
            "\u001b[36m(train_mel_spec_model pid=2787)\u001b[0m epoch: 2, batch_id: 3, loss: 2.341858386993408\n",
            "\u001b[36m(train_mel_spec_model pid=2787)\u001b[0m epoch: 2, batch_id: 4, loss: 2.350092649459839\n",
            "\u001b[36m(train_mel_spec_model pid=2787)\u001b[0m epoch: 2, batch_id: 5, loss: 2.3424386978149414\n",
            "\u001b[36m(train_mel_spec_model pid=2787)\u001b[0m epoch: 2, batch_id: 6, loss: 2.3450851440429688\n",
            "\u001b[36m(train_mel_spec_model pid=2787)\u001b[0m epoch: 2, batch_id: 7, loss: 2.295928478240967\n",
            "\u001b[36m(train_mel_spec_model pid=2787)\u001b[0m epoch: 2, batch_id: 8, loss: 2.297908306121826\n",
            "\u001b[36m(train_mel_spec_model pid=2787)\u001b[0m epoch: 2, batch_id: 9, loss: 2.3063156604766846\n",
            "\u001b[36m(train_mel_spec_model pid=2787)\u001b[0m epoch: 2, batch_id: 10, loss: 2.285642147064209\n",
            "\u001b[36m(train_mel_spec_model pid=2787)\u001b[0m epoch: 2, batch_id: 11, loss: 2.2578506469726562\n",
            "\u001b[36m(train_mel_spec_model pid=2787)\u001b[0m epoch: 2, batch_id: 12, loss: 2.3524675369262695\n",
            "\u001b[36m(train_mel_spec_model pid=2787)\u001b[0m epoch: 2, batch_id: 13, loss: 2.322967290878296\n",
            "\u001b[36m(train_mel_spec_model pid=2787)\u001b[0m epoch: 2, batch_id: 14, loss: 2.303971767425537\n",
            "\u001b[36m(train_mel_spec_model pid=2787)\u001b[0m epoch: 2, batch_id: 15, loss: 2.325538158416748\n",
            "\u001b[36m(train_mel_spec_model pid=2787)\u001b[0m epoch: 2, batch_id: 16, loss: 2.3097963333129883\n",
            "\u001b[36m(train_mel_spec_model pid=2787)\u001b[0m epoch: 2, batch_id: 17, loss: 2.280787229537964\n",
            "\u001b[36m(train_mel_spec_model pid=2787)\u001b[0m epoch: 2, batch_id: 18, loss: 2.3011527061462402\n",
            "\u001b[36m(train_mel_spec_model pid=2787)\u001b[0m epoch: 2, batch_id: 19, loss: 2.276754856109619\n",
            "\u001b[36m(train_mel_spec_model pid=2787)\u001b[0m epoch: 2, batch_id: 20, loss: 2.320513963699341\n",
            "\u001b[36m(train_mel_spec_model pid=2787)\u001b[0m epoch: 2, batch_id: 21, loss: 2.315429210662842\n",
            "\u001b[36m(train_mel_spec_model pid=2787)\u001b[0m epoch: 2, batch_id: 22, loss: 2.3218190670013428\n",
            "\u001b[36m(train_mel_spec_model pid=2787)\u001b[0m epoch: 2, batch_id: 23, loss: 2.292602777481079\n",
            "\u001b[36m(train_mel_spec_model pid=2787)\u001b[0m epoch: 2, batch_id: 24, loss: 2.3027608394622803\n",
            "\u001b[36m(train_mel_spec_model pid=2787)\u001b[0m epoch: 2, batch_id: 25, loss: 2.3125216960906982\n",
            "\u001b[36m(train_mel_spec_model pid=2787)\u001b[0m epoch: 2, batch_id: 26, loss: 2.332179069519043\n"
          ]
        },
        {
          "output_type": "stream",
          "name": "stderr",
          "text": [
            "\u001b[36m(train_mel_spec_model pid=2787)\u001b[0m Checkpoint successfully created at: Checkpoint(filesystem=local, path=/root/ray_results/train_mel_spec_model_2024-04-11_03-45-31/train_mel_spec_model_f562d_00002_2_batch_size=30,l1=950,l2=10,lr=0.0017,num_epochs=25_2024-04-11_03-45-37/checkpoint_000002)\n"
          ]
        },
        {
          "output_type": "stream",
          "name": "stdout",
          "text": [
            "\u001b[36m(train_mel_spec_model pid=2787)\u001b[0m Validation Loss: 2.314153552055359, Accuracy: 0.09090909090909091\n",
            "\u001b[36m(train_mel_spec_model pid=2787)\u001b[0m epoch: 3, batch_id: 0, loss: 2.2849607467651367\n",
            "\u001b[36m(train_mel_spec_model pid=2787)\u001b[0m epoch: 3, batch_id: 1, loss: 2.3531830310821533\n",
            "\u001b[36m(train_mel_spec_model pid=2787)\u001b[0m epoch: 3, batch_id: 2, loss: 2.278526544570923\n",
            "\u001b[36m(train_mel_spec_model pid=2787)\u001b[0m epoch: 3, batch_id: 3, loss: 2.3312554359436035\n",
            "\u001b[36m(train_mel_spec_model pid=2787)\u001b[0m epoch: 3, batch_id: 4, loss: 2.3259575366973877\n",
            "\u001b[36m(train_mel_spec_model pid=2787)\u001b[0m epoch: 3, batch_id: 5, loss: 2.304130792617798\n",
            "\u001b[36m(train_mel_spec_model pid=2787)\u001b[0m epoch: 3, batch_id: 6, loss: 2.261936664581299\n",
            "\u001b[36m(train_mel_spec_model pid=2787)\u001b[0m epoch: 3, batch_id: 7, loss: 2.297960042953491\n",
            "\u001b[36m(train_mel_spec_model pid=2787)\u001b[0m epoch: 3, batch_id: 8, loss: 2.319739580154419\n",
            "\u001b[36m(train_mel_spec_model pid=2787)\u001b[0m epoch: 3, batch_id: 9, loss: 2.3057701587677\n",
            "\u001b[36m(train_mel_spec_model pid=2787)\u001b[0m epoch: 3, batch_id: 10, loss: 2.327328681945801\n",
            "\u001b[36m(train_mel_spec_model pid=2787)\u001b[0m epoch: 3, batch_id: 11, loss: 2.343008518218994\n",
            "\u001b[36m(train_mel_spec_model pid=2787)\u001b[0m epoch: 3, batch_id: 12, loss: 2.340830087661743\n",
            "\u001b[36m(train_mel_spec_model pid=2787)\u001b[0m epoch: 3, batch_id: 13, loss: 2.3214452266693115\n",
            "\u001b[36m(train_mel_spec_model pid=2787)\u001b[0m epoch: 3, batch_id: 14, loss: 2.3067386150360107\n",
            "\u001b[36m(train_mel_spec_model pid=2787)\u001b[0m epoch: 3, batch_id: 15, loss: 2.2886710166931152\n",
            "\u001b[36m(train_mel_spec_model pid=2787)\u001b[0m epoch: 3, batch_id: 16, loss: 2.2951431274414062\n",
            "\u001b[36m(train_mel_spec_model pid=2787)\u001b[0m epoch: 3, batch_id: 17, loss: 2.286998748779297\n",
            "\u001b[36m(train_mel_spec_model pid=2787)\u001b[0m epoch: 3, batch_id: 18, loss: 2.3293962478637695\n",
            "\u001b[36m(train_mel_spec_model pid=2787)\u001b[0m epoch: 3, batch_id: 19, loss: 2.3081517219543457\n",
            "\u001b[36m(train_mel_spec_model pid=2787)\u001b[0m epoch: 3, batch_id: 20, loss: 2.291776180267334\n",
            "\u001b[36m(train_mel_spec_model pid=2787)\u001b[0m epoch: 3, batch_id: 21, loss: 2.2848126888275146\n",
            "\u001b[36m(train_mel_spec_model pid=2787)\u001b[0m epoch: 3, batch_id: 22, loss: 2.3450286388397217\n",
            "\u001b[36m(train_mel_spec_model pid=2787)\u001b[0m epoch: 3, batch_id: 23, loss: 2.2981107234954834\n",
            "\u001b[36m(train_mel_spec_model pid=2787)\u001b[0m epoch: 3, batch_id: 24, loss: 2.3043713569641113\n",
            "\u001b[36m(train_mel_spec_model pid=2787)\u001b[0m epoch: 3, batch_id: 25, loss: 2.319268226623535\n",
            "\u001b[36m(train_mel_spec_model pid=2787)\u001b[0m epoch: 3, batch_id: 26, loss: 2.3135080337524414\n"
          ]
        },
        {
          "output_type": "stream",
          "name": "stderr",
          "text": [
            "\u001b[36m(train_mel_spec_model pid=2787)\u001b[0m Checkpoint successfully created at: Checkpoint(filesystem=local, path=/root/ray_results/train_mel_spec_model_2024-04-11_03-45-31/train_mel_spec_model_f562d_00002_2_batch_size=30,l1=950,l2=10,lr=0.0017,num_epochs=25_2024-04-11_03-45-37/checkpoint_000003)\n"
          ]
        },
        {
          "output_type": "stream",
          "name": "stdout",
          "text": [
            "\u001b[36m(train_mel_spec_model pid=2787)\u001b[0m Validation Loss: 2.3071528673171997, Accuracy: 0.09090909090909091\n",
            "\u001b[36m(train_mel_spec_model pid=2787)\u001b[0m epoch: 4, batch_id: 0, loss: 2.323993682861328\n",
            "\u001b[36m(train_mel_spec_model pid=2787)\u001b[0m epoch: 4, batch_id: 1, loss: 2.348982572555542\n",
            "\u001b[36m(train_mel_spec_model pid=2787)\u001b[0m epoch: 4, batch_id: 2, loss: 2.2972183227539062\n",
            "\u001b[36m(train_mel_spec_model pid=2787)\u001b[0m epoch: 4, batch_id: 3, loss: 2.2947421073913574\n",
            "\u001b[36m(train_mel_spec_model pid=2787)\u001b[0m epoch: 4, batch_id: 4, loss: 2.320701837539673\n",
            "\u001b[36m(train_mel_spec_model pid=2787)\u001b[0m epoch: 4, batch_id: 5, loss: 2.3154096603393555\n",
            "\u001b[36m(train_mel_spec_model pid=2787)\u001b[0m epoch: 4, batch_id: 6, loss: 2.3094027042388916\n",
            "\u001b[36m(train_mel_spec_model pid=2787)\u001b[0m epoch: 4, batch_id: 7, loss: 2.314288377761841\n",
            "\u001b[36m(train_mel_spec_model pid=2787)\u001b[0m epoch: 4, batch_id: 8, loss: 2.3354063034057617\n",
            "\u001b[36m(train_mel_spec_model pid=2787)\u001b[0m epoch: 4, batch_id: 9, loss: 2.305605173110962\n",
            "\u001b[36m(train_mel_spec_model pid=2787)\u001b[0m epoch: 4, batch_id: 10, loss: 2.2896525859832764\n",
            "\u001b[36m(train_mel_spec_model pid=2787)\u001b[0m epoch: 4, batch_id: 11, loss: 2.3084661960601807\n",
            "\u001b[36m(train_mel_spec_model pid=2787)\u001b[0m epoch: 4, batch_id: 12, loss: 2.294620990753174\n",
            "\u001b[36m(train_mel_spec_model pid=2787)\u001b[0m epoch: 4, batch_id: 13, loss: 2.2895586490631104\n",
            "\u001b[36m(train_mel_spec_model pid=2787)\u001b[0m epoch: 4, batch_id: 14, loss: 2.270400285720825\n",
            "\u001b[36m(train_mel_spec_model pid=2787)\u001b[0m epoch: 4, batch_id: 15, loss: 2.320067882537842\n",
            "\u001b[36m(train_mel_spec_model pid=2787)\u001b[0m epoch: 4, batch_id: 16, loss: 2.2959814071655273\n",
            "\u001b[36m(train_mel_spec_model pid=2787)\u001b[0m epoch: 4, batch_id: 17, loss: 2.2840611934661865\n",
            "\u001b[36m(train_mel_spec_model pid=2787)\u001b[0m epoch: 4, batch_id: 18, loss: 2.3097751140594482\n",
            "\u001b[36m(train_mel_spec_model pid=2787)\u001b[0m epoch: 4, batch_id: 19, loss: 2.3050832748413086\n",
            "\u001b[36m(train_mel_spec_model pid=2787)\u001b[0m epoch: 4, batch_id: 20, loss: 2.3054821491241455\n",
            "\u001b[36m(train_mel_spec_model pid=2787)\u001b[0m epoch: 4, batch_id: 21, loss: 2.2824196815490723\n",
            "\u001b[36m(train_mel_spec_model pid=2787)\u001b[0m epoch: 4, batch_id: 22, loss: 2.314924955368042\n",
            "\u001b[36m(train_mel_spec_model pid=2787)\u001b[0m epoch: 4, batch_id: 23, loss: 2.282719135284424\n",
            "\u001b[36m(train_mel_spec_model pid=2787)\u001b[0m epoch: 4, batch_id: 24, loss: 2.31270170211792\n",
            "\u001b[36m(train_mel_spec_model pid=2787)\u001b[0m epoch: 4, batch_id: 25, loss: 2.3487908840179443\n",
            "\u001b[36m(train_mel_spec_model pid=2787)\u001b[0m epoch: 4, batch_id: 26, loss: 2.3186683654785156\n"
          ]
        },
        {
          "output_type": "stream",
          "name": "stderr",
          "text": [
            "\u001b[36m(train_mel_spec_model pid=2787)\u001b[0m Checkpoint successfully created at: Checkpoint(filesystem=local, path=/root/ray_results/train_mel_spec_model_2024-04-11_03-45-31/train_mel_spec_model_f562d_00002_2_batch_size=30,l1=950,l2=10,lr=0.0017,num_epochs=25_2024-04-11_03-45-37/checkpoint_000004)\n"
          ]
        },
        {
          "output_type": "stream",
          "name": "stdout",
          "text": [
            "\u001b[36m(train_mel_spec_model pid=2787)\u001b[0m Validation Loss: 2.3146268725395203, Accuracy: 0.09090909090909091\n",
            "\u001b[36m(train_mel_spec_model pid=2787)\u001b[0m epoch: 5, batch_id: 0, loss: 2.297722101211548\n",
            "\u001b[36m(train_mel_spec_model pid=2787)\u001b[0m epoch: 5, batch_id: 1, loss: 2.2966904640197754\n",
            "\u001b[36m(train_mel_spec_model pid=2787)\u001b[0m epoch: 5, batch_id: 2, loss: 2.3112215995788574\n",
            "\u001b[36m(train_mel_spec_model pid=2787)\u001b[0m epoch: 5, batch_id: 3, loss: 2.309908151626587\n",
            "\u001b[36m(train_mel_spec_model pid=2787)\u001b[0m epoch: 5, batch_id: 4, loss: 2.2942397594451904\n",
            "\u001b[36m(train_mel_spec_model pid=2787)\u001b[0m epoch: 5, batch_id: 5, loss: 2.3354978561401367\n",
            "\u001b[36m(train_mel_spec_model pid=2787)\u001b[0m epoch: 5, batch_id: 6, loss: 2.3168208599090576\n",
            "\u001b[36m(train_mel_spec_model pid=2787)\u001b[0m epoch: 5, batch_id: 7, loss: 2.3420937061309814\n",
            "\u001b[36m(train_mel_spec_model pid=2787)\u001b[0m epoch: 5, batch_id: 8, loss: 2.319058895111084\n",
            "\u001b[36m(train_mel_spec_model pid=2787)\u001b[0m epoch: 5, batch_id: 9, loss: 2.3095624446868896\n",
            "\u001b[36m(train_mel_spec_model pid=2787)\u001b[0m epoch: 5, batch_id: 10, loss: 2.2935919761657715\n",
            "\u001b[36m(train_mel_spec_model pid=2787)\u001b[0m epoch: 5, batch_id: 11, loss: 2.277053117752075\n",
            "\u001b[36m(train_mel_spec_model pid=2787)\u001b[0m epoch: 5, batch_id: 12, loss: 2.2993814945220947\n",
            "\u001b[36m(train_mel_spec_model pid=2787)\u001b[0m epoch: 5, batch_id: 13, loss: 2.299922466278076\n",
            "\u001b[36m(train_mel_spec_model pid=2787)\u001b[0m epoch: 5, batch_id: 14, loss: 2.29016375541687\n",
            "\u001b[36m(train_mel_spec_model pid=2787)\u001b[0m epoch: 5, batch_id: 15, loss: 2.3156561851501465\n",
            "\u001b[36m(train_mel_spec_model pid=2787)\u001b[0m epoch: 5, batch_id: 16, loss: 2.3001997470855713\n",
            "\u001b[36m(train_mel_spec_model pid=2787)\u001b[0m epoch: 5, batch_id: 17, loss: 2.29486346244812\n",
            "\u001b[36m(train_mel_spec_model pid=2787)\u001b[0m epoch: 5, batch_id: 18, loss: 2.3190958499908447\n",
            "\u001b[36m(train_mel_spec_model pid=2787)\u001b[0m epoch: 5, batch_id: 19, loss: 2.296464443206787\n",
            "\u001b[36m(train_mel_spec_model pid=2787)\u001b[0m epoch: 5, batch_id: 20, loss: 2.3009562492370605\n",
            "\u001b[36m(train_mel_spec_model pid=2787)\u001b[0m epoch: 5, batch_id: 21, loss: 2.288663625717163\n",
            "\u001b[36m(train_mel_spec_model pid=2787)\u001b[0m epoch: 5, batch_id: 22, loss: 2.3333194255828857\n",
            "\u001b[36m(train_mel_spec_model pid=2787)\u001b[0m epoch: 5, batch_id: 23, loss: 2.303269386291504\n",
            "\u001b[36m(train_mel_spec_model pid=2787)\u001b[0m epoch: 5, batch_id: 24, loss: 2.304547071456909\n",
            "\u001b[36m(train_mel_spec_model pid=2787)\u001b[0m epoch: 5, batch_id: 25, loss: 2.2901992797851562\n",
            "\u001b[36m(train_mel_spec_model pid=2787)\u001b[0m epoch: 5, batch_id: 26, loss: 2.2962844371795654\n",
            "\n",
            "Trial status: 2 TERMINATED | 1 RUNNING | 2 PENDING\n",
            "Current time: 2024-04-11 03:51:08. Total running time: 5min 30s\n",
            "Logical resource usage: 2.0/2 CPUs, 1.0/1 GPUs (0.0/1.0 accelerator_type:T4)\n",
            "Current best trial: f562d_00000 with loss=1.4953934252262115 and params={'l1': 550, 'l2': 15, 'lr': 0.00019002025558777404, 'batch_size': 30, 'num_epochs': 35}\n",
            "+------------------------------------------------------------------------------------------------------------------------------------------------------------+\n",
            "| Trial name                         status         l1     l2            lr     batch_size     num_epochs     iter     total time (s)      loss     accuracy |\n",
            "+------------------------------------------------------------------------------------------------------------------------------------------------------------+\n",
            "| train_mel_spec_model_f562d_00002   RUNNING       950     10   0.0017086               30             25        5            23.8188   2.31463    0.0909091 |\n",
            "| train_mel_spec_model_f562d_00000   TERMINATED    550     15   0.00019002              30             35       35           220.054    1.49539    0.525253  |\n",
            "| train_mel_spec_model_f562d_00001   TERMINATED    700      5   0.0185484               45             35       20            65.1919   2.30768    0.0808081 |\n",
            "| train_mel_spec_model_f562d_00003   PENDING       450     10   0.000373188             35             35                                                    |\n",
            "| train_mel_spec_model_f562d_00004   PENDING       800     10   0.00014823               5             35                                                    |\n",
            "+------------------------------------------------------------------------------------------------------------------------------------------------------------+\n"
          ]
        },
        {
          "output_type": "stream",
          "name": "stderr",
          "text": [
            "\u001b[36m(train_mel_spec_model pid=2787)\u001b[0m Checkpoint successfully created at: Checkpoint(filesystem=local, path=/root/ray_results/train_mel_spec_model_2024-04-11_03-45-31/train_mel_spec_model_f562d_00002_2_batch_size=30,l1=950,l2=10,lr=0.0017,num_epochs=25_2024-04-11_03-45-37/checkpoint_000005)\n"
          ]
        },
        {
          "output_type": "stream",
          "name": "stdout",
          "text": [
            "\u001b[36m(train_mel_spec_model pid=2787)\u001b[0m Validation Loss: 2.3141737580299377, Accuracy: 0.09090909090909091\n",
            "\u001b[36m(train_mel_spec_model pid=2787)\u001b[0m epoch: 6, batch_id: 0, loss: 2.2999064922332764\n",
            "\u001b[36m(train_mel_spec_model pid=2787)\u001b[0m epoch: 6, batch_id: 1, loss: 2.2994399070739746\n",
            "\u001b[36m(train_mel_spec_model pid=2787)\u001b[0m epoch: 6, batch_id: 2, loss: 2.3184938430786133\n",
            "\u001b[36m(train_mel_spec_model pid=2787)\u001b[0m epoch: 6, batch_id: 3, loss: 2.317746877670288\n",
            "\u001b[36m(train_mel_spec_model pid=2787)\u001b[0m epoch: 6, batch_id: 4, loss: 2.296727180480957\n",
            "\u001b[36m(train_mel_spec_model pid=2787)\u001b[0m epoch: 6, batch_id: 5, loss: 2.2846109867095947\n",
            "\u001b[36m(train_mel_spec_model pid=2787)\u001b[0m epoch: 6, batch_id: 6, loss: 2.299635648727417\n",
            "\u001b[36m(train_mel_spec_model pid=2787)\u001b[0m epoch: 6, batch_id: 7, loss: 2.299186944961548\n",
            "\u001b[36m(train_mel_spec_model pid=2787)\u001b[0m epoch: 6, batch_id: 8, loss: 2.310044527053833\n",
            "\u001b[36m(train_mel_spec_model pid=2787)\u001b[0m epoch: 6, batch_id: 9, loss: 2.2968270778656006\n",
            "\u001b[36m(train_mel_spec_model pid=2787)\u001b[0m epoch: 6, batch_id: 10, loss: 2.2927448749542236\n",
            "\u001b[36m(train_mel_spec_model pid=2787)\u001b[0m epoch: 6, batch_id: 11, loss: 2.306725263595581\n",
            "\u001b[36m(train_mel_spec_model pid=2787)\u001b[0m epoch: 6, batch_id: 12, loss: 2.296661615371704\n",
            "\u001b[36m(train_mel_spec_model pid=2787)\u001b[0m epoch: 6, batch_id: 13, loss: 2.2837860584259033\n",
            "\u001b[36m(train_mel_spec_model pid=2787)\u001b[0m epoch: 6, batch_id: 14, loss: 2.3332014083862305\n",
            "\u001b[36m(train_mel_spec_model pid=2787)\u001b[0m epoch: 6, batch_id: 15, loss: 2.2996647357940674\n",
            "\u001b[36m(train_mel_spec_model pid=2787)\u001b[0m epoch: 6, batch_id: 16, loss: 2.3164515495300293\n",
            "\u001b[36m(train_mel_spec_model pid=2787)\u001b[0m epoch: 6, batch_id: 17, loss: 2.312295436859131\n",
            "\u001b[36m(train_mel_spec_model pid=2787)\u001b[0m epoch: 6, batch_id: 18, loss: 2.314582109451294\n",
            "\u001b[36m(train_mel_spec_model pid=2787)\u001b[0m epoch: 6, batch_id: 19, loss: 2.2994375228881836\n",
            "\u001b[36m(train_mel_spec_model pid=2787)\u001b[0m epoch: 6, batch_id: 20, loss: 2.286912441253662\n",
            "\u001b[36m(train_mel_spec_model pid=2787)\u001b[0m epoch: 6, batch_id: 21, loss: 2.320385456085205\n",
            "\u001b[36m(train_mel_spec_model pid=2787)\u001b[0m epoch: 6, batch_id: 22, loss: 2.317290782928467\n",
            "\u001b[36m(train_mel_spec_model pid=2787)\u001b[0m epoch: 6, batch_id: 23, loss: 2.3216683864593506\n",
            "\u001b[36m(train_mel_spec_model pid=2787)\u001b[0m epoch: 6, batch_id: 24, loss: 2.323355197906494\n",
            "\u001b[36m(train_mel_spec_model pid=2787)\u001b[0m epoch: 6, batch_id: 25, loss: 2.2844340801239014\n",
            "\u001b[36m(train_mel_spec_model pid=2787)\u001b[0m epoch: 6, batch_id: 26, loss: 2.2813804149627686\n"
          ]
        },
        {
          "output_type": "stream",
          "name": "stderr",
          "text": [
            "\u001b[36m(train_mel_spec_model pid=2787)\u001b[0m Checkpoint successfully created at: Checkpoint(filesystem=local, path=/root/ray_results/train_mel_spec_model_2024-04-11_03-45-31/train_mel_spec_model_f562d_00002_2_batch_size=30,l1=950,l2=10,lr=0.0017,num_epochs=25_2024-04-11_03-45-37/checkpoint_000006)\n"
          ]
        },
        {
          "output_type": "stream",
          "name": "stdout",
          "text": [
            "\u001b[36m(train_mel_spec_model pid=2787)\u001b[0m Validation Loss: 2.312259554862976, Accuracy: 0.09090909090909091\n",
            "\u001b[36m(train_mel_spec_model pid=2787)\u001b[0m epoch: 7, batch_id: 0, loss: 2.303619146347046\n",
            "\u001b[36m(train_mel_spec_model pid=2787)\u001b[0m epoch: 7, batch_id: 1, loss: 2.2860031127929688\n",
            "\u001b[36m(train_mel_spec_model pid=2787)\u001b[0m epoch: 7, batch_id: 2, loss: 2.310426950454712\n",
            "\u001b[36m(train_mel_spec_model pid=2787)\u001b[0m epoch: 7, batch_id: 3, loss: 2.3028371334075928\n",
            "\u001b[36m(train_mel_spec_model pid=2787)\u001b[0m epoch: 7, batch_id: 4, loss: 2.2881546020507812\n",
            "\u001b[36m(train_mel_spec_model pid=2787)\u001b[0m epoch: 7, batch_id: 5, loss: 2.298980236053467\n",
            "\u001b[36m(train_mel_spec_model pid=2787)\u001b[0m epoch: 7, batch_id: 6, loss: 2.299616575241089\n",
            "\u001b[36m(train_mel_spec_model pid=2787)\u001b[0m epoch: 7, batch_id: 7, loss: 2.297541856765747\n",
            "\u001b[36m(train_mel_spec_model pid=2787)\u001b[0m epoch: 7, batch_id: 8, loss: 2.308443546295166\n",
            "\u001b[36m(train_mel_spec_model pid=2787)\u001b[0m epoch: 7, batch_id: 9, loss: 2.2890915870666504\n",
            "\u001b[36m(train_mel_spec_model pid=2787)\u001b[0m epoch: 7, batch_id: 10, loss: 2.298011541366577\n",
            "\u001b[36m(train_mel_spec_model pid=2787)\u001b[0m epoch: 7, batch_id: 11, loss: 2.313277006149292\n",
            "\u001b[36m(train_mel_spec_model pid=2787)\u001b[0m epoch: 7, batch_id: 12, loss: 2.297379732131958\n",
            "\u001b[36m(train_mel_spec_model pid=2787)\u001b[0m epoch: 7, batch_id: 13, loss: 2.3123862743377686\n",
            "\u001b[36m(train_mel_spec_model pid=2787)\u001b[0m epoch: 7, batch_id: 14, loss: 2.3129212856292725\n",
            "\u001b[36m(train_mel_spec_model pid=2787)\u001b[0m epoch: 7, batch_id: 15, loss: 2.315657615661621\n",
            "\u001b[36m(train_mel_spec_model pid=2787)\u001b[0m epoch: 7, batch_id: 16, loss: 2.307494878768921\n",
            "\u001b[36m(train_mel_spec_model pid=2787)\u001b[0m epoch: 7, batch_id: 17, loss: 2.30104923248291\n",
            "\u001b[36m(train_mel_spec_model pid=2787)\u001b[0m epoch: 7, batch_id: 18, loss: 2.290588855743408\n",
            "\u001b[36m(train_mel_spec_model pid=2787)\u001b[0m epoch: 7, batch_id: 19, loss: 2.3143045902252197\n",
            "\u001b[36m(train_mel_spec_model pid=2787)\u001b[0m epoch: 7, batch_id: 20, loss: 2.3119559288024902\n",
            "\u001b[36m(train_mel_spec_model pid=2787)\u001b[0m epoch: 7, batch_id: 21, loss: 2.308387517929077\n",
            "\u001b[36m(train_mel_spec_model pid=2787)\u001b[0m epoch: 7, batch_id: 22, loss: 2.312839984893799\n",
            "\u001b[36m(train_mel_spec_model pid=2787)\u001b[0m epoch: 7, batch_id: 23, loss: 2.2987024784088135\n",
            "\u001b[36m(train_mel_spec_model pid=2787)\u001b[0m epoch: 7, batch_id: 24, loss: 2.296772003173828\n",
            "\u001b[36m(train_mel_spec_model pid=2787)\u001b[0m epoch: 7, batch_id: 25, loss: 2.3033480644226074\n",
            "\u001b[36m(train_mel_spec_model pid=2787)\u001b[0m epoch: 7, batch_id: 26, loss: 2.316632032394409\n"
          ]
        },
        {
          "output_type": "stream",
          "name": "stderr",
          "text": [
            "\u001b[36m(train_mel_spec_model pid=2787)\u001b[0m Checkpoint successfully created at: Checkpoint(filesystem=local, path=/root/ray_results/train_mel_spec_model_2024-04-11_03-45-31/train_mel_spec_model_f562d_00002_2_batch_size=30,l1=950,l2=10,lr=0.0017,num_epochs=25_2024-04-11_03-45-37/checkpoint_000007)\n"
          ]
        },
        {
          "output_type": "stream",
          "name": "stdout",
          "text": [
            "\u001b[36m(train_mel_spec_model pid=2787)\u001b[0m Validation Loss: 2.3158832788467407, Accuracy: 0.09090909090909091\n",
            "\u001b[36m(train_mel_spec_model pid=2787)\u001b[0m epoch: 8, batch_id: 0, loss: 2.3004837036132812\n",
            "\u001b[36m(train_mel_spec_model pid=2787)\u001b[0m epoch: 8, batch_id: 1, loss: 2.2951478958129883\n",
            "\u001b[36m(train_mel_spec_model pid=2787)\u001b[0m epoch: 8, batch_id: 2, loss: 2.306284189224243\n",
            "\u001b[36m(train_mel_spec_model pid=2787)\u001b[0m epoch: 8, batch_id: 3, loss: 2.300546407699585\n",
            "\u001b[36m(train_mel_spec_model pid=2787)\u001b[0m epoch: 8, batch_id: 4, loss: 2.301499128341675\n",
            "\u001b[36m(train_mel_spec_model pid=2787)\u001b[0m epoch: 8, batch_id: 5, loss: 2.2897427082061768\n",
            "\u001b[36m(train_mel_spec_model pid=2787)\u001b[0m epoch: 8, batch_id: 6, loss: 2.2829713821411133\n",
            "\u001b[36m(train_mel_spec_model pid=2787)\u001b[0m epoch: 8, batch_id: 7, loss: 2.2944345474243164\n",
            "\u001b[36m(train_mel_spec_model pid=2787)\u001b[0m epoch: 8, batch_id: 8, loss: 2.3405754566192627\n",
            "\u001b[36m(train_mel_spec_model pid=2787)\u001b[0m epoch: 8, batch_id: 9, loss: 2.3253798484802246\n",
            "\u001b[36m(train_mel_spec_model pid=2787)\u001b[0m epoch: 8, batch_id: 10, loss: 2.3089356422424316\n",
            "\u001b[36m(train_mel_spec_model pid=2787)\u001b[0m epoch: 8, batch_id: 11, loss: 2.3065645694732666\n",
            "\u001b[36m(train_mel_spec_model pid=2787)\u001b[0m epoch: 8, batch_id: 12, loss: 2.3114163875579834\n",
            "\u001b[36m(train_mel_spec_model pid=2787)\u001b[0m epoch: 8, batch_id: 13, loss: 2.323758602142334\n",
            "\u001b[36m(train_mel_spec_model pid=2787)\u001b[0m epoch: 8, batch_id: 14, loss: 2.2960503101348877\n",
            "\u001b[36m(train_mel_spec_model pid=2787)\u001b[0m epoch: 8, batch_id: 15, loss: 2.291947364807129\n",
            "\u001b[36m(train_mel_spec_model pid=2787)\u001b[0m epoch: 8, batch_id: 16, loss: 2.3059310913085938\n",
            "\u001b[36m(train_mel_spec_model pid=2787)\u001b[0m epoch: 8, batch_id: 17, loss: 2.316783905029297\n",
            "\u001b[36m(train_mel_spec_model pid=2787)\u001b[0m epoch: 8, batch_id: 18, loss: 2.3167786598205566\n",
            "\u001b[36m(train_mel_spec_model pid=2787)\u001b[0m epoch: 8, batch_id: 19, loss: 2.312873363494873\n",
            "\u001b[36m(train_mel_spec_model pid=2787)\u001b[0m epoch: 8, batch_id: 20, loss: 2.292273998260498\n",
            "\u001b[36m(train_mel_spec_model pid=2787)\u001b[0m epoch: 8, batch_id: 21, loss: 2.2961647510528564\n",
            "\u001b[36m(train_mel_spec_model pid=2787)\u001b[0m epoch: 8, batch_id: 22, loss: 2.2954134941101074\n",
            "\u001b[36m(train_mel_spec_model pid=2787)\u001b[0m epoch: 8, batch_id: 23, loss: 2.2832987308502197\n",
            "\u001b[36m(train_mel_spec_model pid=2787)\u001b[0m epoch: 8, batch_id: 24, loss: 2.302365303039551\n",
            "\u001b[36m(train_mel_spec_model pid=2787)\u001b[0m epoch: 8, batch_id: 25, loss: 2.292618989944458\n",
            "\u001b[36m(train_mel_spec_model pid=2787)\u001b[0m epoch: 8, batch_id: 26, loss: 2.3131301403045654\n"
          ]
        },
        {
          "output_type": "stream",
          "name": "stderr",
          "text": [
            "\u001b[36m(train_mel_spec_model pid=2787)\u001b[0m Checkpoint successfully created at: Checkpoint(filesystem=local, path=/root/ray_results/train_mel_spec_model_2024-04-11_03-45-31/train_mel_spec_model_f562d_00002_2_batch_size=30,l1=950,l2=10,lr=0.0017,num_epochs=25_2024-04-11_03-45-37/checkpoint_000008)\n"
          ]
        },
        {
          "output_type": "stream",
          "name": "stdout",
          "text": [
            "\u001b[36m(train_mel_spec_model pid=2787)\u001b[0m Validation Loss: 2.315337300300598, Accuracy: 0.09090909090909091\n",
            "\u001b[36m(train_mel_spec_model pid=2787)\u001b[0m epoch: 9, batch_id: 0, loss: 2.3031694889068604\n",
            "\u001b[36m(train_mel_spec_model pid=2787)\u001b[0m epoch: 9, batch_id: 1, loss: 2.3065719604492188\n",
            "\u001b[36m(train_mel_spec_model pid=2787)\u001b[0m epoch: 9, batch_id: 2, loss: 2.297586679458618\n",
            "\u001b[36m(train_mel_spec_model pid=2787)\u001b[0m epoch: 9, batch_id: 3, loss: 2.2943501472473145\n",
            "\u001b[36m(train_mel_spec_model pid=2787)\u001b[0m epoch: 9, batch_id: 4, loss: 2.3252973556518555\n",
            "\u001b[36m(train_mel_spec_model pid=2787)\u001b[0m epoch: 9, batch_id: 5, loss: 2.296886920928955\n",
            "\u001b[36m(train_mel_spec_model pid=2787)\u001b[0m epoch: 9, batch_id: 6, loss: 2.323209524154663\n",
            "\u001b[36m(train_mel_spec_model pid=2787)\u001b[0m epoch: 9, batch_id: 7, loss: 2.303459882736206\n",
            "\u001b[36m(train_mel_spec_model pid=2787)\u001b[0m epoch: 9, batch_id: 8, loss: 2.295576572418213\n",
            "\u001b[36m(train_mel_spec_model pid=2787)\u001b[0m epoch: 9, batch_id: 9, loss: 2.291381359100342\n",
            "\u001b[36m(train_mel_spec_model pid=2787)\u001b[0m epoch: 9, batch_id: 10, loss: 2.3064112663269043\n",
            "\u001b[36m(train_mel_spec_model pid=2787)\u001b[0m epoch: 9, batch_id: 11, loss: 2.291520357131958\n",
            "\u001b[36m(train_mel_spec_model pid=2787)\u001b[0m epoch: 9, batch_id: 12, loss: 2.286787509918213\n",
            "\u001b[36m(train_mel_spec_model pid=2787)\u001b[0m epoch: 9, batch_id: 13, loss: 2.3144824504852295\n",
            "\u001b[36m(train_mel_spec_model pid=2787)\u001b[0m epoch: 9, batch_id: 14, loss: 2.3095011711120605\n",
            "\u001b[36m(train_mel_spec_model pid=2787)\u001b[0m epoch: 9, batch_id: 15, loss: 2.3021090030670166\n",
            "\u001b[36m(train_mel_spec_model pid=2787)\u001b[0m epoch: 9, batch_id: 16, loss: 2.2948012351989746\n",
            "\u001b[36m(train_mel_spec_model pid=2787)\u001b[0m epoch: 9, batch_id: 17, loss: 2.3157050609588623\n",
            "\u001b[36m(train_mel_spec_model pid=2787)\u001b[0m epoch: 9, batch_id: 18, loss: 2.3199501037597656\n",
            "\u001b[36m(train_mel_spec_model pid=2787)\u001b[0m epoch: 9, batch_id: 19, loss: 2.3034582138061523\n",
            "\u001b[36m(train_mel_spec_model pid=2787)\u001b[0m epoch: 9, batch_id: 20, loss: 2.310805082321167\n",
            "\u001b[36m(train_mel_spec_model pid=2787)\u001b[0m epoch: 9, batch_id: 21, loss: 2.2868902683258057\n",
            "\u001b[36m(train_mel_spec_model pid=2787)\u001b[0m epoch: 9, batch_id: 22, loss: 2.29772686958313\n",
            "\u001b[36m(train_mel_spec_model pid=2787)\u001b[0m epoch: 9, batch_id: 23, loss: 2.3099350929260254\n",
            "\u001b[36m(train_mel_spec_model pid=2787)\u001b[0m epoch: 9, batch_id: 24, loss: 2.295865058898926\n",
            "\u001b[36m(train_mel_spec_model pid=2787)\u001b[0m epoch: 9, batch_id: 25, loss: 2.3079864978790283\n",
            "\u001b[36m(train_mel_spec_model pid=2787)\u001b[0m epoch: 9, batch_id: 26, loss: 2.2938406467437744\n"
          ]
        },
        {
          "output_type": "stream",
          "name": "stderr",
          "text": [
            "\u001b[36m(train_mel_spec_model pid=2787)\u001b[0m Checkpoint successfully created at: Checkpoint(filesystem=local, path=/root/ray_results/train_mel_spec_model_2024-04-11_03-45-31/train_mel_spec_model_f562d_00002_2_batch_size=30,l1=950,l2=10,lr=0.0017,num_epochs=25_2024-04-11_03-45-37/checkpoint_000009)\n"
          ]
        },
        {
          "output_type": "stream",
          "name": "stdout",
          "text": [
            "\u001b[36m(train_mel_spec_model pid=2787)\u001b[0m Validation Loss: 2.312966287136078, Accuracy: 0.09090909090909091\n",
            "\u001b[36m(train_mel_spec_model pid=2787)\u001b[0m epoch: 10, batch_id: 0, loss: 2.2898285388946533\n",
            "\u001b[36m(train_mel_spec_model pid=2787)\u001b[0m epoch: 10, batch_id: 1, loss: 2.3050460815429688\n",
            "\u001b[36m(train_mel_spec_model pid=2787)\u001b[0m epoch: 10, batch_id: 2, loss: 2.309069871902466\n",
            "\u001b[36m(train_mel_spec_model pid=2787)\u001b[0m epoch: 10, batch_id: 3, loss: 2.3069968223571777\n",
            "\u001b[36m(train_mel_spec_model pid=2787)\u001b[0m epoch: 10, batch_id: 4, loss: 2.2923731803894043\n",
            "\u001b[36m(train_mel_spec_model pid=2787)\u001b[0m epoch: 10, batch_id: 5, loss: 2.3027102947235107\n",
            "\u001b[36m(train_mel_spec_model pid=2787)\u001b[0m epoch: 10, batch_id: 6, loss: 2.3103740215301514\n",
            "\u001b[36m(train_mel_spec_model pid=2787)\u001b[0m epoch: 10, batch_id: 7, loss: 2.3033201694488525\n",
            "\u001b[36m(train_mel_spec_model pid=2787)\u001b[0m epoch: 10, batch_id: 8, loss: 2.2836031913757324\n",
            "\u001b[36m(train_mel_spec_model pid=2787)\u001b[0m epoch: 10, batch_id: 9, loss: 2.3012678623199463\n",
            "\u001b[36m(train_mel_spec_model pid=2787)\u001b[0m epoch: 10, batch_id: 10, loss: 2.3004887104034424\n",
            "\u001b[36m(train_mel_spec_model pid=2787)\u001b[0m epoch: 10, batch_id: 11, loss: 2.292802095413208\n",
            "\u001b[36m(train_mel_spec_model pid=2787)\u001b[0m epoch: 10, batch_id: 12, loss: 2.304645538330078\n",
            "\u001b[36m(train_mel_spec_model pid=2787)\u001b[0m epoch: 10, batch_id: 13, loss: 2.299910545349121\n",
            "\u001b[36m(train_mel_spec_model pid=2787)\u001b[0m epoch: 10, batch_id: 14, loss: 2.2912561893463135\n",
            "\u001b[36m(train_mel_spec_model pid=2787)\u001b[0m epoch: 10, batch_id: 15, loss: 2.310157060623169\n",
            "\u001b[36m(train_mel_spec_model pid=2787)\u001b[0m epoch: 10, batch_id: 16, loss: 2.3020637035369873\n",
            "\u001b[36m(train_mel_spec_model pid=2787)\u001b[0m epoch: 10, batch_id: 17, loss: 2.3137056827545166\n",
            "\u001b[36m(train_mel_spec_model pid=2787)\u001b[0m epoch: 10, batch_id: 18, loss: 2.2993931770324707\n",
            "\u001b[36m(train_mel_spec_model pid=2787)\u001b[0m epoch: 10, batch_id: 19, loss: 2.308429002761841\n",
            "\u001b[36m(train_mel_spec_model pid=2787)\u001b[0m epoch: 10, batch_id: 20, loss: 2.292776346206665\n",
            "\u001b[36m(train_mel_spec_model pid=2787)\u001b[0m epoch: 10, batch_id: 21, loss: 2.319875478744507\n",
            "\u001b[36m(train_mel_spec_model pid=2787)\u001b[0m epoch: 10, batch_id: 22, loss: 2.307077646255493\n",
            "\u001b[36m(train_mel_spec_model pid=2787)\u001b[0m epoch: 10, batch_id: 23, loss: 2.3078877925872803\n",
            "\u001b[36m(train_mel_spec_model pid=2787)\u001b[0m epoch: 10, batch_id: 24, loss: 2.305431604385376\n",
            "\u001b[36m(train_mel_spec_model pid=2787)\u001b[0m epoch: 10, batch_id: 25, loss: 2.298306941986084\n",
            "\u001b[36m(train_mel_spec_model pid=2787)\u001b[0m epoch: 10, batch_id: 26, loss: 2.3198459148406982\n"
          ]
        },
        {
          "output_type": "stream",
          "name": "stderr",
          "text": [
            "\u001b[36m(train_mel_spec_model pid=2787)\u001b[0m Checkpoint successfully created at: Checkpoint(filesystem=local, path=/root/ray_results/train_mel_spec_model_2024-04-11_03-45-31/train_mel_spec_model_f562d_00002_2_batch_size=30,l1=950,l2=10,lr=0.0017,num_epochs=25_2024-04-11_03-45-37/checkpoint_000010)\n"
          ]
        },
        {
          "output_type": "stream",
          "name": "stdout",
          "text": [
            "\u001b[36m(train_mel_spec_model pid=2787)\u001b[0m Validation Loss: 2.3078725337982178, Accuracy: 0.08080808080808081\n",
            "\u001b[36m(train_mel_spec_model pid=2787)\u001b[0m epoch: 11, batch_id: 0, loss: 2.3040575981140137\n",
            "\u001b[36m(train_mel_spec_model pid=2787)\u001b[0m epoch: 11, batch_id: 1, loss: 2.3100335597991943\n",
            "\u001b[36m(train_mel_spec_model pid=2787)\u001b[0m epoch: 11, batch_id: 2, loss: 2.3056325912475586\n",
            "\u001b[36m(train_mel_spec_model pid=2787)\u001b[0m epoch: 11, batch_id: 3, loss: 2.2813527584075928\n",
            "\u001b[36m(train_mel_spec_model pid=2787)\u001b[0m epoch: 11, batch_id: 4, loss: 2.2915008068084717\n",
            "\u001b[36m(train_mel_spec_model pid=2787)\u001b[0m epoch: 11, batch_id: 5, loss: 2.2970566749572754\n",
            "\u001b[36m(train_mel_spec_model pid=2787)\u001b[0m epoch: 11, batch_id: 6, loss: 2.3134002685546875\n",
            "\u001b[36m(train_mel_spec_model pid=2787)\u001b[0m epoch: 11, batch_id: 7, loss: 2.3059897422790527\n",
            "\u001b[36m(train_mel_spec_model pid=2787)\u001b[0m epoch: 11, batch_id: 8, loss: 2.305027484893799\n",
            "\u001b[36m(train_mel_spec_model pid=2787)\u001b[0m epoch: 11, batch_id: 9, loss: 2.3035247325897217\n",
            "\u001b[36m(train_mel_spec_model pid=2787)\u001b[0m epoch: 11, batch_id: 10, loss: 2.2961127758026123\n",
            "\u001b[36m(train_mel_spec_model pid=2787)\u001b[0m epoch: 11, batch_id: 11, loss: 2.3028149604797363\n",
            "\u001b[36m(train_mel_spec_model pid=2787)\u001b[0m epoch: 11, batch_id: 12, loss: 2.289370536804199\n",
            "\u001b[36m(train_mel_spec_model pid=2787)\u001b[0m epoch: 11, batch_id: 13, loss: 2.310664176940918\n",
            "\u001b[36m(train_mel_spec_model pid=2787)\u001b[0m epoch: 11, batch_id: 14, loss: 2.313168525695801\n",
            "\u001b[36m(train_mel_spec_model pid=2787)\u001b[0m epoch: 11, batch_id: 15, loss: 2.2945759296417236\n",
            "\u001b[36m(train_mel_spec_model pid=2787)\u001b[0m epoch: 11, batch_id: 16, loss: 2.309828758239746\n",
            "\u001b[36m(train_mel_spec_model pid=2787)\u001b[0m epoch: 11, batch_id: 17, loss: 2.3052268028259277\n",
            "\u001b[36m(train_mel_spec_model pid=2787)\u001b[0m epoch: 11, batch_id: 18, loss: 2.2996466159820557\n",
            "\u001b[36m(train_mel_spec_model pid=2787)\u001b[0m epoch: 11, batch_id: 19, loss: 2.3030526638031006\n",
            "\u001b[36m(train_mel_spec_model pid=2787)\u001b[0m epoch: 11, batch_id: 20, loss: 2.2966201305389404\n",
            "\u001b[36m(train_mel_spec_model pid=2787)\u001b[0m epoch: 11, batch_id: 21, loss: 2.290092706680298\n",
            "\u001b[36m(train_mel_spec_model pid=2787)\u001b[0m epoch: 11, batch_id: 22, loss: 2.3123281002044678\n",
            "\u001b[36m(train_mel_spec_model pid=2787)\u001b[0m epoch: 11, batch_id: 23, loss: 2.3127830028533936\n",
            "\u001b[36m(train_mel_spec_model pid=2787)\u001b[0m epoch: 11, batch_id: 24, loss: 2.307342529296875\n",
            "\u001b[36m(train_mel_spec_model pid=2787)\u001b[0m epoch: 11, batch_id: 25, loss: 2.304765462875366\n",
            "\u001b[36m(train_mel_spec_model pid=2787)\u001b[0m epoch: 11, batch_id: 26, loss: 2.3023083209991455\n"
          ]
        },
        {
          "output_type": "stream",
          "name": "stderr",
          "text": [
            "\u001b[36m(train_mel_spec_model pid=2787)\u001b[0m Checkpoint successfully created at: Checkpoint(filesystem=local, path=/root/ray_results/train_mel_spec_model_2024-04-11_03-45-31/train_mel_spec_model_f562d_00002_2_batch_size=30,l1=950,l2=10,lr=0.0017,num_epochs=25_2024-04-11_03-45-37/checkpoint_000011)\n"
          ]
        },
        {
          "output_type": "stream",
          "name": "stdout",
          "text": [
            "\u001b[36m(train_mel_spec_model pid=2787)\u001b[0m Validation Loss: 2.314794659614563, Accuracy: 0.08080808080808081\n",
            "\u001b[36m(train_mel_spec_model pid=2787)\u001b[0m epoch: 12, batch_id: 0, loss: 2.3054158687591553\n",
            "\u001b[36m(train_mel_spec_model pid=2787)\u001b[0m epoch: 12, batch_id: 1, loss: 2.296546459197998\n",
            "\u001b[36m(train_mel_spec_model pid=2787)\u001b[0m epoch: 12, batch_id: 2, loss: 2.2941243648529053\n",
            "\u001b[36m(train_mel_spec_model pid=2787)\u001b[0m epoch: 12, batch_id: 3, loss: 2.298635244369507\n",
            "\u001b[36m(train_mel_spec_model pid=2787)\u001b[0m epoch: 12, batch_id: 4, loss: 2.3013267517089844\n",
            "\u001b[36m(train_mel_spec_model pid=2787)\u001b[0m epoch: 12, batch_id: 5, loss: 2.3008620738983154\n",
            "\u001b[36m(train_mel_spec_model pid=2787)\u001b[0m epoch: 12, batch_id: 6, loss: 2.297008752822876\n",
            "\u001b[36m(train_mel_spec_model pid=2787)\u001b[0m epoch: 12, batch_id: 7, loss: 2.2981083393096924\n",
            "\u001b[36m(train_mel_spec_model pid=2787)\u001b[0m epoch: 12, batch_id: 8, loss: 2.304518222808838\n",
            "\u001b[36m(train_mel_spec_model pid=2787)\u001b[0m epoch: 12, batch_id: 9, loss: 2.310981035232544\n",
            "\u001b[36m(train_mel_spec_model pid=2787)\u001b[0m epoch: 12, batch_id: 10, loss: 2.295344829559326\n",
            "\u001b[36m(train_mel_spec_model pid=2787)\u001b[0m epoch: 12, batch_id: 11, loss: 2.302980899810791\n",
            "\u001b[36m(train_mel_spec_model pid=2787)\u001b[0m epoch: 12, batch_id: 12, loss: 2.304130792617798\n",
            "\u001b[36m(train_mel_spec_model pid=2787)\u001b[0m epoch: 12, batch_id: 13, loss: 2.3054699897766113\n",
            "\u001b[36m(train_mel_spec_model pid=2787)\u001b[0m epoch: 12, batch_id: 14, loss: 2.2836787700653076\n",
            "\u001b[36m(train_mel_spec_model pid=2787)\u001b[0m epoch: 12, batch_id: 15, loss: 2.307643175125122\n",
            "\u001b[36m(train_mel_spec_model pid=2787)\u001b[0m epoch: 12, batch_id: 16, loss: 2.3226611614227295\n",
            "\u001b[36m(train_mel_spec_model pid=2787)\u001b[0m epoch: 12, batch_id: 17, loss: 2.3055343627929688\n",
            "\u001b[36m(train_mel_spec_model pid=2787)\u001b[0m epoch: 12, batch_id: 18, loss: 2.3129003047943115\n",
            "\u001b[36m(train_mel_spec_model pid=2787)\u001b[0m epoch: 12, batch_id: 19, loss: 2.2991721630096436\n",
            "\u001b[36m(train_mel_spec_model pid=2787)\u001b[0m epoch: 12, batch_id: 20, loss: 2.301435708999634\n",
            "\u001b[36m(train_mel_spec_model pid=2787)\u001b[0m epoch: 12, batch_id: 21, loss: 2.3052635192871094\n",
            "\u001b[36m(train_mel_spec_model pid=2787)\u001b[0m epoch: 12, batch_id: 22, loss: 2.2939279079437256\n",
            "\u001b[36m(train_mel_spec_model pid=2787)\u001b[0m epoch: 12, batch_id: 23, loss: 2.302948474884033\n",
            "\u001b[36m(train_mel_spec_model pid=2787)\u001b[0m epoch: 12, batch_id: 24, loss: 2.3019778728485107\n",
            "\u001b[36m(train_mel_spec_model pid=2787)\u001b[0m epoch: 12, batch_id: 25, loss: 2.31257700920105\n",
            "\u001b[36m(train_mel_spec_model pid=2787)\u001b[0m epoch: 12, batch_id: 26, loss: 2.2893619537353516\n"
          ]
        },
        {
          "output_type": "stream",
          "name": "stderr",
          "text": [
            "\u001b[36m(train_mel_spec_model pid=2787)\u001b[0m Checkpoint successfully created at: Checkpoint(filesystem=local, path=/root/ray_results/train_mel_spec_model_2024-04-11_03-45-31/train_mel_spec_model_f562d_00002_2_batch_size=30,l1=950,l2=10,lr=0.0017,num_epochs=25_2024-04-11_03-45-37/checkpoint_000012)\n"
          ]
        },
        {
          "output_type": "stream",
          "name": "stdout",
          "text": [
            "\u001b[36m(train_mel_spec_model pid=2787)\u001b[0m Validation Loss: 2.3084208965301514, Accuracy: 0.08080808080808081\n",
            "\u001b[36m(train_mel_spec_model pid=2787)\u001b[0m epoch: 13, batch_id: 0, loss: 2.2975616455078125\n",
            "\u001b[36m(train_mel_spec_model pid=2787)\u001b[0m \n",
            "\u001b[36m(train_mel_spec_model pid=2787)\u001b[0m epoch: 13, batch_id: 1, loss: 2.2925565242767334\n",
            "\u001b[36m(train_mel_spec_model pid=2787)\u001b[0m epoch: 13, batch_id: 2, loss: 2.2995858192443848\n",
            "\u001b[36m(train_mel_spec_model pid=2787)\u001b[0m epoch: 13, batch_id: 3, loss: 2.299268960952759\n",
            "\u001b[36m(train_mel_spec_model pid=2787)\u001b[0m epoch: 13, batch_id: 4, loss: 2.2936389446258545\n",
            "\u001b[36m(train_mel_spec_model pid=2787)\u001b[0m epoch: 13, batch_id: 5, loss: 2.3108580112457275\n",
            "\u001b[36m(train_mel_spec_model pid=2787)\u001b[0m epoch: 13, batch_id: 6, loss: 2.282527208328247\n",
            "\u001b[36m(train_mel_spec_model pid=2787)\u001b[0m epoch: 13, batch_id: 7, loss: 2.291364908218384\n",
            "\u001b[36m(train_mel_spec_model pid=2787)\u001b[0m epoch: 13, batch_id: 8, loss: 2.3000738620758057\n",
            "\u001b[36m(train_mel_spec_model pid=2787)\u001b[0m epoch: 13, batch_id: 9, loss: 2.2941315174102783\n",
            "\u001b[36m(train_mel_spec_model pid=2787)\u001b[0m epoch: 13, batch_id: 10, loss: 2.2923026084899902\n",
            "\u001b[36m(train_mel_spec_model pid=2787)\u001b[0m epoch: 13, batch_id: 11, loss: 2.288748025894165\n",
            "\u001b[36m(train_mel_spec_model pid=2787)\u001b[0m epoch: 13, batch_id: 12, loss: 2.3195960521698\n",
            "\u001b[36m(train_mel_spec_model pid=2787)\u001b[0m epoch: 13, batch_id: 13, loss: 2.3005852699279785\n",
            "\u001b[36m(train_mel_spec_model pid=2787)\u001b[0m epoch: 13, batch_id: 14, loss: 2.320317029953003\n",
            "\u001b[36m(train_mel_spec_model pid=2787)\u001b[0m epoch: 13, batch_id: 15, loss: 2.3057682514190674\n",
            "\u001b[36m(train_mel_spec_model pid=2787)\u001b[0m epoch: 13, batch_id: 16, loss: 2.3143999576568604\n",
            "\u001b[36m(train_mel_spec_model pid=2787)\u001b[0m epoch: 13, batch_id: 17, loss: 2.304641008377075\n",
            "\u001b[36m(train_mel_spec_model pid=2787)\u001b[0m epoch: 13, batch_id: 18, loss: 2.3215243816375732\n",
            "\u001b[36m(train_mel_spec_model pid=2787)\u001b[0m epoch: 13, batch_id: 19, loss: 2.316660165786743\n",
            "\u001b[36m(train_mel_spec_model pid=2787)\u001b[0m epoch: 13, batch_id: 20, loss: 2.291964292526245\n",
            "\u001b[36m(train_mel_spec_model pid=2787)\u001b[0m epoch: 13, batch_id: 21, loss: 2.2891390323638916\n",
            "\u001b[36m(train_mel_spec_model pid=2787)\u001b[0m epoch: 13, batch_id: 22, loss: 2.3045506477355957\n",
            "\u001b[36m(train_mel_spec_model pid=2787)\u001b[0m epoch: 13, batch_id: 23, loss: 2.3119821548461914\n",
            "\u001b[36m(train_mel_spec_model pid=2787)\u001b[0m epoch: 13, batch_id: 24, loss: 2.317110538482666\n",
            "\u001b[36m(train_mel_spec_model pid=2787)\u001b[0m epoch: 13, batch_id: 25, loss: 2.3244502544403076\n",
            "\u001b[36m(train_mel_spec_model pid=2787)\u001b[0m epoch: 13, batch_id: 26, loss: 2.312617540359497\n"
          ]
        },
        {
          "output_type": "stream",
          "name": "stderr",
          "text": [
            "\u001b[36m(train_mel_spec_model pid=2787)\u001b[0m Checkpoint successfully created at: Checkpoint(filesystem=local, path=/root/ray_results/train_mel_spec_model_2024-04-11_03-45-31/train_mel_spec_model_f562d_00002_2_batch_size=30,l1=950,l2=10,lr=0.0017,num_epochs=25_2024-04-11_03-45-37/checkpoint_000013)\n"
          ]
        },
        {
          "output_type": "stream",
          "name": "stdout",
          "text": [
            "\u001b[36m(train_mel_spec_model pid=2787)\u001b[0m Validation Loss: 2.3153916001319885, Accuracy: 0.08080808080808081\n",
            "\u001b[36m(train_mel_spec_model pid=2787)\u001b[0m epoch: 14, batch_id: 0, loss: 2.2872860431671143\n",
            "\u001b[36m(train_mel_spec_model pid=2787)\u001b[0m epoch: 14, batch_id: 1, loss: 2.3213515281677246\n",
            "\u001b[36m(train_mel_spec_model pid=2787)\u001b[0m epoch: 14, batch_id: 2, loss: 2.295703887939453\n",
            "\u001b[36m(train_mel_spec_model pid=2787)\u001b[0m epoch: 14, batch_id: 3, loss: 2.2866556644439697\n",
            "\u001b[36m(train_mel_spec_model pid=2787)\u001b[0m epoch: 14, batch_id: 4, loss: 2.295072078704834\n",
            "\u001b[36m(train_mel_spec_model pid=2787)\u001b[0m epoch: 14, batch_id: 5, loss: 2.2990787029266357\n",
            "\u001b[36m(train_mel_spec_model pid=2787)\u001b[0m epoch: 14, batch_id: 6, loss: 2.297938585281372\n",
            "\u001b[36m(train_mel_spec_model pid=2787)\u001b[0m epoch: 14, batch_id: 7, loss: 2.3073415756225586\n",
            "\u001b[36m(train_mel_spec_model pid=2787)\u001b[0m epoch: 14, batch_id: 8, loss: 2.3052661418914795\n",
            "\u001b[36m(train_mel_spec_model pid=2787)\u001b[0m epoch: 14, batch_id: 9, loss: 2.306737184524536\n",
            "\u001b[36m(train_mel_spec_model pid=2787)\u001b[0m epoch: 14, batch_id: 10, loss: 2.29832124710083\n",
            "\u001b[36m(train_mel_spec_model pid=2787)\u001b[0m epoch: 14, batch_id: 11, loss: 2.3025577068328857\n",
            "\u001b[36m(train_mel_spec_model pid=2787)\u001b[0m epoch: 14, batch_id: 12, loss: 2.3047330379486084\n",
            "\u001b[36m(train_mel_spec_model pid=2787)\u001b[0m epoch: 14, batch_id: 13, loss: 2.301213502883911\n",
            "\u001b[36m(train_mel_spec_model pid=2787)\u001b[0m epoch: 14, batch_id: 14, loss: 2.315479040145874\n",
            "\u001b[36m(train_mel_spec_model pid=2787)\u001b[0m epoch: 14, batch_id: 15, loss: 2.2888505458831787\n",
            "\u001b[36m(train_mel_spec_model pid=2787)\u001b[0m epoch: 14, batch_id: 16, loss: 2.2843923568725586\n",
            "\u001b[36m(train_mel_spec_model pid=2787)\u001b[0m epoch: 14, batch_id: 17, loss: 2.311662197113037\n",
            "\u001b[36m(train_mel_spec_model pid=2787)\u001b[0m epoch: 14, batch_id: 18, loss: 2.3244447708129883\n",
            "\u001b[36m(train_mel_spec_model pid=2787)\u001b[0m epoch: 14, batch_id: 19, loss: 2.308321952819824\n",
            "\u001b[36m(train_mel_spec_model pid=2787)\u001b[0m epoch: 14, batch_id: 20, loss: 2.2943472862243652\n",
            "\u001b[36m(train_mel_spec_model pid=2787)\u001b[0m epoch: 14, batch_id: 21, loss: 2.3005833625793457\n",
            "\u001b[36m(train_mel_spec_model pid=2787)\u001b[0m epoch: 14, batch_id: 22, loss: 2.2995123863220215\n",
            "\u001b[36m(train_mel_spec_model pid=2787)\u001b[0m epoch: 14, batch_id: 23, loss: 2.296060085296631\n",
            "\u001b[36m(train_mel_spec_model pid=2787)\u001b[0m epoch: 14, batch_id: 24, loss: 2.306898593902588\n",
            "\u001b[36m(train_mel_spec_model pid=2787)\u001b[0m epoch: 14, batch_id: 25, loss: 2.309527635574341\n",
            "\u001b[36m(train_mel_spec_model pid=2787)\u001b[0m epoch: 14, batch_id: 26, loss: 2.313422441482544\n",
            "Trial status: 2 TERMINATED | 1 RUNNING | 2 PENDING\n",
            "Current time: 2024-04-11 03:51:38. Total running time: 6min 0s\n",
            "Logical resource usage: 2.0/2 CPUs, 1.0/1 GPUs (0.0/1.0 accelerator_type:T4)\n",
            "Current best trial: f562d_00000 with loss=1.4953934252262115 and params={'l1': 550, 'l2': 15, 'lr': 0.00019002025558777404, 'batch_size': 30, 'num_epochs': 35}\n",
            "+------------------------------------------------------------------------------------------------------------------------------------------------------------+\n",
            "| Trial name                         status         l1     l2            lr     batch_size     num_epochs     iter     total time (s)      loss     accuracy |\n",
            "+------------------------------------------------------------------------------------------------------------------------------------------------------------+\n",
            "| train_mel_spec_model_f562d_00002   RUNNING       950     10   0.0017086               30             25       14            53.8485   2.31539    0.0808081 |\n",
            "| train_mel_spec_model_f562d_00000   TERMINATED    550     15   0.00019002              30             35       35           220.054    1.49539    0.525253  |\n",
            "| train_mel_spec_model_f562d_00001   TERMINATED    700      5   0.0185484               45             35       20            65.1919   2.30768    0.0808081 |\n",
            "| train_mel_spec_model_f562d_00003   PENDING       450     10   0.000373188             35             35                                                    |\n",
            "| train_mel_spec_model_f562d_00004   PENDING       800     10   0.00014823               5             35                                                    |\n",
            "+------------------------------------------------------------------------------------------------------------------------------------------------------------+\n"
          ]
        },
        {
          "output_type": "stream",
          "name": "stderr",
          "text": [
            "\u001b[36m(train_mel_spec_model pid=2787)\u001b[0m Checkpoint successfully created at: Checkpoint(filesystem=local, path=/root/ray_results/train_mel_spec_model_2024-04-11_03-45-31/train_mel_spec_model_f562d_00002_2_batch_size=30,l1=950,l2=10,lr=0.0017,num_epochs=25_2024-04-11_03-45-37/checkpoint_000014)\n"
          ]
        },
        {
          "output_type": "stream",
          "name": "stdout",
          "text": [
            "\u001b[36m(train_mel_spec_model pid=2787)\u001b[0m Validation Loss: 2.3146748542785645, Accuracy: 0.08080808080808081\n",
            "\u001b[36m(train_mel_spec_model pid=2787)\u001b[0m epoch: 15, batch_id: 0, loss: 2.285001516342163\n",
            "\u001b[36m(train_mel_spec_model pid=2787)\u001b[0m epoch: 15, batch_id: 1, loss: 2.302673101425171\n",
            "\u001b[36m(train_mel_spec_model pid=2787)\u001b[0m epoch: 15, batch_id: 2, loss: 2.3113372325897217\n",
            "\u001b[36m(train_mel_spec_model pid=2787)\u001b[0m epoch: 15, batch_id: 3, loss: 2.293795347213745\n",
            "\u001b[36m(train_mel_spec_model pid=2787)\u001b[0m epoch: 15, batch_id: 4, loss: 2.3081536293029785\n",
            "\u001b[36m(train_mel_spec_model pid=2787)\u001b[0m epoch: 15, batch_id: 5, loss: 2.308783531188965\n",
            "\u001b[36m(train_mel_spec_model pid=2787)\u001b[0m epoch: 15, batch_id: 6, loss: 2.3030052185058594\n",
            "\u001b[36m(train_mel_spec_model pid=2787)\u001b[0m epoch: 15, batch_id: 7, loss: 2.306203603744507\n",
            "\u001b[36m(train_mel_spec_model pid=2787)\u001b[0m epoch: 15, batch_id: 8, loss: 2.2915990352630615\n",
            "\u001b[36m(train_mel_spec_model pid=2787)\u001b[0m epoch: 15, batch_id: 9, loss: 2.2949676513671875\n",
            "\u001b[36m(train_mel_spec_model pid=2787)\u001b[0m epoch: 15, batch_id: 10, loss: 2.3096415996551514\n",
            "\u001b[36m(train_mel_spec_model pid=2787)\u001b[0m epoch: 15, batch_id: 11, loss: 2.2986133098602295\n",
            "\u001b[36m(train_mel_spec_model pid=2787)\u001b[0m epoch: 15, batch_id: 12, loss: 2.3182990550994873\n",
            "\u001b[36m(train_mel_spec_model pid=2787)\u001b[0m epoch: 15, batch_id: 13, loss: 2.299360752105713\n",
            "\u001b[36m(train_mel_spec_model pid=2787)\u001b[0m epoch: 15, batch_id: 14, loss: 2.294536828994751\n",
            "\u001b[36m(train_mel_spec_model pid=2787)\u001b[0m epoch: 15, batch_id: 15, loss: 2.295273780822754\n",
            "\u001b[36m(train_mel_spec_model pid=2787)\u001b[0m epoch: 15, batch_id: 16, loss: 2.3025898933410645\n",
            "\u001b[36m(train_mel_spec_model pid=2787)\u001b[0m epoch: 15, batch_id: 17, loss: 2.3132314682006836\n",
            "\u001b[36m(train_mel_spec_model pid=2787)\u001b[0m epoch: 15, batch_id: 18, loss: 2.3091506958007812\n",
            "\u001b[36m(train_mel_spec_model pid=2787)\u001b[0m epoch: 15, batch_id: 19, loss: 2.2873494625091553\n",
            "\u001b[36m(train_mel_spec_model pid=2787)\u001b[0m epoch: 15, batch_id: 20, loss: 2.303698778152466\n",
            "\u001b[36m(train_mel_spec_model pid=2787)\u001b[0m epoch: 15, batch_id: 21, loss: 2.313074827194214\n",
            "\u001b[36m(train_mel_spec_model pid=2787)\u001b[0m epoch: 15, batch_id: 22, loss: 2.3051345348358154\n",
            "\u001b[36m(train_mel_spec_model pid=2787)\u001b[0m epoch: 15, batch_id: 23, loss: 2.30600643157959\n",
            "\u001b[36m(train_mel_spec_model pid=2787)\u001b[0m epoch: 15, batch_id: 24, loss: 2.3062150478363037\n",
            "\u001b[36m(train_mel_spec_model pid=2787)\u001b[0m epoch: 15, batch_id: 25, loss: 2.29683256149292\n",
            "\u001b[36m(train_mel_spec_model pid=2787)\u001b[0m epoch: 15, batch_id: 26, loss: 2.2858917713165283\n"
          ]
        },
        {
          "output_type": "stream",
          "name": "stderr",
          "text": [
            "\u001b[36m(train_mel_spec_model pid=2787)\u001b[0m Checkpoint successfully created at: Checkpoint(filesystem=local, path=/root/ray_results/train_mel_spec_model_2024-04-11_03-45-31/train_mel_spec_model_f562d_00002_2_batch_size=30,l1=950,l2=10,lr=0.0017,num_epochs=25_2024-04-11_03-45-37/checkpoint_000015)\n"
          ]
        },
        {
          "output_type": "stream",
          "name": "stdout",
          "text": [
            "\u001b[36m(train_mel_spec_model pid=2787)\u001b[0m Validation Loss: 2.3166545033454895, Accuracy: 0.08080808080808081\n",
            "\u001b[36m(train_mel_spec_model pid=2787)\u001b[0m epoch: 16, batch_id: 0, loss: 2.3040051460266113\n",
            "\u001b[36m(train_mel_spec_model pid=2787)\u001b[0m epoch: 16, batch_id: 1, loss: 2.319833278656006\n",
            "\u001b[36m(train_mel_spec_model pid=2787)\u001b[0m epoch: 16, batch_id: 2, loss: 2.2987334728240967\n",
            "\u001b[36m(train_mel_spec_model pid=2787)\u001b[0m epoch: 16, batch_id: 3, loss: 2.295360803604126\n",
            "\u001b[36m(train_mel_spec_model pid=2787)\u001b[0m epoch: 16, batch_id: 4, loss: 2.3067095279693604\n",
            "\u001b[36m(train_mel_spec_model pid=2787)\u001b[0m epoch: 16, batch_id: 5, loss: 2.30686092376709\n",
            "\u001b[36m(train_mel_spec_model pid=2787)\u001b[0m epoch: 16, batch_id: 6, loss: 2.300426721572876\n",
            "\u001b[36m(train_mel_spec_model pid=2787)\u001b[0m epoch: 16, batch_id: 7, loss: 2.3151328563690186\n",
            "\u001b[36m(train_mel_spec_model pid=2787)\u001b[0m epoch: 16, batch_id: 8, loss: 2.303121328353882\n",
            "\u001b[36m(train_mel_spec_model pid=2787)\u001b[0m epoch: 16, batch_id: 9, loss: 2.2993948459625244\n",
            "\u001b[36m(train_mel_spec_model pid=2787)\u001b[0m epoch: 16, batch_id: 10, loss: 2.2996740341186523\n",
            "\u001b[36m(train_mel_spec_model pid=2787)\u001b[0m epoch: 16, batch_id: 11, loss: 2.296966791152954\n",
            "\u001b[36m(train_mel_spec_model pid=2787)\u001b[0m epoch: 16, batch_id: 12, loss: 2.304779529571533\n",
            "\u001b[36m(train_mel_spec_model pid=2787)\u001b[0m epoch: 16, batch_id: 13, loss: 2.30287504196167\n",
            "\u001b[36m(train_mel_spec_model pid=2787)\u001b[0m epoch: 16, batch_id: 14, loss: 2.3064818382263184\n",
            "\u001b[36m(train_mel_spec_model pid=2787)\u001b[0m epoch: 16, batch_id: 15, loss: 2.2884140014648438\n",
            "\u001b[36m(train_mel_spec_model pid=2787)\u001b[0m epoch: 16, batch_id: 16, loss: 2.2894816398620605\n",
            "\u001b[36m(train_mel_spec_model pid=2787)\u001b[0m epoch: 16, batch_id: 17, loss: 2.2967581748962402\n",
            "\u001b[36m(train_mel_spec_model pid=2787)\u001b[0m epoch: 16, batch_id: 18, loss: 2.321138858795166\n",
            "\u001b[36m(train_mel_spec_model pid=2787)\u001b[0m epoch: 16, batch_id: 19, loss: 2.29413104057312\n",
            "\u001b[36m(train_mel_spec_model pid=2787)\u001b[0m epoch: 16, batch_id: 20, loss: 2.3028676509857178\n",
            "\u001b[36m(train_mel_spec_model pid=2787)\u001b[0m epoch: 16, batch_id: 21, loss: 2.302661180496216\n",
            "\u001b[36m(train_mel_spec_model pid=2787)\u001b[0m epoch: 16, batch_id: 22, loss: 2.315061092376709\n",
            "\u001b[36m(train_mel_spec_model pid=2787)\u001b[0m epoch: 16, batch_id: 23, loss: 2.305100679397583\n",
            "\u001b[36m(train_mel_spec_model pid=2787)\u001b[0m epoch: 16, batch_id: 24, loss: 2.2951509952545166\n",
            "\u001b[36m(train_mel_spec_model pid=2787)\u001b[0m epoch: 16, batch_id: 25, loss: 2.2964463233947754\n",
            "\u001b[36m(train_mel_spec_model pid=2787)\u001b[0m epoch: 16, batch_id: 26, loss: 2.2848477363586426\n"
          ]
        },
        {
          "output_type": "stream",
          "name": "stderr",
          "text": [
            "\u001b[36m(train_mel_spec_model pid=2787)\u001b[0m Checkpoint successfully created at: Checkpoint(filesystem=local, path=/root/ray_results/train_mel_spec_model_2024-04-11_03-45-31/train_mel_spec_model_f562d_00002_2_batch_size=30,l1=950,l2=10,lr=0.0017,num_epochs=25_2024-04-11_03-45-37/checkpoint_000016)\n"
          ]
        },
        {
          "output_type": "stream",
          "name": "stdout",
          "text": [
            "\u001b[36m(train_mel_spec_model pid=2787)\u001b[0m Validation Loss: 2.3103659749031067, Accuracy: 0.08080808080808081\n",
            "\u001b[36m(train_mel_spec_model pid=2787)\u001b[0m epoch: 17, batch_id: 0, loss: 2.312526226043701\n",
            "\u001b[36m(train_mel_spec_model pid=2787)\u001b[0m epoch: 17, batch_id: 1, loss: 2.2934000492095947\n",
            "\u001b[36m(train_mel_spec_model pid=2787)\u001b[0m epoch: 17, batch_id: 2, loss: 2.2854726314544678\n",
            "\u001b[36m(train_mel_spec_model pid=2787)\u001b[0m epoch: 17, batch_id: 3, loss: 2.318120002746582\n",
            "\u001b[36m(train_mel_spec_model pid=2787)\u001b[0m epoch: 17, batch_id: 4, loss: 2.3039791584014893\n",
            "\u001b[36m(train_mel_spec_model pid=2787)\u001b[0m epoch: 17, batch_id: 5, loss: 2.3040311336517334\n",
            "\u001b[36m(train_mel_spec_model pid=2787)\u001b[0m epoch: 17, batch_id: 6, loss: 2.311065435409546\n",
            "\u001b[36m(train_mel_spec_model pid=2787)\u001b[0m epoch: 17, batch_id: 7, loss: 2.2987122535705566\n",
            "\u001b[36m(train_mel_spec_model pid=2787)\u001b[0m epoch: 17, batch_id: 8, loss: 2.2918953895568848\n",
            "\u001b[36m(train_mel_spec_model pid=2787)\u001b[0m epoch: 17, batch_id: 9, loss: 2.2988812923431396\n",
            "\u001b[36m(train_mel_spec_model pid=2787)\u001b[0m epoch: 17, batch_id: 10, loss: 2.293713092803955\n",
            "\u001b[36m(train_mel_spec_model pid=2787)\u001b[0m epoch: 17, batch_id: 11, loss: 2.310371160507202\n",
            "\u001b[36m(train_mel_spec_model pid=2787)\u001b[0m epoch: 17, batch_id: 12, loss: 2.2995524406433105\n",
            "\u001b[36m(train_mel_spec_model pid=2787)\u001b[0m epoch: 17, batch_id: 13, loss: 2.3046605587005615\n",
            "\u001b[36m(train_mel_spec_model pid=2787)\u001b[0m epoch: 17, batch_id: 14, loss: 2.298962354660034\n",
            "\u001b[36m(train_mel_spec_model pid=2787)\u001b[0m epoch: 17, batch_id: 15, loss: 2.2981250286102295\n",
            "\u001b[36m(train_mel_spec_model pid=2787)\u001b[0m epoch: 17, batch_id: 16, loss: 2.305680990219116\n",
            "\u001b[36m(train_mel_spec_model pid=2787)\u001b[0m epoch: 17, batch_id: 17, loss: 2.3066322803497314\n",
            "\u001b[36m(train_mel_spec_model pid=2787)\u001b[0m epoch: 17, batch_id: 18, loss: 2.297987222671509\n",
            "\u001b[36m(train_mel_spec_model pid=2787)\u001b[0m epoch: 17, batch_id: 19, loss: 2.3049063682556152\n",
            "\u001b[36m(train_mel_spec_model pid=2787)\u001b[0m epoch: 17, batch_id: 20, loss: 2.308434009552002\n",
            "\u001b[36m(train_mel_spec_model pid=2787)\u001b[0m epoch: 17, batch_id: 21, loss: 2.2893736362457275\n",
            "\u001b[36m(train_mel_spec_model pid=2787)\u001b[0m epoch: 17, batch_id: 22, loss: 2.3037452697753906\n",
            "\u001b[36m(train_mel_spec_model pid=2787)\u001b[0m epoch: 17, batch_id: 23, loss: 2.299447774887085\n",
            "\u001b[36m(train_mel_spec_model pid=2787)\u001b[0m epoch: 17, batch_id: 24, loss: 2.303046703338623\n",
            "\u001b[36m(train_mel_spec_model pid=2787)\u001b[0m epoch: 17, batch_id: 25, loss: 2.302668333053589\n",
            "\u001b[36m(train_mel_spec_model pid=2787)\u001b[0m epoch: 17, batch_id: 26, loss: 2.313127279281616\n"
          ]
        },
        {
          "output_type": "stream",
          "name": "stderr",
          "text": [
            "\u001b[36m(train_mel_spec_model pid=2787)\u001b[0m Checkpoint successfully created at: Checkpoint(filesystem=local, path=/root/ray_results/train_mel_spec_model_2024-04-11_03-45-31/train_mel_spec_model_f562d_00002_2_batch_size=30,l1=950,l2=10,lr=0.0017,num_epochs=25_2024-04-11_03-45-37/checkpoint_000017)\n"
          ]
        },
        {
          "output_type": "stream",
          "name": "stdout",
          "text": [
            "\u001b[36m(train_mel_spec_model pid=2787)\u001b[0m Validation Loss: 2.3120923042297363, Accuracy: 0.08080808080808081\n",
            "\u001b[36m(train_mel_spec_model pid=2787)\u001b[0m epoch: 18, batch_id: 0, loss: 2.2997448444366455\n",
            "\u001b[36m(train_mel_spec_model pid=2787)\u001b[0m epoch: 18, batch_id: 1, loss: 2.3055968284606934\n",
            "\u001b[36m(train_mel_spec_model pid=2787)\u001b[0m epoch: 18, batch_id: 2, loss: 2.3053979873657227\n",
            "\u001b[36m(train_mel_spec_model pid=2787)\u001b[0m epoch: 18, batch_id: 3, loss: 2.2969696521759033\n",
            "\u001b[36m(train_mel_spec_model pid=2787)\u001b[0m epoch: 18, batch_id: 4, loss: 2.3011107444763184\n",
            "\u001b[36m(train_mel_spec_model pid=2787)\u001b[0m epoch: 18, batch_id: 5, loss: 2.2967140674591064\n",
            "\u001b[36m(train_mel_spec_model pid=2787)\u001b[0m epoch: 18, batch_id: 6, loss: 2.3046915531158447\n",
            "\u001b[36m(train_mel_spec_model pid=2787)\u001b[0m epoch: 18, batch_id: 7, loss: 2.2948973178863525\n",
            "\u001b[36m(train_mel_spec_model pid=2787)\u001b[0m epoch: 18, batch_id: 8, loss: 2.309823513031006\n",
            "\u001b[36m(train_mel_spec_model pid=2787)\u001b[0m epoch: 18, batch_id: 9, loss: 2.2981367111206055\n",
            "\u001b[36m(train_mel_spec_model pid=2787)\u001b[0m epoch: 18, batch_id: 10, loss: 2.2843072414398193\n",
            "\u001b[36m(train_mel_spec_model pid=2787)\u001b[0m epoch: 18, batch_id: 11, loss: 2.3076794147491455\n",
            "\u001b[36m(train_mel_spec_model pid=2787)\u001b[0m epoch: 18, batch_id: 12, loss: 2.3120172023773193\n",
            "\u001b[36m(train_mel_spec_model pid=2787)\u001b[0m epoch: 18, batch_id: 13, loss: 2.310589075088501\n",
            "\u001b[36m(train_mel_spec_model pid=2787)\u001b[0m epoch: 18, batch_id: 14, loss: 2.311150550842285\n",
            "\u001b[36m(train_mel_spec_model pid=2787)\u001b[0m epoch: 18, batch_id: 15, loss: 2.306407928466797\n",
            "\u001b[36m(train_mel_spec_model pid=2787)\u001b[0m epoch: 18, batch_id: 16, loss: 2.295637845993042\n",
            "\u001b[36m(train_mel_spec_model pid=2787)\u001b[0m epoch: 18, batch_id: 17, loss: 2.315573215484619\n",
            "\u001b[36m(train_mel_spec_model pid=2787)\u001b[0m epoch: 18, batch_id: 18, loss: 2.2943778038024902\n",
            "\u001b[36m(train_mel_spec_model pid=2787)\u001b[0m epoch: 18, batch_id: 19, loss: 2.30364990234375\n",
            "\u001b[36m(train_mel_spec_model pid=2787)\u001b[0m epoch: 18, batch_id: 20, loss: 2.3023877143859863\n",
            "\u001b[36m(train_mel_spec_model pid=2787)\u001b[0m epoch: 18, batch_id: 21, loss: 2.2905306816101074\n",
            "\u001b[36m(train_mel_spec_model pid=2787)\u001b[0m epoch: 18, batch_id: 22, loss: 2.2920122146606445\n",
            "\u001b[36m(train_mel_spec_model pid=2787)\u001b[0m epoch: 18, batch_id: 23, loss: 2.2913308143615723\n",
            "\u001b[36m(train_mel_spec_model pid=2787)\u001b[0m epoch: 18, batch_id: 24, loss: 2.3064827919006348\n",
            "\u001b[36m(train_mel_spec_model pid=2787)\u001b[0m epoch: 18, batch_id: 25, loss: 2.313192844390869\n",
            "\u001b[36m(train_mel_spec_model pid=2787)\u001b[0m epoch: 18, batch_id: 26, loss: 2.303248405456543\n"
          ]
        },
        {
          "output_type": "stream",
          "name": "stderr",
          "text": [
            "\u001b[36m(train_mel_spec_model pid=2787)\u001b[0m Checkpoint successfully created at: Checkpoint(filesystem=local, path=/root/ray_results/train_mel_spec_model_2024-04-11_03-45-31/train_mel_spec_model_f562d_00002_2_batch_size=30,l1=950,l2=10,lr=0.0017,num_epochs=25_2024-04-11_03-45-37/checkpoint_000018)\n"
          ]
        },
        {
          "output_type": "stream",
          "name": "stdout",
          "text": [
            "\u001b[36m(train_mel_spec_model pid=2787)\u001b[0m Validation Loss: 2.3138586282730103, Accuracy: 0.08080808080808081\n",
            "\u001b[36m(train_mel_spec_model pid=2787)\u001b[0m epoch: 19, batch_id: 0, loss: 2.3075268268585205\n",
            "\u001b[36m(train_mel_spec_model pid=2787)\u001b[0m epoch: 19, batch_id: 1, loss: 2.2970001697540283\n",
            "\u001b[36m(train_mel_spec_model pid=2787)\u001b[0m epoch: 19, batch_id: 2, loss: 2.3007113933563232\n",
            "\u001b[36m(train_mel_spec_model pid=2787)\u001b[0m epoch: 19, batch_id: 3, loss: 2.306994676589966\n",
            "\u001b[36m(train_mel_spec_model pid=2787)\u001b[0m epoch: 19, batch_id: 4, loss: 2.3056724071502686\n",
            "\u001b[36m(train_mel_spec_model pid=2787)\u001b[0m epoch: 19, batch_id: 5, loss: 2.297313928604126\n",
            "\u001b[36m(train_mel_spec_model pid=2787)\u001b[0m epoch: 19, batch_id: 6, loss: 2.296671152114868\n",
            "\u001b[36m(train_mel_spec_model pid=2787)\u001b[0m epoch: 19, batch_id: 7, loss: 2.29972767829895\n",
            "\u001b[36m(train_mel_spec_model pid=2787)\u001b[0m epoch: 19, batch_id: 8, loss: 2.294987440109253\n",
            "\u001b[36m(train_mel_spec_model pid=2787)\u001b[0m epoch: 19, batch_id: 9, loss: 2.291640520095825\n",
            "\u001b[36m(train_mel_spec_model pid=2787)\u001b[0m epoch: 19, batch_id: 10, loss: 2.30283522605896\n",
            "\u001b[36m(train_mel_spec_model pid=2787)\u001b[0m epoch: 19, batch_id: 11, loss: 2.3101823329925537\n",
            "\u001b[36m(train_mel_spec_model pid=2787)\u001b[0m epoch: 19, batch_id: 12, loss: 2.2933504581451416\n",
            "\u001b[36m(train_mel_spec_model pid=2787)\u001b[0m epoch: 19, batch_id: 13, loss: 2.3095712661743164\n",
            "\u001b[36m(train_mel_spec_model pid=2787)\u001b[0m epoch: 19, batch_id: 14, loss: 2.2985587120056152\n",
            "\u001b[36m(train_mel_spec_model pid=2787)\u001b[0m epoch: 19, batch_id: 15, loss: 2.310863971710205\n",
            "\u001b[36m(train_mel_spec_model pid=2787)\u001b[0m epoch: 19, batch_id: 16, loss: 2.2971279621124268\n",
            "\u001b[36m(train_mel_spec_model pid=2787)\u001b[0m epoch: 19, batch_id: 17, loss: 2.2928850650787354\n",
            "\u001b[36m(train_mel_spec_model pid=2787)\u001b[0m epoch: 19, batch_id: 18, loss: 2.3082962036132812\n",
            "\u001b[36m(train_mel_spec_model pid=2787)\u001b[0m epoch: 19, batch_id: 19, loss: 2.3149683475494385\n",
            "\u001b[36m(train_mel_spec_model pid=2787)\u001b[0m epoch: 19, batch_id: 20, loss: 2.291511058807373\n",
            "\u001b[36m(train_mel_spec_model pid=2787)\u001b[0m epoch: 19, batch_id: 21, loss: 2.3081815242767334\n",
            "\u001b[36m(train_mel_spec_model pid=2787)\u001b[0m epoch: 19, batch_id: 22, loss: 2.3183605670928955\n",
            "\u001b[36m(train_mel_spec_model pid=2787)\u001b[0m epoch: 19, batch_id: 23, loss: 2.296196460723877\n",
            "\u001b[36m(train_mel_spec_model pid=2787)\u001b[0m epoch: 19, batch_id: 24, loss: 2.30621075630188\n",
            "\u001b[36m(train_mel_spec_model pid=2787)\u001b[0m epoch: 19, batch_id: 25, loss: 2.292437791824341\n",
            "\u001b[36m(train_mel_spec_model pid=2787)\u001b[0m epoch: 19, batch_id: 26, loss: 2.3104429244995117\n",
            "\n",
            "Trial train_mel_spec_model_f562d_00002 completed after 20 iterations at 2024-04-11 03:51:55. Total running time: 6min 17s\n",
            "+---------------------------------------------------------------------+\n",
            "| Trial train_mel_spec_model_f562d_00002 result                       |\n",
            "+---------------------------------------------------------------------+\n",
            "| checkpoint_dir_name                               checkpoint_000019 |\n",
            "| time_this_iter_s                                            2.67756 |\n",
            "| time_total_s                                               73.07404 |\n",
            "| training_iteration                                               20 |\n",
            "| accuracy                                                    0.08081 |\n",
            "| loss                                                        2.31715 |\n",
            "+---------------------------------------------------------------------+\n"
          ]
        },
        {
          "output_type": "stream",
          "name": "stderr",
          "text": [
            "\u001b[36m(train_mel_spec_model pid=2787)\u001b[0m Checkpoint successfully created at: Checkpoint(filesystem=local, path=/root/ray_results/train_mel_spec_model_2024-04-11_03-45-31/train_mel_spec_model_f562d_00002_2_batch_size=30,l1=950,l2=10,lr=0.0017,num_epochs=25_2024-04-11_03-45-37/checkpoint_000019)\n"
          ]
        },
        {
          "output_type": "stream",
          "name": "stdout",
          "text": [
            "\n",
            "Trial train_mel_spec_model_f562d_00003 started with configuration:\n",
            "+-----------------------------------------------------------+\n",
            "| Trial train_mel_spec_model_f562d_00003 config             |\n",
            "+-----------------------------------------------------------+\n",
            "| batch_size                                             35 |\n",
            "| l1                                                    450 |\n",
            "| l2                                                     10 |\n",
            "| lr                                                0.00037 |\n",
            "| num_epochs                                             35 |\n",
            "+-----------------------------------------------------------+\n",
            "\n",
            "Trial status: 3 TERMINATED | 1 RUNNING | 1 PENDING\n",
            "Current time: 2024-04-11 03:52:08. Total running time: 6min 30s\n",
            "Logical resource usage: 2.0/2 CPUs, 1.0/1 GPUs (0.0/1.0 accelerator_type:T4)\n",
            "Current best trial: f562d_00000 with loss=1.4953934252262115 and params={'l1': 550, 'l2': 15, 'lr': 0.00019002025558777404, 'batch_size': 30, 'num_epochs': 35}\n",
            "+------------------------------------------------------------------------------------------------------------------------------------------------------------+\n",
            "| Trial name                         status         l1     l2            lr     batch_size     num_epochs     iter     total time (s)      loss     accuracy |\n",
            "+------------------------------------------------------------------------------------------------------------------------------------------------------------+\n",
            "| train_mel_spec_model_f562d_00003   RUNNING       450     10   0.000373188             35             35                                                    |\n",
            "| train_mel_spec_model_f562d_00000   TERMINATED    550     15   0.00019002              30             35       35           220.054    1.49539    0.525253  |\n",
            "| train_mel_spec_model_f562d_00001   TERMINATED    700      5   0.0185484               45             35       20            65.1919   2.30768    0.0808081 |\n",
            "| train_mel_spec_model_f562d_00002   TERMINATED    950     10   0.0017086               30             25       20            73.074    2.31715    0.0808081 |\n",
            "| train_mel_spec_model_f562d_00004   PENDING       800     10   0.00014823               5             35                                                    |\n",
            "+------------------------------------------------------------------------------------------------------------------------------------------------------------+\n",
            "\u001b[36m(train_mel_spec_model pid=3193)\u001b[0m epoch: 0, batch_id: 0, loss: 2.328873872756958\n",
            "\u001b[36m(train_mel_spec_model pid=3193)\u001b[0m epoch: 0, batch_id: 1, loss: 2.3394789695739746\n",
            "\u001b[36m(train_mel_spec_model pid=3193)\u001b[0m epoch: 0, batch_id: 2, loss: 2.3345532417297363\n",
            "\u001b[36m(train_mel_spec_model pid=3193)\u001b[0m epoch: 0, batch_id: 3, loss: 2.3983302116394043\n",
            "\u001b[36m(train_mel_spec_model pid=3193)\u001b[0m epoch: 0, batch_id: 4, loss: 2.30541729927063\n",
            "\u001b[36m(train_mel_spec_model pid=3193)\u001b[0m epoch: 0, batch_id: 5, loss: 2.3760743141174316\n",
            "\u001b[36m(train_mel_spec_model pid=3193)\u001b[0m epoch: 0, batch_id: 6, loss: 2.334348440170288\n",
            "\u001b[36m(train_mel_spec_model pid=3193)\u001b[0m epoch: 0, batch_id: 7, loss: 2.3214609622955322\n",
            "\u001b[36m(train_mel_spec_model pid=3193)\u001b[0m epoch: 0, batch_id: 8, loss: 2.231750249862671\n",
            "\u001b[36m(train_mel_spec_model pid=3193)\u001b[0m epoch: 0, batch_id: 9, loss: 2.332232713699341\n",
            "\u001b[36m(train_mel_spec_model pid=3193)\u001b[0m epoch: 0, batch_id: 10, loss: 2.3198111057281494\n",
            "\u001b[36m(train_mel_spec_model pid=3193)\u001b[0m epoch: 0, batch_id: 11, loss: 2.32793927192688\n",
            "\u001b[36m(train_mel_spec_model pid=3193)\u001b[0m epoch: 0, batch_id: 12, loss: 2.317445755004883\n",
            "\u001b[36m(train_mel_spec_model pid=3193)\u001b[0m epoch: 0, batch_id: 13, loss: 2.2924306392669678\n",
            "\u001b[36m(train_mel_spec_model pid=3193)\u001b[0m epoch: 0, batch_id: 14, loss: 2.3367507457733154\n",
            "\u001b[36m(train_mel_spec_model pid=3193)\u001b[0m epoch: 0, batch_id: 15, loss: 2.324486255645752\n",
            "\u001b[36m(train_mel_spec_model pid=3193)\u001b[0m epoch: 0, batch_id: 16, loss: 2.3006675243377686\n",
            "\u001b[36m(train_mel_spec_model pid=3193)\u001b[0m epoch: 0, batch_id: 17, loss: 2.250948905944824\n",
            "\u001b[36m(train_mel_spec_model pid=3193)\u001b[0m epoch: 0, batch_id: 18, loss: 2.2884457111358643\n",
            "\u001b[36m(train_mel_spec_model pid=3193)\u001b[0m epoch: 0, batch_id: 19, loss: 2.300861358642578\n",
            "\u001b[36m(train_mel_spec_model pid=3193)\u001b[0m epoch: 0, batch_id: 20, loss: 2.320443868637085\n",
            "\u001b[36m(train_mel_spec_model pid=3193)\u001b[0m epoch: 0, batch_id: 21, loss: 2.3020055294036865\n",
            "\u001b[36m(train_mel_spec_model pid=3193)\u001b[0m epoch: 0, batch_id: 22, loss: 2.328935146331787\n"
          ]
        },
        {
          "output_type": "stream",
          "name": "stderr",
          "text": [
            "\u001b[36m(train_mel_spec_model pid=3193)\u001b[0m Checkpoint successfully created at: Checkpoint(filesystem=local, path=/root/ray_results/train_mel_spec_model_2024-04-11_03-45-31/train_mel_spec_model_f562d_00003_3_batch_size=35,l1=450,l2=10,lr=0.0004,num_epochs=35_2024-04-11_03-45-37/checkpoint_000000)\n"
          ]
        },
        {
          "output_type": "stream",
          "name": "stdout",
          "text": [
            "\u001b[36m(train_mel_spec_model pid=3193)\u001b[0m Validation Loss: 2.2557923793792725, Accuracy: 0.15151515151515152\n",
            "\u001b[36m(train_mel_spec_model pid=3193)\u001b[0m epoch: 1, batch_id: 0, loss: 2.280930995941162\n",
            "\u001b[36m(train_mel_spec_model pid=3193)\u001b[0m epoch: 1, batch_id: 1, loss: 2.3240323066711426\n",
            "\u001b[36m(train_mel_spec_model pid=3193)\u001b[0m epoch: 1, batch_id: 2, loss: 2.3164474964141846\n",
            "\u001b[36m(train_mel_spec_model pid=3193)\u001b[0m epoch: 1, batch_id: 3, loss: 2.252903461456299\n",
            "\u001b[36m(train_mel_spec_model pid=3193)\u001b[0m epoch: 1, batch_id: 4, loss: 2.2038378715515137\n",
            "\u001b[36m(train_mel_spec_model pid=3193)\u001b[0m epoch: 1, batch_id: 5, loss: 2.275653600692749\n",
            "\u001b[36m(train_mel_spec_model pid=3193)\u001b[0m epoch: 1, batch_id: 6, loss: 2.3186657428741455\n",
            "\u001b[36m(train_mel_spec_model pid=3193)\u001b[0m epoch: 1, batch_id: 7, loss: 2.2519989013671875\n",
            "\u001b[36m(train_mel_spec_model pid=3193)\u001b[0m epoch: 1, batch_id: 8, loss: 2.183778762817383\n",
            "\u001b[36m(train_mel_spec_model pid=3193)\u001b[0m epoch: 1, batch_id: 9, loss: 2.229438304901123\n",
            "\u001b[36m(train_mel_spec_model pid=3193)\u001b[0m epoch: 1, batch_id: 10, loss: 2.2419633865356445\n",
            "\u001b[36m(train_mel_spec_model pid=3193)\u001b[0m epoch: 1, batch_id: 11, loss: 2.291724920272827\n",
            "\u001b[36m(train_mel_spec_model pid=3193)\u001b[0m epoch: 1, batch_id: 12, loss: 2.2358105182647705\n",
            "\u001b[36m(train_mel_spec_model pid=3193)\u001b[0m epoch: 1, batch_id: 13, loss: 2.2219533920288086\n",
            "\u001b[36m(train_mel_spec_model pid=3193)\u001b[0m epoch: 1, batch_id: 14, loss: 2.1771905422210693\n",
            "\u001b[36m(train_mel_spec_model pid=3193)\u001b[0m epoch: 1, batch_id: 15, loss: 2.2816479206085205\n",
            "\u001b[36m(train_mel_spec_model pid=3193)\u001b[0m epoch: 1, batch_id: 16, loss: 2.2504138946533203\n",
            "\u001b[36m(train_mel_spec_model pid=3193)\u001b[0m epoch: 1, batch_id: 17, loss: 2.216742753982544\n",
            "\u001b[36m(train_mel_spec_model pid=3193)\u001b[0m epoch: 1, batch_id: 18, loss: 2.1727631092071533\n",
            "\u001b[36m(train_mel_spec_model pid=3193)\u001b[0m epoch: 1, batch_id: 19, loss: 2.243650436401367\n",
            "\u001b[36m(train_mel_spec_model pid=3193)\u001b[0m epoch: 1, batch_id: 20, loss: 2.280569076538086\n",
            "\u001b[36m(train_mel_spec_model pid=3193)\u001b[0m epoch: 1, batch_id: 21, loss: 2.3046207427978516\n",
            "\u001b[36m(train_mel_spec_model pid=3193)\u001b[0m epoch: 1, batch_id: 22, loss: 2.391244411468506\n"
          ]
        },
        {
          "output_type": "stream",
          "name": "stderr",
          "text": [
            "\u001b[36m(train_mel_spec_model pid=3193)\u001b[0m Checkpoint successfully created at: Checkpoint(filesystem=local, path=/root/ray_results/train_mel_spec_model_2024-04-11_03-45-31/train_mel_spec_model_f562d_00003_3_batch_size=35,l1=450,l2=10,lr=0.0004,num_epochs=35_2024-04-11_03-45-37/checkpoint_000001)\n"
          ]
        },
        {
          "output_type": "stream",
          "name": "stdout",
          "text": [
            "\u001b[36m(train_mel_spec_model pid=3193)\u001b[0m Validation Loss: 2.210218588511149, Accuracy: 0.09090909090909091\n",
            "\u001b[36m(train_mel_spec_model pid=3193)\u001b[0m epoch: 2, batch_id: 0, loss: 2.2001309394836426\n",
            "\u001b[36m(train_mel_spec_model pid=3193)\u001b[0m epoch: 2, batch_id: 1, loss: 2.219771385192871\n",
            "\u001b[36m(train_mel_spec_model pid=3193)\u001b[0m epoch: 2, batch_id: 2, loss: 2.241077423095703\n",
            "\u001b[36m(train_mel_spec_model pid=3193)\u001b[0m epoch: 2, batch_id: 3, loss: 2.3232991695404053\n",
            "\u001b[36m(train_mel_spec_model pid=3193)\u001b[0m epoch: 2, batch_id: 4, loss: 2.259427309036255\n",
            "\u001b[36m(train_mel_spec_model pid=3193)\u001b[0m epoch: 2, batch_id: 5, loss: 2.1701886653900146\n",
            "\u001b[36m(train_mel_spec_model pid=3193)\u001b[0m epoch: 2, batch_id: 6, loss: 2.231219530105591\n",
            "\u001b[36m(train_mel_spec_model pid=3193)\u001b[0m epoch: 2, batch_id: 7, loss: 2.221761703491211\n",
            "\u001b[36m(train_mel_spec_model pid=3193)\u001b[0m epoch: 2, batch_id: 8, loss: 2.250209331512451\n",
            "\u001b[36m(train_mel_spec_model pid=3193)\u001b[0m epoch: 2, batch_id: 9, loss: 2.1765575408935547\n",
            "\u001b[36m(train_mel_spec_model pid=3193)\u001b[0m epoch: 2, batch_id: 10, loss: 2.0801188945770264\n",
            "\u001b[36m(train_mel_spec_model pid=3193)\u001b[0m epoch: 2, batch_id: 11, loss: 2.1444132328033447\n",
            "\u001b[36m(train_mel_spec_model pid=3193)\u001b[0m epoch: 2, batch_id: 12, loss: 2.1988425254821777\n",
            "\u001b[36m(train_mel_spec_model pid=3193)\u001b[0m epoch: 2, batch_id: 13, loss: 2.2214229106903076\n",
            "\u001b[36m(train_mel_spec_model pid=3193)\u001b[0m epoch: 2, batch_id: 14, loss: 2.1634771823883057\n",
            "\u001b[36m(train_mel_spec_model pid=3193)\u001b[0m epoch: 2, batch_id: 15, loss: 2.1601970195770264\n",
            "\u001b[36m(train_mel_spec_model pid=3193)\u001b[0m epoch: 2, batch_id: 16, loss: 2.2497658729553223\n",
            "\u001b[36m(train_mel_spec_model pid=3193)\u001b[0m epoch: 2, batch_id: 17, loss: 2.1852288246154785\n",
            "\u001b[36m(train_mel_spec_model pid=3193)\u001b[0m epoch: 2, batch_id: 18, loss: 2.2317001819610596\n",
            "\u001b[36m(train_mel_spec_model pid=3193)\u001b[0m epoch: 2, batch_id: 19, loss: 2.098400354385376\n",
            "\u001b[36m(train_mel_spec_model pid=3193)\u001b[0m epoch: 2, batch_id: 20, loss: 2.104858636856079\n",
            "\u001b[36m(train_mel_spec_model pid=3193)\u001b[0m epoch: 2, batch_id: 21, loss: 2.1769871711730957\n",
            "\u001b[36m(train_mel_spec_model pid=3193)\u001b[0m epoch: 2, batch_id: 22, loss: 2.1264171600341797\n"
          ]
        },
        {
          "output_type": "stream",
          "name": "stderr",
          "text": [
            "\u001b[36m(train_mel_spec_model pid=3193)\u001b[0m Checkpoint successfully created at: Checkpoint(filesystem=local, path=/root/ray_results/train_mel_spec_model_2024-04-11_03-45-31/train_mel_spec_model_f562d_00003_3_batch_size=35,l1=450,l2=10,lr=0.0004,num_epochs=35_2024-04-11_03-45-37/checkpoint_000002)\n"
          ]
        },
        {
          "output_type": "stream",
          "name": "stdout",
          "text": [
            "\u001b[36m(train_mel_spec_model pid=3193)\u001b[0m Validation Loss: 2.1460858980814614, Accuracy: 0.15151515151515152\n",
            "\u001b[36m(train_mel_spec_model pid=3193)\u001b[0m epoch: 3, batch_id: 0, loss: 2.1429853439331055\n",
            "\u001b[36m(train_mel_spec_model pid=3193)\u001b[0m epoch: 3, batch_id: 1, loss: 2.05682373046875\n",
            "\u001b[36m(train_mel_spec_model pid=3193)\u001b[0m epoch: 3, batch_id: 2, loss: 2.1052651405334473\n",
            "\u001b[36m(train_mel_spec_model pid=3193)\u001b[0m epoch: 3, batch_id: 3, loss: 2.0041840076446533\n",
            "\u001b[36m(train_mel_spec_model pid=3193)\u001b[0m epoch: 3, batch_id: 4, loss: 2.1766769886016846\n",
            "\u001b[36m(train_mel_spec_model pid=3193)\u001b[0m epoch: 3, batch_id: 5, loss: 1.8809388875961304\n",
            "\u001b[36m(train_mel_spec_model pid=3193)\u001b[0m epoch: 3, batch_id: 6, loss: 2.03075909614563\n",
            "\u001b[36m(train_mel_spec_model pid=3193)\u001b[0m epoch: 3, batch_id: 7, loss: 2.255134344100952\n",
            "\u001b[36m(train_mel_spec_model pid=3193)\u001b[0m epoch: 3, batch_id: 8, loss: 1.9689562320709229\n",
            "\u001b[36m(train_mel_spec_model pid=3193)\u001b[0m epoch: 3, batch_id: 9, loss: 2.234830856323242\n",
            "\u001b[36m(train_mel_spec_model pid=3193)\u001b[0m epoch: 3, batch_id: 10, loss: 2.075369358062744\n",
            "\u001b[36m(train_mel_spec_model pid=3193)\u001b[0m epoch: 3, batch_id: 11, loss: 2.3042593002319336\n",
            "\u001b[36m(train_mel_spec_model pid=3193)\u001b[0m epoch: 3, batch_id: 12, loss: 2.2608377933502197\n",
            "\u001b[36m(train_mel_spec_model pid=3193)\u001b[0m epoch: 3, batch_id: 13, loss: 1.9873688220977783\n",
            "\u001b[36m(train_mel_spec_model pid=3193)\u001b[0m epoch: 3, batch_id: 14, loss: 2.14811372756958\n",
            "\u001b[36m(train_mel_spec_model pid=3193)\u001b[0m epoch: 3, batch_id: 15, loss: 2.263359546661377\n",
            "\u001b[36m(train_mel_spec_model pid=3193)\u001b[0m epoch: 3, batch_id: 16, loss: 2.1660006046295166\n",
            "\u001b[36m(train_mel_spec_model pid=3193)\u001b[0m epoch: 3, batch_id: 17, loss: 1.9631094932556152\n",
            "\u001b[36m(train_mel_spec_model pid=3193)\u001b[0m epoch: 3, batch_id: 18, loss: 2.195161819458008\n",
            "\u001b[36m(train_mel_spec_model pid=3193)\u001b[0m epoch: 3, batch_id: 19, loss: 2.002622604370117\n",
            "\u001b[36m(train_mel_spec_model pid=3193)\u001b[0m epoch: 3, batch_id: 20, loss: 2.0321013927459717\n",
            "\u001b[36m(train_mel_spec_model pid=3193)\u001b[0m epoch: 3, batch_id: 21, loss: 2.084627151489258\n",
            "\u001b[36m(train_mel_spec_model pid=3193)\u001b[0m epoch: 3, batch_id: 22, loss: 2.159665584564209\n"
          ]
        },
        {
          "output_type": "stream",
          "name": "stderr",
          "text": [
            "\u001b[36m(train_mel_spec_model pid=3193)\u001b[0m Checkpoint successfully created at: Checkpoint(filesystem=local, path=/root/ray_results/train_mel_spec_model_2024-04-11_03-45-31/train_mel_spec_model_f562d_00003_3_batch_size=35,l1=450,l2=10,lr=0.0004,num_epochs=35_2024-04-11_03-45-37/checkpoint_000003)\n"
          ]
        },
        {
          "output_type": "stream",
          "name": "stdout",
          "text": [
            "\u001b[36m(train_mel_spec_model pid=3193)\u001b[0m Validation Loss: 2.068573991457621, Accuracy: 0.24242424242424243\n",
            "\u001b[36m(train_mel_spec_model pid=3193)\u001b[0m epoch: 4, batch_id: 0, loss: 2.2716317176818848\n",
            "\u001b[36m(train_mel_spec_model pid=3193)\u001b[0m \n",
            "\u001b[36m(train_mel_spec_model pid=3193)\u001b[0m epoch: 4, batch_id: 1, loss: 2.029339551925659\n",
            "\u001b[36m(train_mel_spec_model pid=3193)\u001b[0m epoch: 4, batch_id: 2, loss: 1.9368870258331299\n",
            "\u001b[36m(train_mel_spec_model pid=3193)\u001b[0m epoch: 4, batch_id: 3, loss: 2.0992650985717773\n",
            "\u001b[36m(train_mel_spec_model pid=3193)\u001b[0m epoch: 4, batch_id: 4, loss: 2.146279811859131\n",
            "\u001b[36m(train_mel_spec_model pid=3193)\u001b[0m epoch: 4, batch_id: 5, loss: 2.173079013824463\n",
            "\u001b[36m(train_mel_spec_model pid=3193)\u001b[0m epoch: 4, batch_id: 6, loss: 2.0089497566223145\n",
            "\u001b[36m(train_mel_spec_model pid=3193)\u001b[0m epoch: 4, batch_id: 7, loss: 1.928366780281067\n",
            "\u001b[36m(train_mel_spec_model pid=3193)\u001b[0m epoch: 4, batch_id: 8, loss: 2.050852060317993\n",
            "\u001b[36m(train_mel_spec_model pid=3193)\u001b[0m epoch: 4, batch_id: 9, loss: 1.8702361583709717\n",
            "\u001b[36m(train_mel_spec_model pid=3193)\u001b[0m epoch: 4, batch_id: 10, loss: 2.066694974899292\n",
            "\u001b[36m(train_mel_spec_model pid=3193)\u001b[0m epoch: 4, batch_id: 11, loss: 1.958431363105774\n",
            "\u001b[36m(train_mel_spec_model pid=3193)\u001b[0m epoch: 4, batch_id: 12, loss: 2.234757661819458\n",
            "\u001b[36m(train_mel_spec_model pid=3193)\u001b[0m epoch: 4, batch_id: 13, loss: 2.091732978820801\n",
            "\u001b[36m(train_mel_spec_model pid=3193)\u001b[0m epoch: 4, batch_id: 14, loss: 1.92999267578125\n",
            "\u001b[36m(train_mel_spec_model pid=3193)\u001b[0m epoch: 4, batch_id: 15, loss: 2.156644105911255\n",
            "\u001b[36m(train_mel_spec_model pid=3193)\u001b[0m epoch: 4, batch_id: 16, loss: 2.123971462249756\n",
            "\u001b[36m(train_mel_spec_model pid=3193)\u001b[0m epoch: 4, batch_id: 17, loss: 2.1426494121551514\n",
            "\u001b[36m(train_mel_spec_model pid=3193)\u001b[0m epoch: 4, batch_id: 18, loss: 2.0257503986358643\n",
            "\u001b[36m(train_mel_spec_model pid=3193)\u001b[0m epoch: 4, batch_id: 19, loss: 1.9007596969604492\n",
            "\u001b[36m(train_mel_spec_model pid=3193)\u001b[0m epoch: 4, batch_id: 20, loss: 2.146477460861206\n",
            "\u001b[36m(train_mel_spec_model pid=3193)\u001b[0m epoch: 4, batch_id: 21, loss: 1.854432225227356\n",
            "\u001b[36m(train_mel_spec_model pid=3193)\u001b[0m epoch: 4, batch_id: 22, loss: 1.9852839708328247\n"
          ]
        },
        {
          "output_type": "stream",
          "name": "stderr",
          "text": [
            "\u001b[36m(train_mel_spec_model pid=3193)\u001b[0m Checkpoint successfully created at: Checkpoint(filesystem=local, path=/root/ray_results/train_mel_spec_model_2024-04-11_03-45-31/train_mel_spec_model_f562d_00003_3_batch_size=35,l1=450,l2=10,lr=0.0004,num_epochs=35_2024-04-11_03-45-37/checkpoint_000004)\n"
          ]
        },
        {
          "output_type": "stream",
          "name": "stdout",
          "text": [
            "\u001b[36m(train_mel_spec_model pid=3193)\u001b[0m Validation Loss: 2.0335761308670044, Accuracy: 0.20202020202020202\n",
            "\u001b[36m(train_mel_spec_model pid=3193)\u001b[0m epoch: 5, batch_id: 0, loss: 1.9012311697006226\n",
            "\u001b[36m(train_mel_spec_model pid=3193)\u001b[0m epoch: 5, batch_id: 1, loss: 2.1864893436431885\n",
            "\u001b[36m(train_mel_spec_model pid=3193)\u001b[0m epoch: 5, batch_id: 2, loss: 1.788234829902649\n",
            "\u001b[36m(train_mel_spec_model pid=3193)\u001b[0m epoch: 5, batch_id: 3, loss: 1.9231009483337402\n",
            "\u001b[36m(train_mel_spec_model pid=3193)\u001b[0m epoch: 5, batch_id: 4, loss: 2.231532096862793\n",
            "\u001b[36m(train_mel_spec_model pid=3193)\u001b[0m epoch: 5, batch_id: 5, loss: 2.1427416801452637\n",
            "\u001b[36m(train_mel_spec_model pid=3193)\u001b[0m epoch: 5, batch_id: 6, loss: 1.776567816734314\n",
            "\u001b[36m(train_mel_spec_model pid=3193)\u001b[0m epoch: 5, batch_id: 7, loss: 1.922731876373291\n",
            "\u001b[36m(train_mel_spec_model pid=3193)\u001b[0m epoch: 5, batch_id: 8, loss: 2.24318790435791\n",
            "\u001b[36m(train_mel_spec_model pid=3193)\u001b[0m epoch: 5, batch_id: 9, loss: 1.984251856803894\n",
            "\u001b[36m(train_mel_spec_model pid=3193)\u001b[0m epoch: 5, batch_id: 10, loss: 1.8954230546951294\n",
            "\u001b[36m(train_mel_spec_model pid=3193)\u001b[0m epoch: 5, batch_id: 11, loss: 1.958743929862976\n",
            "\u001b[36m(train_mel_spec_model pid=3193)\u001b[0m epoch: 5, batch_id: 12, loss: 2.0547707080841064\n",
            "\u001b[36m(train_mel_spec_model pid=3193)\u001b[0m epoch: 5, batch_id: 13, loss: 2.1960442066192627\n",
            "\u001b[36m(train_mel_spec_model pid=3193)\u001b[0m epoch: 5, batch_id: 14, loss: 1.794501781463623\n",
            "\u001b[36m(train_mel_spec_model pid=3193)\u001b[0m epoch: 5, batch_id: 15, loss: 1.8594694137573242\n",
            "\u001b[36m(train_mel_spec_model pid=3193)\u001b[0m epoch: 5, batch_id: 16, loss: 1.8353500366210938\n",
            "\u001b[36m(train_mel_spec_model pid=3193)\u001b[0m epoch: 5, batch_id: 17, loss: 2.4212048053741455\n",
            "\u001b[36m(train_mel_spec_model pid=3193)\u001b[0m epoch: 5, batch_id: 18, loss: 1.920624017715454\n",
            "\u001b[36m(train_mel_spec_model pid=3193)\u001b[0m epoch: 5, batch_id: 19, loss: 2.236039400100708\n",
            "\u001b[36m(train_mel_spec_model pid=3193)\u001b[0m epoch: 5, batch_id: 20, loss: 1.8238924741744995\n",
            "\u001b[36m(train_mel_spec_model pid=3193)\u001b[0m epoch: 5, batch_id: 21, loss: 1.8414772748947144\n",
            "\u001b[36m(train_mel_spec_model pid=3193)\u001b[0m epoch: 5, batch_id: 22, loss: 1.8334006071090698\n"
          ]
        },
        {
          "output_type": "stream",
          "name": "stderr",
          "text": [
            "\u001b[36m(train_mel_spec_model pid=3193)\u001b[0m Checkpoint successfully created at: Checkpoint(filesystem=local, path=/root/ray_results/train_mel_spec_model_2024-04-11_03-45-31/train_mel_spec_model_f562d_00003_3_batch_size=35,l1=450,l2=10,lr=0.0004,num_epochs=35_2024-04-11_03-45-37/checkpoint_000005)\n"
          ]
        },
        {
          "output_type": "stream",
          "name": "stdout",
          "text": [
            "\u001b[36m(train_mel_spec_model pid=3193)\u001b[0m Validation Loss: 2.0744082927703857, Accuracy: 0.24242424242424243\n",
            "\u001b[36m(train_mel_spec_model pid=3193)\u001b[0m epoch: 6, batch_id: 0, loss: 1.8668524026870728\n",
            "\u001b[36m(train_mel_spec_model pid=3193)\u001b[0m epoch: 6, batch_id: 1, loss: 2.115788221359253\n",
            "\u001b[36m(train_mel_spec_model pid=3193)\u001b[0m epoch: 6, batch_id: 2, loss: 2.19755482673645\n",
            "\u001b[36m(train_mel_spec_model pid=3193)\u001b[0m epoch: 6, batch_id: 3, loss: 2.170815944671631\n",
            "\u001b[36m(train_mel_spec_model pid=3193)\u001b[0m epoch: 6, batch_id: 4, loss: 2.052110195159912\n",
            "\u001b[36m(train_mel_spec_model pid=3193)\u001b[0m epoch: 6, batch_id: 5, loss: 2.0819156169891357\n",
            "\u001b[36m(train_mel_spec_model pid=3193)\u001b[0m epoch: 6, batch_id: 6, loss: 1.8444952964782715\n",
            "\u001b[36m(train_mel_spec_model pid=3193)\u001b[0m epoch: 6, batch_id: 7, loss: 1.9124889373779297\n",
            "\u001b[36m(train_mel_spec_model pid=3193)\u001b[0m epoch: 6, batch_id: 8, loss: 1.8968619108200073\n",
            "\u001b[36m(train_mel_spec_model pid=3193)\u001b[0m epoch: 6, batch_id: 9, loss: 2.0733423233032227\n",
            "\u001b[36m(train_mel_spec_model pid=3193)\u001b[0m epoch: 6, batch_id: 10, loss: 1.9267981052398682\n",
            "\u001b[36m(train_mel_spec_model pid=3193)\u001b[0m epoch: 6, batch_id: 11, loss: 1.8316242694854736\n",
            "\u001b[36m(train_mel_spec_model pid=3193)\u001b[0m epoch: 6, batch_id: 12, loss: 2.035688877105713\n",
            "\u001b[36m(train_mel_spec_model pid=3193)\u001b[0m epoch: 6, batch_id: 13, loss: 1.8322683572769165\n",
            "\u001b[36m(train_mel_spec_model pid=3193)\u001b[0m epoch: 6, batch_id: 14, loss: 1.7383489608764648\n",
            "\u001b[36m(train_mel_spec_model pid=3193)\u001b[0m epoch: 6, batch_id: 15, loss: 1.9667022228240967\n",
            "\u001b[36m(train_mel_spec_model pid=3193)\u001b[0m epoch: 6, batch_id: 16, loss: 1.942633032798767\n",
            "\u001b[36m(train_mel_spec_model pid=3193)\u001b[0m epoch: 6, batch_id: 17, loss: 1.9459631443023682\n",
            "\u001b[36m(train_mel_spec_model pid=3193)\u001b[0m epoch: 6, batch_id: 18, loss: 2.040802001953125\n",
            "\u001b[36m(train_mel_spec_model pid=3193)\u001b[0m epoch: 6, batch_id: 19, loss: 1.9178135395050049\n",
            "\u001b[36m(train_mel_spec_model pid=3193)\u001b[0m epoch: 6, batch_id: 20, loss: 1.9740263223648071\n",
            "\u001b[36m(train_mel_spec_model pid=3193)\u001b[0m epoch: 6, batch_id: 21, loss: 1.908685564994812\n",
            "\u001b[36m(train_mel_spec_model pid=3193)\u001b[0m epoch: 6, batch_id: 22, loss: 1.9438247680664062\n"
          ]
        },
        {
          "output_type": "stream",
          "name": "stderr",
          "text": [
            "\u001b[36m(train_mel_spec_model pid=3193)\u001b[0m Checkpoint successfully created at: Checkpoint(filesystem=local, path=/root/ray_results/train_mel_spec_model_2024-04-11_03-45-31/train_mel_spec_model_f562d_00003_3_batch_size=35,l1=450,l2=10,lr=0.0004,num_epochs=35_2024-04-11_03-45-37/checkpoint_000006)\n"
          ]
        },
        {
          "output_type": "stream",
          "name": "stdout",
          "text": [
            "\u001b[36m(train_mel_spec_model pid=3193)\u001b[0m Validation Loss: 1.9261155128479004, Accuracy: 0.30303030303030304\n",
            "\u001b[36m(train_mel_spec_model pid=3193)\u001b[0m epoch: 7, batch_id: 0, loss: 1.9220362901687622\n",
            "\u001b[36m(train_mel_spec_model pid=3193)\u001b[0m epoch: 7, batch_id: 1, loss: 1.8151711225509644\n",
            "\u001b[36m(train_mel_spec_model pid=3193)\u001b[0m epoch: 7, batch_id: 2, loss: 1.7850120067596436\n",
            "\u001b[36m(train_mel_spec_model pid=3193)\u001b[0m epoch: 7, batch_id: 3, loss: 1.8132787942886353\n",
            "\u001b[36m(train_mel_spec_model pid=3193)\u001b[0m epoch: 7, batch_id: 4, loss: 1.5777194499969482\n",
            "\u001b[36m(train_mel_spec_model pid=3193)\u001b[0m epoch: 7, batch_id: 5, loss: 1.912170171737671\n",
            "\u001b[36m(train_mel_spec_model pid=3193)\u001b[0m epoch: 7, batch_id: 6, loss: 2.043156623840332\n",
            "\u001b[36m(train_mel_spec_model pid=3193)\u001b[0m epoch: 7, batch_id: 7, loss: 1.7964019775390625\n",
            "\u001b[36m(train_mel_spec_model pid=3193)\u001b[0m epoch: 7, batch_id: 8, loss: 1.9981861114501953\n",
            "\u001b[36m(train_mel_spec_model pid=3193)\u001b[0m epoch: 7, batch_id: 9, loss: 1.859735131263733\n",
            "\u001b[36m(train_mel_spec_model pid=3193)\u001b[0m epoch: 7, batch_id: 10, loss: 1.674703598022461\n",
            "\u001b[36m(train_mel_spec_model pid=3193)\u001b[0m epoch: 7, batch_id: 11, loss: 1.9366991519927979\n",
            "\u001b[36m(train_mel_spec_model pid=3193)\u001b[0m epoch: 7, batch_id: 12, loss: 1.8757745027542114\n",
            "\u001b[36m(train_mel_spec_model pid=3193)\u001b[0m epoch: 7, batch_id: 13, loss: 1.6936273574829102\n",
            "\u001b[36m(train_mel_spec_model pid=3193)\u001b[0m epoch: 7, batch_id: 14, loss: 1.9072052240371704\n",
            "\u001b[36m(train_mel_spec_model pid=3193)\u001b[0m epoch: 7, batch_id: 15, loss: 1.8150337934494019\n",
            "\u001b[36m(train_mel_spec_model pid=3193)\u001b[0m epoch: 7, batch_id: 16, loss: 1.9397377967834473\n",
            "\u001b[36m(train_mel_spec_model pid=3193)\u001b[0m epoch: 7, batch_id: 17, loss: 1.9772886037826538\n",
            "\u001b[36m(train_mel_spec_model pid=3193)\u001b[0m epoch: 7, batch_id: 18, loss: 2.1137123107910156\n",
            "\u001b[36m(train_mel_spec_model pid=3193)\u001b[0m epoch: 7, batch_id: 19, loss: 1.7895501852035522\n",
            "\u001b[36m(train_mel_spec_model pid=3193)\u001b[0m epoch: 7, batch_id: 20, loss: 1.705770492553711\n",
            "\u001b[36m(train_mel_spec_model pid=3193)\u001b[0m epoch: 7, batch_id: 21, loss: 2.085794448852539\n",
            "\u001b[36m(train_mel_spec_model pid=3193)\u001b[0m epoch: 7, batch_id: 22, loss: 1.7124533653259277\n"
          ]
        },
        {
          "output_type": "stream",
          "name": "stderr",
          "text": [
            "\u001b[36m(train_mel_spec_model pid=3193)\u001b[0m Checkpoint successfully created at: Checkpoint(filesystem=local, path=/root/ray_results/train_mel_spec_model_2024-04-11_03-45-31/train_mel_spec_model_f562d_00003_3_batch_size=35,l1=450,l2=10,lr=0.0004,num_epochs=35_2024-04-11_03-45-37/checkpoint_000007)\n"
          ]
        },
        {
          "output_type": "stream",
          "name": "stdout",
          "text": [
            "\u001b[36m(train_mel_spec_model pid=3193)\u001b[0m Validation Loss: 1.8892162640889485, Accuracy: 0.3333333333333333\n",
            "\u001b[36m(train_mel_spec_model pid=3193)\u001b[0m epoch: 8, batch_id: 0, loss: 1.8007121086120605\n",
            "\u001b[36m(train_mel_spec_model pid=3193)\u001b[0m epoch: 8, batch_id: 1, loss: 1.6129785776138306\n",
            "\u001b[36m(train_mel_spec_model pid=3193)\u001b[0m epoch: 8, batch_id: 2, loss: 1.987307071685791\n",
            "\u001b[36m(train_mel_spec_model pid=3193)\u001b[0m epoch: 8, batch_id: 3, loss: 1.720980167388916\n",
            "\u001b[36m(train_mel_spec_model pid=3193)\u001b[0m epoch: 8, batch_id: 4, loss: 1.9448497295379639\n",
            "\u001b[36m(train_mel_spec_model pid=3193)\u001b[0m epoch: 8, batch_id: 5, loss: 1.7245688438415527\n",
            "\u001b[36m(train_mel_spec_model pid=3193)\u001b[0m epoch: 8, batch_id: 6, loss: 1.758915662765503\n",
            "\u001b[36m(train_mel_spec_model pid=3193)\u001b[0m epoch: 8, batch_id: 7, loss: 1.8716535568237305\n",
            "\u001b[36m(train_mel_spec_model pid=3193)\u001b[0m epoch: 8, batch_id: 8, loss: 1.7252815961837769\n",
            "\u001b[36m(train_mel_spec_model pid=3193)\u001b[0m epoch: 8, batch_id: 9, loss: 1.569297432899475\n",
            "\u001b[36m(train_mel_spec_model pid=3193)\u001b[0m epoch: 8, batch_id: 10, loss: 1.6616218090057373\n",
            "\u001b[36m(train_mel_spec_model pid=3193)\u001b[0m epoch: 8, batch_id: 11, loss: 1.671112298965454\n",
            "\u001b[36m(train_mel_spec_model pid=3193)\u001b[0m epoch: 8, batch_id: 12, loss: 1.7483866214752197\n",
            "\u001b[36m(train_mel_spec_model pid=3193)\u001b[0m epoch: 8, batch_id: 13, loss: 1.786031723022461\n",
            "\u001b[36m(train_mel_spec_model pid=3193)\u001b[0m epoch: 8, batch_id: 14, loss: 1.6976803541183472\n",
            "\u001b[36m(train_mel_spec_model pid=3193)\u001b[0m epoch: 8, batch_id: 15, loss: 1.6810544729232788\n",
            "\u001b[36m(train_mel_spec_model pid=3193)\u001b[0m epoch: 8, batch_id: 16, loss: 1.7520443201065063\n",
            "\u001b[36m(train_mel_spec_model pid=3193)\u001b[0m epoch: 8, batch_id: 17, loss: 1.751547932624817\n",
            "\u001b[36m(train_mel_spec_model pid=3193)\u001b[0m epoch: 8, batch_id: 18, loss: 1.7448762655258179\n",
            "\u001b[36m(train_mel_spec_model pid=3193)\u001b[0m epoch: 8, batch_id: 19, loss: 1.588364839553833\n",
            "\u001b[36m(train_mel_spec_model pid=3193)\u001b[0m epoch: 8, batch_id: 20, loss: 1.752363920211792\n",
            "\u001b[36m(train_mel_spec_model pid=3193)\u001b[0m epoch: 8, batch_id: 21, loss: 1.9532383680343628\n",
            "\u001b[36m(train_mel_spec_model pid=3193)\u001b[0m epoch: 8, batch_id: 22, loss: 2.0155723094940186\n"
          ]
        },
        {
          "output_type": "stream",
          "name": "stderr",
          "text": [
            "\u001b[36m(train_mel_spec_model pid=3193)\u001b[0m Checkpoint successfully created at: Checkpoint(filesystem=local, path=/root/ray_results/train_mel_spec_model_2024-04-11_03-45-31/train_mel_spec_model_f562d_00003_3_batch_size=35,l1=450,l2=10,lr=0.0004,num_epochs=35_2024-04-11_03-45-37/checkpoint_000008)\n"
          ]
        },
        {
          "output_type": "stream",
          "name": "stdout",
          "text": [
            "\u001b[36m(train_mel_spec_model pid=3193)\u001b[0m Validation Loss: 1.8232460816701253, Accuracy: 0.31313131313131315\n",
            "\u001b[36m(train_mel_spec_model pid=3193)\u001b[0m epoch: 9, batch_id: 0, loss: 1.4490236043930054\n",
            "\u001b[36m(train_mel_spec_model pid=3193)\u001b[0m epoch: 9, batch_id: 1, loss: 1.6068955659866333\n",
            "\u001b[36m(train_mel_spec_model pid=3193)\u001b[0m epoch: 9, batch_id: 2, loss: 1.750014066696167\n",
            "\u001b[36m(train_mel_spec_model pid=3193)\u001b[0m epoch: 9, batch_id: 3, loss: 1.6473699808120728\n",
            "\u001b[36m(train_mel_spec_model pid=3193)\u001b[0m epoch: 9, batch_id: 4, loss: 1.731899380683899\n",
            "\u001b[36m(train_mel_spec_model pid=3193)\u001b[0m epoch: 9, batch_id: 5, loss: 1.7402044534683228\n",
            "\u001b[36m(train_mel_spec_model pid=3193)\u001b[0m epoch: 9, batch_id: 6, loss: 1.74948251247406\n",
            "\u001b[36m(train_mel_spec_model pid=3193)\u001b[0m epoch: 9, batch_id: 7, loss: 1.7377426624298096\n",
            "\u001b[36m(train_mel_spec_model pid=3193)\u001b[0m epoch: 9, batch_id: 8, loss: 1.5879573822021484\n",
            "\u001b[36m(train_mel_spec_model pid=3193)\u001b[0m epoch: 9, batch_id: 9, loss: 1.9056278467178345\n",
            "\u001b[36m(train_mel_spec_model pid=3193)\u001b[0m epoch: 9, batch_id: 10, loss: 1.8876456022262573\n",
            "\u001b[36m(train_mel_spec_model pid=3193)\u001b[0m epoch: 9, batch_id: 11, loss: 1.803580403327942\n",
            "\u001b[36m(train_mel_spec_model pid=3193)\u001b[0m epoch: 9, batch_id: 12, loss: 1.7859787940979004\n",
            "\u001b[36m(train_mel_spec_model pid=3193)\u001b[0m epoch: 9, batch_id: 13, loss: 1.8621968030929565\n",
            "\u001b[36m(train_mel_spec_model pid=3193)\u001b[0m epoch: 9, batch_id: 14, loss: 1.6640942096710205\n",
            "\u001b[36m(train_mel_spec_model pid=3193)\u001b[0m epoch: 9, batch_id: 15, loss: 1.8138329982757568\n",
            "\u001b[36m(train_mel_spec_model pid=3193)\u001b[0m epoch: 9, batch_id: 16, loss: 1.8155661821365356\n",
            "\u001b[36m(train_mel_spec_model pid=3193)\u001b[0m epoch: 9, batch_id: 17, loss: 1.7670788764953613\n",
            "\u001b[36m(train_mel_spec_model pid=3193)\u001b[0m epoch: 9, batch_id: 18, loss: 1.9076861143112183\n",
            "\u001b[36m(train_mel_spec_model pid=3193)\u001b[0m epoch: 9, batch_id: 19, loss: 1.6749471426010132\n",
            "\u001b[36m(train_mel_spec_model pid=3193)\u001b[0m epoch: 9, batch_id: 20, loss: 1.921911358833313\n",
            "\u001b[36m(train_mel_spec_model pid=3193)\u001b[0m epoch: 9, batch_id: 21, loss: 2.041304111480713\n",
            "\u001b[36m(train_mel_spec_model pid=3193)\u001b[0m epoch: 9, batch_id: 22, loss: 1.5806083679199219\n"
          ]
        },
        {
          "output_type": "stream",
          "name": "stderr",
          "text": [
            "\u001b[36m(train_mel_spec_model pid=3193)\u001b[0m Checkpoint successfully created at: Checkpoint(filesystem=local, path=/root/ray_results/train_mel_spec_model_2024-04-11_03-45-31/train_mel_spec_model_f562d_00003_3_batch_size=35,l1=450,l2=10,lr=0.0004,num_epochs=35_2024-04-11_03-45-37/checkpoint_000009)\n"
          ]
        },
        {
          "output_type": "stream",
          "name": "stdout",
          "text": [
            "\u001b[36m(train_mel_spec_model pid=3193)\u001b[0m Validation Loss: 1.9095298846562703, Accuracy: 0.2828282828282828\n",
            "\u001b[36m(train_mel_spec_model pid=3193)\u001b[0m epoch: 10, batch_id: 0, loss: 1.9957104921340942\n",
            "\u001b[36m(train_mel_spec_model pid=3193)\u001b[0m epoch: 10, batch_id: 1, loss: 1.5248582363128662\n",
            "\u001b[36m(train_mel_spec_model pid=3193)\u001b[0m epoch: 10, batch_id: 2, loss: 1.5343111753463745\n",
            "\u001b[36m(train_mel_spec_model pid=3193)\u001b[0m epoch: 10, batch_id: 3, loss: 1.7474819421768188\n",
            "\u001b[36m(train_mel_spec_model pid=3193)\u001b[0m epoch: 10, batch_id: 4, loss: 1.7490750551223755\n",
            "\u001b[36m(train_mel_spec_model pid=3193)\u001b[0m epoch: 10, batch_id: 5, loss: 1.8444284200668335\n",
            "\u001b[36m(train_mel_spec_model pid=3193)\u001b[0m epoch: 10, batch_id: 6, loss: 1.4557462930679321\n",
            "\u001b[36m(train_mel_spec_model pid=3193)\u001b[0m epoch: 10, batch_id: 7, loss: 1.5760197639465332\n",
            "\u001b[36m(train_mel_spec_model pid=3193)\u001b[0m epoch: 10, batch_id: 8, loss: 1.458846092224121\n",
            "\u001b[36m(train_mel_spec_model pid=3193)\u001b[0m epoch: 10, batch_id: 9, loss: 1.8666986227035522\n",
            "\u001b[36m(train_mel_spec_model pid=3193)\u001b[0m epoch: 10, batch_id: 10, loss: 1.8917670249938965\n",
            "\u001b[36m(train_mel_spec_model pid=3193)\u001b[0m epoch: 10, batch_id: 11, loss: 1.5692479610443115\n",
            "\u001b[36m(train_mel_spec_model pid=3193)\u001b[0m epoch: 10, batch_id: 12, loss: 1.7306371927261353\n",
            "\u001b[36m(train_mel_spec_model pid=3193)\u001b[0m epoch: 10, batch_id: 13, loss: 1.5974949598312378\n",
            "\u001b[36m(train_mel_spec_model pid=3193)\u001b[0m epoch: 10, batch_id: 14, loss: 1.486161231994629\n",
            "\u001b[36m(train_mel_spec_model pid=3193)\u001b[0m epoch: 10, batch_id: 15, loss: 1.732221007347107\n",
            "\u001b[36m(train_mel_spec_model pid=3193)\u001b[0m epoch: 10, batch_id: 16, loss: 1.7925748825073242\n",
            "\u001b[36m(train_mel_spec_model pid=3193)\u001b[0m epoch: 10, batch_id: 17, loss: 1.6728585958480835\n",
            "\u001b[36m(train_mel_spec_model pid=3193)\u001b[0m epoch: 10, batch_id: 18, loss: 1.6933083534240723\n",
            "\u001b[36m(train_mel_spec_model pid=3193)\u001b[0m epoch: 10, batch_id: 19, loss: 1.8734409809112549\n",
            "\u001b[36m(train_mel_spec_model pid=3193)\u001b[0m epoch: 10, batch_id: 20, loss: 1.640498399734497\n",
            "\u001b[36m(train_mel_spec_model pid=3193)\u001b[0m epoch: 10, batch_id: 21, loss: 1.984352707862854\n",
            "\u001b[36m(train_mel_spec_model pid=3193)\u001b[0m epoch: 10, batch_id: 22, loss: 1.7165586948394775\n"
          ]
        },
        {
          "output_type": "stream",
          "name": "stderr",
          "text": [
            "\u001b[36m(train_mel_spec_model pid=3193)\u001b[0m Checkpoint successfully created at: Checkpoint(filesystem=local, path=/root/ray_results/train_mel_spec_model_2024-04-11_03-45-31/train_mel_spec_model_f562d_00003_3_batch_size=35,l1=450,l2=10,lr=0.0004,num_epochs=35_2024-04-11_03-45-37/checkpoint_000010)\n"
          ]
        },
        {
          "output_type": "stream",
          "name": "stdout",
          "text": [
            "\u001b[36m(train_mel_spec_model pid=3193)\u001b[0m Validation Loss: 1.8885626792907715, Accuracy: 0.3434343434343434\n",
            "\u001b[36m(train_mel_spec_model pid=3193)\u001b[0m epoch: 11, batch_id: 0, loss: 1.7910250425338745\n",
            "\u001b[36m(train_mel_spec_model pid=3193)\u001b[0m epoch: 11, batch_id: 1, loss: 1.6009541749954224\n",
            "\u001b[36m(train_mel_spec_model pid=3193)\u001b[0m epoch: 11, batch_id: 2, loss: 1.7287461757659912\n",
            "\u001b[36m(train_mel_spec_model pid=3193)\u001b[0m epoch: 11, batch_id: 3, loss: 1.3834501504898071\n",
            "\u001b[36m(train_mel_spec_model pid=3193)\u001b[0m epoch: 11, batch_id: 4, loss: 1.4596176147460938\n",
            "\u001b[36m(train_mel_spec_model pid=3193)\u001b[0m epoch: 11, batch_id: 5, loss: 1.4461473226547241\n",
            "\u001b[36m(train_mel_spec_model pid=3193)\u001b[0m epoch: 11, batch_id: 6, loss: 1.7436034679412842\n",
            "\u001b[36m(train_mel_spec_model pid=3193)\u001b[0m epoch: 11, batch_id: 7, loss: 1.5073649883270264\n",
            "\u001b[36m(train_mel_spec_model pid=3193)\u001b[0m epoch: 11, batch_id: 8, loss: 1.495068907737732\n",
            "\u001b[36m(train_mel_spec_model pid=3193)\u001b[0m epoch: 11, batch_id: 9, loss: 1.4910449981689453\n",
            "\u001b[36m(train_mel_spec_model pid=3193)\u001b[0m epoch: 11, batch_id: 10, loss: 1.6826980113983154\n",
            "\u001b[36m(train_mel_spec_model pid=3193)\u001b[0m epoch: 11, batch_id: 11, loss: 1.557273268699646\n",
            "\u001b[36m(train_mel_spec_model pid=3193)\u001b[0m epoch: 11, batch_id: 12, loss: 1.349044919013977\n",
            "\u001b[36m(train_mel_spec_model pid=3193)\u001b[0m epoch: 11, batch_id: 13, loss: 1.9363065958023071\n",
            "\u001b[36m(train_mel_spec_model pid=3193)\u001b[0m epoch: 11, batch_id: 14, loss: 1.305066466331482\n",
            "\u001b[36m(train_mel_spec_model pid=3193)\u001b[0m epoch: 11, batch_id: 15, loss: 1.477615237236023\n",
            "\u001b[36m(train_mel_spec_model pid=3193)\u001b[0m epoch: 11, batch_id: 16, loss: 1.7942413091659546\n",
            "\u001b[36m(train_mel_spec_model pid=3193)\u001b[0m epoch: 11, batch_id: 17, loss: 1.6183862686157227\n",
            "\u001b[36m(train_mel_spec_model pid=3193)\u001b[0m epoch: 11, batch_id: 18, loss: 1.7265853881835938\n",
            "\u001b[36m(train_mel_spec_model pid=3193)\u001b[0m epoch: 11, batch_id: 19, loss: 1.5096737146377563\n",
            "\u001b[36m(train_mel_spec_model pid=3193)\u001b[0m epoch: 11, batch_id: 20, loss: 1.3671308755874634\n",
            "\u001b[36m(train_mel_spec_model pid=3193)\u001b[0m epoch: 11, batch_id: 21, loss: 1.4817352294921875\n",
            "\u001b[36m(train_mel_spec_model pid=3193)\u001b[0m epoch: 11, batch_id: 22, loss: 1.657185673713684\n"
          ]
        },
        {
          "output_type": "stream",
          "name": "stderr",
          "text": [
            "\u001b[36m(train_mel_spec_model pid=3193)\u001b[0m Checkpoint successfully created at: Checkpoint(filesystem=local, path=/root/ray_results/train_mel_spec_model_2024-04-11_03-45-31/train_mel_spec_model_f562d_00003_3_batch_size=35,l1=450,l2=10,lr=0.0004,num_epochs=35_2024-04-11_03-45-37/checkpoint_000011)\n"
          ]
        },
        {
          "output_type": "stream",
          "name": "stdout",
          "text": [
            "\u001b[36m(train_mel_spec_model pid=3193)\u001b[0m Validation Loss: 1.721906582514445, Accuracy: 0.40404040404040403\n",
            "\u001b[36m(train_mel_spec_model pid=3193)\u001b[0m epoch: 12, batch_id: 0, loss: 1.6025840044021606\n",
            "\u001b[36m(train_mel_spec_model pid=3193)\u001b[0m epoch: 12, batch_id: 1, loss: 1.4416182041168213\n",
            "\u001b[36m(train_mel_spec_model pid=3193)\u001b[0m epoch: 12, batch_id: 2, loss: 1.538830280303955\n",
            "\u001b[36m(train_mel_spec_model pid=3193)\u001b[0m epoch: 12, batch_id: 3, loss: 1.440683364868164\n",
            "\u001b[36m(train_mel_spec_model pid=3193)\u001b[0m epoch: 12, batch_id: 4, loss: 1.6829866170883179\n",
            "\u001b[36m(train_mel_spec_model pid=3193)\u001b[0m epoch: 12, batch_id: 5, loss: 1.4211162328720093\n",
            "\u001b[36m(train_mel_spec_model pid=3193)\u001b[0m epoch: 12, batch_id: 6, loss: 1.5702238082885742\n",
            "\u001b[36m(train_mel_spec_model pid=3193)\u001b[0m epoch: 12, batch_id: 7, loss: 1.542818546295166\n",
            "\u001b[36m(train_mel_spec_model pid=3193)\u001b[0m epoch: 12, batch_id: 8, loss: 1.4558308124542236\n",
            "\u001b[36m(train_mel_spec_model pid=3193)\u001b[0m epoch: 12, batch_id: 9, loss: 1.5552996397018433\n",
            "\u001b[36m(train_mel_spec_model pid=3193)\u001b[0m epoch: 12, batch_id: 10, loss: 1.4038245677947998\n",
            "\u001b[36m(train_mel_spec_model pid=3193)\u001b[0m epoch: 12, batch_id: 11, loss: 1.6126415729522705\n",
            "\u001b[36m(train_mel_spec_model pid=3193)\u001b[0m epoch: 12, batch_id: 12, loss: 1.3704789876937866\n",
            "\u001b[36m(train_mel_spec_model pid=3193)\u001b[0m epoch: 12, batch_id: 13, loss: 1.2828853130340576\n",
            "\u001b[36m(train_mel_spec_model pid=3193)\u001b[0m epoch: 12, batch_id: 14, loss: 1.485852837562561\n",
            "\u001b[36m(train_mel_spec_model pid=3193)\u001b[0m epoch: 12, batch_id: 15, loss: 1.7207838296890259\n",
            "\u001b[36m(train_mel_spec_model pid=3193)\u001b[0m epoch: 12, batch_id: 16, loss: 1.6391234397888184\n",
            "\u001b[36m(train_mel_spec_model pid=3193)\u001b[0m epoch: 12, batch_id: 17, loss: 1.3785579204559326\n",
            "\u001b[36m(train_mel_spec_model pid=3193)\u001b[0m epoch: 12, batch_id: 18, loss: 1.5405575037002563\n",
            "\u001b[36m(train_mel_spec_model pid=3193)\u001b[0m epoch: 12, batch_id: 19, loss: 1.442339301109314\n",
            "\u001b[36m(train_mel_spec_model pid=3193)\u001b[0m epoch: 12, batch_id: 20, loss: 1.1079658269882202\n",
            "\u001b[36m(train_mel_spec_model pid=3193)\u001b[0m epoch: 12, batch_id: 21, loss: 1.4921290874481201\n",
            "\u001b[36m(train_mel_spec_model pid=3193)\u001b[0m epoch: 12, batch_id: 22, loss: 1.4406723976135254\n",
            "Trial status: 3 TERMINATED | 1 RUNNING | 1 PENDING\n",
            "Current time: 2024-04-11 03:52:38. Total running time: 7min 0s\n",
            "Logical resource usage: 2.0/2 CPUs, 1.0/1 GPUs (0.0/1.0 accelerator_type:T4)\n",
            "Current best trial: f562d_00000 with loss=1.4953934252262115 and params={'l1': 550, 'l2': 15, 'lr': 0.00019002025558777404, 'batch_size': 30, 'num_epochs': 35}\n",
            "+------------------------------------------------------------------------------------------------------------------------------------------------------------+\n",
            "| Trial name                         status         l1     l2            lr     batch_size     num_epochs     iter     total time (s)      loss     accuracy |\n",
            "+------------------------------------------------------------------------------------------------------------------------------------------------------------+\n",
            "| train_mel_spec_model_f562d_00003   RUNNING       450     10   0.000373188             35             35       12            35.1556   1.72191    0.40404   |\n",
            "| train_mel_spec_model_f562d_00000   TERMINATED    550     15   0.00019002              30             35       35           220.054    1.49539    0.525253  |\n",
            "| train_mel_spec_model_f562d_00001   TERMINATED    700      5   0.0185484               45             35       20            65.1919   2.30768    0.0808081 |\n",
            "| train_mel_spec_model_f562d_00002   TERMINATED    950     10   0.0017086               30             25       20            73.074    2.31715    0.0808081 |\n",
            "| train_mel_spec_model_f562d_00004   PENDING       800     10   0.00014823               5             35                                                    |\n",
            "+------------------------------------------------------------------------------------------------------------------------------------------------------------+\n",
            "\u001b[36m(train_mel_spec_model pid=3193)\u001b[0m Validation Loss: 1.7276968558629353, Accuracy: 0.36363636363636365\n"
          ]
        },
        {
          "output_type": "stream",
          "name": "stderr",
          "text": [
            "\u001b[36m(train_mel_spec_model pid=3193)\u001b[0m Checkpoint successfully created at: Checkpoint(filesystem=local, path=/root/ray_results/train_mel_spec_model_2024-04-11_03-45-31/train_mel_spec_model_f562d_00003_3_batch_size=35,l1=450,l2=10,lr=0.0004,num_epochs=35_2024-04-11_03-45-37/checkpoint_000012)\n"
          ]
        },
        {
          "output_type": "stream",
          "name": "stdout",
          "text": [
            "\u001b[36m(train_mel_spec_model pid=3193)\u001b[0m epoch: 13, batch_id: 0, loss: 1.4219565391540527\n",
            "\u001b[36m(train_mel_spec_model pid=3193)\u001b[0m epoch: 13, batch_id: 1, loss: 1.3804861307144165\n",
            "\u001b[36m(train_mel_spec_model pid=3193)\u001b[0m epoch: 13, batch_id: 2, loss: 1.479874849319458\n",
            "\u001b[36m(train_mel_spec_model pid=3193)\u001b[0m epoch: 13, batch_id: 3, loss: 1.470630168914795\n",
            "\u001b[36m(train_mel_spec_model pid=3193)\u001b[0m epoch: 13, batch_id: 4, loss: 1.6270954608917236\n",
            "\u001b[36m(train_mel_spec_model pid=3193)\u001b[0m epoch: 13, batch_id: 5, loss: 1.5686177015304565\n",
            "\u001b[36m(train_mel_spec_model pid=3193)\u001b[0m epoch: 13, batch_id: 6, loss: 1.5271353721618652\n",
            "\u001b[36m(train_mel_spec_model pid=3193)\u001b[0m epoch: 13, batch_id: 7, loss: 1.6802024841308594\n",
            "\u001b[36m(train_mel_spec_model pid=3193)\u001b[0m epoch: 13, batch_id: 8, loss: 1.3416721820831299\n",
            "\u001b[36m(train_mel_spec_model pid=3193)\u001b[0m epoch: 13, batch_id: 9, loss: 1.509371042251587\n",
            "\u001b[36m(train_mel_spec_model pid=3193)\u001b[0m epoch: 13, batch_id: 10, loss: 1.1781082153320312\n",
            "\u001b[36m(train_mel_spec_model pid=3193)\u001b[0m epoch: 13, batch_id: 11, loss: 1.5656721591949463\n",
            "\u001b[36m(train_mel_spec_model pid=3193)\u001b[0m epoch: 13, batch_id: 12, loss: 1.3471134901046753\n",
            "\u001b[36m(train_mel_spec_model pid=3193)\u001b[0m epoch: 13, batch_id: 13, loss: 1.649900197982788\n",
            "\u001b[36m(train_mel_spec_model pid=3193)\u001b[0m epoch: 13, batch_id: 14, loss: 1.2554855346679688\n",
            "\u001b[36m(train_mel_spec_model pid=3193)\u001b[0m epoch: 13, batch_id: 15, loss: 1.1874210834503174\n",
            "\u001b[36m(train_mel_spec_model pid=3193)\u001b[0m epoch: 13, batch_id: 16, loss: 1.6933883428573608\n",
            "\u001b[36m(train_mel_spec_model pid=3193)\u001b[0m epoch: 13, batch_id: 17, loss: 1.289989948272705\n",
            "\u001b[36m(train_mel_spec_model pid=3193)\u001b[0m epoch: 13, batch_id: 18, loss: 1.6349300146102905\n",
            "\u001b[36m(train_mel_spec_model pid=3193)\u001b[0m epoch: 13, batch_id: 19, loss: 1.348467469215393\n",
            "\u001b[36m(train_mel_spec_model pid=3193)\u001b[0m epoch: 13, batch_id: 20, loss: 1.4915522336959839\n",
            "\u001b[36m(train_mel_spec_model pid=3193)\u001b[0m epoch: 13, batch_id: 21, loss: 1.536094069480896\n",
            "\u001b[36m(train_mel_spec_model pid=3193)\u001b[0m epoch: 13, batch_id: 22, loss: 1.2762632369995117\n"
          ]
        },
        {
          "output_type": "stream",
          "name": "stderr",
          "text": [
            "\u001b[36m(train_mel_spec_model pid=3193)\u001b[0m Checkpoint successfully created at: Checkpoint(filesystem=local, path=/root/ray_results/train_mel_spec_model_2024-04-11_03-45-31/train_mel_spec_model_f562d_00003_3_batch_size=35,l1=450,l2=10,lr=0.0004,num_epochs=35_2024-04-11_03-45-37/checkpoint_000013)\n"
          ]
        },
        {
          "output_type": "stream",
          "name": "stdout",
          "text": [
            "\u001b[36m(train_mel_spec_model pid=3193)\u001b[0m Validation Loss: 1.7139353354771931, Accuracy: 0.3838383838383838\n",
            "\u001b[36m(train_mel_spec_model pid=3193)\u001b[0m epoch: 14, batch_id: 0, loss: 1.6201974153518677\n",
            "\u001b[36m(train_mel_spec_model pid=3193)\u001b[0m epoch: 14, batch_id: 1, loss: 1.1413586139678955\n",
            "\u001b[36m(train_mel_spec_model pid=3193)\u001b[0m epoch: 14, batch_id: 2, loss: 1.4523597955703735\n",
            "\u001b[36m(train_mel_spec_model pid=3193)\u001b[0m epoch: 14, batch_id: 3, loss: 1.3406895399093628\n",
            "\u001b[36m(train_mel_spec_model pid=3193)\u001b[0m epoch: 14, batch_id: 4, loss: 1.397281527519226\n",
            "\u001b[36m(train_mel_spec_model pid=3193)\u001b[0m epoch: 14, batch_id: 5, loss: 1.3269015550613403\n",
            "\u001b[36m(train_mel_spec_model pid=3193)\u001b[0m epoch: 14, batch_id: 6, loss: 1.3605605363845825\n",
            "\u001b[36m(train_mel_spec_model pid=3193)\u001b[0m epoch: 14, batch_id: 7, loss: 1.5787997245788574\n",
            "\u001b[36m(train_mel_spec_model pid=3193)\u001b[0m epoch: 14, batch_id: 8, loss: 1.3045240640640259\n",
            "\u001b[36m(train_mel_spec_model pid=3193)\u001b[0m epoch: 14, batch_id: 9, loss: 1.3435301780700684\n",
            "\u001b[36m(train_mel_spec_model pid=3193)\u001b[0m epoch: 14, batch_id: 10, loss: 1.3580487966537476\n",
            "\u001b[36m(train_mel_spec_model pid=3193)\u001b[0m epoch: 14, batch_id: 11, loss: 1.3056577444076538\n",
            "\u001b[36m(train_mel_spec_model pid=3193)\u001b[0m epoch: 14, batch_id: 12, loss: 1.2753709554672241\n",
            "\u001b[36m(train_mel_spec_model pid=3193)\u001b[0m epoch: 14, batch_id: 13, loss: 1.1282142400741577\n",
            "\u001b[36m(train_mel_spec_model pid=3193)\u001b[0m epoch: 14, batch_id: 14, loss: 1.2749615907669067\n",
            "\u001b[36m(train_mel_spec_model pid=3193)\u001b[0m epoch: 14, batch_id: 15, loss: 1.3285017013549805\n",
            "\u001b[36m(train_mel_spec_model pid=3193)\u001b[0m epoch: 14, batch_id: 16, loss: 1.3736826181411743\n",
            "\u001b[36m(train_mel_spec_model pid=3193)\u001b[0m epoch: 14, batch_id: 17, loss: 1.2640612125396729\n",
            "\u001b[36m(train_mel_spec_model pid=3193)\u001b[0m epoch: 14, batch_id: 18, loss: 1.3706164360046387\n",
            "\u001b[36m(train_mel_spec_model pid=3193)\u001b[0m epoch: 14, batch_id: 19, loss: 1.2154170274734497\n",
            "\u001b[36m(train_mel_spec_model pid=3193)\u001b[0m epoch: 14, batch_id: 20, loss: 1.193914532661438\n",
            "\u001b[36m(train_mel_spec_model pid=3193)\u001b[0m epoch: 14, batch_id: 21, loss: 1.5638301372528076\n",
            "\u001b[36m(train_mel_spec_model pid=3193)\u001b[0m epoch: 14, batch_id: 22, loss: 1.413525104522705\n"
          ]
        },
        {
          "output_type": "stream",
          "name": "stderr",
          "text": [
            "\u001b[36m(train_mel_spec_model pid=3193)\u001b[0m Checkpoint successfully created at: Checkpoint(filesystem=local, path=/root/ray_results/train_mel_spec_model_2024-04-11_03-45-31/train_mel_spec_model_f562d_00003_3_batch_size=35,l1=450,l2=10,lr=0.0004,num_epochs=35_2024-04-11_03-45-37/checkpoint_000014)\n"
          ]
        },
        {
          "output_type": "stream",
          "name": "stdout",
          "text": [
            "\u001b[36m(train_mel_spec_model pid=3193)\u001b[0m Validation Loss: 1.6907684008280437, Accuracy: 0.3838383838383838\n",
            "\u001b[36m(train_mel_spec_model pid=3193)\u001b[0m epoch: 15, batch_id: 0, loss: 1.357534646987915\n",
            "\u001b[36m(train_mel_spec_model pid=3193)\u001b[0m epoch: 15, batch_id: 1, loss: 1.185002088546753\n",
            "\u001b[36m(train_mel_spec_model pid=3193)\u001b[0m epoch: 15, batch_id: 2, loss: 1.3624942302703857\n",
            "\u001b[36m(train_mel_spec_model pid=3193)\u001b[0m epoch: 15, batch_id: 3, loss: 1.3142191171646118\n",
            "\u001b[36m(train_mel_spec_model pid=3193)\u001b[0m epoch: 15, batch_id: 4, loss: 1.105830430984497\n",
            "\u001b[36m(train_mel_spec_model pid=3193)\u001b[0m epoch: 15, batch_id: 5, loss: 0.8794681429862976\n",
            "\u001b[36m(train_mel_spec_model pid=3193)\u001b[0m epoch: 15, batch_id: 6, loss: 1.0809345245361328\n",
            "\u001b[36m(train_mel_spec_model pid=3193)\u001b[0m epoch: 15, batch_id: 7, loss: 1.1360297203063965\n",
            "\u001b[36m(train_mel_spec_model pid=3193)\u001b[0m epoch: 15, batch_id: 8, loss: 1.4410229921340942\n",
            "\u001b[36m(train_mel_spec_model pid=3193)\u001b[0m epoch: 15, batch_id: 9, loss: 1.0242305994033813\n",
            "\u001b[36m(train_mel_spec_model pid=3193)\u001b[0m epoch: 15, batch_id: 10, loss: 1.4916983842849731\n",
            "\u001b[36m(train_mel_spec_model pid=3193)\u001b[0m epoch: 15, batch_id: 11, loss: 1.3292127847671509\n",
            "\u001b[36m(train_mel_spec_model pid=3193)\u001b[0m epoch: 15, batch_id: 12, loss: 1.1555391550064087\n",
            "\u001b[36m(train_mel_spec_model pid=3193)\u001b[0m epoch: 15, batch_id: 13, loss: 1.1192914247512817\n",
            "\u001b[36m(train_mel_spec_model pid=3193)\u001b[0m epoch: 15, batch_id: 14, loss: 1.2628110647201538\n",
            "\u001b[36m(train_mel_spec_model pid=3193)\u001b[0m epoch: 15, batch_id: 15, loss: 1.26547372341156\n",
            "\u001b[36m(train_mel_spec_model pid=3193)\u001b[0m epoch: 15, batch_id: 16, loss: 1.2132177352905273\n",
            "\u001b[36m(train_mel_spec_model pid=3193)\u001b[0m epoch: 15, batch_id: 17, loss: 1.3016350269317627\n",
            "\u001b[36m(train_mel_spec_model pid=3193)\u001b[0m epoch: 15, batch_id: 18, loss: 0.9200716018676758\n",
            "\u001b[36m(train_mel_spec_model pid=3193)\u001b[0m epoch: 15, batch_id: 19, loss: 1.3777817487716675\n",
            "\u001b[36m(train_mel_spec_model pid=3193)\u001b[0m epoch: 15, batch_id: 20, loss: 1.0683125257492065\n",
            "\u001b[36m(train_mel_spec_model pid=3193)\u001b[0m epoch: 15, batch_id: 21, loss: 1.2298160791397095\n",
            "\u001b[36m(train_mel_spec_model pid=3193)\u001b[0m epoch: 15, batch_id: 22, loss: 1.440260648727417\n"
          ]
        },
        {
          "output_type": "stream",
          "name": "stderr",
          "text": [
            "\u001b[36m(train_mel_spec_model pid=3193)\u001b[0m Checkpoint successfully created at: Checkpoint(filesystem=local, path=/root/ray_results/train_mel_spec_model_2024-04-11_03-45-31/train_mel_spec_model_f562d_00003_3_batch_size=35,l1=450,l2=10,lr=0.0004,num_epochs=35_2024-04-11_03-45-37/checkpoint_000015)\n"
          ]
        },
        {
          "output_type": "stream",
          "name": "stdout",
          "text": [
            "\u001b[36m(train_mel_spec_model pid=3193)\u001b[0m Validation Loss: 1.6111404498418171, Accuracy: 0.3838383838383838\n",
            "\u001b[36m(train_mel_spec_model pid=3193)\u001b[0m epoch: 16, batch_id: 0, loss: 1.0375394821166992\n",
            "\u001b[36m(train_mel_spec_model pid=3193)\u001b[0m epoch: 16, batch_id: 1, loss: 1.0487823486328125\n",
            "\u001b[36m(train_mel_spec_model pid=3193)\u001b[0m epoch: 16, batch_id: 2, loss: 1.0104719400405884\n",
            "\u001b[36m(train_mel_spec_model pid=3193)\u001b[0m epoch: 16, batch_id: 3, loss: 0.8185716867446899\n",
            "\u001b[36m(train_mel_spec_model pid=3193)\u001b[0m epoch: 16, batch_id: 4, loss: 1.1833443641662598\n",
            "\u001b[36m(train_mel_spec_model pid=3193)\u001b[0m epoch: 16, batch_id: 5, loss: 1.0805619955062866\n",
            "\u001b[36m(train_mel_spec_model pid=3193)\u001b[0m epoch: 16, batch_id: 6, loss: 1.1407090425491333\n",
            "\u001b[36m(train_mel_spec_model pid=3193)\u001b[0m epoch: 16, batch_id: 7, loss: 1.1732861995697021\n",
            "\u001b[36m(train_mel_spec_model pid=3193)\u001b[0m epoch: 16, batch_id: 8, loss: 1.0907150506973267\n",
            "\u001b[36m(train_mel_spec_model pid=3193)\u001b[0m epoch: 16, batch_id: 9, loss: 1.1943315267562866\n",
            "\u001b[36m(train_mel_spec_model pid=3193)\u001b[0m epoch: 16, batch_id: 10, loss: 1.167783498764038\n",
            "\u001b[36m(train_mel_spec_model pid=3193)\u001b[0m epoch: 16, batch_id: 11, loss: 1.2405093908309937\n",
            "\u001b[36m(train_mel_spec_model pid=3193)\u001b[0m epoch: 16, batch_id: 12, loss: 0.9750731587409973\n",
            "\u001b[36m(train_mel_spec_model pid=3193)\u001b[0m epoch: 16, batch_id: 13, loss: 1.3797487020492554\n",
            "\u001b[36m(train_mel_spec_model pid=3193)\u001b[0m epoch: 16, batch_id: 14, loss: 1.1779131889343262\n",
            "\u001b[36m(train_mel_spec_model pid=3193)\u001b[0m epoch: 16, batch_id: 15, loss: 1.2249151468276978\n",
            "\u001b[36m(train_mel_spec_model pid=3193)\u001b[0m epoch: 16, batch_id: 16, loss: 1.258042812347412\n",
            "\u001b[36m(train_mel_spec_model pid=3193)\u001b[0m epoch: 16, batch_id: 17, loss: 1.2154418230056763\n",
            "\u001b[36m(train_mel_spec_model pid=3193)\u001b[0m epoch: 16, batch_id: 18, loss: 1.0550886392593384\n",
            "\u001b[36m(train_mel_spec_model pid=3193)\u001b[0m epoch: 16, batch_id: 19, loss: 1.023276686668396\n",
            "\u001b[36m(train_mel_spec_model pid=3193)\u001b[0m epoch: 16, batch_id: 20, loss: 1.22371244430542\n",
            "\u001b[36m(train_mel_spec_model pid=3193)\u001b[0m epoch: 16, batch_id: 21, loss: 1.4810993671417236\n",
            "\u001b[36m(train_mel_spec_model pid=3193)\u001b[0m epoch: 16, batch_id: 22, loss: 1.035991907119751\n"
          ]
        },
        {
          "output_type": "stream",
          "name": "stderr",
          "text": [
            "\u001b[36m(train_mel_spec_model pid=3193)\u001b[0m Checkpoint successfully created at: Checkpoint(filesystem=local, path=/root/ray_results/train_mel_spec_model_2024-04-11_03-45-31/train_mel_spec_model_f562d_00003_3_batch_size=35,l1=450,l2=10,lr=0.0004,num_epochs=35_2024-04-11_03-45-37/checkpoint_000016)\n"
          ]
        },
        {
          "output_type": "stream",
          "name": "stdout",
          "text": [
            "\u001b[36m(train_mel_spec_model pid=3193)\u001b[0m Validation Loss: 1.7443602085113525, Accuracy: 0.41414141414141414\n",
            "\u001b[36m(train_mel_spec_model pid=3193)\u001b[0m epoch: 17, batch_id: 0, loss: 1.2289425134658813\n",
            "\u001b[36m(train_mel_spec_model pid=3193)\u001b[0m epoch: 17, batch_id: 1, loss: 1.1458066701889038\n",
            "\u001b[36m(train_mel_spec_model pid=3193)\u001b[0m epoch: 17, batch_id: 2, loss: 0.8436586856842041\n",
            "\u001b[36m(train_mel_spec_model pid=3193)\u001b[0m epoch: 17, batch_id: 3, loss: 1.388370394706726\n",
            "\u001b[36m(train_mel_spec_model pid=3193)\u001b[0m epoch: 17, batch_id: 4, loss: 1.2746127843856812\n",
            "\u001b[36m(train_mel_spec_model pid=3193)\u001b[0m epoch: 17, batch_id: 5, loss: 1.1857236623764038\n",
            "\u001b[36m(train_mel_spec_model pid=3193)\u001b[0m epoch: 17, batch_id: 6, loss: 0.8050375580787659\n",
            "\u001b[36m(train_mel_spec_model pid=3193)\u001b[0m epoch: 17, batch_id: 7, loss: 0.9753691554069519\n",
            "\u001b[36m(train_mel_spec_model pid=3193)\u001b[0m epoch: 17, batch_id: 8, loss: 0.9988692402839661\n",
            "\u001b[36m(train_mel_spec_model pid=3193)\u001b[0m epoch: 17, batch_id: 9, loss: 0.8242406845092773\n",
            "\u001b[36m(train_mel_spec_model pid=3193)\u001b[0m epoch: 17, batch_id: 10, loss: 1.2324646711349487\n",
            "\u001b[36m(train_mel_spec_model pid=3193)\u001b[0m epoch: 17, batch_id: 11, loss: 0.9527866840362549\n",
            "\u001b[36m(train_mel_spec_model pid=3193)\u001b[0m epoch: 17, batch_id: 12, loss: 0.7528384327888489\n",
            "\u001b[36m(train_mel_spec_model pid=3193)\u001b[0m epoch: 17, batch_id: 13, loss: 0.945270299911499\n",
            "\u001b[36m(train_mel_spec_model pid=3193)\u001b[0m epoch: 17, batch_id: 14, loss: 1.0172593593597412\n",
            "\u001b[36m(train_mel_spec_model pid=3193)\u001b[0m epoch: 17, batch_id: 15, loss: 1.0403822660446167\n",
            "\u001b[36m(train_mel_spec_model pid=3193)\u001b[0m epoch: 17, batch_id: 16, loss: 1.2441953420639038\n",
            "\u001b[36m(train_mel_spec_model pid=3193)\u001b[0m epoch: 17, batch_id: 17, loss: 0.9909307360649109\n",
            "\u001b[36m(train_mel_spec_model pid=3193)\u001b[0m epoch: 17, batch_id: 18, loss: 1.1556668281555176\n",
            "\u001b[36m(train_mel_spec_model pid=3193)\u001b[0m epoch: 17, batch_id: 19, loss: 0.8964350819587708\n",
            "\u001b[36m(train_mel_spec_model pid=3193)\u001b[0m epoch: 17, batch_id: 20, loss: 1.1256797313690186\n",
            "\u001b[36m(train_mel_spec_model pid=3193)\u001b[0m epoch: 17, batch_id: 21, loss: 1.0704402923583984\n",
            "\u001b[36m(train_mel_spec_model pid=3193)\u001b[0m epoch: 17, batch_id: 22, loss: 1.010761022567749\n"
          ]
        },
        {
          "output_type": "stream",
          "name": "stderr",
          "text": [
            "\u001b[36m(train_mel_spec_model pid=3193)\u001b[0m Checkpoint successfully created at: Checkpoint(filesystem=local, path=/root/ray_results/train_mel_spec_model_2024-04-11_03-45-31/train_mel_spec_model_f562d_00003_3_batch_size=35,l1=450,l2=10,lr=0.0004,num_epochs=35_2024-04-11_03-45-37/checkpoint_000017)\n"
          ]
        },
        {
          "output_type": "stream",
          "name": "stdout",
          "text": [
            "\u001b[36m(train_mel_spec_model pid=3193)\u001b[0m Validation Loss: 1.67645263671875, Accuracy: 0.3939393939393939\n",
            "\u001b[36m(train_mel_spec_model pid=3193)\u001b[0m epoch: 18, batch_id: 0, loss: 0.8894065022468567\n",
            "\u001b[36m(train_mel_spec_model pid=3193)\u001b[0m epoch: 18, batch_id: 1, loss: 1.10576331615448\n",
            "\u001b[36m(train_mel_spec_model pid=3193)\u001b[0m epoch: 18, batch_id: 2, loss: 0.7458848357200623\n",
            "\u001b[36m(train_mel_spec_model pid=3193)\u001b[0m epoch: 18, batch_id: 3, loss: 0.8244444727897644\n",
            "\u001b[36m(train_mel_spec_model pid=3193)\u001b[0m epoch: 18, batch_id: 4, loss: 1.0830674171447754\n",
            "\u001b[36m(train_mel_spec_model pid=3193)\u001b[0m epoch: 18, batch_id: 5, loss: 1.0098464488983154\n",
            "\u001b[36m(train_mel_spec_model pid=3193)\u001b[0m epoch: 18, batch_id: 6, loss: 0.8255822062492371\n",
            "\u001b[36m(train_mel_spec_model pid=3193)\u001b[0m epoch: 18, batch_id: 7, loss: 0.7057440876960754\n",
            "\u001b[36m(train_mel_spec_model pid=3193)\u001b[0m epoch: 18, batch_id: 8, loss: 0.8285015225410461\n",
            "\u001b[36m(train_mel_spec_model pid=3193)\u001b[0m epoch: 18, batch_id: 9, loss: 0.8214076161384583\n",
            "\u001b[36m(train_mel_spec_model pid=3193)\u001b[0m epoch: 18, batch_id: 10, loss: 0.7204397320747375\n",
            "\u001b[36m(train_mel_spec_model pid=3193)\u001b[0m epoch: 18, batch_id: 11, loss: 0.9654343724250793\n",
            "\u001b[36m(train_mel_spec_model pid=3193)\u001b[0m epoch: 18, batch_id: 12, loss: 0.9814249277114868\n",
            "\u001b[36m(train_mel_spec_model pid=3193)\u001b[0m epoch: 18, batch_id: 13, loss: 1.0392005443572998\n",
            "\u001b[36m(train_mel_spec_model pid=3193)\u001b[0m epoch: 18, batch_id: 14, loss: 1.07533597946167\n",
            "\u001b[36m(train_mel_spec_model pid=3193)\u001b[0m epoch: 18, batch_id: 15, loss: 0.9498317241668701\n",
            "\u001b[36m(train_mel_spec_model pid=3193)\u001b[0m epoch: 18, batch_id: 16, loss: 1.161913275718689\n",
            "\u001b[36m(train_mel_spec_model pid=3193)\u001b[0m epoch: 18, batch_id: 17, loss: 1.007215142250061\n",
            "\u001b[36m(train_mel_spec_model pid=3193)\u001b[0m epoch: 18, batch_id: 18, loss: 1.1005854606628418\n",
            "\u001b[36m(train_mel_spec_model pid=3193)\u001b[0m epoch: 18, batch_id: 19, loss: 0.9281635880470276\n",
            "\u001b[36m(train_mel_spec_model pid=3193)\u001b[0m epoch: 18, batch_id: 20, loss: 0.9298487901687622\n",
            "\u001b[36m(train_mel_spec_model pid=3193)\u001b[0m epoch: 18, batch_id: 21, loss: 0.8613817095756531\n",
            "\u001b[36m(train_mel_spec_model pid=3193)\u001b[0m epoch: 18, batch_id: 22, loss: 1.0833796262741089\n"
          ]
        },
        {
          "output_type": "stream",
          "name": "stderr",
          "text": [
            "\u001b[36m(train_mel_spec_model pid=3193)\u001b[0m Checkpoint successfully created at: Checkpoint(filesystem=local, path=/root/ray_results/train_mel_spec_model_2024-04-11_03-45-31/train_mel_spec_model_f562d_00003_3_batch_size=35,l1=450,l2=10,lr=0.0004,num_epochs=35_2024-04-11_03-45-37/checkpoint_000018)\n"
          ]
        },
        {
          "output_type": "stream",
          "name": "stdout",
          "text": [
            "\u001b[36m(train_mel_spec_model pid=3193)\u001b[0m Validation Loss: 1.6052078008651733, Accuracy: 0.43434343434343436\n",
            "\u001b[36m(train_mel_spec_model pid=3193)\u001b[0m epoch: 19, batch_id: 0, loss: 0.8441171050071716\n",
            "\u001b[36m(train_mel_spec_model pid=3193)\u001b[0m epoch: 19, batch_id: 1, loss: 0.7769096493721008\n",
            "\u001b[36m(train_mel_spec_model pid=3193)\u001b[0m epoch: 19, batch_id: 2, loss: 0.7450795769691467\n",
            "\u001b[36m(train_mel_spec_model pid=3193)\u001b[0m epoch: 19, batch_id: 3, loss: 0.8100685477256775\n",
            "\u001b[36m(train_mel_spec_model pid=3193)\u001b[0m epoch: 19, batch_id: 4, loss: 0.9871760606765747\n",
            "\u001b[36m(train_mel_spec_model pid=3193)\u001b[0m epoch: 19, batch_id: 5, loss: 0.7041009068489075\n",
            "\u001b[36m(train_mel_spec_model pid=3193)\u001b[0m epoch: 19, batch_id: 6, loss: 0.7269550561904907\n",
            "\u001b[36m(train_mel_spec_model pid=3193)\u001b[0m epoch: 19, batch_id: 7, loss: 0.9076715707778931\n",
            "\u001b[36m(train_mel_spec_model pid=3193)\u001b[0m epoch: 19, batch_id: 8, loss: 0.7759842872619629\n",
            "\u001b[36m(train_mel_spec_model pid=3193)\u001b[0m epoch: 19, batch_id: 9, loss: 0.8004353642463684\n",
            "\u001b[36m(train_mel_spec_model pid=3193)\u001b[0m epoch: 19, batch_id: 10, loss: 0.9943921566009521\n",
            "\u001b[36m(train_mel_spec_model pid=3193)\u001b[0m epoch: 19, batch_id: 11, loss: 0.8541290163993835\n",
            "\u001b[36m(train_mel_spec_model pid=3193)\u001b[0m epoch: 19, batch_id: 12, loss: 0.7232270240783691\n",
            "\u001b[36m(train_mel_spec_model pid=3193)\u001b[0m epoch: 19, batch_id: 13, loss: 0.9557324051856995\n",
            "\u001b[36m(train_mel_spec_model pid=3193)\u001b[0m epoch: 19, batch_id: 14, loss: 0.8710080981254578\n",
            "\u001b[36m(train_mel_spec_model pid=3193)\u001b[0m epoch: 19, batch_id: 15, loss: 0.7897541522979736\n",
            "\u001b[36m(train_mel_spec_model pid=3193)\u001b[0m epoch: 19, batch_id: 16, loss: 0.7425186038017273\n",
            "\u001b[36m(train_mel_spec_model pid=3193)\u001b[0m epoch: 19, batch_id: 17, loss: 0.8909761905670166\n",
            "\u001b[36m(train_mel_spec_model pid=3193)\u001b[0m epoch: 19, batch_id: 18, loss: 1.070007562637329\n",
            "\u001b[36m(train_mel_spec_model pid=3193)\u001b[0m epoch: 19, batch_id: 19, loss: 0.6385104060173035\n",
            "\u001b[36m(train_mel_spec_model pid=3193)\u001b[0m epoch: 19, batch_id: 20, loss: 0.8981512784957886\n",
            "\u001b[36m(train_mel_spec_model pid=3193)\u001b[0m epoch: 19, batch_id: 21, loss: 0.6461005210876465\n",
            "\u001b[36m(train_mel_spec_model pid=3193)\u001b[0m epoch: 19, batch_id: 22, loss: 1.0126687288284302\n"
          ]
        },
        {
          "output_type": "stream",
          "name": "stderr",
          "text": [
            "\u001b[36m(train_mel_spec_model pid=3193)\u001b[0m Checkpoint successfully created at: Checkpoint(filesystem=local, path=/root/ray_results/train_mel_spec_model_2024-04-11_03-45-31/train_mel_spec_model_f562d_00003_3_batch_size=35,l1=450,l2=10,lr=0.0004,num_epochs=35_2024-04-11_03-45-37/checkpoint_000019)\n"
          ]
        },
        {
          "output_type": "stream",
          "name": "stdout",
          "text": [
            "\u001b[36m(train_mel_spec_model pid=3193)\u001b[0m Validation Loss: 1.7436452706654866, Accuracy: 0.3939393939393939\n",
            "\u001b[36m(train_mel_spec_model pid=3193)\u001b[0m epoch: 20, batch_id: 0, loss: 0.6289415955543518\n",
            "\u001b[36m(train_mel_spec_model pid=3193)\u001b[0m epoch: 20, batch_id: 1, loss: 0.7651196122169495\n",
            "\u001b[36m(train_mel_spec_model pid=3193)\u001b[0m epoch: 20, batch_id: 2, loss: 0.815457284450531\n",
            "\u001b[36m(train_mel_spec_model pid=3193)\u001b[0m epoch: 20, batch_id: 3, loss: 0.8896365165710449\n",
            "\u001b[36m(train_mel_spec_model pid=3193)\u001b[0m epoch: 20, batch_id: 4, loss: 0.6284995079040527\n",
            "\u001b[36m(train_mel_spec_model pid=3193)\u001b[0m epoch: 20, batch_id: 5, loss: 0.7841496467590332\n",
            "\u001b[36m(train_mel_spec_model pid=3193)\u001b[0m epoch: 20, batch_id: 6, loss: 0.5596709847450256\n",
            "\u001b[36m(train_mel_spec_model pid=3193)\u001b[0m epoch: 20, batch_id: 7, loss: 0.6384317874908447\n",
            "\u001b[36m(train_mel_spec_model pid=3193)\u001b[0m epoch: 20, batch_id: 8, loss: 0.7102396488189697\n",
            "\u001b[36m(train_mel_spec_model pid=3193)\u001b[0m epoch: 20, batch_id: 9, loss: 0.711111307144165\n",
            "\u001b[36m(train_mel_spec_model pid=3193)\u001b[0m epoch: 20, batch_id: 10, loss: 0.7254559993743896\n",
            "\u001b[36m(train_mel_spec_model pid=3193)\u001b[0m epoch: 20, batch_id: 11, loss: 0.6784536838531494\n",
            "\u001b[36m(train_mel_spec_model pid=3193)\u001b[0m epoch: 20, batch_id: 12, loss: 0.7749217748641968\n",
            "\u001b[36m(train_mel_spec_model pid=3193)\u001b[0m epoch: 20, batch_id: 13, loss: 0.6110086441040039\n",
            "\u001b[36m(train_mel_spec_model pid=3193)\u001b[0m epoch: 20, batch_id: 14, loss: 0.5768113136291504\n",
            "\u001b[36m(train_mel_spec_model pid=3193)\u001b[0m epoch: 20, batch_id: 15, loss: 0.7094700932502747\n",
            "\u001b[36m(train_mel_spec_model pid=3193)\u001b[0m epoch: 20, batch_id: 16, loss: 0.7705304026603699\n",
            "\u001b[36m(train_mel_spec_model pid=3193)\u001b[0m epoch: 20, batch_id: 17, loss: 0.5491324663162231\n",
            "\u001b[36m(train_mel_spec_model pid=3193)\u001b[0m epoch: 20, batch_id: 18, loss: 0.685768187046051\n",
            "\u001b[36m(train_mel_spec_model pid=3193)\u001b[0m epoch: 20, batch_id: 19, loss: 0.6311710476875305\n",
            "\u001b[36m(train_mel_spec_model pid=3193)\u001b[0m epoch: 20, batch_id: 20, loss: 0.6449409127235413\n",
            "\u001b[36m(train_mel_spec_model pid=3193)\u001b[0m epoch: 20, batch_id: 21, loss: 0.5038859844207764\n",
            "\u001b[36m(train_mel_spec_model pid=3193)\u001b[0m epoch: 20, batch_id: 22, loss: 0.7563153505325317\n"
          ]
        },
        {
          "output_type": "stream",
          "name": "stderr",
          "text": [
            "\u001b[36m(train_mel_spec_model pid=3193)\u001b[0m Checkpoint successfully created at: Checkpoint(filesystem=local, path=/root/ray_results/train_mel_spec_model_2024-04-11_03-45-31/train_mel_spec_model_f562d_00003_3_batch_size=35,l1=450,l2=10,lr=0.0004,num_epochs=35_2024-04-11_03-45-37/checkpoint_000020)\n"
          ]
        },
        {
          "output_type": "stream",
          "name": "stdout",
          "text": [
            "\u001b[36m(train_mel_spec_model pid=3193)\u001b[0m Validation Loss: 1.6315685510635376, Accuracy: 0.45454545454545453\n",
            "\u001b[36m(train_mel_spec_model pid=3193)\u001b[0m epoch: 21, batch_id: 0, loss: 0.5520560145378113\n",
            "\u001b[36m(train_mel_spec_model pid=3193)\u001b[0m epoch: 21, batch_id: 1, loss: 0.655697226524353\n",
            "\u001b[36m(train_mel_spec_model pid=3193)\u001b[0m epoch: 21, batch_id: 2, loss: 0.501836359500885\n",
            "\u001b[36m(train_mel_spec_model pid=3193)\u001b[0m epoch: 21, batch_id: 3, loss: 0.6259750127792358\n",
            "\u001b[36m(train_mel_spec_model pid=3193)\u001b[0m epoch: 21, batch_id: 4, loss: 0.7744240164756775\n",
            "\u001b[36m(train_mel_spec_model pid=3193)\u001b[0m epoch: 21, batch_id: 5, loss: 0.59307461977005\n",
            "\u001b[36m(train_mel_spec_model pid=3193)\u001b[0m epoch: 21, batch_id: 6, loss: 0.6700518727302551\n",
            "\u001b[36m(train_mel_spec_model pid=3193)\u001b[0m epoch: 21, batch_id: 7, loss: 0.5727494955062866\n",
            "\u001b[36m(train_mel_spec_model pid=3193)\u001b[0m epoch: 21, batch_id: 8, loss: 0.6122493147850037\n",
            "\u001b[36m(train_mel_spec_model pid=3193)\u001b[0m epoch: 21, batch_id: 9, loss: 0.6479955911636353\n",
            "\u001b[36m(train_mel_spec_model pid=3193)\u001b[0m epoch: 21, batch_id: 10, loss: 0.6917724609375\n",
            "\u001b[36m(train_mel_spec_model pid=3193)\u001b[0m epoch: 21, batch_id: 11, loss: 0.7522755861282349\n",
            "\u001b[36m(train_mel_spec_model pid=3193)\u001b[0m epoch: 21, batch_id: 12, loss: 0.6262689828872681\n",
            "\u001b[36m(train_mel_spec_model pid=3193)\u001b[0m epoch: 21, batch_id: 13, loss: 0.5076502561569214\n",
            "\u001b[36m(train_mel_spec_model pid=3193)\u001b[0m epoch: 21, batch_id: 14, loss: 0.7472060322761536\n",
            "\u001b[36m(train_mel_spec_model pid=3193)\u001b[0m epoch: 21, batch_id: 15, loss: 1.0639184713363647\n",
            "\u001b[36m(train_mel_spec_model pid=3193)\u001b[0m epoch: 21, batch_id: 16, loss: 0.6467682123184204\n",
            "\u001b[36m(train_mel_spec_model pid=3193)\u001b[0m epoch: 21, batch_id: 17, loss: 0.626231849193573\n",
            "\u001b[36m(train_mel_spec_model pid=3193)\u001b[0m epoch: 21, batch_id: 18, loss: 0.7015436291694641\n",
            "\u001b[36m(train_mel_spec_model pid=3193)\u001b[0m epoch: 21, batch_id: 19, loss: 0.7709360122680664\n",
            "\u001b[36m(train_mel_spec_model pid=3193)\u001b[0m epoch: 21, batch_id: 20, loss: 0.5898285508155823\n",
            "\u001b[36m(train_mel_spec_model pid=3193)\u001b[0m epoch: 21, batch_id: 21, loss: 0.5108281970024109\n",
            "\u001b[36m(train_mel_spec_model pid=3193)\u001b[0m epoch: 21, batch_id: 22, loss: 0.6171902418136597\n"
          ]
        },
        {
          "output_type": "stream",
          "name": "stderr",
          "text": [
            "\u001b[36m(train_mel_spec_model pid=3193)\u001b[0m Checkpoint successfully created at: Checkpoint(filesystem=local, path=/root/ray_results/train_mel_spec_model_2024-04-11_03-45-31/train_mel_spec_model_f562d_00003_3_batch_size=35,l1=450,l2=10,lr=0.0004,num_epochs=35_2024-04-11_03-45-37/checkpoint_000021)\n"
          ]
        },
        {
          "output_type": "stream",
          "name": "stdout",
          "text": [
            "\u001b[36m(train_mel_spec_model pid=3193)\u001b[0m Validation Loss: 1.8583968877792358, Accuracy: 0.40404040404040403\n",
            "\u001b[36m(train_mel_spec_model pid=3193)\u001b[0m epoch: 22, batch_id: 0, loss: 0.6765649318695068\n",
            "\u001b[36m(train_mel_spec_model pid=3193)\u001b[0m epoch: 22, batch_id: 1, loss: 0.5689113736152649\n",
            "\u001b[36m(train_mel_spec_model pid=3193)\u001b[0m epoch: 22, batch_id: 2, loss: 0.472123384475708\n",
            "\u001b[36m(train_mel_spec_model pid=3193)\u001b[0m epoch: 22, batch_id: 3, loss: 0.5637915730476379\n",
            "\u001b[36m(train_mel_spec_model pid=3193)\u001b[0m epoch: 22, batch_id: 4, loss: 0.5846441984176636\n",
            "\u001b[36m(train_mel_spec_model pid=3193)\u001b[0m epoch: 22, batch_id: 5, loss: 0.6454398036003113\n",
            "\u001b[36m(train_mel_spec_model pid=3193)\u001b[0m epoch: 22, batch_id: 6, loss: 0.45353248715400696\n",
            "\u001b[36m(train_mel_spec_model pid=3193)\u001b[0m epoch: 22, batch_id: 7, loss: 0.5060892105102539\n",
            "\u001b[36m(train_mel_spec_model pid=3193)\u001b[0m epoch: 22, batch_id: 8, loss: 0.48155832290649414\n",
            "\u001b[36m(train_mel_spec_model pid=3193)\u001b[0m epoch: 22, batch_id: 9, loss: 0.6845409870147705\n",
            "\u001b[36m(train_mel_spec_model pid=3193)\u001b[0m epoch: 22, batch_id: 10, loss: 0.5409039258956909\n",
            "\u001b[36m(train_mel_spec_model pid=3193)\u001b[0m epoch: 22, batch_id: 11, loss: 0.5092874765396118\n",
            "\u001b[36m(train_mel_spec_model pid=3193)\u001b[0m epoch: 22, batch_id: 12, loss: 0.5368735194206238\n",
            "\u001b[36m(train_mel_spec_model pid=3193)\u001b[0m epoch: 22, batch_id: 13, loss: 0.5733480453491211\n",
            "\u001b[36m(train_mel_spec_model pid=3193)\u001b[0m epoch: 22, batch_id: 14, loss: 0.48726731538772583\n",
            "\u001b[36m(train_mel_spec_model pid=3193)\u001b[0m epoch: 22, batch_id: 15, loss: 0.6335108876228333\n",
            "\u001b[36m(train_mel_spec_model pid=3193)\u001b[0m epoch: 22, batch_id: 16, loss: 0.534876823425293\n",
            "\u001b[36m(train_mel_spec_model pid=3193)\u001b[0m epoch: 22, batch_id: 17, loss: 0.6123383045196533\n",
            "\u001b[36m(train_mel_spec_model pid=3193)\u001b[0m epoch: 22, batch_id: 18, loss: 0.4709817171096802\n",
            "\u001b[36m(train_mel_spec_model pid=3193)\u001b[0m epoch: 22, batch_id: 19, loss: 0.38878780603408813\n",
            "\u001b[36m(train_mel_spec_model pid=3193)\u001b[0m epoch: 22, batch_id: 20, loss: 0.48073622584342957\n",
            "\u001b[36m(train_mel_spec_model pid=3193)\u001b[0m epoch: 22, batch_id: 21, loss: 0.4723193645477295\n",
            "\u001b[36m(train_mel_spec_model pid=3193)\u001b[0m epoch: 22, batch_id: 22, loss: 0.36663949489593506\n"
          ]
        },
        {
          "output_type": "stream",
          "name": "stderr",
          "text": [
            "\u001b[36m(train_mel_spec_model pid=3193)\u001b[0m Checkpoint successfully created at: Checkpoint(filesystem=local, path=/root/ray_results/train_mel_spec_model_2024-04-11_03-45-31/train_mel_spec_model_f562d_00003_3_batch_size=35,l1=450,l2=10,lr=0.0004,num_epochs=35_2024-04-11_03-45-37/checkpoint_000022)\n"
          ]
        },
        {
          "output_type": "stream",
          "name": "stdout",
          "text": [
            "\u001b[36m(train_mel_spec_model pid=3193)\u001b[0m Validation Loss: 1.6239731709162395, Accuracy: 0.43434343434343436\n",
            "\u001b[36m(train_mel_spec_model pid=3193)\u001b[0m epoch: 23, batch_id: 0, loss: 0.3642365336418152\n",
            "\u001b[36m(train_mel_spec_model pid=3193)\u001b[0m epoch: 23, batch_id: 1, loss: 0.5571508407592773\n",
            "\u001b[36m(train_mel_spec_model pid=3193)\u001b[0m epoch: 23, batch_id: 2, loss: 0.36800676584243774\n",
            "\u001b[36m(train_mel_spec_model pid=3193)\u001b[0m epoch: 23, batch_id: 3, loss: 0.449552059173584\n",
            "\u001b[36m(train_mel_spec_model pid=3193)\u001b[0m epoch: 23, batch_id: 4, loss: 0.41199198365211487\n",
            "\u001b[36m(train_mel_spec_model pid=3193)\u001b[0m epoch: 23, batch_id: 5, loss: 0.35093891620635986\n",
            "\u001b[36m(train_mel_spec_model pid=3193)\u001b[0m epoch: 23, batch_id: 6, loss: 0.49994033575057983\n",
            "\u001b[36m(train_mel_spec_model pid=3193)\u001b[0m epoch: 23, batch_id: 7, loss: 0.36384719610214233\n",
            "\u001b[36m(train_mel_spec_model pid=3193)\u001b[0m epoch: 23, batch_id: 8, loss: 0.33056706190109253\n",
            "\u001b[36m(train_mel_spec_model pid=3193)\u001b[0m epoch: 23, batch_id: 9, loss: 0.570093035697937\n",
            "\u001b[36m(train_mel_spec_model pid=3193)\u001b[0m epoch: 23, batch_id: 10, loss: 0.3962121307849884\n",
            "\u001b[36m(train_mel_spec_model pid=3193)\u001b[0m epoch: 23, batch_id: 11, loss: 0.3333898186683655\n",
            "\u001b[36m(train_mel_spec_model pid=3193)\u001b[0m epoch: 23, batch_id: 12, loss: 0.42177003622055054\n",
            "\u001b[36m(train_mel_spec_model pid=3193)\u001b[0m epoch: 23, batch_id: 13, loss: 0.49799859523773193\n",
            "\u001b[36m(train_mel_spec_model pid=3193)\u001b[0m epoch: 23, batch_id: 14, loss: 0.41924723982810974\n",
            "\u001b[36m(train_mel_spec_model pid=3193)\u001b[0m epoch: 23, batch_id: 15, loss: 0.4658906161785126\n",
            "\u001b[36m(train_mel_spec_model pid=3193)\u001b[0m epoch: 23, batch_id: 16, loss: 0.5033937096595764\n",
            "\u001b[36m(train_mel_spec_model pid=3193)\u001b[0m epoch: 23, batch_id: 17, loss: 0.5013117790222168\n",
            "\u001b[36m(train_mel_spec_model pid=3193)\u001b[0m epoch: 23, batch_id: 18, loss: 0.614886999130249\n",
            "\u001b[36m(train_mel_spec_model pid=3193)\u001b[0m epoch: 23, batch_id: 19, loss: 0.4576910436153412\n",
            "\u001b[36m(train_mel_spec_model pid=3193)\u001b[0m epoch: 23, batch_id: 20, loss: 0.29367557168006897\n",
            "\u001b[36m(train_mel_spec_model pid=3193)\u001b[0m epoch: 23, batch_id: 21, loss: 0.47771716117858887\n",
            "\u001b[36m(train_mel_spec_model pid=3193)\u001b[0m epoch: 23, batch_id: 22, loss: 0.32427480816841125\n"
          ]
        },
        {
          "output_type": "stream",
          "name": "stderr",
          "text": [
            "\u001b[36m(train_mel_spec_model pid=3193)\u001b[0m Checkpoint successfully created at: Checkpoint(filesystem=local, path=/root/ray_results/train_mel_spec_model_2024-04-11_03-45-31/train_mel_spec_model_f562d_00003_3_batch_size=35,l1=450,l2=10,lr=0.0004,num_epochs=35_2024-04-11_03-45-37/checkpoint_000023)\n"
          ]
        },
        {
          "output_type": "stream",
          "name": "stdout",
          "text": [
            "\u001b[36m(train_mel_spec_model pid=3193)\u001b[0m Validation Loss: 1.7336177428563435, Accuracy: 0.45454545454545453\n",
            "\u001b[36m(train_mel_spec_model pid=3193)\u001b[0m epoch: 24, batch_id: 0, loss: 0.3230912685394287\n",
            "\u001b[36m(train_mel_spec_model pid=3193)\u001b[0m epoch: 24, batch_id: 1, loss: 0.28211140632629395\n",
            "\u001b[36m(train_mel_spec_model pid=3193)\u001b[0m epoch: 24, batch_id: 2, loss: 0.36342811584472656\n",
            "\u001b[36m(train_mel_spec_model pid=3193)\u001b[0m epoch: 24, batch_id: 3, loss: 0.374308317899704\n",
            "\u001b[36m(train_mel_spec_model pid=3193)\u001b[0m epoch: 24, batch_id: 4, loss: 0.3932567834854126\n",
            "\u001b[36m(train_mel_spec_model pid=3193)\u001b[0m epoch: 24, batch_id: 5, loss: 0.5887157320976257\n",
            "\u001b[36m(train_mel_spec_model pid=3193)\u001b[0m epoch: 24, batch_id: 6, loss: 0.28697824478149414\n",
            "\u001b[36m(train_mel_spec_model pid=3193)\u001b[0m epoch: 24, batch_id: 7, loss: 0.40039896965026855\n",
            "\u001b[36m(train_mel_spec_model pid=3193)\u001b[0m epoch: 24, batch_id: 8, loss: 0.36955326795578003\n",
            "\u001b[36m(train_mel_spec_model pid=3193)\u001b[0m epoch: 24, batch_id: 9, loss: 0.26795515418052673\n",
            "\u001b[36m(train_mel_spec_model pid=3193)\u001b[0m epoch: 24, batch_id: 10, loss: 0.4553527235984802\n",
            "\u001b[36m(train_mel_spec_model pid=3193)\u001b[0m epoch: 24, batch_id: 11, loss: 0.36177125573158264\n",
            "\u001b[36m(train_mel_spec_model pid=3193)\u001b[0m epoch: 24, batch_id: 12, loss: 0.2772437334060669\n",
            "\u001b[36m(train_mel_spec_model pid=3193)\u001b[0m epoch: 24, batch_id: 13, loss: 0.3089086413383484\n",
            "\u001b[36m(train_mel_spec_model pid=3193)\u001b[0m epoch: 24, batch_id: 14, loss: 0.34108373522758484\n",
            "\u001b[36m(train_mel_spec_model pid=3193)\u001b[0m epoch: 24, batch_id: 15, loss: 0.464095801115036\n",
            "\u001b[36m(train_mel_spec_model pid=3193)\u001b[0m epoch: 24, batch_id: 16, loss: 0.31355994939804077\n",
            "\u001b[36m(train_mel_spec_model pid=3193)\u001b[0m epoch: 24, batch_id: 17, loss: 0.34890928864479065\n",
            "\u001b[36m(train_mel_spec_model pid=3193)\u001b[0m epoch: 24, batch_id: 18, loss: 0.2739429473876953\n",
            "\u001b[36m(train_mel_spec_model pid=3193)\u001b[0m epoch: 24, batch_id: 19, loss: 0.3548174202442169\n",
            "\u001b[36m(train_mel_spec_model pid=3193)\u001b[0m epoch: 24, batch_id: 20, loss: 0.33262795209884644\n",
            "\u001b[36m(train_mel_spec_model pid=3193)\u001b[0m epoch: 24, batch_id: 21, loss: 0.3149644434452057\n",
            "\u001b[36m(train_mel_spec_model pid=3193)\u001b[0m epoch: 24, batch_id: 22, loss: 0.4659036099910736\n"
          ]
        },
        {
          "output_type": "stream",
          "name": "stderr",
          "text": [
            "\u001b[36m(train_mel_spec_model pid=3193)\u001b[0m Checkpoint successfully created at: Checkpoint(filesystem=local, path=/root/ray_results/train_mel_spec_model_2024-04-11_03-45-31/train_mel_spec_model_f562d_00003_3_batch_size=35,l1=450,l2=10,lr=0.0004,num_epochs=35_2024-04-11_03-45-37/checkpoint_000024)\n"
          ]
        },
        {
          "output_type": "stream",
          "name": "stdout",
          "text": [
            "\u001b[36m(train_mel_spec_model pid=3193)\u001b[0m Validation Loss: 1.7277035315831502, Accuracy: 0.41414141414141414\n",
            "\u001b[36m(train_mel_spec_model pid=3193)\u001b[0m epoch: 25, batch_id: 0, loss: 0.30840763449668884\n",
            "\u001b[36m(train_mel_spec_model pid=3193)\u001b[0m epoch: 25, batch_id: 1, loss: 0.2613966166973114\n",
            "\u001b[36m(train_mel_spec_model pid=3193)\u001b[0m epoch: 25, batch_id: 2, loss: 0.5947425365447998\n",
            "\u001b[36m(train_mel_spec_model pid=3193)\u001b[0m epoch: 25, batch_id: 3, loss: 0.5023335218429565\n",
            "\u001b[36m(train_mel_spec_model pid=3193)\u001b[0m epoch: 25, batch_id: 4, loss: 0.3032301664352417\n",
            "\u001b[36m(train_mel_spec_model pid=3193)\u001b[0m epoch: 25, batch_id: 5, loss: 0.43869107961654663\n",
            "\u001b[36m(train_mel_spec_model pid=3193)\u001b[0m epoch: 25, batch_id: 6, loss: 0.41371870040893555\n",
            "\u001b[36m(train_mel_spec_model pid=3193)\u001b[0m epoch: 25, batch_id: 7, loss: 0.42653995752334595\n",
            "\u001b[36m(train_mel_spec_model pid=3193)\u001b[0m epoch: 25, batch_id: 8, loss: 0.33841267228126526\n",
            "\u001b[36m(train_mel_spec_model pid=3193)\u001b[0m epoch: 25, batch_id: 9, loss: 0.2590983510017395\n",
            "\u001b[36m(train_mel_spec_model pid=3193)\u001b[0m epoch: 25, batch_id: 10, loss: 0.337431937456131\n",
            "\u001b[36m(train_mel_spec_model pid=3193)\u001b[0m epoch: 25, batch_id: 11, loss: 0.34687885642051697\n",
            "\u001b[36m(train_mel_spec_model pid=3193)\u001b[0m epoch: 25, batch_id: 12, loss: 0.2603689134120941\n",
            "\u001b[36m(train_mel_spec_model pid=3193)\u001b[0m epoch: 25, batch_id: 13, loss: 0.34164488315582275\n",
            "\u001b[36m(train_mel_spec_model pid=3193)\u001b[0m epoch: 25, batch_id: 14, loss: 0.440432071685791\n",
            "\u001b[36m(train_mel_spec_model pid=3193)\u001b[0m epoch: 25, batch_id: 15, loss: 0.3624435067176819\n",
            "\u001b[36m(train_mel_spec_model pid=3193)\u001b[0m epoch: 25, batch_id: 16, loss: 0.42090487480163574\n",
            "\u001b[36m(train_mel_spec_model pid=3193)\u001b[0m epoch: 25, batch_id: 17, loss: 0.38814201951026917\n",
            "\u001b[36m(train_mel_spec_model pid=3193)\u001b[0m epoch: 25, batch_id: 18, loss: 0.3407489061355591\n",
            "\u001b[36m(train_mel_spec_model pid=3193)\u001b[0m epoch: 25, batch_id: 19, loss: 0.41893818974494934\n",
            "Trial status: 3 TERMINATED | 1 RUNNING | 1 PENDING\n",
            "Current time: 2024-04-11 03:53:08. Total running time: 7min 30s\n",
            "Logical resource usage: 2.0/2 CPUs, 1.0/1 GPUs (0.0/1.0 accelerator_type:T4)\n",
            "Current best trial: f562d_00000 with loss=1.4953934252262115 and params={'l1': 550, 'l2': 15, 'lr': 0.00019002025558777404, 'batch_size': 30, 'num_epochs': 35}\n",
            "+------------------------------------------------------------------------------------------------------------------------------------------------------------+\n",
            "| Trial name                         status         l1     l2            lr     batch_size     num_epochs     iter     total time (s)      loss     accuracy |\n",
            "+------------------------------------------------------------------------------------------------------------------------------------------------------------+\n",
            "| train_mel_spec_model_f562d_00003   RUNNING       450     10   0.000373188             35             35       25            65.3547   1.7277     0.414141  |\n",
            "| train_mel_spec_model_f562d_00000   TERMINATED    550     15   0.00019002              30             35       35           220.054    1.49539    0.525253  |\n",
            "| train_mel_spec_model_f562d_00001   TERMINATED    700      5   0.0185484               45             35       20            65.1919   2.30768    0.0808081 |\n",
            "| train_mel_spec_model_f562d_00002   TERMINATED    950     10   0.0017086               30             25       20            73.074    2.31715    0.0808081 |\n",
            "| train_mel_spec_model_f562d_00004   PENDING       800     10   0.00014823               5             35                                                    |\n",
            "+------------------------------------------------------------------------------------------------------------------------------------------------------------+\n",
            "\u001b[36m(train_mel_spec_model pid=3193)\u001b[0m epoch: 25, batch_id: 20, loss: 0.21471774578094482\n",
            "\u001b[36m(train_mel_spec_model pid=3193)\u001b[0m epoch: 25, batch_id: 21, loss: 0.2773139774799347\n",
            "\u001b[36m(train_mel_spec_model pid=3193)\u001b[0m epoch: 25, batch_id: 22, loss: 0.2832827866077423\n"
          ]
        },
        {
          "output_type": "stream",
          "name": "stderr",
          "text": [
            "\u001b[36m(train_mel_spec_model pid=3193)\u001b[0m Checkpoint successfully created at: Checkpoint(filesystem=local, path=/root/ray_results/train_mel_spec_model_2024-04-11_03-45-31/train_mel_spec_model_f562d_00003_3_batch_size=35,l1=450,l2=10,lr=0.0004,num_epochs=35_2024-04-11_03-45-37/checkpoint_000025)\n"
          ]
        },
        {
          "output_type": "stream",
          "name": "stdout",
          "text": [
            "\u001b[36m(train_mel_spec_model pid=3193)\u001b[0m Validation Loss: 1.9009424845377605, Accuracy: 0.42424242424242425\n",
            "\u001b[36m(train_mel_spec_model pid=3193)\u001b[0m epoch: 26, batch_id: 0, loss: 0.3460085391998291\n",
            "\u001b[36m(train_mel_spec_model pid=3193)\u001b[0m epoch: 26, batch_id: 1, loss: 0.4932653605937958\n",
            "\u001b[36m(train_mel_spec_model pid=3193)\u001b[0m epoch: 26, batch_id: 2, loss: 0.25479593873023987\n",
            "\u001b[36m(train_mel_spec_model pid=3193)\u001b[0m epoch: 26, batch_id: 3, loss: 0.16098596155643463\n",
            "\u001b[36m(train_mel_spec_model pid=3193)\u001b[0m epoch: 26, batch_id: 4, loss: 0.38902223110198975\n",
            "\u001b[36m(train_mel_spec_model pid=3193)\u001b[0m epoch: 26, batch_id: 5, loss: 0.3254513740539551\n",
            "\u001b[36m(train_mel_spec_model pid=3193)\u001b[0m epoch: 26, batch_id: 6, loss: 0.2901872396469116\n",
            "\u001b[36m(train_mel_spec_model pid=3193)\u001b[0m epoch: 26, batch_id: 7, loss: 0.21519622206687927\n",
            "\u001b[36m(train_mel_spec_model pid=3193)\u001b[0m epoch: 26, batch_id: 8, loss: 0.42725515365600586\n",
            "\u001b[36m(train_mel_spec_model pid=3193)\u001b[0m epoch: 26, batch_id: 9, loss: 0.222892627120018\n",
            "\u001b[36m(train_mel_spec_model pid=3193)\u001b[0m epoch: 26, batch_id: 10, loss: 0.2603021562099457\n",
            "\u001b[36m(train_mel_spec_model pid=3193)\u001b[0m epoch: 26, batch_id: 11, loss: 0.2884555459022522\n",
            "\u001b[36m(train_mel_spec_model pid=3193)\u001b[0m epoch: 26, batch_id: 12, loss: 0.23059305548667908\n",
            "\u001b[36m(train_mel_spec_model pid=3193)\u001b[0m epoch: 26, batch_id: 13, loss: 0.1666480451822281\n",
            "\u001b[36m(train_mel_spec_model pid=3193)\u001b[0m epoch: 26, batch_id: 14, loss: 0.3477392792701721\n",
            "\u001b[36m(train_mel_spec_model pid=3193)\u001b[0m epoch: 26, batch_id: 15, loss: 0.18611836433410645\n",
            "\u001b[36m(train_mel_spec_model pid=3193)\u001b[0m epoch: 26, batch_id: 16, loss: 0.24086211621761322\n",
            "\u001b[36m(train_mel_spec_model pid=3193)\u001b[0m epoch: 26, batch_id: 17, loss: 0.3681083023548126\n",
            "\u001b[36m(train_mel_spec_model pid=3193)\u001b[0m epoch: 26, batch_id: 18, loss: 0.18374043703079224\n",
            "\u001b[36m(train_mel_spec_model pid=3193)\u001b[0m epoch: 26, batch_id: 19, loss: 0.15128755569458008\n",
            "\u001b[36m(train_mel_spec_model pid=3193)\u001b[0m epoch: 26, batch_id: 20, loss: 0.448745995759964\n",
            "\u001b[36m(train_mel_spec_model pid=3193)\u001b[0m epoch: 26, batch_id: 21, loss: 0.2805318832397461\n",
            "\u001b[36m(train_mel_spec_model pid=3193)\u001b[0m epoch: 26, batch_id: 22, loss: 0.2864374816417694\n"
          ]
        },
        {
          "output_type": "stream",
          "name": "stderr",
          "text": [
            "\u001b[36m(train_mel_spec_model pid=3193)\u001b[0m Checkpoint successfully created at: Checkpoint(filesystem=local, path=/root/ray_results/train_mel_spec_model_2024-04-11_03-45-31/train_mel_spec_model_f562d_00003_3_batch_size=35,l1=450,l2=10,lr=0.0004,num_epochs=35_2024-04-11_03-45-37/checkpoint_000026)\n"
          ]
        },
        {
          "output_type": "stream",
          "name": "stdout",
          "text": [
            "\u001b[36m(train_mel_spec_model pid=3193)\u001b[0m Validation Loss: 1.9194234609603882, Accuracy: 0.46464646464646464\n",
            "\u001b[36m(train_mel_spec_model pid=3193)\u001b[0m epoch: 27, batch_id: 0, loss: 0.20186704397201538\n",
            "\u001b[36m(train_mel_spec_model pid=3193)\u001b[0m epoch: 27, batch_id: 1, loss: 0.36012688279151917\n",
            "\u001b[36m(train_mel_spec_model pid=3193)\u001b[0m epoch: 27, batch_id: 2, loss: 0.3152046799659729\n",
            "\u001b[36m(train_mel_spec_model pid=3193)\u001b[0m epoch: 27, batch_id: 3, loss: 0.19710056483745575\n",
            "\u001b[36m(train_mel_spec_model pid=3193)\u001b[0m epoch: 27, batch_id: 4, loss: 0.16828913986682892\n",
            "\u001b[36m(train_mel_spec_model pid=3193)\u001b[0m epoch: 27, batch_id: 5, loss: 0.20098671317100525\n",
            "\u001b[36m(train_mel_spec_model pid=3193)\u001b[0m epoch: 27, batch_id: 6, loss: 0.1641586869955063\n",
            "\u001b[36m(train_mel_spec_model pid=3193)\u001b[0m epoch: 27, batch_id: 7, loss: 0.307814359664917\n",
            "\u001b[36m(train_mel_spec_model pid=3193)\u001b[0m epoch: 27, batch_id: 8, loss: 0.25671470165252686\n",
            "\u001b[36m(train_mel_spec_model pid=3193)\u001b[0m epoch: 27, batch_id: 9, loss: 0.18157489597797394\n",
            "\u001b[36m(train_mel_spec_model pid=3193)\u001b[0m epoch: 27, batch_id: 10, loss: 0.21015508472919464\n",
            "\u001b[36m(train_mel_spec_model pid=3193)\u001b[0m epoch: 27, batch_id: 11, loss: 0.2726516127586365\n",
            "\u001b[36m(train_mel_spec_model pid=3193)\u001b[0m epoch: 27, batch_id: 12, loss: 0.16702525317668915\n",
            "\u001b[36m(train_mel_spec_model pid=3193)\u001b[0m epoch: 27, batch_id: 13, loss: 0.22311905026435852\n",
            "\u001b[36m(train_mel_spec_model pid=3193)\u001b[0m epoch: 27, batch_id: 14, loss: 0.34864214062690735\n",
            "\u001b[36m(train_mel_spec_model pid=3193)\u001b[0m epoch: 27, batch_id: 15, loss: 0.23984333872795105\n",
            "\u001b[36m(train_mel_spec_model pid=3193)\u001b[0m epoch: 27, batch_id: 16, loss: 0.27057334780693054\n",
            "\u001b[36m(train_mel_spec_model pid=3193)\u001b[0m epoch: 27, batch_id: 17, loss: 0.22821466624736786\n",
            "\u001b[36m(train_mel_spec_model pid=3193)\u001b[0m epoch: 27, batch_id: 18, loss: 0.16020983457565308\n",
            "\u001b[36m(train_mel_spec_model pid=3193)\u001b[0m epoch: 27, batch_id: 19, loss: 0.20841805636882782\n",
            "\u001b[36m(train_mel_spec_model pid=3193)\u001b[0m epoch: 27, batch_id: 20, loss: 0.10310152173042297\n",
            "\u001b[36m(train_mel_spec_model pid=3193)\u001b[0m epoch: 27, batch_id: 21, loss: 0.33260786533355713\n",
            "\u001b[36m(train_mel_spec_model pid=3193)\u001b[0m epoch: 27, batch_id: 22, loss: 0.12892727553844452\n"
          ]
        },
        {
          "output_type": "stream",
          "name": "stderr",
          "text": [
            "\u001b[36m(train_mel_spec_model pid=3193)\u001b[0m Checkpoint successfully created at: Checkpoint(filesystem=local, path=/root/ray_results/train_mel_spec_model_2024-04-11_03-45-31/train_mel_spec_model_f562d_00003_3_batch_size=35,l1=450,l2=10,lr=0.0004,num_epochs=35_2024-04-11_03-45-37/checkpoint_000027)\n"
          ]
        },
        {
          "output_type": "stream",
          "name": "stdout",
          "text": [
            "\u001b[36m(train_mel_spec_model pid=3193)\u001b[0m Validation Loss: 1.8143226305643718, Accuracy: 0.47474747474747475\n",
            "\u001b[36m(train_mel_spec_model pid=3193)\u001b[0m epoch: 28, batch_id: 0, loss: 0.14924456179141998\n",
            "\u001b[36m(train_mel_spec_model pid=3193)\u001b[0m epoch: 28, batch_id: 1, loss: 0.15685585141181946\n",
            "\u001b[36m(train_mel_spec_model pid=3193)\u001b[0m epoch: 28, batch_id: 2, loss: 0.13738109171390533\n",
            "\u001b[36m(train_mel_spec_model pid=3193)\u001b[0m epoch: 28, batch_id: 3, loss: 0.2021377831697464\n",
            "\u001b[36m(train_mel_spec_model pid=3193)\u001b[0m epoch: 28, batch_id: 4, loss: 0.15787245333194733\n",
            "\u001b[36m(train_mel_spec_model pid=3193)\u001b[0m epoch: 28, batch_id: 5, loss: 0.15652814507484436\n",
            "\u001b[36m(train_mel_spec_model pid=3193)\u001b[0m epoch: 28, batch_id: 6, loss: 0.15889568626880646\n",
            "\u001b[36m(train_mel_spec_model pid=3193)\u001b[0m epoch: 28, batch_id: 7, loss: 0.2244877964258194\n",
            "\u001b[36m(train_mel_spec_model pid=3193)\u001b[0m epoch: 28, batch_id: 8, loss: 0.237400621175766\n",
            "\u001b[36m(train_mel_spec_model pid=3193)\u001b[0m epoch: 28, batch_id: 9, loss: 0.1914048194885254\n",
            "\u001b[36m(train_mel_spec_model pid=3193)\u001b[0m epoch: 28, batch_id: 10, loss: 0.23870187997817993\n",
            "\u001b[36m(train_mel_spec_model pid=3193)\u001b[0m epoch: 28, batch_id: 11, loss: 0.17421980202198029\n",
            "\u001b[36m(train_mel_spec_model pid=3193)\u001b[0m epoch: 28, batch_id: 12, loss: 0.15879014134407043\n",
            "\u001b[36m(train_mel_spec_model pid=3193)\u001b[0m epoch: 28, batch_id: 13, loss: 0.17488472163677216\n",
            "\u001b[36m(train_mel_spec_model pid=3193)\u001b[0m epoch: 28, batch_id: 14, loss: 0.14401279389858246\n",
            "\u001b[36m(train_mel_spec_model pid=3193)\u001b[0m epoch: 28, batch_id: 15, loss: 0.1288788914680481\n",
            "\u001b[36m(train_mel_spec_model pid=3193)\u001b[0m epoch: 28, batch_id: 16, loss: 0.1050606444478035\n",
            "\u001b[36m(train_mel_spec_model pid=3193)\u001b[0m epoch: 28, batch_id: 17, loss: 0.16715337336063385\n",
            "\u001b[36m(train_mel_spec_model pid=3193)\u001b[0m epoch: 28, batch_id: 18, loss: 0.15916109085083008\n",
            "\u001b[36m(train_mel_spec_model pid=3193)\u001b[0m epoch: 28, batch_id: 19, loss: 0.12451452761888504\n",
            "\u001b[36m(train_mel_spec_model pid=3193)\u001b[0m epoch: 28, batch_id: 20, loss: 0.35672739148139954\n",
            "\u001b[36m(train_mel_spec_model pid=3193)\u001b[0m epoch: 28, batch_id: 21, loss: 0.19590619206428528\n",
            "\u001b[36m(train_mel_spec_model pid=3193)\u001b[0m epoch: 28, batch_id: 22, loss: 0.22157175838947296\n"
          ]
        },
        {
          "output_type": "stream",
          "name": "stderr",
          "text": [
            "\u001b[36m(train_mel_spec_model pid=3193)\u001b[0m Checkpoint successfully created at: Checkpoint(filesystem=local, path=/root/ray_results/train_mel_spec_model_2024-04-11_03-45-31/train_mel_spec_model_f562d_00003_3_batch_size=35,l1=450,l2=10,lr=0.0004,num_epochs=35_2024-04-11_03-45-37/checkpoint_000028)\n"
          ]
        },
        {
          "output_type": "stream",
          "name": "stdout",
          "text": [
            "\u001b[36m(train_mel_spec_model pid=3193)\u001b[0m Validation Loss: 1.765577793121338, Accuracy: 0.5050505050505051\n",
            "\u001b[36m(train_mel_spec_model pid=3193)\u001b[0m epoch: 29, batch_id: 0, loss: 0.09423656016588211\n",
            "\u001b[36m(train_mel_spec_model pid=3193)\u001b[0m epoch: 29, batch_id: 1, loss: 0.1232123076915741\n",
            "\u001b[36m(train_mel_spec_model pid=3193)\u001b[0m epoch: 29, batch_id: 2, loss: 0.18867933750152588\n",
            "\u001b[36m(train_mel_spec_model pid=3193)\u001b[0m epoch: 29, batch_id: 3, loss: 0.15981325507164001\n",
            "\u001b[36m(train_mel_spec_model pid=3193)\u001b[0m epoch: 29, batch_id: 4, loss: 0.11843115836381912\n",
            "\u001b[36m(train_mel_spec_model pid=3193)\u001b[0m epoch: 29, batch_id: 5, loss: 0.10296487808227539\n",
            "\u001b[36m(train_mel_spec_model pid=3193)\u001b[0m epoch: 29, batch_id: 6, loss: 0.227882519364357\n",
            "\u001b[36m(train_mel_spec_model pid=3193)\u001b[0m epoch: 29, batch_id: 7, loss: 0.09535307437181473\n",
            "\u001b[36m(train_mel_spec_model pid=3193)\u001b[0m epoch: 29, batch_id: 8, loss: 0.12455136328935623\n",
            "\u001b[36m(train_mel_spec_model pid=3193)\u001b[0m epoch: 29, batch_id: 9, loss: 0.11099787801504135\n",
            "\u001b[36m(train_mel_spec_model pid=3193)\u001b[0m epoch: 29, batch_id: 10, loss: 0.08553119748830795\n",
            "\u001b[36m(train_mel_spec_model pid=3193)\u001b[0m epoch: 29, batch_id: 11, loss: 0.14323341846466064\n",
            "\u001b[36m(train_mel_spec_model pid=3193)\u001b[0m epoch: 29, batch_id: 12, loss: 0.20085278153419495\n",
            "\u001b[36m(train_mel_spec_model pid=3193)\u001b[0m epoch: 29, batch_id: 13, loss: 0.10541471093893051\n",
            "\u001b[36m(train_mel_spec_model pid=3193)\u001b[0m epoch: 29, batch_id: 14, loss: 0.18159787356853485\n",
            "\u001b[36m(train_mel_spec_model pid=3193)\u001b[0m epoch: 29, batch_id: 15, loss: 0.10229982435703278\n",
            "\u001b[36m(train_mel_spec_model pid=3193)\u001b[0m epoch: 29, batch_id: 16, loss: 0.16123127937316895\n",
            "\u001b[36m(train_mel_spec_model pid=3193)\u001b[0m epoch: 29, batch_id: 17, loss: 0.1036544069647789\n",
            "\u001b[36m(train_mel_spec_model pid=3193)\u001b[0m epoch: 29, batch_id: 18, loss: 0.11368962377309799\n",
            "\u001b[36m(train_mel_spec_model pid=3193)\u001b[0m epoch: 29, batch_id: 19, loss: 0.15255962312221527\n",
            "\u001b[36m(train_mel_spec_model pid=3193)\u001b[0m epoch: 29, batch_id: 20, loss: 0.12248777598142624\n",
            "\u001b[36m(train_mel_spec_model pid=3193)\u001b[0m epoch: 29, batch_id: 21, loss: 0.17546145617961884\n",
            "\u001b[36m(train_mel_spec_model pid=3193)\u001b[0m epoch: 29, batch_id: 22, loss: 0.1444283425807953\n"
          ]
        },
        {
          "output_type": "stream",
          "name": "stderr",
          "text": [
            "\u001b[36m(train_mel_spec_model pid=3193)\u001b[0m Checkpoint successfully created at: Checkpoint(filesystem=local, path=/root/ray_results/train_mel_spec_model_2024-04-11_03-45-31/train_mel_spec_model_f562d_00003_3_batch_size=35,l1=450,l2=10,lr=0.0004,num_epochs=35_2024-04-11_03-45-37/checkpoint_000029)\n"
          ]
        },
        {
          "output_type": "stream",
          "name": "stdout",
          "text": [
            "\u001b[36m(train_mel_spec_model pid=3193)\u001b[0m Validation Loss: 1.7628663380940754, Accuracy: 0.5353535353535354\n",
            "\u001b[36m(train_mel_spec_model pid=3193)\u001b[0m epoch: 30, batch_id: 0, loss: 0.13742609322071075\n",
            "\u001b[36m(train_mel_spec_model pid=3193)\u001b[0m epoch: 30, batch_id: 1, loss: 0.08591684699058533\n",
            "\u001b[36m(train_mel_spec_model pid=3193)\u001b[0m epoch: 30, batch_id: 2, loss: 0.0860065370798111\n",
            "\u001b[36m(train_mel_spec_model pid=3193)\u001b[0m epoch: 30, batch_id: 3, loss: 0.08635217696428299\n",
            "\u001b[36m(train_mel_spec_model pid=3193)\u001b[0m epoch: 30, batch_id: 4, loss: 0.18492460250854492\n",
            "\u001b[36m(train_mel_spec_model pid=3193)\u001b[0m epoch: 30, batch_id: 5, loss: 0.12969784438610077\n",
            "\u001b[36m(train_mel_spec_model pid=3193)\u001b[0m epoch: 30, batch_id: 6, loss: 0.11161891371011734\n",
            "\u001b[36m(train_mel_spec_model pid=3193)\u001b[0m epoch: 30, batch_id: 7, loss: 0.08033008128404617\n",
            "\u001b[36m(train_mel_spec_model pid=3193)\u001b[0m epoch: 30, batch_id: 8, loss: 0.09507758170366287\n",
            "\u001b[36m(train_mel_spec_model pid=3193)\u001b[0m epoch: 30, batch_id: 9, loss: 0.14149592816829681\n",
            "\u001b[36m(train_mel_spec_model pid=3193)\u001b[0m epoch: 30, batch_id: 10, loss: 0.0955314040184021\n",
            "\u001b[36m(train_mel_spec_model pid=3193)\u001b[0m epoch: 30, batch_id: 11, loss: 0.12295009195804596\n",
            "\u001b[36m(train_mel_spec_model pid=3193)\u001b[0m epoch: 30, batch_id: 12, loss: 0.08443642407655716\n",
            "\u001b[36m(train_mel_spec_model pid=3193)\u001b[0m epoch: 30, batch_id: 13, loss: 0.09106115251779556\n",
            "\u001b[36m(train_mel_spec_model pid=3193)\u001b[0m epoch: 30, batch_id: 14, loss: 0.12311828136444092\n",
            "\u001b[36m(train_mel_spec_model pid=3193)\u001b[0m epoch: 30, batch_id: 15, loss: 0.14499609172344208\n",
            "\u001b[36m(train_mel_spec_model pid=3193)\u001b[0m epoch: 30, batch_id: 16, loss: 0.08036761730909348\n",
            "\u001b[36m(train_mel_spec_model pid=3193)\u001b[0m epoch: 30, batch_id: 17, loss: 0.08048080652952194\n",
            "\u001b[36m(train_mel_spec_model pid=3193)\u001b[0m epoch: 30, batch_id: 18, loss: 0.0758279487490654\n",
            "\u001b[36m(train_mel_spec_model pid=3193)\u001b[0m epoch: 30, batch_id: 19, loss: 0.16571666300296783\n",
            "\u001b[36m(train_mel_spec_model pid=3193)\u001b[0m epoch: 30, batch_id: 20, loss: 0.07605832070112228\n",
            "\u001b[36m(train_mel_spec_model pid=3193)\u001b[0m epoch: 30, batch_id: 21, loss: 0.09063635021448135\n",
            "\u001b[36m(train_mel_spec_model pid=3193)\u001b[0m epoch: 30, batch_id: 22, loss: 0.16946974396705627\n"
          ]
        },
        {
          "output_type": "stream",
          "name": "stderr",
          "text": [
            "\u001b[36m(train_mel_spec_model pid=3193)\u001b[0m Checkpoint successfully created at: Checkpoint(filesystem=local, path=/root/ray_results/train_mel_spec_model_2024-04-11_03-45-31/train_mel_spec_model_f562d_00003_3_batch_size=35,l1=450,l2=10,lr=0.0004,num_epochs=35_2024-04-11_03-45-37/checkpoint_000030)\n"
          ]
        },
        {
          "output_type": "stream",
          "name": "stdout",
          "text": [
            "\u001b[36m(train_mel_spec_model pid=3193)\u001b[0m Validation Loss: 1.8110984563827515, Accuracy: 0.5353535353535354\n",
            "\u001b[36m(train_mel_spec_model pid=3193)\u001b[0m epoch: 31, batch_id: 0, loss: 0.136514812707901\n",
            "\u001b[36m(train_mel_spec_model pid=3193)\u001b[0m epoch: 31, batch_id: 1, loss: 0.0662078857421875\n",
            "\u001b[36m(train_mel_spec_model pid=3193)\u001b[0m epoch: 31, batch_id: 2, loss: 0.12518076598644257\n",
            "\u001b[36m(train_mel_spec_model pid=3193)\u001b[0m epoch: 31, batch_id: 3, loss: 0.11936794221401215\n",
            "\u001b[36m(train_mel_spec_model pid=3193)\u001b[0m epoch: 31, batch_id: 4, loss: 0.09367086738348007\n",
            "\u001b[36m(train_mel_spec_model pid=3193)\u001b[0m epoch: 31, batch_id: 5, loss: 0.09663192927837372\n",
            "\u001b[36m(train_mel_spec_model pid=3193)\u001b[0m epoch: 31, batch_id: 6, loss: 0.07374381273984909\n",
            "\u001b[36m(train_mel_spec_model pid=3193)\u001b[0m epoch: 31, batch_id: 7, loss: 0.1282964050769806\n",
            "\u001b[36m(train_mel_spec_model pid=3193)\u001b[0m epoch: 31, batch_id: 8, loss: 0.06411970406770706\n",
            "\u001b[36m(train_mel_spec_model pid=3193)\u001b[0m epoch: 31, batch_id: 9, loss: 0.09198329597711563\n",
            "\u001b[36m(train_mel_spec_model pid=3193)\u001b[0m epoch: 31, batch_id: 10, loss: 0.0921359434723854\n",
            "\u001b[36m(train_mel_spec_model pid=3193)\u001b[0m epoch: 31, batch_id: 11, loss: 0.05807963013648987\n",
            "\u001b[36m(train_mel_spec_model pid=3193)\u001b[0m epoch: 31, batch_id: 12, loss: 0.0684676319360733\n",
            "\u001b[36m(train_mel_spec_model pid=3193)\u001b[0m epoch: 31, batch_id: 13, loss: 0.1326833814382553\n",
            "\u001b[36m(train_mel_spec_model pid=3193)\u001b[0m epoch: 31, batch_id: 14, loss: 0.05883747339248657\n",
            "\u001b[36m(train_mel_spec_model pid=3193)\u001b[0m epoch: 31, batch_id: 15, loss: 0.04578004404902458\n",
            "\u001b[36m(train_mel_spec_model pid=3193)\u001b[0m epoch: 31, batch_id: 16, loss: 0.11087080091238022\n",
            "\u001b[36m(train_mel_spec_model pid=3193)\u001b[0m epoch: 31, batch_id: 17, loss: 0.07714159786701202\n",
            "\u001b[36m(train_mel_spec_model pid=3193)\u001b[0m epoch: 31, batch_id: 18, loss: 0.0829302966594696\n",
            "\u001b[36m(train_mel_spec_model pid=3193)\u001b[0m epoch: 31, batch_id: 19, loss: 0.09907946735620499\n",
            "\u001b[36m(train_mel_spec_model pid=3193)\u001b[0m epoch: 31, batch_id: 20, loss: 0.09190332144498825\n",
            "\u001b[36m(train_mel_spec_model pid=3193)\u001b[0m epoch: 31, batch_id: 21, loss: 0.1138077899813652\n",
            "\u001b[36m(train_mel_spec_model pid=3193)\u001b[0m epoch: 31, batch_id: 22, loss: 0.12241019308567047\n"
          ]
        },
        {
          "output_type": "stream",
          "name": "stderr",
          "text": [
            "\u001b[36m(train_mel_spec_model pid=3193)\u001b[0m Checkpoint successfully created at: Checkpoint(filesystem=local, path=/root/ray_results/train_mel_spec_model_2024-04-11_03-45-31/train_mel_spec_model_f562d_00003_3_batch_size=35,l1=450,l2=10,lr=0.0004,num_epochs=35_2024-04-11_03-45-37/checkpoint_000031)\n"
          ]
        },
        {
          "output_type": "stream",
          "name": "stdout",
          "text": [
            "\u001b[36m(train_mel_spec_model pid=3193)\u001b[0m Validation Loss: 1.8512545029322307, Accuracy: 0.5555555555555556\n",
            "\u001b[36m(train_mel_spec_model pid=3193)\u001b[0m epoch: 32, batch_id: 0, loss: 0.07999544590711594\n",
            "\u001b[36m(train_mel_spec_model pid=3193)\u001b[0m epoch: 32, batch_id: 1, loss: 0.07433901727199554\n",
            "\u001b[36m(train_mel_spec_model pid=3193)\u001b[0m epoch: 32, batch_id: 2, loss: 0.09593657404184341\n",
            "\u001b[36m(train_mel_spec_model pid=3193)\u001b[0m epoch: 32, batch_id: 3, loss: 0.043648459017276764\n",
            "\u001b[36m(train_mel_spec_model pid=3193)\u001b[0m epoch: 32, batch_id: 4, loss: 0.09551623463630676\n",
            "\u001b[36m(train_mel_spec_model pid=3193)\u001b[0m epoch: 32, batch_id: 5, loss: 0.06425631791353226\n",
            "\u001b[36m(train_mel_spec_model pid=3193)\u001b[0m epoch: 32, batch_id: 6, loss: 0.05042979493737221\n",
            "\u001b[36m(train_mel_spec_model pid=3193)\u001b[0m epoch: 32, batch_id: 7, loss: 0.057539183646440506\n",
            "\u001b[36m(train_mel_spec_model pid=3193)\u001b[0m epoch: 32, batch_id: 8, loss: 0.10219527781009674\n",
            "\u001b[36m(train_mel_spec_model pid=3193)\u001b[0m epoch: 32, batch_id: 9, loss: 0.04995868727564812\n",
            "\u001b[36m(train_mel_spec_model pid=3193)\u001b[0m epoch: 32, batch_id: 10, loss: 0.056364331394433975\n",
            "\u001b[36m(train_mel_spec_model pid=3193)\u001b[0m epoch: 32, batch_id: 11, loss: 0.05998970940709114\n",
            "\u001b[36m(train_mel_spec_model pid=3193)\u001b[0m epoch: 32, batch_id: 12, loss: 0.09826428443193436\n",
            "\u001b[36m(train_mel_spec_model pid=3193)\u001b[0m epoch: 32, batch_id: 13, loss: 0.05795254558324814\n",
            "\u001b[36m(train_mel_spec_model pid=3193)\u001b[0m epoch: 32, batch_id: 14, loss: 0.07577092945575714\n",
            "\u001b[36m(train_mel_spec_model pid=3193)\u001b[0m epoch: 32, batch_id: 15, loss: 0.06781961768865585\n",
            "\u001b[36m(train_mel_spec_model pid=3193)\u001b[0m epoch: 32, batch_id: 16, loss: 0.06093192845582962\n",
            "\u001b[36m(train_mel_spec_model pid=3193)\u001b[0m epoch: 32, batch_id: 17, loss: 0.05160369351506233\n",
            "\u001b[36m(train_mel_spec_model pid=3193)\u001b[0m epoch: 32, batch_id: 18, loss: 0.04183804616332054\n",
            "\u001b[36m(train_mel_spec_model pid=3193)\u001b[0m epoch: 32, batch_id: 19, loss: 0.09702566266059875\n",
            "\u001b[36m(train_mel_spec_model pid=3193)\u001b[0m epoch: 32, batch_id: 20, loss: 0.1245114728808403\n",
            "\u001b[36m(train_mel_spec_model pid=3193)\u001b[0m epoch: 32, batch_id: 21, loss: 0.09347310662269592\n",
            "\u001b[36m(train_mel_spec_model pid=3193)\u001b[0m epoch: 32, batch_id: 22, loss: 0.038173433393239975\n"
          ]
        },
        {
          "output_type": "stream",
          "name": "stderr",
          "text": [
            "\u001b[36m(train_mel_spec_model pid=3193)\u001b[0m Checkpoint successfully created at: Checkpoint(filesystem=local, path=/root/ray_results/train_mel_spec_model_2024-04-11_03-45-31/train_mel_spec_model_f562d_00003_3_batch_size=35,l1=450,l2=10,lr=0.0004,num_epochs=35_2024-04-11_03-45-37/checkpoint_000032)\n"
          ]
        },
        {
          "output_type": "stream",
          "name": "stdout",
          "text": [
            "\u001b[36m(train_mel_spec_model pid=3193)\u001b[0m Validation Loss: 1.898190180460612, Accuracy: 0.48484848484848486\n",
            "\u001b[36m(train_mel_spec_model pid=3193)\u001b[0m epoch: 33, batch_id: 0, loss: 0.07278912514448166\n",
            "\u001b[36m(train_mel_spec_model pid=3193)\u001b[0m epoch: 33, batch_id: 1, loss: 0.10803011804819107\n",
            "\u001b[36m(train_mel_spec_model pid=3193)\u001b[0m epoch: 33, batch_id: 2, loss: 0.05510192736983299\n",
            "\u001b[36m(train_mel_spec_model pid=3193)\u001b[0m epoch: 33, batch_id: 3, loss: 0.04293777421116829\n",
            "\u001b[36m(train_mel_spec_model pid=3193)\u001b[0m epoch: 33, batch_id: 4, loss: 0.040134210139513016\n",
            "\u001b[36m(train_mel_spec_model pid=3193)\u001b[0m epoch: 33, batch_id: 5, loss: 0.059565529227256775\n",
            "\u001b[36m(train_mel_spec_model pid=3193)\u001b[0m epoch: 33, batch_id: 6, loss: 0.08228623121976852\n",
            "\u001b[36m(train_mel_spec_model pid=3193)\u001b[0m epoch: 33, batch_id: 7, loss: 0.11059168726205826\n",
            "\u001b[36m(train_mel_spec_model pid=3193)\u001b[0m epoch: 33, batch_id: 8, loss: 0.05975882709026337\n",
            "\u001b[36m(train_mel_spec_model pid=3193)\u001b[0m epoch: 33, batch_id: 9, loss: 0.06904546916484833\n",
            "\u001b[36m(train_mel_spec_model pid=3193)\u001b[0m epoch: 33, batch_id: 10, loss: 0.05760299041867256\n",
            "\u001b[36m(train_mel_spec_model pid=3193)\u001b[0m epoch: 33, batch_id: 11, loss: 0.09432653337717056\n",
            "\u001b[36m(train_mel_spec_model pid=3193)\u001b[0m epoch: 33, batch_id: 12, loss: 0.05104492977261543\n",
            "\u001b[36m(train_mel_spec_model pid=3193)\u001b[0m epoch: 33, batch_id: 13, loss: 0.1269795149564743\n",
            "\u001b[36m(train_mel_spec_model pid=3193)\u001b[0m epoch: 33, batch_id: 14, loss: 0.07632244378328323\n",
            "\u001b[36m(train_mel_spec_model pid=3193)\u001b[0m epoch: 33, batch_id: 15, loss: 0.05764902010560036\n",
            "\u001b[36m(train_mel_spec_model pid=3193)\u001b[0m epoch: 33, batch_id: 16, loss: 0.04661344364285469\n",
            "\u001b[36m(train_mel_spec_model pid=3193)\u001b[0m epoch: 33, batch_id: 17, loss: 0.09424442052841187\n",
            "\u001b[36m(train_mel_spec_model pid=3193)\u001b[0m epoch: 33, batch_id: 18, loss: 0.04885847121477127\n",
            "\u001b[36m(train_mel_spec_model pid=3193)\u001b[0m epoch: 33, batch_id: 19, loss: 0.06662974506616592\n",
            "\u001b[36m(train_mel_spec_model pid=3193)\u001b[0m epoch: 33, batch_id: 20, loss: 0.057586491107940674\n",
            "\u001b[36m(train_mel_spec_model pid=3193)\u001b[0m epoch: 33, batch_id: 21, loss: 0.06299270689487457\n",
            "\u001b[36m(train_mel_spec_model pid=3193)\u001b[0m epoch: 33, batch_id: 22, loss: 0.046978145837783813\n"
          ]
        },
        {
          "output_type": "stream",
          "name": "stderr",
          "text": [
            "\u001b[36m(train_mel_spec_model pid=3193)\u001b[0m Checkpoint successfully created at: Checkpoint(filesystem=local, path=/root/ray_results/train_mel_spec_model_2024-04-11_03-45-31/train_mel_spec_model_f562d_00003_3_batch_size=35,l1=450,l2=10,lr=0.0004,num_epochs=35_2024-04-11_03-45-37/checkpoint_000033)\n"
          ]
        },
        {
          "output_type": "stream",
          "name": "stdout",
          "text": [
            "\u001b[36m(train_mel_spec_model pid=3193)\u001b[0m Validation Loss: 1.9594639937082927, Accuracy: 0.5151515151515151\n",
            "\u001b[36m(train_mel_spec_model pid=3193)\u001b[0m epoch: 34, batch_id: 0, loss: 0.048052068799734116\n",
            "\u001b[36m(train_mel_spec_model pid=3193)\u001b[0m epoch: 34, batch_id: 1, loss: 0.07169370353221893\n",
            "\u001b[36m(train_mel_spec_model pid=3193)\u001b[0m epoch: 34, batch_id: 2, loss: 0.04902024567127228\n",
            "\u001b[36m(train_mel_spec_model pid=3193)\u001b[0m epoch: 34, batch_id: 3, loss: 0.045119233429431915\n",
            "\u001b[36m(train_mel_spec_model pid=3193)\u001b[0m epoch: 34, batch_id: 4, loss: 0.05143602564930916\n",
            "\u001b[36m(train_mel_spec_model pid=3193)\u001b[0m epoch: 34, batch_id: 5, loss: 0.057201385498046875\n",
            "\u001b[36m(train_mel_spec_model pid=3193)\u001b[0m epoch: 34, batch_id: 6, loss: 0.034708812832832336\n",
            "\u001b[36m(train_mel_spec_model pid=3193)\u001b[0m epoch: 34, batch_id: 7, loss: 0.04405468702316284\n",
            "\u001b[36m(train_mel_spec_model pid=3193)\u001b[0m epoch: 34, batch_id: 8, loss: 0.05330726504325867\n",
            "\u001b[36m(train_mel_spec_model pid=3193)\u001b[0m epoch: 34, batch_id: 9, loss: 0.08020523190498352\n",
            "\u001b[36m(train_mel_spec_model pid=3193)\u001b[0m epoch: 34, batch_id: 10, loss: 0.04127369076013565\n",
            "\u001b[36m(train_mel_spec_model pid=3193)\u001b[0m epoch: 34, batch_id: 11, loss: 0.044407639652490616\n",
            "\u001b[36m(train_mel_spec_model pid=3193)\u001b[0m epoch: 34, batch_id: 12, loss: 0.0590464249253273\n",
            "\u001b[36m(train_mel_spec_model pid=3193)\u001b[0m epoch: 34, batch_id: 13, loss: 0.04877744987607002\n",
            "\u001b[36m(train_mel_spec_model pid=3193)\u001b[0m epoch: 34, batch_id: 14, loss: 0.05514904856681824\n",
            "\u001b[36m(train_mel_spec_model pid=3193)\u001b[0m epoch: 34, batch_id: 15, loss: 0.08186052739620209\n",
            "\u001b[36m(train_mel_spec_model pid=3193)\u001b[0m epoch: 34, batch_id: 16, loss: 0.049228694289922714\n",
            "\u001b[36m(train_mel_spec_model pid=3193)\u001b[0m epoch: 34, batch_id: 17, loss: 0.03821727633476257\n",
            "\u001b[36m(train_mel_spec_model pid=3193)\u001b[0m epoch: 34, batch_id: 18, loss: 0.04341782256960869\n",
            "\u001b[36m(train_mel_spec_model pid=3193)\u001b[0m epoch: 34, batch_id: 19, loss: 0.1605318933725357\n",
            "\u001b[36m(train_mel_spec_model pid=3193)\u001b[0m epoch: 34, batch_id: 20, loss: 0.052366603165864944\n",
            "\u001b[36m(train_mel_spec_model pid=3193)\u001b[0m epoch: 34, batch_id: 21, loss: 0.07259897142648697\n",
            "\u001b[36m(train_mel_spec_model pid=3193)\u001b[0m epoch: 34, batch_id: 22, loss: 0.03781278431415558\n",
            "\n",
            "Trial train_mel_spec_model_f562d_00003 completed after 35 iterations at 2024-04-11 03:53:31. Total running time: 7min 54s\n",
            "+---------------------------------------------------------------------+\n",
            "| Trial train_mel_spec_model_f562d_00003 result                       |\n",
            "+---------------------------------------------------------------------+\n",
            "| checkpoint_dir_name                               checkpoint_000034 |\n",
            "| time_this_iter_s                                            2.54414 |\n",
            "| time_total_s                                               89.89099 |\n",
            "| training_iteration                                               35 |\n",
            "| accuracy                                                    0.50505 |\n",
            "| loss                                                        2.01639 |\n",
            "+---------------------------------------------------------------------+\n",
            "\u001b[36m(train_mel_spec_model pid=3193)\u001b[0m Validation Loss: 2.0163901646931968, Accuracy: 0.5050505050505051\n"
          ]
        },
        {
          "output_type": "stream",
          "name": "stderr",
          "text": [
            "\u001b[36m(train_mel_spec_model pid=3193)\u001b[0m Checkpoint successfully created at: Checkpoint(filesystem=local, path=/root/ray_results/train_mel_spec_model_2024-04-11_03-45-31/train_mel_spec_model_f562d_00003_3_batch_size=35,l1=450,l2=10,lr=0.0004,num_epochs=35_2024-04-11_03-45-37/checkpoint_000034)\n"
          ]
        },
        {
          "output_type": "stream",
          "name": "stdout",
          "text": [
            "\n",
            "Trial train_mel_spec_model_f562d_00004 started with configuration:\n",
            "+-----------------------------------------------------------+\n",
            "| Trial train_mel_spec_model_f562d_00004 config             |\n",
            "+-----------------------------------------------------------+\n",
            "| batch_size                                              5 |\n",
            "| l1                                                    800 |\n",
            "| l2                                                     10 |\n",
            "| lr                                                0.00015 |\n",
            "| num_epochs                                             35 |\n",
            "+-----------------------------------------------------------+\n",
            "\n",
            "Trial status: 4 TERMINATED | 1 RUNNING\n",
            "Current time: 2024-04-11 03:53:38. Total running time: 8min 1s\n",
            "Logical resource usage: 2.0/2 CPUs, 1.0/1 GPUs (0.0/1.0 accelerator_type:T4)\n",
            "Current best trial: f562d_00000 with loss=1.4953934252262115 and params={'l1': 550, 'l2': 15, 'lr': 0.00019002025558777404, 'batch_size': 30, 'num_epochs': 35}\n",
            "+------------------------------------------------------------------------------------------------------------------------------------------------------------+\n",
            "| Trial name                         status         l1     l2            lr     batch_size     num_epochs     iter     total time (s)      loss     accuracy |\n",
            "+------------------------------------------------------------------------------------------------------------------------------------------------------------+\n",
            "| train_mel_spec_model_f562d_00004   RUNNING       800     10   0.00014823               5             35                                                    |\n",
            "| train_mel_spec_model_f562d_00000   TERMINATED    550     15   0.00019002              30             35       35           220.054    1.49539    0.525253  |\n",
            "| train_mel_spec_model_f562d_00001   TERMINATED    700      5   0.0185484               45             35       20            65.1919   2.30768    0.0808081 |\n",
            "| train_mel_spec_model_f562d_00002   TERMINATED    950     10   0.0017086               30             25       20            73.074    2.31715    0.0808081 |\n",
            "| train_mel_spec_model_f562d_00003   TERMINATED    450     10   0.000373188             35             35       35            89.891    2.01639    0.505051  |\n",
            "+------------------------------------------------------------------------------------------------------------------------------------------------------------+\n",
            "\u001b[36m(train_mel_spec_model pid=3674)\u001b[0m epoch: 0, batch_id: 3, loss: 2.328888177871704\u001b[32m [repeated 4x across cluster] (Ray deduplicates logs by default. Set RAY_DEDUP_LOGS=0 to disable log deduplication, or see https://docs.ray.io/en/master/ray-observability/ray-logging.html#log-deduplication for more options.)\u001b[0m\n"
          ]
        },
        {
          "output_type": "stream",
          "name": "stderr",
          "text": [
            "\u001b[36m(train_mel_spec_model pid=3674)\u001b[0m Checkpoint successfully created at: Checkpoint(filesystem=local, path=/root/ray_results/train_mel_spec_model_2024-04-11_03-45-31/train_mel_spec_model_f562d_00004_4_batch_size=5,l1=800,l2=10,lr=0.0001,num_epochs=35_2024-04-11_03-45-37/checkpoint_000000)\n"
          ]
        },
        {
          "output_type": "stream",
          "name": "stdout",
          "text": [
            "\u001b[36m(train_mel_spec_model pid=3674)\u001b[0m Validation Loss: 2.3048537135124207, Accuracy: 0.1919191919191919\n"
          ]
        },
        {
          "output_type": "stream",
          "name": "stderr",
          "text": [
            "\u001b[36m(train_mel_spec_model pid=3674)\u001b[0m Checkpoint successfully created at: Checkpoint(filesystem=local, path=/root/ray_results/train_mel_spec_model_2024-04-11_03-45-31/train_mel_spec_model_f562d_00004_4_batch_size=5,l1=800,l2=10,lr=0.0001,num_epochs=35_2024-04-11_03-45-37/checkpoint_000001)\n"
          ]
        },
        {
          "output_type": "stream",
          "name": "stdout",
          "text": [
            "\u001b[36m(train_mel_spec_model pid=3674)\u001b[0m Validation Loss: 2.2651185154914857, Accuracy: 0.2222222222222222\n",
            "\u001b[36m(train_mel_spec_model pid=3674)\u001b[0m epoch: 2, batch_id: 6, loss: 2.3109920024871826\u001b[32m [repeated 323x across cluster]\u001b[0m\n"
          ]
        },
        {
          "output_type": "stream",
          "name": "stderr",
          "text": [
            "\u001b[36m(train_mel_spec_model pid=3674)\u001b[0m Checkpoint successfully created at: Checkpoint(filesystem=local, path=/root/ray_results/train_mel_spec_model_2024-04-11_03-45-31/train_mel_spec_model_f562d_00004_4_batch_size=5,l1=800,l2=10,lr=0.0001,num_epochs=35_2024-04-11_03-45-37/checkpoint_000002)\n"
          ]
        },
        {
          "output_type": "stream",
          "name": "stdout",
          "text": [
            "\u001b[36m(train_mel_spec_model pid=3674)\u001b[0m Validation Loss: 2.202183645963669, Accuracy: 0.13131313131313133\n",
            "\u001b[36m(train_mel_spec_model pid=3674)\u001b[0m epoch: 3, batch_id: 4, loss: 1.87790048122406\u001b[32m [repeated 158x across cluster]\u001b[0m\n"
          ]
        },
        {
          "output_type": "stream",
          "name": "stderr",
          "text": [
            "\u001b[36m(train_mel_spec_model pid=3674)\u001b[0m Checkpoint successfully created at: Checkpoint(filesystem=local, path=/root/ray_results/train_mel_spec_model_2024-04-11_03-45-31/train_mel_spec_model_f562d_00004_4_batch_size=5,l1=800,l2=10,lr=0.0001,num_epochs=35_2024-04-11_03-45-37/checkpoint_000003)\n"
          ]
        },
        {
          "output_type": "stream",
          "name": "stdout",
          "text": [
            "\u001b[36m(train_mel_spec_model pid=3674)\u001b[0m Validation Loss: 2.127875542640686, Accuracy: 0.2222222222222222\n",
            "\u001b[36m(train_mel_spec_model pid=3674)\u001b[0m epoch: 4, batch_id: 146, loss: 1.8955392837524414\u001b[32m [repeated 302x across cluster]\u001b[0m\n"
          ]
        },
        {
          "output_type": "stream",
          "name": "stderr",
          "text": [
            "\u001b[36m(train_mel_spec_model pid=3674)\u001b[0m Checkpoint successfully created at: Checkpoint(filesystem=local, path=/root/ray_results/train_mel_spec_model_2024-04-11_03-45-31/train_mel_spec_model_f562d_00004_4_batch_size=5,l1=800,l2=10,lr=0.0001,num_epochs=35_2024-04-11_03-45-37/checkpoint_000004)\n"
          ]
        },
        {
          "output_type": "stream",
          "name": "stdout",
          "text": [
            "\u001b[36m(train_mel_spec_model pid=3674)\u001b[0m Validation Loss: 2.196741169691086, Accuracy: 0.20202020202020202\n"
          ]
        },
        {
          "output_type": "stream",
          "name": "stderr",
          "text": [
            "\u001b[36m(train_mel_spec_model pid=3674)\u001b[0m Checkpoint successfully created at: Checkpoint(filesystem=local, path=/root/ray_results/train_mel_spec_model_2024-04-11_03-45-31/train_mel_spec_model_f562d_00004_4_batch_size=5,l1=800,l2=10,lr=0.0001,num_epochs=35_2024-04-11_03-45-37/checkpoint_000005)\n"
          ]
        },
        {
          "output_type": "stream",
          "name": "stdout",
          "text": [
            "\u001b[36m(train_mel_spec_model pid=3674)\u001b[0m Validation Loss: 2.0504860103130342, Accuracy: 0.21212121212121213\n",
            "\u001b[36m(train_mel_spec_model pid=3674)\u001b[0m epoch: 6, batch_id: 20, loss: 2.1931936740875244\u001b[32m [repeated 194x across cluster]\u001b[0m\n"
          ]
        },
        {
          "output_type": "stream",
          "name": "stderr",
          "text": [
            "\u001b[36m(train_mel_spec_model pid=3674)\u001b[0m Checkpoint successfully created at: Checkpoint(filesystem=local, path=/root/ray_results/train_mel_spec_model_2024-04-11_03-45-31/train_mel_spec_model_f562d_00004_4_batch_size=5,l1=800,l2=10,lr=0.0001,num_epochs=35_2024-04-11_03-45-37/checkpoint_000006)\n"
          ]
        },
        {
          "output_type": "stream",
          "name": "stdout",
          "text": [
            "\u001b[36m(train_mel_spec_model pid=3674)\u001b[0m Validation Loss: 2.072448652982712, Accuracy: 0.25252525252525254\n",
            "Trial status: 4 TERMINATED | 1 RUNNING\n",
            "Current time: 2024-04-11 03:54:08. Total running time: 8min 31s\n",
            "Logical resource usage: 2.0/2 CPUs, 1.0/1 GPUs (0.0/1.0 accelerator_type:T4)\n",
            "Current best trial: f562d_00000 with loss=1.4953934252262115 and params={'l1': 550, 'l2': 15, 'lr': 0.00019002025558777404, 'batch_size': 30, 'num_epochs': 35}\n",
            "+------------------------------------------------------------------------------------------------------------------------------------------------------------+\n",
            "| Trial name                         status         l1     l2            lr     batch_size     num_epochs     iter     total time (s)      loss     accuracy |\n",
            "+------------------------------------------------------------------------------------------------------------------------------------------------------------+\n",
            "| train_mel_spec_model_f562d_00004   RUNNING       800     10   0.00014823               5             35        7            31.2465   2.07245    0.252525  |\n",
            "| train_mel_spec_model_f562d_00000   TERMINATED    550     15   0.00019002              30             35       35           220.054    1.49539    0.525253  |\n",
            "| train_mel_spec_model_f562d_00001   TERMINATED    700      5   0.0185484               45             35       20            65.1919   2.30768    0.0808081 |\n",
            "| train_mel_spec_model_f562d_00002   TERMINATED    950     10   0.0017086               30             25       20            73.074    2.31715    0.0808081 |\n",
            "| train_mel_spec_model_f562d_00003   TERMINATED    450     10   0.000373188             35             35       35            89.891    2.01639    0.505051  |\n",
            "+------------------------------------------------------------------------------------------------------------------------------------------------------------+\n"
          ]
        },
        {
          "output_type": "stream",
          "name": "stderr",
          "text": [
            "\u001b[36m(train_mel_spec_model pid=3674)\u001b[0m Checkpoint successfully created at: Checkpoint(filesystem=local, path=/root/ray_results/train_mel_spec_model_2024-04-11_03-45-31/train_mel_spec_model_f562d_00004_4_batch_size=5,l1=800,l2=10,lr=0.0001,num_epochs=35_2024-04-11_03-45-37/checkpoint_000007)\n"
          ]
        },
        {
          "output_type": "stream",
          "name": "stdout",
          "text": [
            "\u001b[36m(train_mel_spec_model pid=3674)\u001b[0m Validation Loss: 1.9755531191825866, Accuracy: 0.25252525252525254\n",
            "\u001b[36m(train_mel_spec_model pid=3674)\u001b[0m epoch: 8, batch_id: 1, loss: 1.8309446573257446\u001b[32m [repeated 301x across cluster]\u001b[0m\n",
            "\u001b[36m(train_mel_spec_model pid=3674)\u001b[0m \n"
          ]
        },
        {
          "output_type": "stream",
          "name": "stderr",
          "text": [
            "\u001b[36m(train_mel_spec_model pid=3674)\u001b[0m Checkpoint successfully created at: Checkpoint(filesystem=local, path=/root/ray_results/train_mel_spec_model_2024-04-11_03-45-31/train_mel_spec_model_f562d_00004_4_batch_size=5,l1=800,l2=10,lr=0.0001,num_epochs=35_2024-04-11_03-45-37/checkpoint_000008)\n"
          ]
        },
        {
          "output_type": "stream",
          "name": "stdout",
          "text": [
            "\u001b[36m(train_mel_spec_model pid=3674)\u001b[0m Validation Loss: 1.8071691393852234, Accuracy: 0.3838383838383838\n",
            "\u001b[36m(train_mel_spec_model pid=3674)\u001b[0m epoch: 9, batch_id: 63, loss: 1.4868863821029663\u001b[32m [repeated 222x across cluster]\u001b[0m\n"
          ]
        },
        {
          "output_type": "stream",
          "name": "stderr",
          "text": [
            "\u001b[36m(train_mel_spec_model pid=3674)\u001b[0m Checkpoint successfully created at: Checkpoint(filesystem=local, path=/root/ray_results/train_mel_spec_model_2024-04-11_03-45-31/train_mel_spec_model_f562d_00004_4_batch_size=5,l1=800,l2=10,lr=0.0001,num_epochs=35_2024-04-11_03-45-37/checkpoint_000009)\n"
          ]
        },
        {
          "output_type": "stream",
          "name": "stdout",
          "text": [
            "\u001b[36m(train_mel_spec_model pid=3674)\u001b[0m Validation Loss: 1.8940347671508788, Accuracy: 0.3333333333333333\n"
          ]
        },
        {
          "output_type": "stream",
          "name": "stderr",
          "text": [
            "\u001b[36m(train_mel_spec_model pid=3674)\u001b[0m Checkpoint successfully created at: Checkpoint(filesystem=local, path=/root/ray_results/train_mel_spec_model_2024-04-11_03-45-31/train_mel_spec_model_f562d_00004_4_batch_size=5,l1=800,l2=10,lr=0.0001,num_epochs=35_2024-04-11_03-45-37/checkpoint_000010)\n"
          ]
        },
        {
          "output_type": "stream",
          "name": "stdout",
          "text": [
            "\u001b[36m(train_mel_spec_model pid=3674)\u001b[0m Validation Loss: 1.7749923646450043, Accuracy: 0.43434343434343436\n",
            "\u001b[36m(train_mel_spec_model pid=3674)\u001b[0m epoch: 11, batch_id: 12, loss: 0.8645070791244507\u001b[32m [repeated 269x across cluster]\u001b[0m\n"
          ]
        },
        {
          "output_type": "stream",
          "name": "stderr",
          "text": [
            "\u001b[36m(train_mel_spec_model pid=3674)\u001b[0m Checkpoint successfully created at: Checkpoint(filesystem=local, path=/root/ray_results/train_mel_spec_model_2024-04-11_03-45-31/train_mel_spec_model_f562d_00004_4_batch_size=5,l1=800,l2=10,lr=0.0001,num_epochs=35_2024-04-11_03-45-37/checkpoint_000011)\n"
          ]
        },
        {
          "output_type": "stream",
          "name": "stdout",
          "text": [
            "\u001b[36m(train_mel_spec_model pid=3674)\u001b[0m Validation Loss: 1.620280811190605, Accuracy: 0.4444444444444444\n",
            "\u001b[36m(train_mel_spec_model pid=3674)\u001b[0m epoch: 12, batch_id: 90, loss: 1.201355218887329\u001b[32m [repeated 238x across cluster]\u001b[0m\n"
          ]
        },
        {
          "output_type": "stream",
          "name": "stderr",
          "text": [
            "\u001b[36m(train_mel_spec_model pid=3674)\u001b[0m Checkpoint successfully created at: Checkpoint(filesystem=local, path=/root/ray_results/train_mel_spec_model_2024-04-11_03-45-31/train_mel_spec_model_f562d_00004_4_batch_size=5,l1=800,l2=10,lr=0.0001,num_epochs=35_2024-04-11_03-45-37/checkpoint_000012)\n"
          ]
        },
        {
          "output_type": "stream",
          "name": "stdout",
          "text": [
            "\u001b[36m(train_mel_spec_model pid=3674)\u001b[0m Validation Loss: 1.8242528975009917, Accuracy: 0.37373737373737376\n"
          ]
        },
        {
          "output_type": "stream",
          "name": "stderr",
          "text": [
            "\u001b[36m(train_mel_spec_model pid=3674)\u001b[0m Checkpoint successfully created at: Checkpoint(filesystem=local, path=/root/ray_results/train_mel_spec_model_2024-04-11_03-45-31/train_mel_spec_model_f562d_00004_4_batch_size=5,l1=800,l2=10,lr=0.0001,num_epochs=35_2024-04-11_03-45-37/checkpoint_000013)\n"
          ]
        },
        {
          "output_type": "stream",
          "name": "stdout",
          "text": [
            "\u001b[36m(train_mel_spec_model pid=3674)\u001b[0m Validation Loss: 1.5171602368354797, Accuracy: 0.494949494949495\n",
            "\u001b[36m(train_mel_spec_model pid=3674)\u001b[0m epoch: 14, batch_id: 0, loss: 0.45838743448257446\u001b[32m [repeated 230x across cluster]\u001b[0m\n"
          ]
        },
        {
          "output_type": "stream",
          "name": "stderr",
          "text": [
            "\u001b[36m(train_mel_spec_model pid=3674)\u001b[0m Checkpoint successfully created at: Checkpoint(filesystem=local, path=/root/ray_results/train_mel_spec_model_2024-04-11_03-45-31/train_mel_spec_model_f562d_00004_4_batch_size=5,l1=800,l2=10,lr=0.0001,num_epochs=35_2024-04-11_03-45-37/checkpoint_000014)\n"
          ]
        },
        {
          "output_type": "stream",
          "name": "stdout",
          "text": [
            "\u001b[36m(train_mel_spec_model pid=3674)\u001b[0m Validation Loss: 1.6433371394872665, Accuracy: 0.4444444444444444\n"
          ]
        },
        {
          "output_type": "stream",
          "name": "stderr",
          "text": [
            "\u001b[36m(train_mel_spec_model pid=3674)\u001b[0m Checkpoint successfully created at: Checkpoint(filesystem=local, path=/root/ray_results/train_mel_spec_model_2024-04-11_03-45-31/train_mel_spec_model_f562d_00004_4_batch_size=5,l1=800,l2=10,lr=0.0001,num_epochs=35_2024-04-11_03-45-37/checkpoint_000015)\n"
          ]
        },
        {
          "output_type": "stream",
          "name": "stdout",
          "text": [
            "\u001b[36m(train_mel_spec_model pid=3674)\u001b[0m Validation Loss: 1.5500777021050454, Accuracy: 0.5353535353535354\n",
            "\u001b[36m(train_mel_spec_model pid=3674)\u001b[0m epoch: 15, batch_id: 159, loss: 0.32191261649131775\u001b[32m [repeated 319x across cluster]\u001b[0m\n",
            "Trial status: 4 TERMINATED | 1 RUNNING\n",
            "Current time: 2024-04-11 03:54:38. Total running time: 9min 1s\n",
            "Logical resource usage: 2.0/2 CPUs, 1.0/1 GPUs (0.0/1.0 accelerator_type:T4)\n",
            "Current best trial: f562d_00000 with loss=1.4953934252262115 and params={'l1': 550, 'l2': 15, 'lr': 0.00019002025558777404, 'batch_size': 30, 'num_epochs': 35}\n",
            "+------------------------------------------------------------------------------------------------------------------------------------------------------------+\n",
            "| Trial name                         status         l1     l2            lr     batch_size     num_epochs     iter     total time (s)      loss     accuracy |\n",
            "+------------------------------------------------------------------------------------------------------------------------------------------------------------+\n",
            "| train_mel_spec_model_f562d_00004   RUNNING       800     10   0.00014823               5             35       16            60.9903   1.55008    0.535354  |\n",
            "| train_mel_spec_model_f562d_00000   TERMINATED    550     15   0.00019002              30             35       35           220.054    1.49539    0.525253  |\n",
            "| train_mel_spec_model_f562d_00001   TERMINATED    700      5   0.0185484               45             35       20            65.1919   2.30768    0.0808081 |\n",
            "| train_mel_spec_model_f562d_00002   TERMINATED    950     10   0.0017086               30             25       20            73.074    2.31715    0.0808081 |\n",
            "| train_mel_spec_model_f562d_00003   TERMINATED    450     10   0.000373188             35             35       35            89.891    2.01639    0.505051  |\n",
            "+------------------------------------------------------------------------------------------------------------------------------------------------------------+\n"
          ]
        },
        {
          "output_type": "stream",
          "name": "stderr",
          "text": [
            "\u001b[36m(train_mel_spec_model pid=3674)\u001b[0m Checkpoint successfully created at: Checkpoint(filesystem=local, path=/root/ray_results/train_mel_spec_model_2024-04-11_03-45-31/train_mel_spec_model_f562d_00004_4_batch_size=5,l1=800,l2=10,lr=0.0001,num_epochs=35_2024-04-11_03-45-37/checkpoint_000016)\n"
          ]
        },
        {
          "output_type": "stream",
          "name": "stdout",
          "text": [
            "\u001b[36m(train_mel_spec_model pid=3674)\u001b[0m Validation Loss: 1.8464110910892486, Accuracy: 0.47474747474747475\n",
            "\u001b[36m(train_mel_spec_model pid=3674)\u001b[0m epoch: 17, batch_id: 152, loss: 0.6923848986625671\u001b[32m [repeated 313x across cluster]\u001b[0m\n"
          ]
        },
        {
          "output_type": "stream",
          "name": "stderr",
          "text": [
            "\u001b[36m(train_mel_spec_model pid=3674)\u001b[0m Checkpoint successfully created at: Checkpoint(filesystem=local, path=/root/ray_results/train_mel_spec_model_2024-04-11_03-45-31/train_mel_spec_model_f562d_00004_4_batch_size=5,l1=800,l2=10,lr=0.0001,num_epochs=35_2024-04-11_03-45-37/checkpoint_000017)\n"
          ]
        },
        {
          "output_type": "stream",
          "name": "stdout",
          "text": [
            "\u001b[36m(train_mel_spec_model pid=3674)\u001b[0m Validation Loss: 1.710570403933525, Accuracy: 0.5050505050505051\n"
          ]
        },
        {
          "output_type": "stream",
          "name": "stderr",
          "text": [
            "\u001b[36m(train_mel_spec_model pid=3674)\u001b[0m Checkpoint successfully created at: Checkpoint(filesystem=local, path=/root/ray_results/train_mel_spec_model_2024-04-11_03-45-31/train_mel_spec_model_f562d_00004_4_batch_size=5,l1=800,l2=10,lr=0.0001,num_epochs=35_2024-04-11_03-45-37/checkpoint_000018)\n"
          ]
        },
        {
          "output_type": "stream",
          "name": "stdout",
          "text": [
            "\u001b[36m(train_mel_spec_model pid=3674)\u001b[0m Validation Loss: 1.8114131718873978, Accuracy: 0.47474747474747475\n",
            "\u001b[36m(train_mel_spec_model pid=3674)\u001b[0m epoch: 19, batch_id: 5, loss: 0.7820948362350464\u001b[32m [repeated 173x across cluster]\u001b[0m\n"
          ]
        },
        {
          "output_type": "stream",
          "name": "stderr",
          "text": [
            "2024-04-11 03:54:51,004\tINFO tune.py:1016 -- Wrote the latest version of all result files and experiment state to '/root/ray_results/train_mel_spec_model_2024-04-11_03-45-31' in 0.0154s.\n"
          ]
        },
        {
          "output_type": "stream",
          "name": "stdout",
          "text": [
            "\n",
            "Trial train_mel_spec_model_f562d_00004 completed after 20 iterations at 2024-04-11 03:54:50. Total running time: 9min 13s\n",
            "+---------------------------------------------------------------------+\n",
            "| Trial train_mel_spec_model_f562d_00004 result                       |\n",
            "+---------------------------------------------------------------------+\n",
            "| checkpoint_dir_name                               checkpoint_000019 |\n",
            "| time_this_iter_s                                            2.64116 |\n",
            "| time_total_s                                                73.9089 |\n",
            "| training_iteration                                               20 |\n",
            "| accuracy                                                    0.48485 |\n",
            "| loss                                                        1.76499 |\n",
            "+---------------------------------------------------------------------+\n",
            "\n",
            "Trial status: 5 TERMINATED\n",
            "Current time: 2024-04-11 03:54:51. Total running time: 9min 13s\n",
            "Logical resource usage: 2.0/2 CPUs, 1.0/1 GPUs (0.0/1.0 accelerator_type:T4)\n",
            "Current best trial: f562d_00000 with loss=1.4953934252262115 and params={'l1': 550, 'l2': 15, 'lr': 0.00019002025558777404, 'batch_size': 30, 'num_epochs': 35}\n",
            "+------------------------------------------------------------------------------------------------------------------------------------------------------------+\n",
            "| Trial name                         status         l1     l2            lr     batch_size     num_epochs     iter     total time (s)      loss     accuracy |\n",
            "+------------------------------------------------------------------------------------------------------------------------------------------------------------+\n",
            "| train_mel_spec_model_f562d_00000   TERMINATED    550     15   0.00019002              30             35       35           220.054    1.49539    0.525253  |\n",
            "| train_mel_spec_model_f562d_00001   TERMINATED    700      5   0.0185484               45             35       20            65.1919   2.30768    0.0808081 |\n",
            "| train_mel_spec_model_f562d_00002   TERMINATED    950     10   0.0017086               30             25       20            73.074    2.31715    0.0808081 |\n",
            "| train_mel_spec_model_f562d_00003   TERMINATED    450     10   0.000373188             35             35       35            89.891    2.01639    0.505051  |\n",
            "| train_mel_spec_model_f562d_00004   TERMINATED    800     10   0.00014823               5             35       20            73.9089   1.76499    0.484848  |\n",
            "+------------------------------------------------------------------------------------------------------------------------------------------------------------+\n",
            "\n"
          ]
        },
        {
          "output_type": "stream",
          "name": "stderr",
          "text": [
            "\u001b[36m(train_mel_spec_model pid=3674)\u001b[0m Checkpoint successfully created at: Checkpoint(filesystem=local, path=/root/ray_results/train_mel_spec_model_2024-04-11_03-45-31/train_mel_spec_model_f562d_00004_4_batch_size=5,l1=800,l2=10,lr=0.0001,num_epochs=35_2024-04-11_03-45-37/checkpoint_000019)\n"
          ]
        },
        {
          "output_type": "stream",
          "name": "stdout",
          "text": [
            "Best Model Accuracy 46.53465346534654%\n"
          ]
        }
      ],
      "source": [
        "def run_mel_spec_classifier():\n",
        "    config = {\n",
        "        \"l1\": tune.choice([k for k in range(100, 1000, 50)]),\n",
        "        \"l2\": tune.choice([j for j in range(5, 30, 5)]),\n",
        "        \"lr\": tune.loguniform(1e-4, 1e-1),\n",
        "        \"batch_size\": tune.choice([l for l in range(5, 50, 5)]),\n",
        "        \"num_epochs\": tune.choice([25, 35, 45])\n",
        "    }\n",
        "\n",
        "    # Only stop trials at least after 20 training iterations\n",
        "    asha_scheduler = ASHAScheduler(time_attr='training_iteration',\n",
        "                                   grace_period=20)\n",
        "\n",
        "    # Adjust resources depending on availability\n",
        "    tuner = tune.Tuner(tune.with_resources(tune.with_parameters(train_mel_spec_model),\n",
        "                       resources={\"cpu\": 2, \"gpu\": 1}),\n",
        "                       tune_config=tune.TuneConfig(\n",
        "                           metric='loss',\n",
        "                           mode=\"min\",\n",
        "                           scheduler=asha_scheduler,\n",
        "                           num_samples=5,\n",
        "                       ),\n",
        "                       param_space=config,)\n",
        "\n",
        "    results = tuner.fit()\n",
        "    best_result = results.get_best_result(\"loss\", \"min\")\n",
        "\n",
        "    test_mel_spec_model(best_result)\n",
        "\n",
        "run_mel_spec_classifier()"
      ],
      "metadata": {
        "id": "8a60d334-49ec-465e-9442-1c8a9687ec55",
        "colab": {
          "base_uri": "https://localhost:8080/"
        },
        "outputId": "31055f84-59f2-444c-e993-0f49cf76c28d"
      },
      "id": "8a60d334-49ec-465e-9442-1c8a9687ec55",
      "execution_count": 10
    }
  ],
  "metadata": {
    "kernelspec": {
      "display_name": "Python 3",
      "name": "python3"
    },
    "language_info": {
      "codemirror_mode": {
        "name": "ipython",
        "version": 3
      },
      "file_extension": ".py",
      "mimetype": "text/x-python",
      "name": "python",
      "nbconvert_exporter": "python",
      "pygments_lexer": "ipython3",
      "version": "3.11.6"
    },
    "colab": {
      "provenance": [],
      "gpuType": "T4"
    },
    "accelerator": "GPU"
  },
  "nbformat": 4,
  "nbformat_minor": 5
}