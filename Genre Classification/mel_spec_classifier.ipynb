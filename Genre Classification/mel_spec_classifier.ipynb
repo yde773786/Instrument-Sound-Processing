{
  "cells": [
    {
      "cell_type": "markdown",
      "id": "9ebcadd2-782c-4e51-a177-6ba2c06ae30b",
      "metadata": {
        "id": "9ebcadd2-782c-4e51-a177-6ba2c06ae30b"
      },
      "source": [
        "# MelSpecClassifier\n",
        "\n",
        "Use the spectogram of the wav file and use a CNN with 2DConv to classify the genre.\n",
        "The spectograms have already been provided in the GTZAN dataset. It is cropped before being passed into the model"
      ]
    },
    {
      "cell_type": "code",
      "execution_count": 2,
      "id": "c9d766c0-a752-47d6-9e1c-cce431d0d769",
      "metadata": {
        "colab": {
          "base_uri": "https://localhost:8080/"
        },
        "id": "c9d766c0-a752-47d6-9e1c-cce431d0d769",
        "outputId": "ed1fd001-0838-4051-9076-81ad8ddbd811"
      },
      "outputs": [
        {
          "name": "stdout",
          "output_type": "stream",
          "text": [
            "Requirement already satisfied: ray[tune] in /usr/local/lib/python3.10/dist-packages (2.20.0)\n",
            "Requirement already satisfied: click>=7.0 in /usr/local/lib/python3.10/dist-packages (from ray[tune]) (8.1.7)\n",
            "Requirement already satisfied: filelock in /usr/local/lib/python3.10/dist-packages (from ray[tune]) (3.13.4)\n",
            "Requirement already satisfied: jsonschema in /usr/local/lib/python3.10/dist-packages (from ray[tune]) (4.19.2)\n",
            "Requirement already satisfied: msgpack<2.0.0,>=1.0.0 in /usr/local/lib/python3.10/dist-packages (from ray[tune]) (1.0.8)\n",
            "Requirement already satisfied: packaging in /usr/local/lib/python3.10/dist-packages (from ray[tune]) (24.0)\n",
            "Requirement already satisfied: protobuf!=3.19.5,>=3.15.3 in /usr/local/lib/python3.10/dist-packages (from ray[tune]) (3.20.3)\n",
            "Requirement already satisfied: pyyaml in /usr/local/lib/python3.10/dist-packages (from ray[tune]) (6.0.1)\n",
            "Requirement already satisfied: aiosignal in /usr/local/lib/python3.10/dist-packages (from ray[tune]) (1.3.1)\n",
            "Requirement already satisfied: frozenlist in /usr/local/lib/python3.10/dist-packages (from ray[tune]) (1.4.1)\n",
            "Requirement already satisfied: requests in /usr/local/lib/python3.10/dist-packages (from ray[tune]) (2.31.0)\n",
            "Requirement already satisfied: pandas in /usr/local/lib/python3.10/dist-packages (from ray[tune]) (2.0.3)\n",
            "Requirement already satisfied: tensorboardX>=1.9 in /usr/local/lib/python3.10/dist-packages (from ray[tune]) (2.6.2.2)\n",
            "Requirement already satisfied: pyarrow>=6.0.1 in /usr/local/lib/python3.10/dist-packages (from ray[tune]) (14.0.2)\n",
            "Requirement already satisfied: fsspec in /usr/local/lib/python3.10/dist-packages (from ray[tune]) (2023.6.0)\n",
            "Requirement already satisfied: numpy>=1.16.6 in /usr/local/lib/python3.10/dist-packages (from pyarrow>=6.0.1->ray[tune]) (1.25.2)\n",
            "Requirement already satisfied: attrs>=22.2.0 in /usr/local/lib/python3.10/dist-packages (from jsonschema->ray[tune]) (23.2.0)\n",
            "Requirement already satisfied: jsonschema-specifications>=2023.03.6 in /usr/local/lib/python3.10/dist-packages (from jsonschema->ray[tune]) (2023.12.1)\n",
            "Requirement already satisfied: referencing>=0.28.4 in /usr/local/lib/python3.10/dist-packages (from jsonschema->ray[tune]) (0.35.0)\n",
            "Requirement already satisfied: rpds-py>=0.7.1 in /usr/local/lib/python3.10/dist-packages (from jsonschema->ray[tune]) (0.18.0)\n",
            "Requirement already satisfied: python-dateutil>=2.8.2 in /usr/local/lib/python3.10/dist-packages (from pandas->ray[tune]) (2.8.2)\n",
            "Requirement already satisfied: pytz>=2020.1 in /usr/local/lib/python3.10/dist-packages (from pandas->ray[tune]) (2023.4)\n",
            "Requirement already satisfied: tzdata>=2022.1 in /usr/local/lib/python3.10/dist-packages (from pandas->ray[tune]) (2024.1)\n",
            "Requirement already satisfied: charset-normalizer<4,>=2 in /usr/local/lib/python3.10/dist-packages (from requests->ray[tune]) (3.3.2)\n",
            "Requirement already satisfied: idna<4,>=2.5 in /usr/local/lib/python3.10/dist-packages (from requests->ray[tune]) (3.7)\n",
            "Requirement already satisfied: urllib3<3,>=1.21.1 in /usr/local/lib/python3.10/dist-packages (from requests->ray[tune]) (2.0.7)\n",
            "Requirement already satisfied: certifi>=2017.4.17 in /usr/local/lib/python3.10/dist-packages (from requests->ray[tune]) (2024.2.2)\n",
            "Requirement already satisfied: six>=1.5 in /usr/local/lib/python3.10/dist-packages (from python-dateutil>=2.8.2->pandas->ray[tune]) (1.16.0)\n"
          ]
        }
      ],
      "source": [
        "!pip install \"ray[tune]\"\n",
        "import torch\n",
        "from utils import *\n",
        "import torch.nn as nn\n",
        "from PIL import Image\n",
        "import torchvision.transforms as transforms\n",
        "import torch.utils.data as Data\n",
        "import os\n",
        "from PIL import ImageOps\n",
        "from ray.tune.schedulers import ASHAScheduler"
      ]
    },
    {
      "cell_type": "markdown",
      "id": "f5NEFVi9Tt22",
      "metadata": {
        "id": "f5NEFVi9Tt22"
      },
      "source": [
        "## Mount drive\n",
        "Mount google drive if running on google colab"
      ]
    },
    {
      "cell_type": "code",
      "execution_count": 3,
      "id": "IvyuycZ3PbVm",
      "metadata": {
        "colab": {
          "base_uri": "https://localhost:8080/"
        },
        "id": "IvyuycZ3PbVm",
        "outputId": "99722c09-d619-4139-f52e-89dd919ff1ce"
      },
      "outputs": [
        {
          "name": "stdout",
          "output_type": "stream",
          "text": [
            "Mounted at /content/drive\n"
          ]
        }
      ],
      "source": [
        "from google.colab import drive\n",
        "drive.mount('/content/drive')"
      ]
    },
    {
      "cell_type": "markdown",
      "id": "df3c357c-4679-41b0-8df3-8e4552f6bf90",
      "metadata": {
        "id": "df3c357c-4679-41b0-8df3-8e4552f6bf90"
      },
      "source": [
        "## Constant parameters used in training\n",
        "\n",
        "Run `setup.sh` to mount Google Drive containing GTZAN"
      ]
    },
    {
      "cell_type": "code",
      "execution_count": 4,
      "id": "b1722aad-12e4-4c48-8dd2-e28dd5aa520c",
      "metadata": {
        "colab": {
          "base_uri": "https://localhost:8080/"
        },
        "id": "b1722aad-12e4-4c48-8dd2-e28dd5aa520c",
        "outputId": "b048f2bf-5fcf-40df-d91b-f5d677384d70"
      },
      "outputs": [
        {
          "name": "stdout",
          "output_type": "stream",
          "text": [
            "Using device cuda\n"
          ]
        }
      ],
      "source": [
        "GTZAN_MEL = \"/content/drive/MyDrive/GTZAN/Data/images_original/\"\n",
        "\n",
        "PREPROCESS_CROP = (54, 35, 42, 35)\n",
        "\n",
        "IMAGE_INPUT_DIMENSIONS = [432, 288]\n",
        "GENRES = {'blues': 0, 'classical': 1, 'country': 2, 'disco': 3,\n",
        "          'hiphop': 4, 'jazz': 5, 'metal': 6, 'pop': 7, 'reggae': 8,\n",
        "          'rock': 9}\n",
        "\n",
        "DEVICE = torch.device(\"cuda\" if torch.cuda.is_available() else \"cpu\")\n",
        "print(\"Using device\", DEVICE)"
      ]
    },
    {
      "cell_type": "markdown",
      "id": "6e25ed03-399e-4dfd-bcf5-141290780bd3",
      "metadata": {
        "id": "6e25ed03-399e-4dfd-bcf5-141290780bd3"
      },
      "source": [
        "## Training\n",
        "\n",
        "Create a `Dataset` for the mel-spectograms"
      ]
    },
    {
      "cell_type": "code",
      "execution_count": 5,
      "id": "1fae4bc6-749b-4eb3-91cf-8a693f7aea0c",
      "metadata": {
        "id": "1fae4bc6-749b-4eb3-91cf-8a693f7aea0c"
      },
      "outputs": [],
      "source": [
        "class ImageDataset(Data.Dataset):\n",
        "    def __init__(self):\n",
        "        self.images = []\n",
        "        self.labels = []\n",
        "\n",
        "        # Go through all songs and tag X (tensor of image), Y as genre.\n",
        "        for genre in os.listdir(GTZAN_MEL):\n",
        "            for song in os.listdir(os.path.join(GTZAN_MEL, genre)):\n",
        "                abs_path = os.path.join(GTZAN_MEL, genre, song)\n",
        "                image = Image.open(abs_path)\n",
        "\n",
        "                # The images have been obtained in the dataset by using the mel spectogram (librosa)\n",
        "                # Cropping the image to only contain the spectogram to pass into CNN\n",
        "                image_cropped = ImageOps.crop(image, PREPROCESS_CROP)\n",
        "\n",
        "                transform = transforms.Compose([transforms.ToTensor()])\n",
        "                # Convert PIL Image to tensor\n",
        "                self.images.append(transform(image_cropped))\n",
        "                # Convert genre tag to associated digit\n",
        "                self.labels.append(GENRES[genre])\n",
        "\n",
        "    def __len__(self):\n",
        "        return len(self.images)\n",
        "\n",
        "    def __getitem__(self, idx):\n",
        "        return self.images[idx], self.labels[idx]"
      ]
    },
    {
      "cell_type": "markdown",
      "id": "9ae7756e-a2cd-4a88-9509-172c8b7bc0ef",
      "metadata": {
        "id": "9ae7756e-a2cd-4a88-9509-172c8b7bc0ef"
      },
      "source": [
        "The `MelSpecTrainer` model used is a CNN with 2 convolutional layers and 2 linear layers.\n",
        "- There is a lack of datapoints compared to the number of dimensions.\n",
        "- The true dimensionality of each genre appears to be in the order of 10\n",
        "- There are no further hidden layers as a balance between complexity of network and risk of overtraining.\n",
        "- The kernel size and number of convolutional layers follow empirically determined industry norms for general image detection and classification.\n"
      ]
    },
    {
      "cell_type": "code",
      "execution_count": 6,
      "id": "65dd676c-5fd9-4799-821a-9074f41ffafb",
      "metadata": {
        "id": "65dd676c-5fd9-4799-821a-9074f41ffafb"
      },
      "outputs": [],
      "source": [
        "class MelSpecTrainer(nn.Module):\n",
        "    def __init__(self, l1=256, l2=20):\n",
        "        super().__init__()\n",
        "\n",
        "        self.current_dimensions = IMAGE_INPUT_DIMENSIONS\n",
        "\n",
        "        self.conv_layer_1 = nn.Sequential(nn.Conv2d(4, 32, 3),\n",
        "                                          nn.ReLU(),\n",
        "                                          nn.MaxPool2d(kernel_size=2, stride=3)\n",
        "                                          )\n",
        "\n",
        "        self.conv_layer_2 = nn.Sequential(nn.Conv2d(32, 16, 3),\n",
        "                                          nn.ReLU(),\n",
        "                                          nn.MaxPool2d(kernel_size=2, stride=3)\n",
        "                                          )\n",
        "\n",
        "        self.flatten_layer = nn.Flatten()\n",
        "\n",
        "        self.linear_layer_1 = nn.Sequential(nn.Linear(13248, l1),\n",
        "                                            nn.ReLU())\n",
        "\n",
        "        self.linear_layer_2 = nn.Sequential(nn.Linear(l1, l2),\n",
        "                                            nn.ReLU())\n",
        "\n",
        "        self.classifier = nn.Linear(l2, 10)\n",
        "\n",
        "    def forward(self, x):\n",
        "        # First 2D convolution layer\n",
        "        x = self.conv_layer_1(x)\n",
        "        # Second 2D convolution layer\n",
        "        x = self.conv_layer_2(x)\n",
        "\n",
        "        # Linear layer and classifier\n",
        "        x = self.flatten_layer(x)\n",
        "        x = self.linear_layer_1(x)\n",
        "        x = self.linear_layer_2(x)\n",
        "        x = self.classifier(x)\n",
        "\n",
        "        return x"
      ]
    },
    {
      "cell_type": "code",
      "execution_count": 7,
      "id": "d1c9f89649d86123",
      "metadata": {
        "colab": {
          "base_uri": "https://localhost:8080/"
        },
        "id": "d1c9f89649d86123",
        "is_executing": true,
        "outputId": "8f7b5872-3cc1-45c1-95eb-5a859875af25"
      },
      "outputs": [
        {
          "name": "stdout",
          "output_type": "stream",
          "text": [
            "NVIDIA A100-SXM4-40GB\n"
          ]
        }
      ],
      "source": [
        "for i in range(torch.cuda.device_count()):\n",
        "   print(torch.cuda.get_device_properties(i).name)"
      ]
    },
    {
      "cell_type": "markdown",
      "id": "0676965e-5c31-40ea-ad7a-e31c8f8d8f06",
      "metadata": {
        "id": "0676965e-5c31-40ea-ad7a-e31c8f8d8f06"
      },
      "source": [
        "Create routines for training and validation. Perform Hyperparameter Tuning to devise a closer to optimized model."
      ]
    },
    {
      "cell_type": "code",
      "execution_count": 8,
      "id": "d5575b4c-1ecd-4f6e-a5a3-4e79951f43cf",
      "metadata": {
        "id": "d5575b4c-1ecd-4f6e-a5a3-4e79951f43cf"
      },
      "outputs": [],
      "source": [
        "def train_mel_spec_model(config):\n",
        "\n",
        "    model = MelSpecTrainer(l1=config[\"l1\"], l2=config[\"l2\"])\n",
        "    model.to(DEVICE)\n",
        "    image_dataset = ImageDataset()\n",
        "\n",
        "    # train model with training dataset, but ray tuner uses validation dataset to tune hyperparameters\n",
        "    train_model(model, DEVICE, config, image_dataset)"
      ]
    },
    {
      "cell_type": "markdown",
      "id": "c95d85c3-78ec-4ed3-b729-e99faa77eebf",
      "metadata": {
        "id": "c95d85c3-78ec-4ed3-b729-e99faa77eebf"
      },
      "source": [
        "## Testing\n",
        "\n",
        " Create routine for testing model. The split being used is 80% for training, 10% for validation, and 10% for testing."
      ]
    },
    {
      "cell_type": "code",
      "execution_count": 9,
      "id": "6ed01392-a18d-4209-a424-b438170562a5",
      "metadata": {
        "id": "6ed01392-a18d-4209-a424-b438170562a5"
      },
      "outputs": [],
      "source": [
        "def test_mel_spec_model(best_result):\n",
        "    best_model = MelSpecTrainer(l1=best_result.config[\"l1\"], l2=best_result.config[\"l2\"])\n",
        "    best_model.to(DEVICE)\n",
        "\n",
        "    image_dataset = ImageDataset()\n",
        "\n",
        "    test_model(best_model, best_result, image_dataset, DEVICE)"
      ]
    },
    {
      "cell_type": "markdown",
      "id": "f0ef4801-0023-4240-9c99-0f5dd639a45e",
      "metadata": {
        "id": "f0ef4801-0023-4240-9c99-0f5dd639a45e"
      },
      "source": [
        "# Main function\n",
        "\n",
        "Here, we specify the range for the hyperparameters we want Ray Tune to tune on. Run the training of the model using various hyperparameters.\n",
        "\n",
        "Test the model using the best trained model as obtained using Ray Tune"
      ]
    },
    {
      "cell_type": "code",
      "execution_count": 11,
      "id": "8a60d334-49ec-465e-9442-1c8a9687ec55",
      "metadata": {
        "colab": {
          "base_uri": "https://localhost:8080/"
        },
        "id": "8a60d334-49ec-465e-9442-1c8a9687ec55",
        "outputId": "c908ba2b-32dc-4fa7-c4df-38455f055552"
      },
      "outputs": [
        {
          "name": "stdout",
          "output_type": "stream",
          "text": [
            "+-----------------------------------------------------------------------------+\n",
            "| Configuration for experiment     train_mel_spec_model_2024-05-02_01-36-37   |\n",
            "+-----------------------------------------------------------------------------+\n",
            "| Search algorithm                 BasicVariantGenerator                      |\n",
            "| Scheduler                        AsyncHyperBandScheduler                    |\n",
            "| Number of trials                 10                                         |\n",
            "+-----------------------------------------------------------------------------+\n",
            "\n",
            "View detailed results here: /root/ray_results/train_mel_spec_model_2024-05-02_01-36-37\n",
            "To visualize your results with TensorBoard, run: `tensorboard --logdir /tmp/ray/session_2024-05-02_01-33-04_404093_2174/artifacts/2024-05-02_01-36-37/train_mel_spec_model_2024-05-02_01-36-37/driver_artifacts`\n",
            "\n",
            "Trial status: 10 PENDING\n",
            "Current time: 2024-05-02 01:36:38. Total running time: 0s\n",
            "Logical resource usage: 2.0/12 CPUs, 1.0/1 GPUs (0.0/1.0 accelerator_type:A100)\n",
            "+-------------------------------------------------------------------------------------------------------+\n",
            "| Trial name                         status       l1     l2            lr     batch_size     num_epochs |\n",
            "+-------------------------------------------------------------------------------------------------------+\n",
            "| train_mel_spec_model_6af8a_00000   PENDING     350     10   0.00072112              20             25 |\n",
            "| train_mel_spec_model_6af8a_00001   PENDING     600     10   0.000865771             40             45 |\n",
            "| train_mel_spec_model_6af8a_00002   PENDING     950     10   0.000246206             20             25 |\n",
            "| train_mel_spec_model_6af8a_00003   PENDING     750     10   0.00085858              30             35 |\n",
            "| train_mel_spec_model_6af8a_00004   PENDING     400     25   0.0044344               40             25 |\n",
            "| train_mel_spec_model_6af8a_00005   PENDING     450     25   0.0267079               15             25 |\n",
            "| train_mel_spec_model_6af8a_00006   PENDING     250      5   0.0158321               25             45 |\n",
            "| train_mel_spec_model_6af8a_00007   PENDING     950     15   0.000494764             20             45 |\n",
            "| train_mel_spec_model_6af8a_00008   PENDING     400     20   0.00123184              30             25 |\n",
            "| train_mel_spec_model_6af8a_00009   PENDING     800      5   0.00167952              25             45 |\n",
            "+-------------------------------------------------------------------------------------------------------+\n",
            "\n",
            "Trial train_mel_spec_model_6af8a_00000 started with configuration:\n",
            "+-----------------------------------------------------------+\n",
            "| Trial train_mel_spec_model_6af8a_00000 config             |\n",
            "+-----------------------------------------------------------+\n",
            "| batch_size                                             20 |\n",
            "| l1                                                    350 |\n",
            "| l2                                                     10 |\n",
            "| lr                                                0.00072 |\n",
            "| num_epochs                                             25 |\n",
            "+-----------------------------------------------------------+\n"
          ]
        },
        {
          "name": "stderr",
          "output_type": "stream",
          "text": [
            "\u001b[36m(train_mel_spec_model pid=5218)\u001b[0m Checkpoint successfully created at: Checkpoint(filesystem=local, path=/root/ray_results/train_mel_spec_model_2024-05-02_01-36-37/train_mel_spec_model_6af8a_00000_0_batch_size=20,l1=350,l2=10,lr=0.0007,num_epochs=25_2024-05-02_01-36-37/checkpoint_000000)\n",
            "\u001b[36m(train_mel_spec_model pid=5218)\u001b[0m Checkpoint successfully created at: Checkpoint(filesystem=local, path=/root/ray_results/train_mel_spec_model_2024-05-02_01-36-37/train_mel_spec_model_6af8a_00000_0_batch_size=20,l1=350,l2=10,lr=0.0007,num_epochs=25_2024-05-02_01-36-37/checkpoint_000001)\n",
            "\u001b[36m(train_mel_spec_model pid=5218)\u001b[0m Checkpoint successfully created at: Checkpoint(filesystem=local, path=/root/ray_results/train_mel_spec_model_2024-05-02_01-36-37/train_mel_spec_model_6af8a_00000_0_batch_size=20,l1=350,l2=10,lr=0.0007,num_epochs=25_2024-05-02_01-36-37/checkpoint_000002)\n",
            "\u001b[36m(train_mel_spec_model pid=5218)\u001b[0m Checkpoint successfully created at: Checkpoint(filesystem=local, path=/root/ray_results/train_mel_spec_model_2024-05-02_01-36-37/train_mel_spec_model_6af8a_00000_0_batch_size=20,l1=350,l2=10,lr=0.0007,num_epochs=25_2024-05-02_01-36-37/checkpoint_000003)\n",
            "\u001b[36m(train_mel_spec_model pid=5218)\u001b[0m Checkpoint successfully created at: Checkpoint(filesystem=local, path=/root/ray_results/train_mel_spec_model_2024-05-02_01-36-37/train_mel_spec_model_6af8a_00000_0_batch_size=20,l1=350,l2=10,lr=0.0007,num_epochs=25_2024-05-02_01-36-37/checkpoint_000004)\n",
            "\u001b[36m(train_mel_spec_model pid=5218)\u001b[0m Checkpoint successfully created at: Checkpoint(filesystem=local, path=/root/ray_results/train_mel_spec_model_2024-05-02_01-36-37/train_mel_spec_model_6af8a_00000_0_batch_size=20,l1=350,l2=10,lr=0.0007,num_epochs=25_2024-05-02_01-36-37/checkpoint_000005)\n",
            "\u001b[36m(train_mel_spec_model pid=5218)\u001b[0m Checkpoint successfully created at: Checkpoint(filesystem=local, path=/root/ray_results/train_mel_spec_model_2024-05-02_01-36-37/train_mel_spec_model_6af8a_00000_0_batch_size=20,l1=350,l2=10,lr=0.0007,num_epochs=25_2024-05-02_01-36-37/checkpoint_000006)\n",
            "\u001b[36m(train_mel_spec_model pid=5218)\u001b[0m Checkpoint successfully created at: Checkpoint(filesystem=local, path=/root/ray_results/train_mel_spec_model_2024-05-02_01-36-37/train_mel_spec_model_6af8a_00000_0_batch_size=20,l1=350,l2=10,lr=0.0007,num_epochs=25_2024-05-02_01-36-37/checkpoint_000007)\n",
            "\u001b[36m(train_mel_spec_model pid=5218)\u001b[0m Checkpoint successfully created at: Checkpoint(filesystem=local, path=/root/ray_results/train_mel_spec_model_2024-05-02_01-36-37/train_mel_spec_model_6af8a_00000_0_batch_size=20,l1=350,l2=10,lr=0.0007,num_epochs=25_2024-05-02_01-36-37/checkpoint_000008)\n",
            "\u001b[36m(train_mel_spec_model pid=5218)\u001b[0m Checkpoint successfully created at: Checkpoint(filesystem=local, path=/root/ray_results/train_mel_spec_model_2024-05-02_01-36-37/train_mel_spec_model_6af8a_00000_0_batch_size=20,l1=350,l2=10,lr=0.0007,num_epochs=25_2024-05-02_01-36-37/checkpoint_000009)\n",
            "\u001b[36m(train_mel_spec_model pid=5218)\u001b[0m Checkpoint successfully created at: Checkpoint(filesystem=local, path=/root/ray_results/train_mel_spec_model_2024-05-02_01-36-37/train_mel_spec_model_6af8a_00000_0_batch_size=20,l1=350,l2=10,lr=0.0007,num_epochs=25_2024-05-02_01-36-37/checkpoint_000010)\n",
            "\u001b[36m(train_mel_spec_model pid=5218)\u001b[0m Checkpoint successfully created at: Checkpoint(filesystem=local, path=/root/ray_results/train_mel_spec_model_2024-05-02_01-36-37/train_mel_spec_model_6af8a_00000_0_batch_size=20,l1=350,l2=10,lr=0.0007,num_epochs=25_2024-05-02_01-36-37/checkpoint_000011)\n",
            "\u001b[36m(train_mel_spec_model pid=5218)\u001b[0m Checkpoint successfully created at: Checkpoint(filesystem=local, path=/root/ray_results/train_mel_spec_model_2024-05-02_01-36-37/train_mel_spec_model_6af8a_00000_0_batch_size=20,l1=350,l2=10,lr=0.0007,num_epochs=25_2024-05-02_01-36-37/checkpoint_000012)\n",
            "\u001b[36m(train_mel_spec_model pid=5218)\u001b[0m Checkpoint successfully created at: Checkpoint(filesystem=local, path=/root/ray_results/train_mel_spec_model_2024-05-02_01-36-37/train_mel_spec_model_6af8a_00000_0_batch_size=20,l1=350,l2=10,lr=0.0007,num_epochs=25_2024-05-02_01-36-37/checkpoint_000013)\n",
            "\u001b[36m(train_mel_spec_model pid=5218)\u001b[0m Checkpoint successfully created at: Checkpoint(filesystem=local, path=/root/ray_results/train_mel_spec_model_2024-05-02_01-36-37/train_mel_spec_model_6af8a_00000_0_batch_size=20,l1=350,l2=10,lr=0.0007,num_epochs=25_2024-05-02_01-36-37/checkpoint_000014)\n",
            "\u001b[36m(train_mel_spec_model pid=5218)\u001b[0m Checkpoint successfully created at: Checkpoint(filesystem=local, path=/root/ray_results/train_mel_spec_model_2024-05-02_01-36-37/train_mel_spec_model_6af8a_00000_0_batch_size=20,l1=350,l2=10,lr=0.0007,num_epochs=25_2024-05-02_01-36-37/checkpoint_000015)\n",
            "\u001b[36m(train_mel_spec_model pid=5218)\u001b[0m Checkpoint successfully created at: Checkpoint(filesystem=local, path=/root/ray_results/train_mel_spec_model_2024-05-02_01-36-37/train_mel_spec_model_6af8a_00000_0_batch_size=20,l1=350,l2=10,lr=0.0007,num_epochs=25_2024-05-02_01-36-37/checkpoint_000016)\n",
            "\u001b[36m(train_mel_spec_model pid=5218)\u001b[0m Checkpoint successfully created at: Checkpoint(filesystem=local, path=/root/ray_results/train_mel_spec_model_2024-05-02_01-36-37/train_mel_spec_model_6af8a_00000_0_batch_size=20,l1=350,l2=10,lr=0.0007,num_epochs=25_2024-05-02_01-36-37/checkpoint_000017)\n",
            "\u001b[36m(train_mel_spec_model pid=5218)\u001b[0m Checkpoint successfully created at: Checkpoint(filesystem=local, path=/root/ray_results/train_mel_spec_model_2024-05-02_01-36-37/train_mel_spec_model_6af8a_00000_0_batch_size=20,l1=350,l2=10,lr=0.0007,num_epochs=25_2024-05-02_01-36-37/checkpoint_000018)\n",
            "\u001b[36m(train_mel_spec_model pid=5218)\u001b[0m Checkpoint successfully created at: Checkpoint(filesystem=local, path=/root/ray_results/train_mel_spec_model_2024-05-02_01-36-37/train_mel_spec_model_6af8a_00000_0_batch_size=20,l1=350,l2=10,lr=0.0007,num_epochs=25_2024-05-02_01-36-37/checkpoint_000019)\n",
            "\u001b[36m(train_mel_spec_model pid=5218)\u001b[0m Checkpoint successfully created at: Checkpoint(filesystem=local, path=/root/ray_results/train_mel_spec_model_2024-05-02_01-36-37/train_mel_spec_model_6af8a_00000_0_batch_size=20,l1=350,l2=10,lr=0.0007,num_epochs=25_2024-05-02_01-36-37/checkpoint_000020)\n",
            "\u001b[36m(train_mel_spec_model pid=5218)\u001b[0m Checkpoint successfully created at: Checkpoint(filesystem=local, path=/root/ray_results/train_mel_spec_model_2024-05-02_01-36-37/train_mel_spec_model_6af8a_00000_0_batch_size=20,l1=350,l2=10,lr=0.0007,num_epochs=25_2024-05-02_01-36-37/checkpoint_000021)\n",
            "\u001b[36m(train_mel_spec_model pid=5218)\u001b[0m Checkpoint successfully created at: Checkpoint(filesystem=local, path=/root/ray_results/train_mel_spec_model_2024-05-02_01-36-37/train_mel_spec_model_6af8a_00000_0_batch_size=20,l1=350,l2=10,lr=0.0007,num_epochs=25_2024-05-02_01-36-37/checkpoint_000022)\n",
            "\u001b[36m(train_mel_spec_model pid=5218)\u001b[0m Checkpoint successfully created at: Checkpoint(filesystem=local, path=/root/ray_results/train_mel_spec_model_2024-05-02_01-36-37/train_mel_spec_model_6af8a_00000_0_batch_size=20,l1=350,l2=10,lr=0.0007,num_epochs=25_2024-05-02_01-36-37/checkpoint_000023)\n"
          ]
        },
        {
          "name": "stdout",
          "output_type": "stream",
          "text": [
            "\n",
            "Trial train_mel_spec_model_6af8a_00000 completed after 25 iterations at 2024-05-02 01:37:06. Total running time: 28s\n",
            "+---------------------------------------------------------------------+\n",
            "| Trial train_mel_spec_model_6af8a_00000 result                       |\n",
            "+---------------------------------------------------------------------+\n",
            "| checkpoint_dir_name                               checkpoint_000024 |\n",
            "| time_this_iter_s                                            0.60646 |\n",
            "| time_total_s                                               24.01511 |\n",
            "| training_iteration                                               25 |\n",
            "| accuracy                                                    0.08081 |\n",
            "| loss                                                        2.30952 |\n",
            "+---------------------------------------------------------------------+\n"
          ]
        },
        {
          "name": "stderr",
          "output_type": "stream",
          "text": [
            "\u001b[36m(train_mel_spec_model pid=5218)\u001b[0m Checkpoint successfully created at: Checkpoint(filesystem=local, path=/root/ray_results/train_mel_spec_model_2024-05-02_01-36-37/train_mel_spec_model_6af8a_00000_0_batch_size=20,l1=350,l2=10,lr=0.0007,num_epochs=25_2024-05-02_01-36-37/checkpoint_000024)\n"
          ]
        },
        {
          "name": "stdout",
          "output_type": "stream",
          "text": [
            "\n",
            "Trial status: 1 TERMINATED | 9 PENDING\n",
            "Current time: 2024-05-02 01:37:08. Total running time: 30s\n",
            "Logical resource usage: 2.0/12 CPUs, 1.0/1 GPUs (0.0/1.0 accelerator_type:A100)\n",
            "Current best trial: 6af8a_00000 with loss=2.309520626068115 and params={'l1': 350, 'l2': 10, 'lr': 0.0007211200267397652, 'batch_size': 20, 'num_epochs': 25}\n",
            "+------------------------------------------------------------------------------------------------------------------------------------------------------------+\n",
            "| Trial name                         status         l1     l2            lr     batch_size     num_epochs     iter     total time (s)      loss     accuracy |\n",
            "+------------------------------------------------------------------------------------------------------------------------------------------------------------+\n",
            "| train_mel_spec_model_6af8a_00000   TERMINATED    350     10   0.00072112              20             25       25            24.0151   2.30952    0.0808081 |\n",
            "| train_mel_spec_model_6af8a_00001   PENDING       600     10   0.000865771             40             45                                                    |\n",
            "| train_mel_spec_model_6af8a_00002   PENDING       950     10   0.000246206             20             25                                                    |\n",
            "| train_mel_spec_model_6af8a_00003   PENDING       750     10   0.00085858              30             35                                                    |\n",
            "| train_mel_spec_model_6af8a_00004   PENDING       400     25   0.0044344               40             25                                                    |\n",
            "| train_mel_spec_model_6af8a_00005   PENDING       450     25   0.0267079               15             25                                                    |\n",
            "| train_mel_spec_model_6af8a_00006   PENDING       250      5   0.0158321               25             45                                                    |\n",
            "| train_mel_spec_model_6af8a_00007   PENDING       950     15   0.000494764             20             45                                                    |\n",
            "| train_mel_spec_model_6af8a_00008   PENDING       400     20   0.00123184              30             25                                                    |\n",
            "| train_mel_spec_model_6af8a_00009   PENDING       800      5   0.00167952              25             45                                                    |\n",
            "+------------------------------------------------------------------------------------------------------------------------------------------------------------+\n",
            "\n",
            "Trial train_mel_spec_model_6af8a_00001 started with configuration:\n",
            "+-----------------------------------------------------------+\n",
            "| Trial train_mel_spec_model_6af8a_00001 config             |\n",
            "+-----------------------------------------------------------+\n",
            "| batch_size                                             40 |\n",
            "| l1                                                    600 |\n",
            "| l2                                                     10 |\n",
            "| lr                                                0.00087 |\n",
            "| num_epochs                                             45 |\n",
            "+-----------------------------------------------------------+\n"
          ]
        },
        {
          "name": "stderr",
          "output_type": "stream",
          "text": [
            "\u001b[36m(train_mel_spec_model pid=5402)\u001b[0m Checkpoint successfully created at: Checkpoint(filesystem=local, path=/root/ray_results/train_mel_spec_model_2024-05-02_01-36-37/train_mel_spec_model_6af8a_00001_1_batch_size=40,l1=600,l2=10,lr=0.0009,num_epochs=45_2024-05-02_01-36-37/checkpoint_000000)\n",
            "\u001b[36m(train_mel_spec_model pid=5402)\u001b[0m Checkpoint successfully created at: Checkpoint(filesystem=local, path=/root/ray_results/train_mel_spec_model_2024-05-02_01-36-37/train_mel_spec_model_6af8a_00001_1_batch_size=40,l1=600,l2=10,lr=0.0009,num_epochs=45_2024-05-02_01-36-37/checkpoint_000001)\n",
            "\u001b[36m(train_mel_spec_model pid=5402)\u001b[0m Checkpoint successfully created at: Checkpoint(filesystem=local, path=/root/ray_results/train_mel_spec_model_2024-05-02_01-36-37/train_mel_spec_model_6af8a_00001_1_batch_size=40,l1=600,l2=10,lr=0.0009,num_epochs=45_2024-05-02_01-36-37/checkpoint_000002)\n",
            "\u001b[36m(train_mel_spec_model pid=5402)\u001b[0m Checkpoint successfully created at: Checkpoint(filesystem=local, path=/root/ray_results/train_mel_spec_model_2024-05-02_01-36-37/train_mel_spec_model_6af8a_00001_1_batch_size=40,l1=600,l2=10,lr=0.0009,num_epochs=45_2024-05-02_01-36-37/checkpoint_000003)\n",
            "\u001b[36m(train_mel_spec_model pid=5402)\u001b[0m Checkpoint successfully created at: Checkpoint(filesystem=local, path=/root/ray_results/train_mel_spec_model_2024-05-02_01-36-37/train_mel_spec_model_6af8a_00001_1_batch_size=40,l1=600,l2=10,lr=0.0009,num_epochs=45_2024-05-02_01-36-37/checkpoint_000004)\n",
            "\u001b[36m(train_mel_spec_model pid=5402)\u001b[0m Checkpoint successfully created at: Checkpoint(filesystem=local, path=/root/ray_results/train_mel_spec_model_2024-05-02_01-36-37/train_mel_spec_model_6af8a_00001_1_batch_size=40,l1=600,l2=10,lr=0.0009,num_epochs=45_2024-05-02_01-36-37/checkpoint_000005)\n",
            "\u001b[36m(train_mel_spec_model pid=5402)\u001b[0m Checkpoint successfully created at: Checkpoint(filesystem=local, path=/root/ray_results/train_mel_spec_model_2024-05-02_01-36-37/train_mel_spec_model_6af8a_00001_1_batch_size=40,l1=600,l2=10,lr=0.0009,num_epochs=45_2024-05-02_01-36-37/checkpoint_000006)\n",
            "\u001b[36m(train_mel_spec_model pid=5402)\u001b[0m Checkpoint successfully created at: Checkpoint(filesystem=local, path=/root/ray_results/train_mel_spec_model_2024-05-02_01-36-37/train_mel_spec_model_6af8a_00001_1_batch_size=40,l1=600,l2=10,lr=0.0009,num_epochs=45_2024-05-02_01-36-37/checkpoint_000007)\n",
            "\u001b[36m(train_mel_spec_model pid=5402)\u001b[0m Checkpoint successfully created at: Checkpoint(filesystem=local, path=/root/ray_results/train_mel_spec_model_2024-05-02_01-36-37/train_mel_spec_model_6af8a_00001_1_batch_size=40,l1=600,l2=10,lr=0.0009,num_epochs=45_2024-05-02_01-36-37/checkpoint_000008)\n",
            "\u001b[36m(train_mel_spec_model pid=5402)\u001b[0m Checkpoint successfully created at: Checkpoint(filesystem=local, path=/root/ray_results/train_mel_spec_model_2024-05-02_01-36-37/train_mel_spec_model_6af8a_00001_1_batch_size=40,l1=600,l2=10,lr=0.0009,num_epochs=45_2024-05-02_01-36-37/checkpoint_000009)\n",
            "\u001b[36m(train_mel_spec_model pid=5402)\u001b[0m Checkpoint successfully created at: Checkpoint(filesystem=local, path=/root/ray_results/train_mel_spec_model_2024-05-02_01-36-37/train_mel_spec_model_6af8a_00001_1_batch_size=40,l1=600,l2=10,lr=0.0009,num_epochs=45_2024-05-02_01-36-37/checkpoint_000010)\n",
            "\u001b[36m(train_mel_spec_model pid=5402)\u001b[0m Checkpoint successfully created at: Checkpoint(filesystem=local, path=/root/ray_results/train_mel_spec_model_2024-05-02_01-36-37/train_mel_spec_model_6af8a_00001_1_batch_size=40,l1=600,l2=10,lr=0.0009,num_epochs=45_2024-05-02_01-36-37/checkpoint_000011)\n",
            "\u001b[36m(train_mel_spec_model pid=5402)\u001b[0m Checkpoint successfully created at: Checkpoint(filesystem=local, path=/root/ray_results/train_mel_spec_model_2024-05-02_01-36-37/train_mel_spec_model_6af8a_00001_1_batch_size=40,l1=600,l2=10,lr=0.0009,num_epochs=45_2024-05-02_01-36-37/checkpoint_000012)\n",
            "\u001b[36m(train_mel_spec_model pid=5402)\u001b[0m Checkpoint successfully created at: Checkpoint(filesystem=local, path=/root/ray_results/train_mel_spec_model_2024-05-02_01-36-37/train_mel_spec_model_6af8a_00001_1_batch_size=40,l1=600,l2=10,lr=0.0009,num_epochs=45_2024-05-02_01-36-37/checkpoint_000013)\n",
            "\u001b[36m(train_mel_spec_model pid=5402)\u001b[0m Checkpoint successfully created at: Checkpoint(filesystem=local, path=/root/ray_results/train_mel_spec_model_2024-05-02_01-36-37/train_mel_spec_model_6af8a_00001_1_batch_size=40,l1=600,l2=10,lr=0.0009,num_epochs=45_2024-05-02_01-36-37/checkpoint_000014)\n",
            "\u001b[36m(train_mel_spec_model pid=5402)\u001b[0m Checkpoint successfully created at: Checkpoint(filesystem=local, path=/root/ray_results/train_mel_spec_model_2024-05-02_01-36-37/train_mel_spec_model_6af8a_00001_1_batch_size=40,l1=600,l2=10,lr=0.0009,num_epochs=45_2024-05-02_01-36-37/checkpoint_000015)\n",
            "\u001b[36m(train_mel_spec_model pid=5402)\u001b[0m Checkpoint successfully created at: Checkpoint(filesystem=local, path=/root/ray_results/train_mel_spec_model_2024-05-02_01-36-37/train_mel_spec_model_6af8a_00001_1_batch_size=40,l1=600,l2=10,lr=0.0009,num_epochs=45_2024-05-02_01-36-37/checkpoint_000016)\n",
            "\u001b[36m(train_mel_spec_model pid=5402)\u001b[0m Checkpoint successfully created at: Checkpoint(filesystem=local, path=/root/ray_results/train_mel_spec_model_2024-05-02_01-36-37/train_mel_spec_model_6af8a_00001_1_batch_size=40,l1=600,l2=10,lr=0.0009,num_epochs=45_2024-05-02_01-36-37/checkpoint_000017)\n",
            "\u001b[36m(train_mel_spec_model pid=5402)\u001b[0m Checkpoint successfully created at: Checkpoint(filesystem=local, path=/root/ray_results/train_mel_spec_model_2024-05-02_01-36-37/train_mel_spec_model_6af8a_00001_1_batch_size=40,l1=600,l2=10,lr=0.0009,num_epochs=45_2024-05-02_01-36-37/checkpoint_000018)\n",
            "\u001b[36m(train_mel_spec_model pid=5402)\u001b[0m Checkpoint successfully created at: Checkpoint(filesystem=local, path=/root/ray_results/train_mel_spec_model_2024-05-02_01-36-37/train_mel_spec_model_6af8a_00001_1_batch_size=40,l1=600,l2=10,lr=0.0009,num_epochs=45_2024-05-02_01-36-37/checkpoint_000019)\n"
          ]
        },
        {
          "name": "stdout",
          "output_type": "stream",
          "text": [
            "\n",
            "Trial status: 1 TERMINATED | 1 RUNNING | 8 PENDING\n",
            "Current time: 2024-05-02 01:37:38. Total running time: 1min 0s\n",
            "Logical resource usage: 2.0/12 CPUs, 1.0/1 GPUs (0.0/1.0 accelerator_type:A100)\n",
            "Current best trial: 6af8a_00001 with loss=1.8830409447352092 and params={'l1': 600, 'l2': 10, 'lr': 0.000865770575057602, 'batch_size': 40, 'num_epochs': 45}\n",
            "+------------------------------------------------------------------------------------------------------------------------------------------------------------+\n",
            "| Trial name                         status         l1     l2            lr     batch_size     num_epochs     iter     total time (s)      loss     accuracy |\n",
            "+------------------------------------------------------------------------------------------------------------------------------------------------------------+\n",
            "| train_mel_spec_model_6af8a_00001   RUNNING       600     10   0.000865771             40             45       20            26.2842   1.88304    0.212121  |\n",
            "| train_mel_spec_model_6af8a_00000   TERMINATED    350     10   0.00072112              20             25       25            24.0151   2.30952    0.0808081 |\n",
            "| train_mel_spec_model_6af8a_00002   PENDING       950     10   0.000246206             20             25                                                    |\n",
            "| train_mel_spec_model_6af8a_00003   PENDING       750     10   0.00085858              30             35                                                    |\n",
            "| train_mel_spec_model_6af8a_00004   PENDING       400     25   0.0044344               40             25                                                    |\n",
            "| train_mel_spec_model_6af8a_00005   PENDING       450     25   0.0267079               15             25                                                    |\n",
            "| train_mel_spec_model_6af8a_00006   PENDING       250      5   0.0158321               25             45                                                    |\n",
            "| train_mel_spec_model_6af8a_00007   PENDING       950     15   0.000494764             20             45                                                    |\n",
            "| train_mel_spec_model_6af8a_00008   PENDING       400     20   0.00123184              30             25                                                    |\n",
            "| train_mel_spec_model_6af8a_00009   PENDING       800      5   0.00167952              25             45                                                    |\n",
            "+------------------------------------------------------------------------------------------------------------------------------------------------------------+\n"
          ]
        },
        {
          "name": "stderr",
          "output_type": "stream",
          "text": [
            "2024-05-02 01:37:39,086\tWARNING util.py:201 -- The `on_step_begin` operation took 0.914 s, which may be a performance bottleneck.\n",
            "\u001b[36m(train_mel_spec_model pid=5402)\u001b[0m Checkpoint successfully created at: Checkpoint(filesystem=local, path=/root/ray_results/train_mel_spec_model_2024-05-02_01-36-37/train_mel_spec_model_6af8a_00001_1_batch_size=40,l1=600,l2=10,lr=0.0009,num_epochs=45_2024-05-02_01-36-37/checkpoint_000020)\n",
            "\u001b[36m(train_mel_spec_model pid=5402)\u001b[0m Checkpoint successfully created at: Checkpoint(filesystem=local, path=/root/ray_results/train_mel_spec_model_2024-05-02_01-36-37/train_mel_spec_model_6af8a_00001_1_batch_size=40,l1=600,l2=10,lr=0.0009,num_epochs=45_2024-05-02_01-36-37/checkpoint_000021)\n",
            "\u001b[36m(train_mel_spec_model pid=5402)\u001b[0m Checkpoint successfully created at: Checkpoint(filesystem=local, path=/root/ray_results/train_mel_spec_model_2024-05-02_01-36-37/train_mel_spec_model_6af8a_00001_1_batch_size=40,l1=600,l2=10,lr=0.0009,num_epochs=45_2024-05-02_01-36-37/checkpoint_000022)\n",
            "\u001b[36m(train_mel_spec_model pid=5402)\u001b[0m Checkpoint successfully created at: Checkpoint(filesystem=local, path=/root/ray_results/train_mel_spec_model_2024-05-02_01-36-37/train_mel_spec_model_6af8a_00001_1_batch_size=40,l1=600,l2=10,lr=0.0009,num_epochs=45_2024-05-02_01-36-37/checkpoint_000023)\n",
            "\u001b[36m(train_mel_spec_model pid=5402)\u001b[0m Checkpoint successfully created at: Checkpoint(filesystem=local, path=/root/ray_results/train_mel_spec_model_2024-05-02_01-36-37/train_mel_spec_model_6af8a_00001_1_batch_size=40,l1=600,l2=10,lr=0.0009,num_epochs=45_2024-05-02_01-36-37/checkpoint_000024)\n",
            "\u001b[36m(train_mel_spec_model pid=5402)\u001b[0m Checkpoint successfully created at: Checkpoint(filesystem=local, path=/root/ray_results/train_mel_spec_model_2024-05-02_01-36-37/train_mel_spec_model_6af8a_00001_1_batch_size=40,l1=600,l2=10,lr=0.0009,num_epochs=45_2024-05-02_01-36-37/checkpoint_000025)\n",
            "\u001b[36m(train_mel_spec_model pid=5402)\u001b[0m Checkpoint successfully created at: Checkpoint(filesystem=local, path=/root/ray_results/train_mel_spec_model_2024-05-02_01-36-37/train_mel_spec_model_6af8a_00001_1_batch_size=40,l1=600,l2=10,lr=0.0009,num_epochs=45_2024-05-02_01-36-37/checkpoint_000026)\n",
            "\u001b[36m(train_mel_spec_model pid=5402)\u001b[0m Checkpoint successfully created at: Checkpoint(filesystem=local, path=/root/ray_results/train_mel_spec_model_2024-05-02_01-36-37/train_mel_spec_model_6af8a_00001_1_batch_size=40,l1=600,l2=10,lr=0.0009,num_epochs=45_2024-05-02_01-36-37/checkpoint_000027)\n",
            "\u001b[36m(train_mel_spec_model pid=5402)\u001b[0m Checkpoint successfully created at: Checkpoint(filesystem=local, path=/root/ray_results/train_mel_spec_model_2024-05-02_01-36-37/train_mel_spec_model_6af8a_00001_1_batch_size=40,l1=600,l2=10,lr=0.0009,num_epochs=45_2024-05-02_01-36-37/checkpoint_000028)\n",
            "\u001b[36m(train_mel_spec_model pid=5402)\u001b[0m Checkpoint successfully created at: Checkpoint(filesystem=local, path=/root/ray_results/train_mel_spec_model_2024-05-02_01-36-37/train_mel_spec_model_6af8a_00001_1_batch_size=40,l1=600,l2=10,lr=0.0009,num_epochs=45_2024-05-02_01-36-37/checkpoint_000029)\n",
            "\u001b[36m(train_mel_spec_model pid=5402)\u001b[0m Checkpoint successfully created at: Checkpoint(filesystem=local, path=/root/ray_results/train_mel_spec_model_2024-05-02_01-36-37/train_mel_spec_model_6af8a_00001_1_batch_size=40,l1=600,l2=10,lr=0.0009,num_epochs=45_2024-05-02_01-36-37/checkpoint_000030)\n",
            "\u001b[36m(train_mel_spec_model pid=5402)\u001b[0m Checkpoint successfully created at: Checkpoint(filesystem=local, path=/root/ray_results/train_mel_spec_model_2024-05-02_01-36-37/train_mel_spec_model_6af8a_00001_1_batch_size=40,l1=600,l2=10,lr=0.0009,num_epochs=45_2024-05-02_01-36-37/checkpoint_000031)\n",
            "\u001b[36m(train_mel_spec_model pid=5402)\u001b[0m Checkpoint successfully created at: Checkpoint(filesystem=local, path=/root/ray_results/train_mel_spec_model_2024-05-02_01-36-37/train_mel_spec_model_6af8a_00001_1_batch_size=40,l1=600,l2=10,lr=0.0009,num_epochs=45_2024-05-02_01-36-37/checkpoint_000032)\n",
            "\u001b[36m(train_mel_spec_model pid=5402)\u001b[0m Checkpoint successfully created at: Checkpoint(filesystem=local, path=/root/ray_results/train_mel_spec_model_2024-05-02_01-36-37/train_mel_spec_model_6af8a_00001_1_batch_size=40,l1=600,l2=10,lr=0.0009,num_epochs=45_2024-05-02_01-36-37/checkpoint_000033)\n",
            "\u001b[36m(train_mel_spec_model pid=5402)\u001b[0m Checkpoint successfully created at: Checkpoint(filesystem=local, path=/root/ray_results/train_mel_spec_model_2024-05-02_01-36-37/train_mel_spec_model_6af8a_00001_1_batch_size=40,l1=600,l2=10,lr=0.0009,num_epochs=45_2024-05-02_01-36-37/checkpoint_000034)\n",
            "\u001b[36m(train_mel_spec_model pid=5402)\u001b[0m Checkpoint successfully created at: Checkpoint(filesystem=local, path=/root/ray_results/train_mel_spec_model_2024-05-02_01-36-37/train_mel_spec_model_6af8a_00001_1_batch_size=40,l1=600,l2=10,lr=0.0009,num_epochs=45_2024-05-02_01-36-37/checkpoint_000035)\n",
            "\u001b[36m(train_mel_spec_model pid=5402)\u001b[0m Checkpoint successfully created at: Checkpoint(filesystem=local, path=/root/ray_results/train_mel_spec_model_2024-05-02_01-36-37/train_mel_spec_model_6af8a_00001_1_batch_size=40,l1=600,l2=10,lr=0.0009,num_epochs=45_2024-05-02_01-36-37/checkpoint_000036)\n",
            "\u001b[36m(train_mel_spec_model pid=5402)\u001b[0m Checkpoint successfully created at: Checkpoint(filesystem=local, path=/root/ray_results/train_mel_spec_model_2024-05-02_01-36-37/train_mel_spec_model_6af8a_00001_1_batch_size=40,l1=600,l2=10,lr=0.0009,num_epochs=45_2024-05-02_01-36-37/checkpoint_000037)\n",
            "\u001b[36m(train_mel_spec_model pid=5402)\u001b[0m Checkpoint successfully created at: Checkpoint(filesystem=local, path=/root/ray_results/train_mel_spec_model_2024-05-02_01-36-37/train_mel_spec_model_6af8a_00001_1_batch_size=40,l1=600,l2=10,lr=0.0009,num_epochs=45_2024-05-02_01-36-37/checkpoint_000038)\n",
            "\u001b[36m(train_mel_spec_model pid=5402)\u001b[0m Checkpoint successfully created at: Checkpoint(filesystem=local, path=/root/ray_results/train_mel_spec_model_2024-05-02_01-36-37/train_mel_spec_model_6af8a_00001_1_batch_size=40,l1=600,l2=10,lr=0.0009,num_epochs=45_2024-05-02_01-36-37/checkpoint_000039)\n",
            "\u001b[36m(train_mel_spec_model pid=5402)\u001b[0m Checkpoint successfully created at: Checkpoint(filesystem=local, path=/root/ray_results/train_mel_spec_model_2024-05-02_01-36-37/train_mel_spec_model_6af8a_00001_1_batch_size=40,l1=600,l2=10,lr=0.0009,num_epochs=45_2024-05-02_01-36-37/checkpoint_000040)\n",
            "\u001b[36m(train_mel_spec_model pid=5402)\u001b[0m Checkpoint successfully created at: Checkpoint(filesystem=local, path=/root/ray_results/train_mel_spec_model_2024-05-02_01-36-37/train_mel_spec_model_6af8a_00001_1_batch_size=40,l1=600,l2=10,lr=0.0009,num_epochs=45_2024-05-02_01-36-37/checkpoint_000041)\n",
            "\u001b[36m(train_mel_spec_model pid=5402)\u001b[0m Checkpoint successfully created at: Checkpoint(filesystem=local, path=/root/ray_results/train_mel_spec_model_2024-05-02_01-36-37/train_mel_spec_model_6af8a_00001_1_batch_size=40,l1=600,l2=10,lr=0.0009,num_epochs=45_2024-05-02_01-36-37/checkpoint_000042)\n",
            "\u001b[36m(train_mel_spec_model pid=5402)\u001b[0m Checkpoint successfully created at: Checkpoint(filesystem=local, path=/root/ray_results/train_mel_spec_model_2024-05-02_01-36-37/train_mel_spec_model_6af8a_00001_1_batch_size=40,l1=600,l2=10,lr=0.0009,num_epochs=45_2024-05-02_01-36-37/checkpoint_000043)\n"
          ]
        },
        {
          "name": "stdout",
          "output_type": "stream",
          "text": [
            "\n",
            "Trial train_mel_spec_model_6af8a_00001 completed after 45 iterations at 2024-05-02 01:38:05. Total running time: 1min 27s\n",
            "+---------------------------------------------------------------------+\n",
            "| Trial train_mel_spec_model_6af8a_00001 result                       |\n",
            "+---------------------------------------------------------------------+\n",
            "| checkpoint_dir_name                               checkpoint_000044 |\n",
            "| time_this_iter_s                                            0.81662 |\n",
            "| time_total_s                                               54.24064 |\n",
            "| training_iteration                                               45 |\n",
            "| accuracy                                                    0.29293 |\n",
            "| loss                                                         2.7591 |\n",
            "+---------------------------------------------------------------------+\n"
          ]
        },
        {
          "name": "stderr",
          "output_type": "stream",
          "text": [
            "\u001b[36m(train_mel_spec_model pid=5402)\u001b[0m Checkpoint successfully created at: Checkpoint(filesystem=local, path=/root/ray_results/train_mel_spec_model_2024-05-02_01-36-37/train_mel_spec_model_6af8a_00001_1_batch_size=40,l1=600,l2=10,lr=0.0009,num_epochs=45_2024-05-02_01-36-37/checkpoint_000044)\n"
          ]
        },
        {
          "name": "stdout",
          "output_type": "stream",
          "text": [
            "\n",
            "Trial status: 2 TERMINATED | 8 PENDING\n",
            "Current time: 2024-05-02 01:38:08. Total running time: 1min 30s\n",
            "Logical resource usage: 2.0/12 CPUs, 1.0/1 GPUs (0.0/1.0 accelerator_type:A100)\n",
            "Current best trial: 6af8a_00000 with loss=2.309520626068115 and params={'l1': 350, 'l2': 10, 'lr': 0.0007211200267397652, 'batch_size': 20, 'num_epochs': 25}\n",
            "+------------------------------------------------------------------------------------------------------------------------------------------------------------+\n",
            "| Trial name                         status         l1     l2            lr     batch_size     num_epochs     iter     total time (s)      loss     accuracy |\n",
            "+------------------------------------------------------------------------------------------------------------------------------------------------------------+\n",
            "| train_mel_spec_model_6af8a_00000   TERMINATED    350     10   0.00072112              20             25       25            24.0151   2.30952    0.0808081 |\n",
            "| train_mel_spec_model_6af8a_00001   TERMINATED    600     10   0.000865771             40             45       45            54.2406   2.7591     0.292929  |\n",
            "| train_mel_spec_model_6af8a_00002   PENDING       950     10   0.000246206             20             25                                                    |\n",
            "| train_mel_spec_model_6af8a_00003   PENDING       750     10   0.00085858              30             35                                                    |\n",
            "| train_mel_spec_model_6af8a_00004   PENDING       400     25   0.0044344               40             25                                                    |\n",
            "| train_mel_spec_model_6af8a_00005   PENDING       450     25   0.0267079               15             25                                                    |\n",
            "| train_mel_spec_model_6af8a_00006   PENDING       250      5   0.0158321               25             45                                                    |\n",
            "| train_mel_spec_model_6af8a_00007   PENDING       950     15   0.000494764             20             45                                                    |\n",
            "| train_mel_spec_model_6af8a_00008   PENDING       400     20   0.00123184              30             25                                                    |\n",
            "| train_mel_spec_model_6af8a_00009   PENDING       800      5   0.00167952              25             45                                                    |\n",
            "+------------------------------------------------------------------------------------------------------------------------------------------------------------+\n",
            "\n",
            "Trial train_mel_spec_model_6af8a_00002 started with configuration:\n",
            "+-----------------------------------------------------------+\n",
            "| Trial train_mel_spec_model_6af8a_00002 config             |\n",
            "+-----------------------------------------------------------+\n",
            "| batch_size                                             20 |\n",
            "| l1                                                    950 |\n",
            "| l2                                                     10 |\n",
            "| lr                                                0.00025 |\n",
            "| num_epochs                                             25 |\n",
            "+-----------------------------------------------------------+\n"
          ]
        },
        {
          "name": "stderr",
          "output_type": "stream",
          "text": [
            "\u001b[36m(train_mel_spec_model pid=5700)\u001b[0m Checkpoint successfully created at: Checkpoint(filesystem=local, path=/root/ray_results/train_mel_spec_model_2024-05-02_01-36-37/train_mel_spec_model_6af8a_00002_2_batch_size=20,l1=950,l2=10,lr=0.0002,num_epochs=25_2024-05-02_01-36-37/checkpoint_000000)\n",
            "\u001b[36m(train_mel_spec_model pid=5700)\u001b[0m Checkpoint successfully created at: Checkpoint(filesystem=local, path=/root/ray_results/train_mel_spec_model_2024-05-02_01-36-37/train_mel_spec_model_6af8a_00002_2_batch_size=20,l1=950,l2=10,lr=0.0002,num_epochs=25_2024-05-02_01-36-37/checkpoint_000001)\n",
            "\u001b[36m(train_mel_spec_model pid=5700)\u001b[0m Checkpoint successfully created at: Checkpoint(filesystem=local, path=/root/ray_results/train_mel_spec_model_2024-05-02_01-36-37/train_mel_spec_model_6af8a_00002_2_batch_size=20,l1=950,l2=10,lr=0.0002,num_epochs=25_2024-05-02_01-36-37/checkpoint_000002)\n",
            "\u001b[36m(train_mel_spec_model pid=5700)\u001b[0m Checkpoint successfully created at: Checkpoint(filesystem=local, path=/root/ray_results/train_mel_spec_model_2024-05-02_01-36-37/train_mel_spec_model_6af8a_00002_2_batch_size=20,l1=950,l2=10,lr=0.0002,num_epochs=25_2024-05-02_01-36-37/checkpoint_000003)\n",
            "\u001b[36m(train_mel_spec_model pid=5700)\u001b[0m Checkpoint successfully created at: Checkpoint(filesystem=local, path=/root/ray_results/train_mel_spec_model_2024-05-02_01-36-37/train_mel_spec_model_6af8a_00002_2_batch_size=20,l1=950,l2=10,lr=0.0002,num_epochs=25_2024-05-02_01-36-37/checkpoint_000004)\n",
            "\u001b[36m(train_mel_spec_model pid=5700)\u001b[0m Checkpoint successfully created at: Checkpoint(filesystem=local, path=/root/ray_results/train_mel_spec_model_2024-05-02_01-36-37/train_mel_spec_model_6af8a_00002_2_batch_size=20,l1=950,l2=10,lr=0.0002,num_epochs=25_2024-05-02_01-36-37/checkpoint_000005)\n",
            "\u001b[36m(train_mel_spec_model pid=5700)\u001b[0m Checkpoint successfully created at: Checkpoint(filesystem=local, path=/root/ray_results/train_mel_spec_model_2024-05-02_01-36-37/train_mel_spec_model_6af8a_00002_2_batch_size=20,l1=950,l2=10,lr=0.0002,num_epochs=25_2024-05-02_01-36-37/checkpoint_000006)\n",
            "\u001b[36m(train_mel_spec_model pid=5700)\u001b[0m Checkpoint successfully created at: Checkpoint(filesystem=local, path=/root/ray_results/train_mel_spec_model_2024-05-02_01-36-37/train_mel_spec_model_6af8a_00002_2_batch_size=20,l1=950,l2=10,lr=0.0002,num_epochs=25_2024-05-02_01-36-37/checkpoint_000007)\n",
            "\u001b[36m(train_mel_spec_model pid=5700)\u001b[0m Checkpoint successfully created at: Checkpoint(filesystem=local, path=/root/ray_results/train_mel_spec_model_2024-05-02_01-36-37/train_mel_spec_model_6af8a_00002_2_batch_size=20,l1=950,l2=10,lr=0.0002,num_epochs=25_2024-05-02_01-36-37/checkpoint_000008)\n",
            "\u001b[36m(train_mel_spec_model pid=5700)\u001b[0m Checkpoint successfully created at: Checkpoint(filesystem=local, path=/root/ray_results/train_mel_spec_model_2024-05-02_01-36-37/train_mel_spec_model_6af8a_00002_2_batch_size=20,l1=950,l2=10,lr=0.0002,num_epochs=25_2024-05-02_01-36-37/checkpoint_000009)\n",
            "\u001b[36m(train_mel_spec_model pid=5700)\u001b[0m Checkpoint successfully created at: Checkpoint(filesystem=local, path=/root/ray_results/train_mel_spec_model_2024-05-02_01-36-37/train_mel_spec_model_6af8a_00002_2_batch_size=20,l1=950,l2=10,lr=0.0002,num_epochs=25_2024-05-02_01-36-37/checkpoint_000010)\n",
            "\u001b[36m(train_mel_spec_model pid=5700)\u001b[0m Checkpoint successfully created at: Checkpoint(filesystem=local, path=/root/ray_results/train_mel_spec_model_2024-05-02_01-36-37/train_mel_spec_model_6af8a_00002_2_batch_size=20,l1=950,l2=10,lr=0.0002,num_epochs=25_2024-05-02_01-36-37/checkpoint_000011)\n",
            "\u001b[36m(train_mel_spec_model pid=5700)\u001b[0m Checkpoint successfully created at: Checkpoint(filesystem=local, path=/root/ray_results/train_mel_spec_model_2024-05-02_01-36-37/train_mel_spec_model_6af8a_00002_2_batch_size=20,l1=950,l2=10,lr=0.0002,num_epochs=25_2024-05-02_01-36-37/checkpoint_000012)\n",
            "\u001b[36m(train_mel_spec_model pid=5700)\u001b[0m Checkpoint successfully created at: Checkpoint(filesystem=local, path=/root/ray_results/train_mel_spec_model_2024-05-02_01-36-37/train_mel_spec_model_6af8a_00002_2_batch_size=20,l1=950,l2=10,lr=0.0002,num_epochs=25_2024-05-02_01-36-37/checkpoint_000013)\n",
            "\u001b[36m(train_mel_spec_model pid=5700)\u001b[0m Checkpoint successfully created at: Checkpoint(filesystem=local, path=/root/ray_results/train_mel_spec_model_2024-05-02_01-36-37/train_mel_spec_model_6af8a_00002_2_batch_size=20,l1=950,l2=10,lr=0.0002,num_epochs=25_2024-05-02_01-36-37/checkpoint_000014)\n",
            "\u001b[36m(train_mel_spec_model pid=5700)\u001b[0m Checkpoint successfully created at: Checkpoint(filesystem=local, path=/root/ray_results/train_mel_spec_model_2024-05-02_01-36-37/train_mel_spec_model_6af8a_00002_2_batch_size=20,l1=950,l2=10,lr=0.0002,num_epochs=25_2024-05-02_01-36-37/checkpoint_000015)\n",
            "\u001b[36m(train_mel_spec_model pid=5700)\u001b[0m Checkpoint successfully created at: Checkpoint(filesystem=local, path=/root/ray_results/train_mel_spec_model_2024-05-02_01-36-37/train_mel_spec_model_6af8a_00002_2_batch_size=20,l1=950,l2=10,lr=0.0002,num_epochs=25_2024-05-02_01-36-37/checkpoint_000016)\n",
            "\u001b[36m(train_mel_spec_model pid=5700)\u001b[0m Checkpoint successfully created at: Checkpoint(filesystem=local, path=/root/ray_results/train_mel_spec_model_2024-05-02_01-36-37/train_mel_spec_model_6af8a_00002_2_batch_size=20,l1=950,l2=10,lr=0.0002,num_epochs=25_2024-05-02_01-36-37/checkpoint_000017)\n"
          ]
        },
        {
          "name": "stdout",
          "output_type": "stream",
          "text": [
            "\n",
            "Trial status: 2 TERMINATED | 1 RUNNING | 7 PENDING\n",
            "Current time: 2024-05-02 01:38:38. Total running time: 2min 0s\n",
            "Logical resource usage: 2.0/12 CPUs, 1.0/1 GPUs (0.0/1.0 accelerator_type:A100)\n",
            "Current best trial: 6af8a_00002 with loss=1.8909579038619995 and params={'l1': 950, 'l2': 10, 'lr': 0.0002462059365080744, 'batch_size': 20, 'num_epochs': 25}\n",
            "+------------------------------------------------------------------------------------------------------------------------------------------------------------+\n",
            "| Trial name                         status         l1     l2            lr     batch_size     num_epochs     iter     total time (s)      loss     accuracy |\n",
            "+------------------------------------------------------------------------------------------------------------------------------------------------------------+\n",
            "| train_mel_spec_model_6af8a_00002   RUNNING       950     10   0.000246206             20             25       18            28.6554   1.89096    0.292929  |\n",
            "| train_mel_spec_model_6af8a_00000   TERMINATED    350     10   0.00072112              20             25       25            24.0151   2.30952    0.0808081 |\n",
            "| train_mel_spec_model_6af8a_00001   TERMINATED    600     10   0.000865771             40             45       45            54.2406   2.7591     0.292929  |\n",
            "| train_mel_spec_model_6af8a_00003   PENDING       750     10   0.00085858              30             35                                                    |\n",
            "| train_mel_spec_model_6af8a_00004   PENDING       400     25   0.0044344               40             25                                                    |\n",
            "| train_mel_spec_model_6af8a_00005   PENDING       450     25   0.0267079               15             25                                                    |\n",
            "| train_mel_spec_model_6af8a_00006   PENDING       250      5   0.0158321               25             45                                                    |\n",
            "| train_mel_spec_model_6af8a_00007   PENDING       950     15   0.000494764             20             45                                                    |\n",
            "| train_mel_spec_model_6af8a_00008   PENDING       400     20   0.00123184              30             25                                                    |\n",
            "| train_mel_spec_model_6af8a_00009   PENDING       800      5   0.00167952              25             45                                                    |\n",
            "+------------------------------------------------------------------------------------------------------------------------------------------------------------+\n"
          ]
        },
        {
          "name": "stderr",
          "output_type": "stream",
          "text": [
            "\u001b[36m(train_mel_spec_model pid=5700)\u001b[0m Checkpoint successfully created at: Checkpoint(filesystem=local, path=/root/ray_results/train_mel_spec_model_2024-05-02_01-36-37/train_mel_spec_model_6af8a_00002_2_batch_size=20,l1=950,l2=10,lr=0.0002,num_epochs=25_2024-05-02_01-36-37/checkpoint_000018)\n",
            "\u001b[36m(train_mel_spec_model pid=5700)\u001b[0m Checkpoint successfully created at: Checkpoint(filesystem=local, path=/root/ray_results/train_mel_spec_model_2024-05-02_01-36-37/train_mel_spec_model_6af8a_00002_2_batch_size=20,l1=950,l2=10,lr=0.0002,num_epochs=25_2024-05-02_01-36-37/checkpoint_000019)\n",
            "\u001b[36m(train_mel_spec_model pid=5700)\u001b[0m Checkpoint successfully created at: Checkpoint(filesystem=local, path=/root/ray_results/train_mel_spec_model_2024-05-02_01-36-37/train_mel_spec_model_6af8a_00002_2_batch_size=20,l1=950,l2=10,lr=0.0002,num_epochs=25_2024-05-02_01-36-37/checkpoint_000020)\n",
            "\u001b[36m(train_mel_spec_model pid=5700)\u001b[0m Checkpoint successfully created at: Checkpoint(filesystem=local, path=/root/ray_results/train_mel_spec_model_2024-05-02_01-36-37/train_mel_spec_model_6af8a_00002_2_batch_size=20,l1=950,l2=10,lr=0.0002,num_epochs=25_2024-05-02_01-36-37/checkpoint_000021)\n",
            "\u001b[36m(train_mel_spec_model pid=5700)\u001b[0m Checkpoint successfully created at: Checkpoint(filesystem=local, path=/root/ray_results/train_mel_spec_model_2024-05-02_01-36-37/train_mel_spec_model_6af8a_00002_2_batch_size=20,l1=950,l2=10,lr=0.0002,num_epochs=25_2024-05-02_01-36-37/checkpoint_000022)\n",
            "\u001b[36m(train_mel_spec_model pid=5700)\u001b[0m Checkpoint successfully created at: Checkpoint(filesystem=local, path=/root/ray_results/train_mel_spec_model_2024-05-02_01-36-37/train_mel_spec_model_6af8a_00002_2_batch_size=20,l1=950,l2=10,lr=0.0002,num_epochs=25_2024-05-02_01-36-37/checkpoint_000023)\n"
          ]
        },
        {
          "name": "stdout",
          "output_type": "stream",
          "text": [
            "\n",
            "Trial train_mel_spec_model_6af8a_00002 completed after 25 iterations at 2024-05-02 01:38:44. Total running time: 2min 6s\n",
            "+---------------------------------------------------------------------+\n",
            "| Trial train_mel_spec_model_6af8a_00002 result                       |\n",
            "+---------------------------------------------------------------------+\n",
            "| checkpoint_dir_name                               checkpoint_000024 |\n",
            "| time_this_iter_s                                             0.9044 |\n",
            "| time_total_s                                               35.02788 |\n",
            "| training_iteration                                               25 |\n",
            "| accuracy                                                    0.39394 |\n",
            "| loss                                                        2.04334 |\n",
            "+---------------------------------------------------------------------+\n"
          ]
        },
        {
          "name": "stderr",
          "output_type": "stream",
          "text": [
            "\u001b[36m(train_mel_spec_model pid=5700)\u001b[0m Checkpoint successfully created at: Checkpoint(filesystem=local, path=/root/ray_results/train_mel_spec_model_2024-05-02_01-36-37/train_mel_spec_model_6af8a_00002_2_batch_size=20,l1=950,l2=10,lr=0.0002,num_epochs=25_2024-05-02_01-36-37/checkpoint_000024)\n"
          ]
        },
        {
          "name": "stdout",
          "output_type": "stream",
          "text": [
            "\n",
            "Trial train_mel_spec_model_6af8a_00003 started with configuration:\n",
            "+-----------------------------------------------------------+\n",
            "| Trial train_mel_spec_model_6af8a_00003 config             |\n",
            "+-----------------------------------------------------------+\n",
            "| batch_size                                             30 |\n",
            "| l1                                                    750 |\n",
            "| l2                                                     10 |\n",
            "| lr                                                0.00086 |\n",
            "| num_epochs                                             35 |\n",
            "+-----------------------------------------------------------+\n"
          ]
        },
        {
          "name": "stderr",
          "output_type": "stream",
          "text": [
            "\u001b[36m(train_mel_spec_model pid=5927)\u001b[0m Checkpoint successfully created at: Checkpoint(filesystem=local, path=/root/ray_results/train_mel_spec_model_2024-05-02_01-36-37/train_mel_spec_model_6af8a_00003_3_batch_size=30,l1=750,l2=10,lr=0.0009,num_epochs=35_2024-05-02_01-36-37/checkpoint_000000)\n",
            "\u001b[36m(train_mel_spec_model pid=5927)\u001b[0m Checkpoint successfully created at: Checkpoint(filesystem=local, path=/root/ray_results/train_mel_spec_model_2024-05-02_01-36-37/train_mel_spec_model_6af8a_00003_3_batch_size=30,l1=750,l2=10,lr=0.0009,num_epochs=35_2024-05-02_01-36-37/checkpoint_000001)\n",
            "\u001b[36m(train_mel_spec_model pid=5927)\u001b[0m Checkpoint successfully created at: Checkpoint(filesystem=local, path=/root/ray_results/train_mel_spec_model_2024-05-02_01-36-37/train_mel_spec_model_6af8a_00003_3_batch_size=30,l1=750,l2=10,lr=0.0009,num_epochs=35_2024-05-02_01-36-37/checkpoint_000002)\n",
            "\u001b[36m(train_mel_spec_model pid=5927)\u001b[0m Checkpoint successfully created at: Checkpoint(filesystem=local, path=/root/ray_results/train_mel_spec_model_2024-05-02_01-36-37/train_mel_spec_model_6af8a_00003_3_batch_size=30,l1=750,l2=10,lr=0.0009,num_epochs=35_2024-05-02_01-36-37/checkpoint_000003)\n",
            "\u001b[36m(train_mel_spec_model pid=5927)\u001b[0m Checkpoint successfully created at: Checkpoint(filesystem=local, path=/root/ray_results/train_mel_spec_model_2024-05-02_01-36-37/train_mel_spec_model_6af8a_00003_3_batch_size=30,l1=750,l2=10,lr=0.0009,num_epochs=35_2024-05-02_01-36-37/checkpoint_000004)\n",
            "\u001b[36m(train_mel_spec_model pid=5927)\u001b[0m Checkpoint successfully created at: Checkpoint(filesystem=local, path=/root/ray_results/train_mel_spec_model_2024-05-02_01-36-37/train_mel_spec_model_6af8a_00003_3_batch_size=30,l1=750,l2=10,lr=0.0009,num_epochs=35_2024-05-02_01-36-37/checkpoint_000005)\n",
            "\u001b[36m(train_mel_spec_model pid=5927)\u001b[0m Checkpoint successfully created at: Checkpoint(filesystem=local, path=/root/ray_results/train_mel_spec_model_2024-05-02_01-36-37/train_mel_spec_model_6af8a_00003_3_batch_size=30,l1=750,l2=10,lr=0.0009,num_epochs=35_2024-05-02_01-36-37/checkpoint_000006)\n",
            "\u001b[36m(train_mel_spec_model pid=5927)\u001b[0m Checkpoint successfully created at: Checkpoint(filesystem=local, path=/root/ray_results/train_mel_spec_model_2024-05-02_01-36-37/train_mel_spec_model_6af8a_00003_3_batch_size=30,l1=750,l2=10,lr=0.0009,num_epochs=35_2024-05-02_01-36-37/checkpoint_000007)\n",
            "\u001b[36m(train_mel_spec_model pid=5927)\u001b[0m Checkpoint successfully created at: Checkpoint(filesystem=local, path=/root/ray_results/train_mel_spec_model_2024-05-02_01-36-37/train_mel_spec_model_6af8a_00003_3_batch_size=30,l1=750,l2=10,lr=0.0009,num_epochs=35_2024-05-02_01-36-37/checkpoint_000008)\n",
            "\u001b[36m(train_mel_spec_model pid=5927)\u001b[0m Checkpoint successfully created at: Checkpoint(filesystem=local, path=/root/ray_results/train_mel_spec_model_2024-05-02_01-36-37/train_mel_spec_model_6af8a_00003_3_batch_size=30,l1=750,l2=10,lr=0.0009,num_epochs=35_2024-05-02_01-36-37/checkpoint_000009)\n"
          ]
        },
        {
          "name": "stdout",
          "output_type": "stream",
          "text": [
            "\n",
            "Trial status: 3 TERMINATED | 1 RUNNING | 6 PENDING\n",
            "Current time: 2024-05-02 01:39:08. Total running time: 2min 30s\n",
            "Logical resource usage: 2.0/12 CPUs, 1.0/1 GPUs (0.0/1.0 accelerator_type:A100)\n",
            "Current best trial: 6af8a_00003 with loss=1.9034398794174194 and params={'l1': 750, 'l2': 10, 'lr': 0.0008585796726952695, 'batch_size': 30, 'num_epochs': 35}\n",
            "+------------------------------------------------------------------------------------------------------------------------------------------------------------+\n",
            "| Trial name                         status         l1     l2            lr     batch_size     num_epochs     iter     total time (s)      loss     accuracy |\n",
            "+------------------------------------------------------------------------------------------------------------------------------------------------------------+\n",
            "| train_mel_spec_model_6af8a_00003   RUNNING       750     10   0.00085858              30             35       10            17.2476   1.90344    0.242424  |\n",
            "| train_mel_spec_model_6af8a_00000   TERMINATED    350     10   0.00072112              20             25       25            24.0151   2.30952    0.0808081 |\n",
            "| train_mel_spec_model_6af8a_00001   TERMINATED    600     10   0.000865771             40             45       45            54.2406   2.7591     0.292929  |\n",
            "| train_mel_spec_model_6af8a_00002   TERMINATED    950     10   0.000246206             20             25       25            35.0279   2.04334    0.393939  |\n",
            "| train_mel_spec_model_6af8a_00004   PENDING       400     25   0.0044344               40             25                                                    |\n",
            "| train_mel_spec_model_6af8a_00005   PENDING       450     25   0.0267079               15             25                                                    |\n",
            "| train_mel_spec_model_6af8a_00006   PENDING       250      5   0.0158321               25             45                                                    |\n",
            "| train_mel_spec_model_6af8a_00007   PENDING       950     15   0.000494764             20             45                                                    |\n",
            "| train_mel_spec_model_6af8a_00008   PENDING       400     20   0.00123184              30             25                                                    |\n",
            "| train_mel_spec_model_6af8a_00009   PENDING       800      5   0.00167952              25             45                                                    |\n",
            "+------------------------------------------------------------------------------------------------------------------------------------------------------------+\n"
          ]
        },
        {
          "name": "stderr",
          "output_type": "stream",
          "text": [
            "\u001b[36m(train_mel_spec_model pid=5927)\u001b[0m Checkpoint successfully created at: Checkpoint(filesystem=local, path=/root/ray_results/train_mel_spec_model_2024-05-02_01-36-37/train_mel_spec_model_6af8a_00003_3_batch_size=30,l1=750,l2=10,lr=0.0009,num_epochs=35_2024-05-02_01-36-37/checkpoint_000010)\n",
            "\u001b[36m(train_mel_spec_model pid=5927)\u001b[0m Checkpoint successfully created at: Checkpoint(filesystem=local, path=/root/ray_results/train_mel_spec_model_2024-05-02_01-36-37/train_mel_spec_model_6af8a_00003_3_batch_size=30,l1=750,l2=10,lr=0.0009,num_epochs=35_2024-05-02_01-36-37/checkpoint_000011)\n",
            "\u001b[36m(train_mel_spec_model pid=5927)\u001b[0m Checkpoint successfully created at: Checkpoint(filesystem=local, path=/root/ray_results/train_mel_spec_model_2024-05-02_01-36-37/train_mel_spec_model_6af8a_00003_3_batch_size=30,l1=750,l2=10,lr=0.0009,num_epochs=35_2024-05-02_01-36-37/checkpoint_000012)\n",
            "\u001b[36m(train_mel_spec_model pid=5927)\u001b[0m Checkpoint successfully created at: Checkpoint(filesystem=local, path=/root/ray_results/train_mel_spec_model_2024-05-02_01-36-37/train_mel_spec_model_6af8a_00003_3_batch_size=30,l1=750,l2=10,lr=0.0009,num_epochs=35_2024-05-02_01-36-37/checkpoint_000013)\n",
            "\u001b[36m(train_mel_spec_model pid=5927)\u001b[0m Checkpoint successfully created at: Checkpoint(filesystem=local, path=/root/ray_results/train_mel_spec_model_2024-05-02_01-36-37/train_mel_spec_model_6af8a_00003_3_batch_size=30,l1=750,l2=10,lr=0.0009,num_epochs=35_2024-05-02_01-36-37/checkpoint_000014)\n",
            "\u001b[36m(train_mel_spec_model pid=5927)\u001b[0m Checkpoint successfully created at: Checkpoint(filesystem=local, path=/root/ray_results/train_mel_spec_model_2024-05-02_01-36-37/train_mel_spec_model_6af8a_00003_3_batch_size=30,l1=750,l2=10,lr=0.0009,num_epochs=35_2024-05-02_01-36-37/checkpoint_000015)\n",
            "\u001b[36m(train_mel_spec_model pid=5927)\u001b[0m Checkpoint successfully created at: Checkpoint(filesystem=local, path=/root/ray_results/train_mel_spec_model_2024-05-02_01-36-37/train_mel_spec_model_6af8a_00003_3_batch_size=30,l1=750,l2=10,lr=0.0009,num_epochs=35_2024-05-02_01-36-37/checkpoint_000016)\n",
            "\u001b[36m(train_mel_spec_model pid=5927)\u001b[0m Checkpoint successfully created at: Checkpoint(filesystem=local, path=/root/ray_results/train_mel_spec_model_2024-05-02_01-36-37/train_mel_spec_model_6af8a_00003_3_batch_size=30,l1=750,l2=10,lr=0.0009,num_epochs=35_2024-05-02_01-36-37/checkpoint_000017)\n",
            "\u001b[36m(train_mel_spec_model pid=5927)\u001b[0m Checkpoint successfully created at: Checkpoint(filesystem=local, path=/root/ray_results/train_mel_spec_model_2024-05-02_01-36-37/train_mel_spec_model_6af8a_00003_3_batch_size=30,l1=750,l2=10,lr=0.0009,num_epochs=35_2024-05-02_01-36-37/checkpoint_000018)\n"
          ]
        },
        {
          "name": "stdout",
          "output_type": "stream",
          "text": [
            "\n",
            "Trial train_mel_spec_model_6af8a_00003 completed after 20 iterations at 2024-05-02 01:39:19. Total running time: 2min 41s\n",
            "+---------------------------------------------------------------------+\n",
            "| Trial train_mel_spec_model_6af8a_00003 result                       |\n",
            "+---------------------------------------------------------------------+\n",
            "| checkpoint_dir_name                               checkpoint_000019 |\n",
            "| time_this_iter_s                                            1.14633 |\n",
            "| time_total_s                                               29.68494 |\n",
            "| training_iteration                                               20 |\n",
            "| accuracy                                                    0.40404 |\n",
            "| loss                                                        1.97224 |\n",
            "+---------------------------------------------------------------------+\n"
          ]
        },
        {
          "name": "stderr",
          "output_type": "stream",
          "text": [
            "\u001b[36m(train_mel_spec_model pid=5927)\u001b[0m Checkpoint successfully created at: Checkpoint(filesystem=local, path=/root/ray_results/train_mel_spec_model_2024-05-02_01-36-37/train_mel_spec_model_6af8a_00003_3_batch_size=30,l1=750,l2=10,lr=0.0009,num_epochs=35_2024-05-02_01-36-37/checkpoint_000019)\n"
          ]
        },
        {
          "name": "stdout",
          "output_type": "stream",
          "text": [
            "\n",
            "Trial train_mel_spec_model_6af8a_00004 started with configuration:\n",
            "+-----------------------------------------------------------+\n",
            "| Trial train_mel_spec_model_6af8a_00004 config             |\n",
            "+-----------------------------------------------------------+\n",
            "| batch_size                                             40 |\n",
            "| l1                                                    400 |\n",
            "| l2                                                     25 |\n",
            "| lr                                                0.00443 |\n",
            "| num_epochs                                             25 |\n",
            "+-----------------------------------------------------------+\n"
          ]
        },
        {
          "name": "stderr",
          "output_type": "stream",
          "text": [
            "\u001b[36m(train_mel_spec_model pid=6131)\u001b[0m Checkpoint successfully created at: Checkpoint(filesystem=local, path=/root/ray_results/train_mel_spec_model_2024-05-02_01-36-37/train_mel_spec_model_6af8a_00004_4_batch_size=40,l1=400,l2=25,lr=0.0044,num_epochs=25_2024-05-02_01-36-37/checkpoint_000000)\n",
            "\u001b[36m(train_mel_spec_model pid=6131)\u001b[0m Checkpoint successfully created at: Checkpoint(filesystem=local, path=/root/ray_results/train_mel_spec_model_2024-05-02_01-36-37/train_mel_spec_model_6af8a_00004_4_batch_size=40,l1=400,l2=25,lr=0.0044,num_epochs=25_2024-05-02_01-36-37/checkpoint_000001)\n",
            "\u001b[36m(train_mel_spec_model pid=6131)\u001b[0m Checkpoint successfully created at: Checkpoint(filesystem=local, path=/root/ray_results/train_mel_spec_model_2024-05-02_01-36-37/train_mel_spec_model_6af8a_00004_4_batch_size=40,l1=400,l2=25,lr=0.0044,num_epochs=25_2024-05-02_01-36-37/checkpoint_000002)\n",
            "\u001b[36m(train_mel_spec_model pid=6131)\u001b[0m Checkpoint successfully created at: Checkpoint(filesystem=local, path=/root/ray_results/train_mel_spec_model_2024-05-02_01-36-37/train_mel_spec_model_6af8a_00004_4_batch_size=40,l1=400,l2=25,lr=0.0044,num_epochs=25_2024-05-02_01-36-37/checkpoint_000003)\n",
            "\u001b[36m(train_mel_spec_model pid=6131)\u001b[0m Checkpoint successfully created at: Checkpoint(filesystem=local, path=/root/ray_results/train_mel_spec_model_2024-05-02_01-36-37/train_mel_spec_model_6af8a_00004_4_batch_size=40,l1=400,l2=25,lr=0.0044,num_epochs=25_2024-05-02_01-36-37/checkpoint_000004)\n",
            "\u001b[36m(train_mel_spec_model pid=6131)\u001b[0m Checkpoint successfully created at: Checkpoint(filesystem=local, path=/root/ray_results/train_mel_spec_model_2024-05-02_01-36-37/train_mel_spec_model_6af8a_00004_4_batch_size=40,l1=400,l2=25,lr=0.0044,num_epochs=25_2024-05-02_01-36-37/checkpoint_000005)\n",
            "\u001b[36m(train_mel_spec_model pid=6131)\u001b[0m Checkpoint successfully created at: Checkpoint(filesystem=local, path=/root/ray_results/train_mel_spec_model_2024-05-02_01-36-37/train_mel_spec_model_6af8a_00004_4_batch_size=40,l1=400,l2=25,lr=0.0044,num_epochs=25_2024-05-02_01-36-37/checkpoint_000006)\n",
            "\u001b[36m(train_mel_spec_model pid=6131)\u001b[0m Checkpoint successfully created at: Checkpoint(filesystem=local, path=/root/ray_results/train_mel_spec_model_2024-05-02_01-36-37/train_mel_spec_model_6af8a_00004_4_batch_size=40,l1=400,l2=25,lr=0.0044,num_epochs=25_2024-05-02_01-36-37/checkpoint_000007)\n",
            "\u001b[36m(train_mel_spec_model pid=6131)\u001b[0m Checkpoint successfully created at: Checkpoint(filesystem=local, path=/root/ray_results/train_mel_spec_model_2024-05-02_01-36-37/train_mel_spec_model_6af8a_00004_4_batch_size=40,l1=400,l2=25,lr=0.0044,num_epochs=25_2024-05-02_01-36-37/checkpoint_000008)\n",
            "\u001b[36m(train_mel_spec_model pid=6131)\u001b[0m Checkpoint successfully created at: Checkpoint(filesystem=local, path=/root/ray_results/train_mel_spec_model_2024-05-02_01-36-37/train_mel_spec_model_6af8a_00004_4_batch_size=40,l1=400,l2=25,lr=0.0044,num_epochs=25_2024-05-02_01-36-37/checkpoint_000009)\n"
          ]
        },
        {
          "name": "stdout",
          "output_type": "stream",
          "text": [
            "\n",
            "Trial status: 4 TERMINATED | 1 RUNNING | 5 PENDING\n",
            "Current time: 2024-05-02 01:39:38. Total running time: 3min 0s\n",
            "Logical resource usage: 2.0/12 CPUs, 1.0/1 GPUs (0.0/1.0 accelerator_type:A100)\n",
            "Current best trial: 6af8a_00003 with loss=1.9722404778003693 and params={'l1': 750, 'l2': 10, 'lr': 0.0008585796726952695, 'batch_size': 30, 'num_epochs': 35}\n",
            "+------------------------------------------------------------------------------------------------------------------------------------------------------------+\n",
            "| Trial name                         status         l1     l2            lr     batch_size     num_epochs     iter     total time (s)      loss     accuracy |\n",
            "+------------------------------------------------------------------------------------------------------------------------------------------------------------+\n",
            "| train_mel_spec_model_6af8a_00004   RUNNING       400     25   0.0044344               40             25       10            14.8656   2.06318    0.373737  |\n",
            "| train_mel_spec_model_6af8a_00000   TERMINATED    350     10   0.00072112              20             25       25            24.0151   2.30952    0.0808081 |\n",
            "| train_mel_spec_model_6af8a_00001   TERMINATED    600     10   0.000865771             40             45       45            54.2406   2.7591     0.292929  |\n",
            "| train_mel_spec_model_6af8a_00002   TERMINATED    950     10   0.000246206             20             25       25            35.0279   2.04334    0.393939  |\n",
            "| train_mel_spec_model_6af8a_00003   TERMINATED    750     10   0.00085858              30             35       20            29.6849   1.97224    0.40404   |\n",
            "| train_mel_spec_model_6af8a_00005   PENDING       450     25   0.0267079               15             25                                                    |\n",
            "| train_mel_spec_model_6af8a_00006   PENDING       250      5   0.0158321               25             45                                                    |\n",
            "| train_mel_spec_model_6af8a_00007   PENDING       950     15   0.000494764             20             45                                                    |\n",
            "| train_mel_spec_model_6af8a_00008   PENDING       400     20   0.00123184              30             25                                                    |\n",
            "| train_mel_spec_model_6af8a_00009   PENDING       800      5   0.00167952              25             45                                                    |\n",
            "+------------------------------------------------------------------------------------------------------------------------------------------------------------+\n"
          ]
        },
        {
          "name": "stderr",
          "output_type": "stream",
          "text": [
            "\u001b[36m(train_mel_spec_model pid=6131)\u001b[0m Checkpoint successfully created at: Checkpoint(filesystem=local, path=/root/ray_results/train_mel_spec_model_2024-05-02_01-36-37/train_mel_spec_model_6af8a_00004_4_batch_size=40,l1=400,l2=25,lr=0.0044,num_epochs=25_2024-05-02_01-36-37/checkpoint_000010)\n",
            "\u001b[36m(train_mel_spec_model pid=6131)\u001b[0m Checkpoint successfully created at: Checkpoint(filesystem=local, path=/root/ray_results/train_mel_spec_model_2024-05-02_01-36-37/train_mel_spec_model_6af8a_00004_4_batch_size=40,l1=400,l2=25,lr=0.0044,num_epochs=25_2024-05-02_01-36-37/checkpoint_000011)\n",
            "\u001b[36m(train_mel_spec_model pid=6131)\u001b[0m Checkpoint successfully created at: Checkpoint(filesystem=local, path=/root/ray_results/train_mel_spec_model_2024-05-02_01-36-37/train_mel_spec_model_6af8a_00004_4_batch_size=40,l1=400,l2=25,lr=0.0044,num_epochs=25_2024-05-02_01-36-37/checkpoint_000012)\n",
            "\u001b[36m(train_mel_spec_model pid=6131)\u001b[0m Checkpoint successfully created at: Checkpoint(filesystem=local, path=/root/ray_results/train_mel_spec_model_2024-05-02_01-36-37/train_mel_spec_model_6af8a_00004_4_batch_size=40,l1=400,l2=25,lr=0.0044,num_epochs=25_2024-05-02_01-36-37/checkpoint_000013)\n",
            "\u001b[36m(train_mel_spec_model pid=6131)\u001b[0m Checkpoint successfully created at: Checkpoint(filesystem=local, path=/root/ray_results/train_mel_spec_model_2024-05-02_01-36-37/train_mel_spec_model_6af8a_00004_4_batch_size=40,l1=400,l2=25,lr=0.0044,num_epochs=25_2024-05-02_01-36-37/checkpoint_000014)\n",
            "\u001b[36m(train_mel_spec_model pid=6131)\u001b[0m Checkpoint successfully created at: Checkpoint(filesystem=local, path=/root/ray_results/train_mel_spec_model_2024-05-02_01-36-37/train_mel_spec_model_6af8a_00004_4_batch_size=40,l1=400,l2=25,lr=0.0044,num_epochs=25_2024-05-02_01-36-37/checkpoint_000015)\n",
            "\u001b[36m(train_mel_spec_model pid=6131)\u001b[0m Checkpoint successfully created at: Checkpoint(filesystem=local, path=/root/ray_results/train_mel_spec_model_2024-05-02_01-36-37/train_mel_spec_model_6af8a_00004_4_batch_size=40,l1=400,l2=25,lr=0.0044,num_epochs=25_2024-05-02_01-36-37/checkpoint_000016)\n",
            "\u001b[36m(train_mel_spec_model pid=6131)\u001b[0m Checkpoint successfully created at: Checkpoint(filesystem=local, path=/root/ray_results/train_mel_spec_model_2024-05-02_01-36-37/train_mel_spec_model_6af8a_00004_4_batch_size=40,l1=400,l2=25,lr=0.0044,num_epochs=25_2024-05-02_01-36-37/checkpoint_000017)\n",
            "\u001b[36m(train_mel_spec_model pid=6131)\u001b[0m Checkpoint successfully created at: Checkpoint(filesystem=local, path=/root/ray_results/train_mel_spec_model_2024-05-02_01-36-37/train_mel_spec_model_6af8a_00004_4_batch_size=40,l1=400,l2=25,lr=0.0044,num_epochs=25_2024-05-02_01-36-37/checkpoint_000018)\n"
          ]
        },
        {
          "name": "stdout",
          "output_type": "stream",
          "text": [
            "\n",
            "Trial train_mel_spec_model_6af8a_00004 completed after 20 iterations at 2024-05-02 01:39:46. Total running time: 3min 8s\n",
            "+---------------------------------------------------------------------+\n",
            "| Trial train_mel_spec_model_6af8a_00004 result                       |\n",
            "+---------------------------------------------------------------------+\n",
            "| checkpoint_dir_name                               checkpoint_000019 |\n",
            "| time_this_iter_s                                            0.83611 |\n",
            "| time_total_s                                                23.3021 |\n",
            "| training_iteration                                               20 |\n",
            "| accuracy                                                    0.26263 |\n",
            "| loss                                                         3.8362 |\n",
            "+---------------------------------------------------------------------+\n"
          ]
        },
        {
          "name": "stderr",
          "output_type": "stream",
          "text": [
            "\u001b[36m(train_mel_spec_model pid=6131)\u001b[0m Checkpoint successfully created at: Checkpoint(filesystem=local, path=/root/ray_results/train_mel_spec_model_2024-05-02_01-36-37/train_mel_spec_model_6af8a_00004_4_batch_size=40,l1=400,l2=25,lr=0.0044,num_epochs=25_2024-05-02_01-36-37/checkpoint_000019)\n"
          ]
        },
        {
          "name": "stdout",
          "output_type": "stream",
          "text": [
            "\n",
            "Trial train_mel_spec_model_6af8a_00005 started with configuration:\n",
            "+-----------------------------------------------------------+\n",
            "| Trial train_mel_spec_model_6af8a_00005 config             |\n",
            "+-----------------------------------------------------------+\n",
            "| batch_size                                             15 |\n",
            "| l1                                                    450 |\n",
            "| l2                                                     25 |\n",
            "| lr                                                0.02671 |\n",
            "| num_epochs                                             25 |\n",
            "+-----------------------------------------------------------+\n"
          ]
        },
        {
          "name": "stderr",
          "output_type": "stream",
          "text": [
            "\u001b[36m(train_mel_spec_model pid=6309)\u001b[0m Checkpoint successfully created at: Checkpoint(filesystem=local, path=/root/ray_results/train_mel_spec_model_2024-05-02_01-36-37/train_mel_spec_model_6af8a_00005_5_batch_size=15,l1=450,l2=25,lr=0.0267,num_epochs=25_2024-05-02_01-36-37/checkpoint_000000)\n",
            "\u001b[36m(train_mel_spec_model pid=6309)\u001b[0m Checkpoint successfully created at: Checkpoint(filesystem=local, path=/root/ray_results/train_mel_spec_model_2024-05-02_01-36-37/train_mel_spec_model_6af8a_00005_5_batch_size=15,l1=450,l2=25,lr=0.0267,num_epochs=25_2024-05-02_01-36-37/checkpoint_000001)\n",
            "\u001b[36m(train_mel_spec_model pid=6309)\u001b[0m Checkpoint successfully created at: Checkpoint(filesystem=local, path=/root/ray_results/train_mel_spec_model_2024-05-02_01-36-37/train_mel_spec_model_6af8a_00005_5_batch_size=15,l1=450,l2=25,lr=0.0267,num_epochs=25_2024-05-02_01-36-37/checkpoint_000002)\n",
            "\u001b[36m(train_mel_spec_model pid=6309)\u001b[0m Checkpoint successfully created at: Checkpoint(filesystem=local, path=/root/ray_results/train_mel_spec_model_2024-05-02_01-36-37/train_mel_spec_model_6af8a_00005_5_batch_size=15,l1=450,l2=25,lr=0.0267,num_epochs=25_2024-05-02_01-36-37/checkpoint_000003)\n",
            "\u001b[36m(train_mel_spec_model pid=6309)\u001b[0m Checkpoint successfully created at: Checkpoint(filesystem=local, path=/root/ray_results/train_mel_spec_model_2024-05-02_01-36-37/train_mel_spec_model_6af8a_00005_5_batch_size=15,l1=450,l2=25,lr=0.0267,num_epochs=25_2024-05-02_01-36-37/checkpoint_000004)\n",
            "\u001b[36m(train_mel_spec_model pid=6309)\u001b[0m Checkpoint successfully created at: Checkpoint(filesystem=local, path=/root/ray_results/train_mel_spec_model_2024-05-02_01-36-37/train_mel_spec_model_6af8a_00005_5_batch_size=15,l1=450,l2=25,lr=0.0267,num_epochs=25_2024-05-02_01-36-37/checkpoint_000005)\n",
            "\u001b[36m(train_mel_spec_model pid=6309)\u001b[0m Checkpoint successfully created at: Checkpoint(filesystem=local, path=/root/ray_results/train_mel_spec_model_2024-05-02_01-36-37/train_mel_spec_model_6af8a_00005_5_batch_size=15,l1=450,l2=25,lr=0.0267,num_epochs=25_2024-05-02_01-36-37/checkpoint_000006)\n",
            "\u001b[36m(train_mel_spec_model pid=6309)\u001b[0m Checkpoint successfully created at: Checkpoint(filesystem=local, path=/root/ray_results/train_mel_spec_model_2024-05-02_01-36-37/train_mel_spec_model_6af8a_00005_5_batch_size=15,l1=450,l2=25,lr=0.0267,num_epochs=25_2024-05-02_01-36-37/checkpoint_000007)\n",
            "\u001b[36m(train_mel_spec_model pid=6309)\u001b[0m Checkpoint successfully created at: Checkpoint(filesystem=local, path=/root/ray_results/train_mel_spec_model_2024-05-02_01-36-37/train_mel_spec_model_6af8a_00005_5_batch_size=15,l1=450,l2=25,lr=0.0267,num_epochs=25_2024-05-02_01-36-37/checkpoint_000008)\n",
            "\u001b[36m(train_mel_spec_model pid=6309)\u001b[0m Checkpoint successfully created at: Checkpoint(filesystem=local, path=/root/ray_results/train_mel_spec_model_2024-05-02_01-36-37/train_mel_spec_model_6af8a_00005_5_batch_size=15,l1=450,l2=25,lr=0.0267,num_epochs=25_2024-05-02_01-36-37/checkpoint_000009)\n",
            "\u001b[36m(train_mel_spec_model pid=6309)\u001b[0m Checkpoint successfully created at: Checkpoint(filesystem=local, path=/root/ray_results/train_mel_spec_model_2024-05-02_01-36-37/train_mel_spec_model_6af8a_00005_5_batch_size=15,l1=450,l2=25,lr=0.0267,num_epochs=25_2024-05-02_01-36-37/checkpoint_000010)\n",
            "\u001b[36m(train_mel_spec_model pid=6309)\u001b[0m Checkpoint successfully created at: Checkpoint(filesystem=local, path=/root/ray_results/train_mel_spec_model_2024-05-02_01-36-37/train_mel_spec_model_6af8a_00005_5_batch_size=15,l1=450,l2=25,lr=0.0267,num_epochs=25_2024-05-02_01-36-37/checkpoint_000011)\n",
            "\u001b[36m(train_mel_spec_model pid=6309)\u001b[0m Checkpoint successfully created at: Checkpoint(filesystem=local, path=/root/ray_results/train_mel_spec_model_2024-05-02_01-36-37/train_mel_spec_model_6af8a_00005_5_batch_size=15,l1=450,l2=25,lr=0.0267,num_epochs=25_2024-05-02_01-36-37/checkpoint_000012)\n",
            "\u001b[36m(train_mel_spec_model pid=6309)\u001b[0m Checkpoint successfully created at: Checkpoint(filesystem=local, path=/root/ray_results/train_mel_spec_model_2024-05-02_01-36-37/train_mel_spec_model_6af8a_00005_5_batch_size=15,l1=450,l2=25,lr=0.0267,num_epochs=25_2024-05-02_01-36-37/checkpoint_000013)\n",
            "\u001b[36m(train_mel_spec_model pid=6309)\u001b[0m Checkpoint successfully created at: Checkpoint(filesystem=local, path=/root/ray_results/train_mel_spec_model_2024-05-02_01-36-37/train_mel_spec_model_6af8a_00005_5_batch_size=15,l1=450,l2=25,lr=0.0267,num_epochs=25_2024-05-02_01-36-37/checkpoint_000014)\n"
          ]
        },
        {
          "name": "stdout",
          "output_type": "stream",
          "text": [
            "\n",
            "Trial status: 5 TERMINATED | 1 RUNNING | 4 PENDING\n",
            "Current time: 2024-05-02 01:40:08. Total running time: 3min 30s\n",
            "Logical resource usage: 2.0/12 CPUs, 1.0/1 GPUs (0.0/1.0 accelerator_type:A100)\n",
            "Current best trial: 6af8a_00003 with loss=1.9722404778003693 and params={'l1': 750, 'l2': 10, 'lr': 0.0008585796726952695, 'batch_size': 30, 'num_epochs': 35}\n",
            "+------------------------------------------------------------------------------------------------------------------------------------------------------------+\n",
            "| Trial name                         status         l1     l2            lr     batch_size     num_epochs     iter     total time (s)      loss     accuracy |\n",
            "+------------------------------------------------------------------------------------------------------------------------------------------------------------+\n",
            "| train_mel_spec_model_6af8a_00005   RUNNING       450     25   0.0267079               15             25       15            16.8486   2.3138     0.0808081 |\n",
            "| train_mel_spec_model_6af8a_00000   TERMINATED    350     10   0.00072112              20             25       25            24.0151   2.30952    0.0808081 |\n",
            "| train_mel_spec_model_6af8a_00001   TERMINATED    600     10   0.000865771             40             45       45            54.2406   2.7591     0.292929  |\n",
            "| train_mel_spec_model_6af8a_00002   TERMINATED    950     10   0.000246206             20             25       25            35.0279   2.04334    0.393939  |\n",
            "| train_mel_spec_model_6af8a_00003   TERMINATED    750     10   0.00085858              30             35       20            29.6849   1.97224    0.40404   |\n",
            "| train_mel_spec_model_6af8a_00004   TERMINATED    400     25   0.0044344               40             25       20            23.3021   3.8362     0.262626  |\n",
            "| train_mel_spec_model_6af8a_00006   PENDING       250      5   0.0158321               25             45                                                    |\n",
            "| train_mel_spec_model_6af8a_00007   PENDING       950     15   0.000494764             20             45                                                    |\n",
            "| train_mel_spec_model_6af8a_00008   PENDING       400     20   0.00123184              30             25                                                    |\n",
            "| train_mel_spec_model_6af8a_00009   PENDING       800      5   0.00167952              25             45                                                    |\n",
            "+------------------------------------------------------------------------------------------------------------------------------------------------------------+\n"
          ]
        },
        {
          "name": "stderr",
          "output_type": "stream",
          "text": [
            "\u001b[36m(train_mel_spec_model pid=6309)\u001b[0m Checkpoint successfully created at: Checkpoint(filesystem=local, path=/root/ray_results/train_mel_spec_model_2024-05-02_01-36-37/train_mel_spec_model_6af8a_00005_5_batch_size=15,l1=450,l2=25,lr=0.0267,num_epochs=25_2024-05-02_01-36-37/checkpoint_000015)\n",
            "\u001b[36m(train_mel_spec_model pid=6309)\u001b[0m Checkpoint successfully created at: Checkpoint(filesystem=local, path=/root/ray_results/train_mel_spec_model_2024-05-02_01-36-37/train_mel_spec_model_6af8a_00005_5_batch_size=15,l1=450,l2=25,lr=0.0267,num_epochs=25_2024-05-02_01-36-37/checkpoint_000016)\n",
            "\u001b[36m(train_mel_spec_model pid=6309)\u001b[0m Checkpoint successfully created at: Checkpoint(filesystem=local, path=/root/ray_results/train_mel_spec_model_2024-05-02_01-36-37/train_mel_spec_model_6af8a_00005_5_batch_size=15,l1=450,l2=25,lr=0.0267,num_epochs=25_2024-05-02_01-36-37/checkpoint_000017)\n",
            "\u001b[36m(train_mel_spec_model pid=6309)\u001b[0m Checkpoint successfully created at: Checkpoint(filesystem=local, path=/root/ray_results/train_mel_spec_model_2024-05-02_01-36-37/train_mel_spec_model_6af8a_00005_5_batch_size=15,l1=450,l2=25,lr=0.0267,num_epochs=25_2024-05-02_01-36-37/checkpoint_000018)\n"
          ]
        },
        {
          "name": "stdout",
          "output_type": "stream",
          "text": [
            "\n",
            "Trial train_mel_spec_model_6af8a_00005 completed after 20 iterations at 2024-05-02 01:40:14. Total running time: 3min 36s\n",
            "+---------------------------------------------------------------------+\n",
            "| Trial train_mel_spec_model_6af8a_00005 result                       |\n",
            "+---------------------------------------------------------------------+\n",
            "| checkpoint_dir_name                               checkpoint_000019 |\n",
            "| time_this_iter_s                                            0.70245 |\n",
            "| time_total_s                                               22.75722 |\n",
            "| training_iteration                                               20 |\n",
            "| accuracy                                                    0.06061 |\n",
            "| loss                                                        2.31004 |\n",
            "+---------------------------------------------------------------------+\n"
          ]
        },
        {
          "name": "stderr",
          "output_type": "stream",
          "text": [
            "\u001b[36m(train_mel_spec_model pid=6309)\u001b[0m Checkpoint successfully created at: Checkpoint(filesystem=local, path=/root/ray_results/train_mel_spec_model_2024-05-02_01-36-37/train_mel_spec_model_6af8a_00005_5_batch_size=15,l1=450,l2=25,lr=0.0267,num_epochs=25_2024-05-02_01-36-37/checkpoint_000019)\n"
          ]
        },
        {
          "name": "stdout",
          "output_type": "stream",
          "text": [
            "\n",
            "Trial train_mel_spec_model_6af8a_00006 started with configuration:\n",
            "+-----------------------------------------------------------+\n",
            "| Trial train_mel_spec_model_6af8a_00006 config             |\n",
            "+-----------------------------------------------------------+\n",
            "| batch_size                                             25 |\n",
            "| l1                                                    250 |\n",
            "| l2                                                      5 |\n",
            "| lr                                                0.01583 |\n",
            "| num_epochs                                             45 |\n",
            "+-----------------------------------------------------------+\n"
          ]
        },
        {
          "name": "stderr",
          "output_type": "stream",
          "text": [
            "\u001b[36m(train_mel_spec_model pid=6484)\u001b[0m Checkpoint successfully created at: Checkpoint(filesystem=local, path=/root/ray_results/train_mel_spec_model_2024-05-02_01-36-37/train_mel_spec_model_6af8a_00006_6_batch_size=25,l1=250,l2=5,lr=0.0158,num_epochs=45_2024-05-02_01-36-37/checkpoint_000000)\n",
            "\u001b[36m(train_mel_spec_model pid=6484)\u001b[0m Checkpoint successfully created at: Checkpoint(filesystem=local, path=/root/ray_results/train_mel_spec_model_2024-05-02_01-36-37/train_mel_spec_model_6af8a_00006_6_batch_size=25,l1=250,l2=5,lr=0.0158,num_epochs=45_2024-05-02_01-36-37/checkpoint_000001)\n",
            "\u001b[36m(train_mel_spec_model pid=6484)\u001b[0m Checkpoint successfully created at: Checkpoint(filesystem=local, path=/root/ray_results/train_mel_spec_model_2024-05-02_01-36-37/train_mel_spec_model_6af8a_00006_6_batch_size=25,l1=250,l2=5,lr=0.0158,num_epochs=45_2024-05-02_01-36-37/checkpoint_000002)\n",
            "\u001b[36m(train_mel_spec_model pid=6484)\u001b[0m Checkpoint successfully created at: Checkpoint(filesystem=local, path=/root/ray_results/train_mel_spec_model_2024-05-02_01-36-37/train_mel_spec_model_6af8a_00006_6_batch_size=25,l1=250,l2=5,lr=0.0158,num_epochs=45_2024-05-02_01-36-37/checkpoint_000003)\n",
            "\u001b[36m(train_mel_spec_model pid=6484)\u001b[0m Checkpoint successfully created at: Checkpoint(filesystem=local, path=/root/ray_results/train_mel_spec_model_2024-05-02_01-36-37/train_mel_spec_model_6af8a_00006_6_batch_size=25,l1=250,l2=5,lr=0.0158,num_epochs=45_2024-05-02_01-36-37/checkpoint_000004)\n",
            "\u001b[36m(train_mel_spec_model pid=6484)\u001b[0m Checkpoint successfully created at: Checkpoint(filesystem=local, path=/root/ray_results/train_mel_spec_model_2024-05-02_01-36-37/train_mel_spec_model_6af8a_00006_6_batch_size=25,l1=250,l2=5,lr=0.0158,num_epochs=45_2024-05-02_01-36-37/checkpoint_000005)\n",
            "\u001b[36m(train_mel_spec_model pid=6484)\u001b[0m Checkpoint successfully created at: Checkpoint(filesystem=local, path=/root/ray_results/train_mel_spec_model_2024-05-02_01-36-37/train_mel_spec_model_6af8a_00006_6_batch_size=25,l1=250,l2=5,lr=0.0158,num_epochs=45_2024-05-02_01-36-37/checkpoint_000006)\n",
            "\u001b[36m(train_mel_spec_model pid=6484)\u001b[0m Checkpoint successfully created at: Checkpoint(filesystem=local, path=/root/ray_results/train_mel_spec_model_2024-05-02_01-36-37/train_mel_spec_model_6af8a_00006_6_batch_size=25,l1=250,l2=5,lr=0.0158,num_epochs=45_2024-05-02_01-36-37/checkpoint_000007)\n",
            "\u001b[36m(train_mel_spec_model pid=6484)\u001b[0m Checkpoint successfully created at: Checkpoint(filesystem=local, path=/root/ray_results/train_mel_spec_model_2024-05-02_01-36-37/train_mel_spec_model_6af8a_00006_6_batch_size=25,l1=250,l2=5,lr=0.0158,num_epochs=45_2024-05-02_01-36-37/checkpoint_000008)\n",
            "\u001b[36m(train_mel_spec_model pid=6484)\u001b[0m Checkpoint successfully created at: Checkpoint(filesystem=local, path=/root/ray_results/train_mel_spec_model_2024-05-02_01-36-37/train_mel_spec_model_6af8a_00006_6_batch_size=25,l1=250,l2=5,lr=0.0158,num_epochs=45_2024-05-02_01-36-37/checkpoint_000009)\n",
            "\u001b[36m(train_mel_spec_model pid=6484)\u001b[0m Checkpoint successfully created at: Checkpoint(filesystem=local, path=/root/ray_results/train_mel_spec_model_2024-05-02_01-36-37/train_mel_spec_model_6af8a_00006_6_batch_size=25,l1=250,l2=5,lr=0.0158,num_epochs=45_2024-05-02_01-36-37/checkpoint_000010)\n",
            "\u001b[36m(train_mel_spec_model pid=6484)\u001b[0m Checkpoint successfully created at: Checkpoint(filesystem=local, path=/root/ray_results/train_mel_spec_model_2024-05-02_01-36-37/train_mel_spec_model_6af8a_00006_6_batch_size=25,l1=250,l2=5,lr=0.0158,num_epochs=45_2024-05-02_01-36-37/checkpoint_000011)\n",
            "\u001b[36m(train_mel_spec_model pid=6484)\u001b[0m Checkpoint successfully created at: Checkpoint(filesystem=local, path=/root/ray_results/train_mel_spec_model_2024-05-02_01-36-37/train_mel_spec_model_6af8a_00006_6_batch_size=25,l1=250,l2=5,lr=0.0158,num_epochs=45_2024-05-02_01-36-37/checkpoint_000012)\n",
            "\u001b[36m(train_mel_spec_model pid=6484)\u001b[0m Checkpoint successfully created at: Checkpoint(filesystem=local, path=/root/ray_results/train_mel_spec_model_2024-05-02_01-36-37/train_mel_spec_model_6af8a_00006_6_batch_size=25,l1=250,l2=5,lr=0.0158,num_epochs=45_2024-05-02_01-36-37/checkpoint_000013)\n",
            "\u001b[36m(train_mel_spec_model pid=6484)\u001b[0m Checkpoint successfully created at: Checkpoint(filesystem=local, path=/root/ray_results/train_mel_spec_model_2024-05-02_01-36-37/train_mel_spec_model_6af8a_00006_6_batch_size=25,l1=250,l2=5,lr=0.0158,num_epochs=45_2024-05-02_01-36-37/checkpoint_000014)\n",
            "\u001b[36m(train_mel_spec_model pid=6484)\u001b[0m Checkpoint successfully created at: Checkpoint(filesystem=local, path=/root/ray_results/train_mel_spec_model_2024-05-02_01-36-37/train_mel_spec_model_6af8a_00006_6_batch_size=25,l1=250,l2=5,lr=0.0158,num_epochs=45_2024-05-02_01-36-37/checkpoint_000015)\n",
            "\u001b[36m(train_mel_spec_model pid=6484)\u001b[0m Checkpoint successfully created at: Checkpoint(filesystem=local, path=/root/ray_results/train_mel_spec_model_2024-05-02_01-36-37/train_mel_spec_model_6af8a_00006_6_batch_size=25,l1=250,l2=5,lr=0.0158,num_epochs=45_2024-05-02_01-36-37/checkpoint_000016)\n",
            "\u001b[36m(train_mel_spec_model pid=6484)\u001b[0m Checkpoint successfully created at: Checkpoint(filesystem=local, path=/root/ray_results/train_mel_spec_model_2024-05-02_01-36-37/train_mel_spec_model_6af8a_00006_6_batch_size=25,l1=250,l2=5,lr=0.0158,num_epochs=45_2024-05-02_01-36-37/checkpoint_000017)\n",
            "\u001b[36m(train_mel_spec_model pid=6484)\u001b[0m Checkpoint successfully created at: Checkpoint(filesystem=local, path=/root/ray_results/train_mel_spec_model_2024-05-02_01-36-37/train_mel_spec_model_6af8a_00006_6_batch_size=25,l1=250,l2=5,lr=0.0158,num_epochs=45_2024-05-02_01-36-37/checkpoint_000018)\n"
          ]
        },
        {
          "name": "stdout",
          "output_type": "stream",
          "text": [
            "\n",
            "Trial train_mel_spec_model_6af8a_00006 completed after 20 iterations at 2024-05-02 01:40:37. Total running time: 3min 59s\n",
            "+---------------------------------------------------------------------+\n",
            "| Trial train_mel_spec_model_6af8a_00006 result                       |\n",
            "+---------------------------------------------------------------------+\n",
            "| checkpoint_dir_name                               checkpoint_000019 |\n",
            "| time_this_iter_s                                            0.55621 |\n",
            "| time_total_s                                               18.34043 |\n",
            "| training_iteration                                               20 |\n",
            "| accuracy                                                    0.08081 |\n",
            "| loss                                                        2.31527 |\n",
            "+---------------------------------------------------------------------+\n"
          ]
        },
        {
          "name": "stderr",
          "output_type": "stream",
          "text": [
            "\u001b[36m(train_mel_spec_model pid=6484)\u001b[0m Checkpoint successfully created at: Checkpoint(filesystem=local, path=/root/ray_results/train_mel_spec_model_2024-05-02_01-36-37/train_mel_spec_model_6af8a_00006_6_batch_size=25,l1=250,l2=5,lr=0.0158,num_epochs=45_2024-05-02_01-36-37/checkpoint_000019)\n"
          ]
        },
        {
          "name": "stdout",
          "output_type": "stream",
          "text": [
            "\n",
            "Trial status: 7 TERMINATED | 3 PENDING\n",
            "Current time: 2024-05-02 01:40:38. Total running time: 4min 0s\n",
            "Logical resource usage: 2.0/12 CPUs, 1.0/1 GPUs (0.0/1.0 accelerator_type:A100)\n",
            "Current best trial: 6af8a_00003 with loss=1.9722404778003693 and params={'l1': 750, 'l2': 10, 'lr': 0.0008585796726952695, 'batch_size': 30, 'num_epochs': 35}\n",
            "+------------------------------------------------------------------------------------------------------------------------------------------------------------+\n",
            "| Trial name                         status         l1     l2            lr     batch_size     num_epochs     iter     total time (s)      loss     accuracy |\n",
            "+------------------------------------------------------------------------------------------------------------------------------------------------------------+\n",
            "| train_mel_spec_model_6af8a_00000   TERMINATED    350     10   0.00072112              20             25       25            24.0151   2.30952    0.0808081 |\n",
            "| train_mel_spec_model_6af8a_00001   TERMINATED    600     10   0.000865771             40             45       45            54.2406   2.7591     0.292929  |\n",
            "| train_mel_spec_model_6af8a_00002   TERMINATED    950     10   0.000246206             20             25       25            35.0279   2.04334    0.393939  |\n",
            "| train_mel_spec_model_6af8a_00003   TERMINATED    750     10   0.00085858              30             35       20            29.6849   1.97224    0.40404   |\n",
            "| train_mel_spec_model_6af8a_00004   TERMINATED    400     25   0.0044344               40             25       20            23.3021   3.8362     0.262626  |\n",
            "| train_mel_spec_model_6af8a_00005   TERMINATED    450     25   0.0267079               15             25       20            22.7572   2.31004    0.0606061 |\n",
            "| train_mel_spec_model_6af8a_00006   TERMINATED    250      5   0.0158321               25             45       20            18.3404   2.31527    0.0808081 |\n",
            "| train_mel_spec_model_6af8a_00007   PENDING       950     15   0.000494764             20             45                                                    |\n",
            "| train_mel_spec_model_6af8a_00008   PENDING       400     20   0.00123184              30             25                                                    |\n",
            "| train_mel_spec_model_6af8a_00009   PENDING       800      5   0.00167952              25             45                                                    |\n",
            "+------------------------------------------------------------------------------------------------------------------------------------------------------------+\n",
            "\n",
            "Trial train_mel_spec_model_6af8a_00007 started with configuration:\n",
            "+-----------------------------------------------------------+\n",
            "| Trial train_mel_spec_model_6af8a_00007 config             |\n",
            "+-----------------------------------------------------------+\n",
            "| batch_size                                             20 |\n",
            "| l1                                                    950 |\n",
            "| l2                                                     15 |\n",
            "| lr                                                0.00049 |\n",
            "| num_epochs                                             45 |\n",
            "+-----------------------------------------------------------+\n"
          ]
        },
        {
          "name": "stderr",
          "output_type": "stream",
          "text": [
            "\u001b[36m(train_mel_spec_model pid=6638)\u001b[0m Checkpoint successfully created at: Checkpoint(filesystem=local, path=/root/ray_results/train_mel_spec_model_2024-05-02_01-36-37/train_mel_spec_model_6af8a_00007_7_batch_size=20,l1=950,l2=15,lr=0.0005,num_epochs=45_2024-05-02_01-36-37/checkpoint_000000)\n",
            "\u001b[36m(train_mel_spec_model pid=6638)\u001b[0m Checkpoint successfully created at: Checkpoint(filesystem=local, path=/root/ray_results/train_mel_spec_model_2024-05-02_01-36-37/train_mel_spec_model_6af8a_00007_7_batch_size=20,l1=950,l2=15,lr=0.0005,num_epochs=45_2024-05-02_01-36-37/checkpoint_000001)\n",
            "\u001b[36m(train_mel_spec_model pid=6638)\u001b[0m Checkpoint successfully created at: Checkpoint(filesystem=local, path=/root/ray_results/train_mel_spec_model_2024-05-02_01-36-37/train_mel_spec_model_6af8a_00007_7_batch_size=20,l1=950,l2=15,lr=0.0005,num_epochs=45_2024-05-02_01-36-37/checkpoint_000002)\n",
            "\u001b[36m(train_mel_spec_model pid=6638)\u001b[0m Checkpoint successfully created at: Checkpoint(filesystem=local, path=/root/ray_results/train_mel_spec_model_2024-05-02_01-36-37/train_mel_spec_model_6af8a_00007_7_batch_size=20,l1=950,l2=15,lr=0.0005,num_epochs=45_2024-05-02_01-36-37/checkpoint_000003)\n",
            "\u001b[36m(train_mel_spec_model pid=6638)\u001b[0m Checkpoint successfully created at: Checkpoint(filesystem=local, path=/root/ray_results/train_mel_spec_model_2024-05-02_01-36-37/train_mel_spec_model_6af8a_00007_7_batch_size=20,l1=950,l2=15,lr=0.0005,num_epochs=45_2024-05-02_01-36-37/checkpoint_000004)\n",
            "\u001b[36m(train_mel_spec_model pid=6638)\u001b[0m Checkpoint successfully created at: Checkpoint(filesystem=local, path=/root/ray_results/train_mel_spec_model_2024-05-02_01-36-37/train_mel_spec_model_6af8a_00007_7_batch_size=20,l1=950,l2=15,lr=0.0005,num_epochs=45_2024-05-02_01-36-37/checkpoint_000005)\n",
            "\u001b[36m(train_mel_spec_model pid=6638)\u001b[0m Checkpoint successfully created at: Checkpoint(filesystem=local, path=/root/ray_results/train_mel_spec_model_2024-05-02_01-36-37/train_mel_spec_model_6af8a_00007_7_batch_size=20,l1=950,l2=15,lr=0.0005,num_epochs=45_2024-05-02_01-36-37/checkpoint_000006)\n",
            "\u001b[36m(train_mel_spec_model pid=6638)\u001b[0m Checkpoint successfully created at: Checkpoint(filesystem=local, path=/root/ray_results/train_mel_spec_model_2024-05-02_01-36-37/train_mel_spec_model_6af8a_00007_7_batch_size=20,l1=950,l2=15,lr=0.0005,num_epochs=45_2024-05-02_01-36-37/checkpoint_000007)\n",
            "\u001b[36m(train_mel_spec_model pid=6638)\u001b[0m Checkpoint successfully created at: Checkpoint(filesystem=local, path=/root/ray_results/train_mel_spec_model_2024-05-02_01-36-37/train_mel_spec_model_6af8a_00007_7_batch_size=20,l1=950,l2=15,lr=0.0005,num_epochs=45_2024-05-02_01-36-37/checkpoint_000008)\n",
            "\u001b[36m(train_mel_spec_model pid=6638)\u001b[0m Checkpoint successfully created at: Checkpoint(filesystem=local, path=/root/ray_results/train_mel_spec_model_2024-05-02_01-36-37/train_mel_spec_model_6af8a_00007_7_batch_size=20,l1=950,l2=15,lr=0.0005,num_epochs=45_2024-05-02_01-36-37/checkpoint_000009)\n",
            "\u001b[36m(train_mel_spec_model pid=6638)\u001b[0m Checkpoint successfully created at: Checkpoint(filesystem=local, path=/root/ray_results/train_mel_spec_model_2024-05-02_01-36-37/train_mel_spec_model_6af8a_00007_7_batch_size=20,l1=950,l2=15,lr=0.0005,num_epochs=45_2024-05-02_01-36-37/checkpoint_000010)\n",
            "\u001b[36m(train_mel_spec_model pid=6638)\u001b[0m Checkpoint successfully created at: Checkpoint(filesystem=local, path=/root/ray_results/train_mel_spec_model_2024-05-02_01-36-37/train_mel_spec_model_6af8a_00007_7_batch_size=20,l1=950,l2=15,lr=0.0005,num_epochs=45_2024-05-02_01-36-37/checkpoint_000011)\n",
            "\u001b[36m(train_mel_spec_model pid=6638)\u001b[0m Checkpoint successfully created at: Checkpoint(filesystem=local, path=/root/ray_results/train_mel_spec_model_2024-05-02_01-36-37/train_mel_spec_model_6af8a_00007_7_batch_size=20,l1=950,l2=15,lr=0.0005,num_epochs=45_2024-05-02_01-36-37/checkpoint_000012)\n",
            "\u001b[36m(train_mel_spec_model pid=6638)\u001b[0m Checkpoint successfully created at: Checkpoint(filesystem=local, path=/root/ray_results/train_mel_spec_model_2024-05-02_01-36-37/train_mel_spec_model_6af8a_00007_7_batch_size=20,l1=950,l2=15,lr=0.0005,num_epochs=45_2024-05-02_01-36-37/checkpoint_000013)\n",
            "\u001b[36m(train_mel_spec_model pid=6638)\u001b[0m Checkpoint successfully created at: Checkpoint(filesystem=local, path=/root/ray_results/train_mel_spec_model_2024-05-02_01-36-37/train_mel_spec_model_6af8a_00007_7_batch_size=20,l1=950,l2=15,lr=0.0005,num_epochs=45_2024-05-02_01-36-37/checkpoint_000014)\n",
            "\u001b[36m(train_mel_spec_model pid=6638)\u001b[0m Checkpoint successfully created at: Checkpoint(filesystem=local, path=/root/ray_results/train_mel_spec_model_2024-05-02_01-36-37/train_mel_spec_model_6af8a_00007_7_batch_size=20,l1=950,l2=15,lr=0.0005,num_epochs=45_2024-05-02_01-36-37/checkpoint_000015)\n",
            "\u001b[36m(train_mel_spec_model pid=6638)\u001b[0m Checkpoint successfully created at: Checkpoint(filesystem=local, path=/root/ray_results/train_mel_spec_model_2024-05-02_01-36-37/train_mel_spec_model_6af8a_00007_7_batch_size=20,l1=950,l2=15,lr=0.0005,num_epochs=45_2024-05-02_01-36-37/checkpoint_000016)\n",
            "\u001b[36m(train_mel_spec_model pid=6638)\u001b[0m Checkpoint successfully created at: Checkpoint(filesystem=local, path=/root/ray_results/train_mel_spec_model_2024-05-02_01-36-37/train_mel_spec_model_6af8a_00007_7_batch_size=20,l1=950,l2=15,lr=0.0005,num_epochs=45_2024-05-02_01-36-37/checkpoint_000017)\n"
          ]
        },
        {
          "name": "stdout",
          "output_type": "stream",
          "text": [
            "\n",
            "Trial status: 7 TERMINATED | 1 RUNNING | 2 PENDING\n",
            "Current time: 2024-05-02 01:41:08. Total running time: 4min 30s\n",
            "Logical resource usage: 2.0/12 CPUs, 1.0/1 GPUs (0.0/1.0 accelerator_type:A100)\n",
            "Current best trial: 6af8a_00007 with loss=1.6518795251846314 and params={'l1': 950, 'l2': 15, 'lr': 0.0004947644495889425, 'batch_size': 20, 'num_epochs': 45}\n",
            "+------------------------------------------------------------------------------------------------------------------------------------------------------------+\n",
            "| Trial name                         status         l1     l2            lr     batch_size     num_epochs     iter     total time (s)      loss     accuracy |\n",
            "+------------------------------------------------------------------------------------------------------------------------------------------------------------+\n",
            "| train_mel_spec_model_6af8a_00007   RUNNING       950     15   0.000494764             20             45       18            26.1556   1.65188    0.434343  |\n",
            "| train_mel_spec_model_6af8a_00000   TERMINATED    350     10   0.00072112              20             25       25            24.0151   2.30952    0.0808081 |\n",
            "| train_mel_spec_model_6af8a_00001   TERMINATED    600     10   0.000865771             40             45       45            54.2406   2.7591     0.292929  |\n",
            "| train_mel_spec_model_6af8a_00002   TERMINATED    950     10   0.000246206             20             25       25            35.0279   2.04334    0.393939  |\n",
            "| train_mel_spec_model_6af8a_00003   TERMINATED    750     10   0.00085858              30             35       20            29.6849   1.97224    0.40404   |\n",
            "| train_mel_spec_model_6af8a_00004   TERMINATED    400     25   0.0044344               40             25       20            23.3021   3.8362     0.262626  |\n",
            "| train_mel_spec_model_6af8a_00005   TERMINATED    450     25   0.0267079               15             25       20            22.7572   2.31004    0.0606061 |\n",
            "| train_mel_spec_model_6af8a_00006   TERMINATED    250      5   0.0158321               25             45       20            18.3404   2.31527    0.0808081 |\n",
            "| train_mel_spec_model_6af8a_00008   PENDING       400     20   0.00123184              30             25                                                    |\n",
            "| train_mel_spec_model_6af8a_00009   PENDING       800      5   0.00167952              25             45                                                    |\n",
            "+------------------------------------------------------------------------------------------------------------------------------------------------------------+\n"
          ]
        },
        {
          "name": "stderr",
          "output_type": "stream",
          "text": [
            "\u001b[36m(train_mel_spec_model pid=6638)\u001b[0m Checkpoint successfully created at: Checkpoint(filesystem=local, path=/root/ray_results/train_mel_spec_model_2024-05-02_01-36-37/train_mel_spec_model_6af8a_00007_7_batch_size=20,l1=950,l2=15,lr=0.0005,num_epochs=45_2024-05-02_01-36-37/checkpoint_000018)\n",
            "\u001b[36m(train_mel_spec_model pid=6638)\u001b[0m Checkpoint successfully created at: Checkpoint(filesystem=local, path=/root/ray_results/train_mel_spec_model_2024-05-02_01-36-37/train_mel_spec_model_6af8a_00007_7_batch_size=20,l1=950,l2=15,lr=0.0005,num_epochs=45_2024-05-02_01-36-37/checkpoint_000019)\n",
            "\u001b[36m(train_mel_spec_model pid=6638)\u001b[0m Checkpoint successfully created at: Checkpoint(filesystem=local, path=/root/ray_results/train_mel_spec_model_2024-05-02_01-36-37/train_mel_spec_model_6af8a_00007_7_batch_size=20,l1=950,l2=15,lr=0.0005,num_epochs=45_2024-05-02_01-36-37/checkpoint_000020)\n",
            "\u001b[36m(train_mel_spec_model pid=6638)\u001b[0m Checkpoint successfully created at: Checkpoint(filesystem=local, path=/root/ray_results/train_mel_spec_model_2024-05-02_01-36-37/train_mel_spec_model_6af8a_00007_7_batch_size=20,l1=950,l2=15,lr=0.0005,num_epochs=45_2024-05-02_01-36-37/checkpoint_000021)\n",
            "\u001b[36m(train_mel_spec_model pid=6638)\u001b[0m Checkpoint successfully created at: Checkpoint(filesystem=local, path=/root/ray_results/train_mel_spec_model_2024-05-02_01-36-37/train_mel_spec_model_6af8a_00007_7_batch_size=20,l1=950,l2=15,lr=0.0005,num_epochs=45_2024-05-02_01-36-37/checkpoint_000022)\n",
            "\u001b[36m(train_mel_spec_model pid=6638)\u001b[0m Checkpoint successfully created at: Checkpoint(filesystem=local, path=/root/ray_results/train_mel_spec_model_2024-05-02_01-36-37/train_mel_spec_model_6af8a_00007_7_batch_size=20,l1=950,l2=15,lr=0.0005,num_epochs=45_2024-05-02_01-36-37/checkpoint_000023)\n",
            "\u001b[36m(train_mel_spec_model pid=6638)\u001b[0m Checkpoint successfully created at: Checkpoint(filesystem=local, path=/root/ray_results/train_mel_spec_model_2024-05-02_01-36-37/train_mel_spec_model_6af8a_00007_7_batch_size=20,l1=950,l2=15,lr=0.0005,num_epochs=45_2024-05-02_01-36-37/checkpoint_000024)\n",
            "\u001b[36m(train_mel_spec_model pid=6638)\u001b[0m Checkpoint successfully created at: Checkpoint(filesystem=local, path=/root/ray_results/train_mel_spec_model_2024-05-02_01-36-37/train_mel_spec_model_6af8a_00007_7_batch_size=20,l1=950,l2=15,lr=0.0005,num_epochs=45_2024-05-02_01-36-37/checkpoint_000025)\n",
            "\u001b[36m(train_mel_spec_model pid=6638)\u001b[0m Checkpoint successfully created at: Checkpoint(filesystem=local, path=/root/ray_results/train_mel_spec_model_2024-05-02_01-36-37/train_mel_spec_model_6af8a_00007_7_batch_size=20,l1=950,l2=15,lr=0.0005,num_epochs=45_2024-05-02_01-36-37/checkpoint_000026)\n",
            "\u001b[36m(train_mel_spec_model pid=6638)\u001b[0m Checkpoint successfully created at: Checkpoint(filesystem=local, path=/root/ray_results/train_mel_spec_model_2024-05-02_01-36-37/train_mel_spec_model_6af8a_00007_7_batch_size=20,l1=950,l2=15,lr=0.0005,num_epochs=45_2024-05-02_01-36-37/checkpoint_000027)\n",
            "\u001b[36m(train_mel_spec_model pid=6638)\u001b[0m Checkpoint successfully created at: Checkpoint(filesystem=local, path=/root/ray_results/train_mel_spec_model_2024-05-02_01-36-37/train_mel_spec_model_6af8a_00007_7_batch_size=20,l1=950,l2=15,lr=0.0005,num_epochs=45_2024-05-02_01-36-37/checkpoint_000028)\n",
            "\u001b[36m(train_mel_spec_model pid=6638)\u001b[0m Checkpoint successfully created at: Checkpoint(filesystem=local, path=/root/ray_results/train_mel_spec_model_2024-05-02_01-36-37/train_mel_spec_model_6af8a_00007_7_batch_size=20,l1=950,l2=15,lr=0.0005,num_epochs=45_2024-05-02_01-36-37/checkpoint_000029)\n",
            "\u001b[36m(train_mel_spec_model pid=6638)\u001b[0m Checkpoint successfully created at: Checkpoint(filesystem=local, path=/root/ray_results/train_mel_spec_model_2024-05-02_01-36-37/train_mel_spec_model_6af8a_00007_7_batch_size=20,l1=950,l2=15,lr=0.0005,num_epochs=45_2024-05-02_01-36-37/checkpoint_000030)\n",
            "\u001b[36m(train_mel_spec_model pid=6638)\u001b[0m Checkpoint successfully created at: Checkpoint(filesystem=local, path=/root/ray_results/train_mel_spec_model_2024-05-02_01-36-37/train_mel_spec_model_6af8a_00007_7_batch_size=20,l1=950,l2=15,lr=0.0005,num_epochs=45_2024-05-02_01-36-37/checkpoint_000031)\n",
            "\u001b[36m(train_mel_spec_model pid=6638)\u001b[0m Checkpoint successfully created at: Checkpoint(filesystem=local, path=/root/ray_results/train_mel_spec_model_2024-05-02_01-36-37/train_mel_spec_model_6af8a_00007_7_batch_size=20,l1=950,l2=15,lr=0.0005,num_epochs=45_2024-05-02_01-36-37/checkpoint_000032)\n",
            "\u001b[36m(train_mel_spec_model pid=6638)\u001b[0m Checkpoint successfully created at: Checkpoint(filesystem=local, path=/root/ray_results/train_mel_spec_model_2024-05-02_01-36-37/train_mel_spec_model_6af8a_00007_7_batch_size=20,l1=950,l2=15,lr=0.0005,num_epochs=45_2024-05-02_01-36-37/checkpoint_000033)\n",
            "\u001b[36m(train_mel_spec_model pid=6638)\u001b[0m Checkpoint successfully created at: Checkpoint(filesystem=local, path=/root/ray_results/train_mel_spec_model_2024-05-02_01-36-37/train_mel_spec_model_6af8a_00007_7_batch_size=20,l1=950,l2=15,lr=0.0005,num_epochs=45_2024-05-02_01-36-37/checkpoint_000034)\n",
            "\u001b[36m(train_mel_spec_model pid=6638)\u001b[0m Checkpoint successfully created at: Checkpoint(filesystem=local, path=/root/ray_results/train_mel_spec_model_2024-05-02_01-36-37/train_mel_spec_model_6af8a_00007_7_batch_size=20,l1=950,l2=15,lr=0.0005,num_epochs=45_2024-05-02_01-36-37/checkpoint_000035)\n",
            "\u001b[36m(train_mel_spec_model pid=6638)\u001b[0m Checkpoint successfully created at: Checkpoint(filesystem=local, path=/root/ray_results/train_mel_spec_model_2024-05-02_01-36-37/train_mel_spec_model_6af8a_00007_7_batch_size=20,l1=950,l2=15,lr=0.0005,num_epochs=45_2024-05-02_01-36-37/checkpoint_000036)\n",
            "\u001b[36m(train_mel_spec_model pid=6638)\u001b[0m Checkpoint successfully created at: Checkpoint(filesystem=local, path=/root/ray_results/train_mel_spec_model_2024-05-02_01-36-37/train_mel_spec_model_6af8a_00007_7_batch_size=20,l1=950,l2=15,lr=0.0005,num_epochs=45_2024-05-02_01-36-37/checkpoint_000037)\n",
            "\u001b[36m(train_mel_spec_model pid=6638)\u001b[0m Checkpoint successfully created at: Checkpoint(filesystem=local, path=/root/ray_results/train_mel_spec_model_2024-05-02_01-36-37/train_mel_spec_model_6af8a_00007_7_batch_size=20,l1=950,l2=15,lr=0.0005,num_epochs=45_2024-05-02_01-36-37/checkpoint_000038)\n",
            "\u001b[36m(train_mel_spec_model pid=6638)\u001b[0m Checkpoint successfully created at: Checkpoint(filesystem=local, path=/root/ray_results/train_mel_spec_model_2024-05-02_01-36-37/train_mel_spec_model_6af8a_00007_7_batch_size=20,l1=950,l2=15,lr=0.0005,num_epochs=45_2024-05-02_01-36-37/checkpoint_000039)\n",
            "\u001b[36m(train_mel_spec_model pid=6638)\u001b[0m Checkpoint successfully created at: Checkpoint(filesystem=local, path=/root/ray_results/train_mel_spec_model_2024-05-02_01-36-37/train_mel_spec_model_6af8a_00007_7_batch_size=20,l1=950,l2=15,lr=0.0005,num_epochs=45_2024-05-02_01-36-37/checkpoint_000040)\n",
            "\u001b[36m(train_mel_spec_model pid=6638)\u001b[0m Checkpoint successfully created at: Checkpoint(filesystem=local, path=/root/ray_results/train_mel_spec_model_2024-05-02_01-36-37/train_mel_spec_model_6af8a_00007_7_batch_size=20,l1=950,l2=15,lr=0.0005,num_epochs=45_2024-05-02_01-36-37/checkpoint_000041)\n",
            "\u001b[36m(train_mel_spec_model pid=6638)\u001b[0m Checkpoint successfully created at: Checkpoint(filesystem=local, path=/root/ray_results/train_mel_spec_model_2024-05-02_01-36-37/train_mel_spec_model_6af8a_00007_7_batch_size=20,l1=950,l2=15,lr=0.0005,num_epochs=45_2024-05-02_01-36-37/checkpoint_000042)\n"
          ]
        },
        {
          "name": "stdout",
          "output_type": "stream",
          "text": [
            "Trial status: 7 TERMINATED | 1 RUNNING | 2 PENDING\n",
            "Current time: 2024-05-02 01:41:38. Total running time: 5min 0s\n",
            "Logical resource usage: 2.0/12 CPUs, 1.0/1 GPUs (0.0/1.0 accelerator_type:A100)\n",
            "Current best trial: 6af8a_00003 with loss=1.9722404778003693 and params={'l1': 750, 'l2': 10, 'lr': 0.0008585796726952695, 'batch_size': 30, 'num_epochs': 35}\n",
            "+------------------------------------------------------------------------------------------------------------------------------------------------------------+\n",
            "| Trial name                         status         l1     l2            lr     batch_size     num_epochs     iter     total time (s)      loss     accuracy |\n",
            "+------------------------------------------------------------------------------------------------------------------------------------------------------------+\n",
            "| train_mel_spec_model_6af8a_00007   RUNNING       950     15   0.000494764             20             45       43            54.0071   3.05628    0.525253  |\n",
            "| train_mel_spec_model_6af8a_00000   TERMINATED    350     10   0.00072112              20             25       25            24.0151   2.30952    0.0808081 |\n",
            "| train_mel_spec_model_6af8a_00001   TERMINATED    600     10   0.000865771             40             45       45            54.2406   2.7591     0.292929  |\n",
            "| train_mel_spec_model_6af8a_00002   TERMINATED    950     10   0.000246206             20             25       25            35.0279   2.04334    0.393939  |\n",
            "| train_mel_spec_model_6af8a_00003   TERMINATED    750     10   0.00085858              30             35       20            29.6849   1.97224    0.40404   |\n",
            "| train_mel_spec_model_6af8a_00004   TERMINATED    400     25   0.0044344               40             25       20            23.3021   3.8362     0.262626  |\n",
            "| train_mel_spec_model_6af8a_00005   TERMINATED    450     25   0.0267079               15             25       20            22.7572   2.31004    0.0606061 |\n",
            "| train_mel_spec_model_6af8a_00006   TERMINATED    250      5   0.0158321               25             45       20            18.3404   2.31527    0.0808081 |\n",
            "| train_mel_spec_model_6af8a_00008   PENDING       400     20   0.00123184              30             25                                                    |\n",
            "| train_mel_spec_model_6af8a_00009   PENDING       800      5   0.00167952              25             45                                                    |\n",
            "+------------------------------------------------------------------------------------------------------------------------------------------------------------+\n"
          ]
        },
        {
          "name": "stderr",
          "output_type": "stream",
          "text": [
            "\u001b[36m(train_mel_spec_model pid=6638)\u001b[0m Checkpoint successfully created at: Checkpoint(filesystem=local, path=/root/ray_results/train_mel_spec_model_2024-05-02_01-36-37/train_mel_spec_model_6af8a_00007_7_batch_size=20,l1=950,l2=15,lr=0.0005,num_epochs=45_2024-05-02_01-36-37/checkpoint_000043)\n"
          ]
        },
        {
          "name": "stdout",
          "output_type": "stream",
          "text": [
            "\n",
            "Trial train_mel_spec_model_6af8a_00007 completed after 45 iterations at 2024-05-02 01:41:40. Total running time: 5min 2s\n",
            "+---------------------------------------------------------------------+\n",
            "| Trial train_mel_spec_model_6af8a_00007 result                       |\n",
            "+---------------------------------------------------------------------+\n",
            "| checkpoint_dir_name                               checkpoint_000044 |\n",
            "| time_this_iter_s                                            0.91249 |\n",
            "| time_total_s                                               58.64531 |\n",
            "| training_iteration                                               45 |\n",
            "| accuracy                                                    0.47475 |\n",
            "| loss                                                        2.90984 |\n",
            "+---------------------------------------------------------------------+\n"
          ]
        },
        {
          "name": "stderr",
          "output_type": "stream",
          "text": [
            "\u001b[36m(train_mel_spec_model pid=6638)\u001b[0m Checkpoint successfully created at: Checkpoint(filesystem=local, path=/root/ray_results/train_mel_spec_model_2024-05-02_01-36-37/train_mel_spec_model_6af8a_00007_7_batch_size=20,l1=950,l2=15,lr=0.0005,num_epochs=45_2024-05-02_01-36-37/checkpoint_000044)\n"
          ]
        },
        {
          "name": "stdout",
          "output_type": "stream",
          "text": [
            "\n",
            "Trial train_mel_spec_model_6af8a_00008 started with configuration:\n",
            "+-----------------------------------------------------------+\n",
            "| Trial train_mel_spec_model_6af8a_00008 config             |\n",
            "+-----------------------------------------------------------+\n",
            "| batch_size                                             30 |\n",
            "| l1                                                    400 |\n",
            "| l2                                                     20 |\n",
            "| lr                                                0.00123 |\n",
            "| num_epochs                                             25 |\n",
            "+-----------------------------------------------------------+\n"
          ]
        },
        {
          "name": "stderr",
          "output_type": "stream",
          "text": [
            "\u001b[36m(train_mel_spec_model pid=6970)\u001b[0m Checkpoint successfully created at: Checkpoint(filesystem=local, path=/root/ray_results/train_mel_spec_model_2024-05-02_01-36-37/train_mel_spec_model_6af8a_00008_8_batch_size=30,l1=400,l2=20,lr=0.0012,num_epochs=25_2024-05-02_01-36-37/checkpoint_000000)\n",
            "\u001b[36m(train_mel_spec_model pid=6970)\u001b[0m Checkpoint successfully created at: Checkpoint(filesystem=local, path=/root/ray_results/train_mel_spec_model_2024-05-02_01-36-37/train_mel_spec_model_6af8a_00008_8_batch_size=30,l1=400,l2=20,lr=0.0012,num_epochs=25_2024-05-02_01-36-37/checkpoint_000001)\n",
            "\u001b[36m(train_mel_spec_model pid=6970)\u001b[0m Checkpoint successfully created at: Checkpoint(filesystem=local, path=/root/ray_results/train_mel_spec_model_2024-05-02_01-36-37/train_mel_spec_model_6af8a_00008_8_batch_size=30,l1=400,l2=20,lr=0.0012,num_epochs=25_2024-05-02_01-36-37/checkpoint_000002)\n",
            "\u001b[36m(train_mel_spec_model pid=6970)\u001b[0m Checkpoint successfully created at: Checkpoint(filesystem=local, path=/root/ray_results/train_mel_spec_model_2024-05-02_01-36-37/train_mel_spec_model_6af8a_00008_8_batch_size=30,l1=400,l2=20,lr=0.0012,num_epochs=25_2024-05-02_01-36-37/checkpoint_000003)\n",
            "\u001b[36m(train_mel_spec_model pid=6970)\u001b[0m Checkpoint successfully created at: Checkpoint(filesystem=local, path=/root/ray_results/train_mel_spec_model_2024-05-02_01-36-37/train_mel_spec_model_6af8a_00008_8_batch_size=30,l1=400,l2=20,lr=0.0012,num_epochs=25_2024-05-02_01-36-37/checkpoint_000004)\n",
            "\u001b[36m(train_mel_spec_model pid=6970)\u001b[0m Checkpoint successfully created at: Checkpoint(filesystem=local, path=/root/ray_results/train_mel_spec_model_2024-05-02_01-36-37/train_mel_spec_model_6af8a_00008_8_batch_size=30,l1=400,l2=20,lr=0.0012,num_epochs=25_2024-05-02_01-36-37/checkpoint_000005)\n",
            "\u001b[36m(train_mel_spec_model pid=6970)\u001b[0m Checkpoint successfully created at: Checkpoint(filesystem=local, path=/root/ray_results/train_mel_spec_model_2024-05-02_01-36-37/train_mel_spec_model_6af8a_00008_8_batch_size=30,l1=400,l2=20,lr=0.0012,num_epochs=25_2024-05-02_01-36-37/checkpoint_000006)\n",
            "\u001b[36m(train_mel_spec_model pid=6970)\u001b[0m Checkpoint successfully created at: Checkpoint(filesystem=local, path=/root/ray_results/train_mel_spec_model_2024-05-02_01-36-37/train_mel_spec_model_6af8a_00008_8_batch_size=30,l1=400,l2=20,lr=0.0012,num_epochs=25_2024-05-02_01-36-37/checkpoint_000007)\n",
            "\u001b[36m(train_mel_spec_model pid=6970)\u001b[0m Checkpoint successfully created at: Checkpoint(filesystem=local, path=/root/ray_results/train_mel_spec_model_2024-05-02_01-36-37/train_mel_spec_model_6af8a_00008_8_batch_size=30,l1=400,l2=20,lr=0.0012,num_epochs=25_2024-05-02_01-36-37/checkpoint_000008)\n",
            "\u001b[36m(train_mel_spec_model pid=6970)\u001b[0m Checkpoint successfully created at: Checkpoint(filesystem=local, path=/root/ray_results/train_mel_spec_model_2024-05-02_01-36-37/train_mel_spec_model_6af8a_00008_8_batch_size=30,l1=400,l2=20,lr=0.0012,num_epochs=25_2024-05-02_01-36-37/checkpoint_000009)\n",
            "\u001b[36m(train_mel_spec_model pid=6970)\u001b[0m Checkpoint successfully created at: Checkpoint(filesystem=local, path=/root/ray_results/train_mel_spec_model_2024-05-02_01-36-37/train_mel_spec_model_6af8a_00008_8_batch_size=30,l1=400,l2=20,lr=0.0012,num_epochs=25_2024-05-02_01-36-37/checkpoint_000010)\n",
            "\u001b[36m(train_mel_spec_model pid=6970)\u001b[0m Checkpoint successfully created at: Checkpoint(filesystem=local, path=/root/ray_results/train_mel_spec_model_2024-05-02_01-36-37/train_mel_spec_model_6af8a_00008_8_batch_size=30,l1=400,l2=20,lr=0.0012,num_epochs=25_2024-05-02_01-36-37/checkpoint_000011)\n",
            "\u001b[36m(train_mel_spec_model pid=6970)\u001b[0m Checkpoint successfully created at: Checkpoint(filesystem=local, path=/root/ray_results/train_mel_spec_model_2024-05-02_01-36-37/train_mel_spec_model_6af8a_00008_8_batch_size=30,l1=400,l2=20,lr=0.0012,num_epochs=25_2024-05-02_01-36-37/checkpoint_000012)\n",
            "\u001b[36m(train_mel_spec_model pid=6970)\u001b[0m Checkpoint successfully created at: Checkpoint(filesystem=local, path=/root/ray_results/train_mel_spec_model_2024-05-02_01-36-37/train_mel_spec_model_6af8a_00008_8_batch_size=30,l1=400,l2=20,lr=0.0012,num_epochs=25_2024-05-02_01-36-37/checkpoint_000013)\n",
            "\u001b[36m(train_mel_spec_model pid=6970)\u001b[0m Checkpoint successfully created at: Checkpoint(filesystem=local, path=/root/ray_results/train_mel_spec_model_2024-05-02_01-36-37/train_mel_spec_model_6af8a_00008_8_batch_size=30,l1=400,l2=20,lr=0.0012,num_epochs=25_2024-05-02_01-36-37/checkpoint_000014)\n",
            "\u001b[36m(train_mel_spec_model pid=6970)\u001b[0m Checkpoint successfully created at: Checkpoint(filesystem=local, path=/root/ray_results/train_mel_spec_model_2024-05-02_01-36-37/train_mel_spec_model_6af8a_00008_8_batch_size=30,l1=400,l2=20,lr=0.0012,num_epochs=25_2024-05-02_01-36-37/checkpoint_000015)\n",
            "\u001b[36m(train_mel_spec_model pid=6970)\u001b[0m Checkpoint successfully created at: Checkpoint(filesystem=local, path=/root/ray_results/train_mel_spec_model_2024-05-02_01-36-37/train_mel_spec_model_6af8a_00008_8_batch_size=30,l1=400,l2=20,lr=0.0012,num_epochs=25_2024-05-02_01-36-37/checkpoint_000016)\n",
            "\u001b[36m(train_mel_spec_model pid=6970)\u001b[0m Checkpoint successfully created at: Checkpoint(filesystem=local, path=/root/ray_results/train_mel_spec_model_2024-05-02_01-36-37/train_mel_spec_model_6af8a_00008_8_batch_size=30,l1=400,l2=20,lr=0.0012,num_epochs=25_2024-05-02_01-36-37/checkpoint_000017)\n",
            "\u001b[36m(train_mel_spec_model pid=6970)\u001b[0m Checkpoint successfully created at: Checkpoint(filesystem=local, path=/root/ray_results/train_mel_spec_model_2024-05-02_01-36-37/train_mel_spec_model_6af8a_00008_8_batch_size=30,l1=400,l2=20,lr=0.0012,num_epochs=25_2024-05-02_01-36-37/checkpoint_000018)\n"
          ]
        },
        {
          "name": "stdout",
          "output_type": "stream",
          "text": [
            "\n",
            "Trial status: 8 TERMINATED | 1 RUNNING | 1 PENDING\n",
            "Current time: 2024-05-02 01:42:08. Total running time: 5min 30s\n",
            "Logical resource usage: 2.0/12 CPUs, 1.0/1 GPUs (0.0/1.0 accelerator_type:A100)\n",
            "Current best trial: 6af8a_00008 with loss=1.9414768815040588 and params={'l1': 400, 'l2': 20, 'lr': 0.0012318430111434048, 'batch_size': 30, 'num_epochs': 25}\n",
            "+------------------------------------------------------------------------------------------------------------------------------------------------------------+\n",
            "| Trial name                         status         l1     l2            lr     batch_size     num_epochs     iter     total time (s)      loss     accuracy |\n",
            "+------------------------------------------------------------------------------------------------------------------------------------------------------------+\n",
            "| train_mel_spec_model_6af8a_00008   RUNNING       400     20   0.00123184              30             25       19            22.6464   1.94148    0.454545  |\n",
            "| train_mel_spec_model_6af8a_00000   TERMINATED    350     10   0.00072112              20             25       25            24.0151   2.30952    0.0808081 |\n",
            "| train_mel_spec_model_6af8a_00001   TERMINATED    600     10   0.000865771             40             45       45            54.2406   2.7591     0.292929  |\n",
            "| train_mel_spec_model_6af8a_00002   TERMINATED    950     10   0.000246206             20             25       25            35.0279   2.04334    0.393939  |\n",
            "| train_mel_spec_model_6af8a_00003   TERMINATED    750     10   0.00085858              30             35       20            29.6849   1.97224    0.40404   |\n",
            "| train_mel_spec_model_6af8a_00004   TERMINATED    400     25   0.0044344               40             25       20            23.3021   3.8362     0.262626  |\n",
            "| train_mel_spec_model_6af8a_00005   TERMINATED    450     25   0.0267079               15             25       20            22.7572   2.31004    0.0606061 |\n",
            "| train_mel_spec_model_6af8a_00006   TERMINATED    250      5   0.0158321               25             45       20            18.3404   2.31527    0.0808081 |\n",
            "| train_mel_spec_model_6af8a_00007   TERMINATED    950     15   0.000494764             20             45       45            58.6453   2.90984    0.474747  |\n",
            "| train_mel_spec_model_6af8a_00009   PENDING       800      5   0.00167952              25             45                                                    |\n",
            "+------------------------------------------------------------------------------------------------------------------------------------------------------------+\n",
            "\n",
            "Trial train_mel_spec_model_6af8a_00008 completed after 20 iterations at 2024-05-02 01:42:09. Total running time: 5min 31s\n",
            "+---------------------------------------------------------------------+\n",
            "| Trial train_mel_spec_model_6af8a_00008 result                       |\n",
            "+---------------------------------------------------------------------+\n",
            "| checkpoint_dir_name                               checkpoint_000019 |\n",
            "| time_this_iter_s                                            0.84727 |\n",
            "| time_total_s                                               23.49363 |\n",
            "| training_iteration                                               20 |\n",
            "| accuracy                                                    0.48485 |\n",
            "| loss                                                        2.34208 |\n",
            "+---------------------------------------------------------------------+\n"
          ]
        },
        {
          "name": "stderr",
          "output_type": "stream",
          "text": [
            "\u001b[36m(train_mel_spec_model pid=6970)\u001b[0m Checkpoint successfully created at: Checkpoint(filesystem=local, path=/root/ray_results/train_mel_spec_model_2024-05-02_01-36-37/train_mel_spec_model_6af8a_00008_8_batch_size=30,l1=400,l2=20,lr=0.0012,num_epochs=25_2024-05-02_01-36-37/checkpoint_000019)\n"
          ]
        },
        {
          "name": "stdout",
          "output_type": "stream",
          "text": [
            "\n",
            "Trial train_mel_spec_model_6af8a_00009 started with configuration:\n",
            "+-----------------------------------------------------------+\n",
            "| Trial train_mel_spec_model_6af8a_00009 config             |\n",
            "+-----------------------------------------------------------+\n",
            "| batch_size                                             25 |\n",
            "| l1                                                    800 |\n",
            "| l2                                                      5 |\n",
            "| lr                                                0.00168 |\n",
            "| num_epochs                                             45 |\n",
            "+-----------------------------------------------------------+\n"
          ]
        },
        {
          "name": "stderr",
          "output_type": "stream",
          "text": [
            "\u001b[36m(train_mel_spec_model pid=7147)\u001b[0m Checkpoint successfully created at: Checkpoint(filesystem=local, path=/root/ray_results/train_mel_spec_model_2024-05-02_01-36-37/train_mel_spec_model_6af8a_00009_9_batch_size=25,l1=800,l2=5,lr=0.0017,num_epochs=45_2024-05-02_01-36-37/checkpoint_000000)\n",
            "\u001b[36m(train_mel_spec_model pid=7147)\u001b[0m Checkpoint successfully created at: Checkpoint(filesystem=local, path=/root/ray_results/train_mel_spec_model_2024-05-02_01-36-37/train_mel_spec_model_6af8a_00009_9_batch_size=25,l1=800,l2=5,lr=0.0017,num_epochs=45_2024-05-02_01-36-37/checkpoint_000001)\n",
            "\u001b[36m(train_mel_spec_model pid=7147)\u001b[0m Checkpoint successfully created at: Checkpoint(filesystem=local, path=/root/ray_results/train_mel_spec_model_2024-05-02_01-36-37/train_mel_spec_model_6af8a_00009_9_batch_size=25,l1=800,l2=5,lr=0.0017,num_epochs=45_2024-05-02_01-36-37/checkpoint_000002)\n",
            "\u001b[36m(train_mel_spec_model pid=7147)\u001b[0m Checkpoint successfully created at: Checkpoint(filesystem=local, path=/root/ray_results/train_mel_spec_model_2024-05-02_01-36-37/train_mel_spec_model_6af8a_00009_9_batch_size=25,l1=800,l2=5,lr=0.0017,num_epochs=45_2024-05-02_01-36-37/checkpoint_000003)\n",
            "\u001b[36m(train_mel_spec_model pid=7147)\u001b[0m Checkpoint successfully created at: Checkpoint(filesystem=local, path=/root/ray_results/train_mel_spec_model_2024-05-02_01-36-37/train_mel_spec_model_6af8a_00009_9_batch_size=25,l1=800,l2=5,lr=0.0017,num_epochs=45_2024-05-02_01-36-37/checkpoint_000004)\n",
            "\u001b[36m(train_mel_spec_model pid=7147)\u001b[0m Checkpoint successfully created at: Checkpoint(filesystem=local, path=/root/ray_results/train_mel_spec_model_2024-05-02_01-36-37/train_mel_spec_model_6af8a_00009_9_batch_size=25,l1=800,l2=5,lr=0.0017,num_epochs=45_2024-05-02_01-36-37/checkpoint_000005)\n",
            "\u001b[36m(train_mel_spec_model pid=7147)\u001b[0m Checkpoint successfully created at: Checkpoint(filesystem=local, path=/root/ray_results/train_mel_spec_model_2024-05-02_01-36-37/train_mel_spec_model_6af8a_00009_9_batch_size=25,l1=800,l2=5,lr=0.0017,num_epochs=45_2024-05-02_01-36-37/checkpoint_000006)\n",
            "\u001b[36m(train_mel_spec_model pid=7147)\u001b[0m Checkpoint successfully created at: Checkpoint(filesystem=local, path=/root/ray_results/train_mel_spec_model_2024-05-02_01-36-37/train_mel_spec_model_6af8a_00009_9_batch_size=25,l1=800,l2=5,lr=0.0017,num_epochs=45_2024-05-02_01-36-37/checkpoint_000007)\n",
            "\u001b[36m(train_mel_spec_model pid=7147)\u001b[0m Checkpoint successfully created at: Checkpoint(filesystem=local, path=/root/ray_results/train_mel_spec_model_2024-05-02_01-36-37/train_mel_spec_model_6af8a_00009_9_batch_size=25,l1=800,l2=5,lr=0.0017,num_epochs=45_2024-05-02_01-36-37/checkpoint_000008)\n",
            "\u001b[36m(train_mel_spec_model pid=7147)\u001b[0m Checkpoint successfully created at: Checkpoint(filesystem=local, path=/root/ray_results/train_mel_spec_model_2024-05-02_01-36-37/train_mel_spec_model_6af8a_00009_9_batch_size=25,l1=800,l2=5,lr=0.0017,num_epochs=45_2024-05-02_01-36-37/checkpoint_000009)\n",
            "\u001b[36m(train_mel_spec_model pid=7147)\u001b[0m Checkpoint successfully created at: Checkpoint(filesystem=local, path=/root/ray_results/train_mel_spec_model_2024-05-02_01-36-37/train_mel_spec_model_6af8a_00009_9_batch_size=25,l1=800,l2=5,lr=0.0017,num_epochs=45_2024-05-02_01-36-37/checkpoint_000010)\n",
            "\u001b[36m(train_mel_spec_model pid=7147)\u001b[0m Checkpoint successfully created at: Checkpoint(filesystem=local, path=/root/ray_results/train_mel_spec_model_2024-05-02_01-36-37/train_mel_spec_model_6af8a_00009_9_batch_size=25,l1=800,l2=5,lr=0.0017,num_epochs=45_2024-05-02_01-36-37/checkpoint_000011)\n",
            "\u001b[36m(train_mel_spec_model pid=7147)\u001b[0m Checkpoint successfully created at: Checkpoint(filesystem=local, path=/root/ray_results/train_mel_spec_model_2024-05-02_01-36-37/train_mel_spec_model_6af8a_00009_9_batch_size=25,l1=800,l2=5,lr=0.0017,num_epochs=45_2024-05-02_01-36-37/checkpoint_000012)\n",
            "\u001b[36m(train_mel_spec_model pid=7147)\u001b[0m Checkpoint successfully created at: Checkpoint(filesystem=local, path=/root/ray_results/train_mel_spec_model_2024-05-02_01-36-37/train_mel_spec_model_6af8a_00009_9_batch_size=25,l1=800,l2=5,lr=0.0017,num_epochs=45_2024-05-02_01-36-37/checkpoint_000013)\n",
            "\u001b[36m(train_mel_spec_model pid=7147)\u001b[0m Checkpoint successfully created at: Checkpoint(filesystem=local, path=/root/ray_results/train_mel_spec_model_2024-05-02_01-36-37/train_mel_spec_model_6af8a_00009_9_batch_size=25,l1=800,l2=5,lr=0.0017,num_epochs=45_2024-05-02_01-36-37/checkpoint_000014)\n",
            "\u001b[36m(train_mel_spec_model pid=7147)\u001b[0m Checkpoint successfully created at: Checkpoint(filesystem=local, path=/root/ray_results/train_mel_spec_model_2024-05-02_01-36-37/train_mel_spec_model_6af8a_00009_9_batch_size=25,l1=800,l2=5,lr=0.0017,num_epochs=45_2024-05-02_01-36-37/checkpoint_000015)\n",
            "\u001b[36m(train_mel_spec_model pid=7147)\u001b[0m Checkpoint successfully created at: Checkpoint(filesystem=local, path=/root/ray_results/train_mel_spec_model_2024-05-02_01-36-37/train_mel_spec_model_6af8a_00009_9_batch_size=25,l1=800,l2=5,lr=0.0017,num_epochs=45_2024-05-02_01-36-37/checkpoint_000016)\n"
          ]
        },
        {
          "name": "stdout",
          "output_type": "stream",
          "text": [
            "\n",
            "Trial status: 9 TERMINATED | 1 RUNNING\n",
            "Current time: 2024-05-02 01:42:38. Total running time: 6min 0s\n",
            "Logical resource usage: 2.0/12 CPUs, 1.0/1 GPUs (0.0/1.0 accelerator_type:A100)\n",
            "Current best trial: 6af8a_00003 with loss=1.9722404778003693 and params={'l1': 750, 'l2': 10, 'lr': 0.0008585796726952695, 'batch_size': 30, 'num_epochs': 35}\n",
            "+------------------------------------------------------------------------------------------------------------------------------------------------------------+\n",
            "| Trial name                         status         l1     l2            lr     batch_size     num_epochs     iter     total time (s)      loss     accuracy |\n",
            "+------------------------------------------------------------------------------------------------------------------------------------------------------------+\n",
            "| train_mel_spec_model_6af8a_00009   RUNNING       800      5   0.00167952              25             45       18            24.9616   2.30701    0.0808081 |\n",
            "| train_mel_spec_model_6af8a_00000   TERMINATED    350     10   0.00072112              20             25       25            24.0151   2.30952    0.0808081 |\n",
            "| train_mel_spec_model_6af8a_00001   TERMINATED    600     10   0.000865771             40             45       45            54.2406   2.7591     0.292929  |\n",
            "| train_mel_spec_model_6af8a_00002   TERMINATED    950     10   0.000246206             20             25       25            35.0279   2.04334    0.393939  |\n",
            "| train_mel_spec_model_6af8a_00003   TERMINATED    750     10   0.00085858              30             35       20            29.6849   1.97224    0.40404   |\n",
            "| train_mel_spec_model_6af8a_00004   TERMINATED    400     25   0.0044344               40             25       20            23.3021   3.8362     0.262626  |\n",
            "| train_mel_spec_model_6af8a_00005   TERMINATED    450     25   0.0267079               15             25       20            22.7572   2.31004    0.0606061 |\n",
            "| train_mel_spec_model_6af8a_00006   TERMINATED    250      5   0.0158321               25             45       20            18.3404   2.31527    0.0808081 |\n",
            "| train_mel_spec_model_6af8a_00007   TERMINATED    950     15   0.000494764             20             45       45            58.6453   2.90984    0.474747  |\n",
            "| train_mel_spec_model_6af8a_00008   TERMINATED    400     20   0.00123184              30             25       20            23.4936   2.34208    0.484848  |\n",
            "+------------------------------------------------------------------------------------------------------------------------------------------------------------+\n"
          ]
        },
        {
          "name": "stderr",
          "output_type": "stream",
          "text": [
            "\u001b[36m(train_mel_spec_model pid=7147)\u001b[0m Checkpoint successfully created at: Checkpoint(filesystem=local, path=/root/ray_results/train_mel_spec_model_2024-05-02_01-36-37/train_mel_spec_model_6af8a_00009_9_batch_size=25,l1=800,l2=5,lr=0.0017,num_epochs=45_2024-05-02_01-36-37/checkpoint_000017)\n",
            "\u001b[36m(train_mel_spec_model pid=7147)\u001b[0m Checkpoint successfully created at: Checkpoint(filesystem=local, path=/root/ray_results/train_mel_spec_model_2024-05-02_01-36-37/train_mel_spec_model_6af8a_00009_9_batch_size=25,l1=800,l2=5,lr=0.0017,num_epochs=45_2024-05-02_01-36-37/checkpoint_000018)\n",
            "\u001b[36m(train_mel_spec_model pid=7147)\u001b[0m Checkpoint successfully created at: Checkpoint(filesystem=local, path=/root/ray_results/train_mel_spec_model_2024-05-02_01-36-37/train_mel_spec_model_6af8a_00009_9_batch_size=25,l1=800,l2=5,lr=0.0017,num_epochs=45_2024-05-02_01-36-37/checkpoint_000019)\n",
            "2024-05-02 01:42:40,796\tWARNING experiment_state.py:205 -- Experiment state snapshotting has been triggered multiple times in the last 5.0 seconds. A snapshot is forced if `CheckpointConfig(num_to_keep)` is set, and a trial has checkpointed >= `num_to_keep` times since the last snapshot.\n",
            "You may want to consider increasing the `CheckpointConfig(num_to_keep)` or decreasing the frequency of saving checkpoints.\n",
            "You can suppress this error by setting the environment variable TUNE_WARN_EXCESSIVE_EXPERIMENT_CHECKPOINT_SYNC_THRESHOLD_S to a smaller value than the current threshold (5.0).\n",
            "2024-05-02 01:42:40,800\tINFO tune.py:1007 -- Wrote the latest version of all result files and experiment state to '/root/ray_results/train_mel_spec_model_2024-05-02_01-36-37' in 0.0116s.\n"
          ]
        },
        {
          "name": "stdout",
          "output_type": "stream",
          "text": [
            "\n",
            "Trial train_mel_spec_model_6af8a_00009 completed after 20 iterations at 2024-05-02 01:42:40. Total running time: 6min 2s\n",
            "+---------------------------------------------------------------------+\n",
            "| Trial train_mel_spec_model_6af8a_00009 result                       |\n",
            "+---------------------------------------------------------------------+\n",
            "| checkpoint_dir_name                               checkpoint_000019 |\n",
            "| time_this_iter_s                                               1.01 |\n",
            "| time_total_s                                               26.98642 |\n",
            "| training_iteration                                               20 |\n",
            "| accuracy                                                    0.08081 |\n",
            "| loss                                                        2.30709 |\n",
            "+---------------------------------------------------------------------+\n",
            "\n",
            "Trial status: 10 TERMINATED\n",
            "Current time: 2024-05-02 01:42:40. Total running time: 6min 2s\n",
            "Logical resource usage: 2.0/12 CPUs, 1.0/1 GPUs (0.0/1.0 accelerator_type:A100)\n",
            "Current best trial: 6af8a_00003 with loss=1.9722404778003693 and params={'l1': 750, 'l2': 10, 'lr': 0.0008585796726952695, 'batch_size': 30, 'num_epochs': 35}\n",
            "+------------------------------------------------------------------------------------------------------------------------------------------------------------+\n",
            "| Trial name                         status         l1     l2            lr     batch_size     num_epochs     iter     total time (s)      loss     accuracy |\n",
            "+------------------------------------------------------------------------------------------------------------------------------------------------------------+\n",
            "| train_mel_spec_model_6af8a_00000   TERMINATED    350     10   0.00072112              20             25       25            24.0151   2.30952    0.0808081 |\n",
            "| train_mel_spec_model_6af8a_00001   TERMINATED    600     10   0.000865771             40             45       45            54.2406   2.7591     0.292929  |\n",
            "| train_mel_spec_model_6af8a_00002   TERMINATED    950     10   0.000246206             20             25       25            35.0279   2.04334    0.393939  |\n",
            "| train_mel_spec_model_6af8a_00003   TERMINATED    750     10   0.00085858              30             35       20            29.6849   1.97224    0.40404   |\n",
            "| train_mel_spec_model_6af8a_00004   TERMINATED    400     25   0.0044344               40             25       20            23.3021   3.8362     0.262626  |\n",
            "| train_mel_spec_model_6af8a_00005   TERMINATED    450     25   0.0267079               15             25       20            22.7572   2.31004    0.0606061 |\n",
            "| train_mel_spec_model_6af8a_00006   TERMINATED    250      5   0.0158321               25             45       20            18.3404   2.31527    0.0808081 |\n",
            "| train_mel_spec_model_6af8a_00007   TERMINATED    950     15   0.000494764             20             45       45            58.6453   2.90984    0.474747  |\n",
            "| train_mel_spec_model_6af8a_00008   TERMINATED    400     20   0.00123184              30             25       20            23.4936   2.34208    0.484848  |\n",
            "| train_mel_spec_model_6af8a_00009   TERMINATED    800      5   0.00167952              25             45       20            26.9864   2.30709    0.0808081 |\n",
            "+------------------------------------------------------------------------------------------------------------------------------------------------------------+\n",
            "\n",
            "Best Model Accuracy 49.504950495049506%\n"
          ]
        }
      ],
      "source": [
        "def run_mel_spec_classifier():\n",
        "    config = {\n",
        "        \"l1\": tune.choice([k for k in range(100, 1000, 50)]),\n",
        "        \"l2\": tune.choice([j for j in range(5, 30, 5)]),\n",
        "        \"lr\": tune.loguniform(1e-4, 1e-1),\n",
        "        \"batch_size\": tune.choice([l for l in range(5, 50, 5)]),\n",
        "        \"num_epochs\": tune.choice([25, 35, 45])\n",
        "    }\n",
        "\n",
        "    # Only stop trials at least after 20 training iterations\n",
        "    asha_scheduler = ASHAScheduler(time_attr='training_iteration',\n",
        "                                   grace_period=20)\n",
        "\n",
        "    # Adjust resources depending on availability\n",
        "    tuner = tune.Tuner(tune.with_resources(tune.with_parameters(train_mel_spec_model),\n",
        "                       resources={\"cpu\": 2, \"gpu\": 1}),\n",
        "                       tune_config=tune.TuneConfig(\n",
        "                           metric='loss',\n",
        "                           mode=\"min\",\n",
        "                           scheduler=asha_scheduler,\n",
        "                           num_samples=10,\n",
        "                       ),\n",
        "                       run_config=air.RunConfig(verbose=1),\n",
        "                       param_space=config,)\n",
        "\n",
        "    results = tuner.fit()\n",
        "    best_result = results.get_best_result(\"loss\", \"min\")\n",
        "\n",
        "    test_mel_spec_model(best_result)\n",
        "\n",
        "run_mel_spec_classifier()"
      ]
    }
  ],
  "metadata": {
    "accelerator": "GPU",
    "colab": {
      "gpuType": "A100",
      "machine_shape": "hm",
      "provenance": []
    },
    "kernelspec": {
      "display_name": "Python 3",
      "name": "python3"
    },
    "language_info": {
      "codemirror_mode": {
        "name": "ipython",
        "version": 3
      },
      "file_extension": ".py",
      "mimetype": "text/x-python",
      "name": "python",
      "nbconvert_exporter": "python",
      "pygments_lexer": "ipython3",
      "version": "3.10.12"
    }
  },
  "nbformat": 4,
  "nbformat_minor": 5
}
